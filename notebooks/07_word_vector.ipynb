{
 "cells": [
  {
   "cell_type": "markdown",
   "metadata": {},
   "source": [
    "# 第7章: 単語ベクトル\n",
    "\n",
    "単語の意味を実ベクトルで表現する単語ベクトル（単語埋め込み）に関して，以下の処理を行うプログラムを作成せよ．"
   ]
  },
  {
   "cell_type": "code",
   "execution_count": 1,
   "metadata": {},
   "outputs": [],
   "source": [
    "import numpy as np\n",
    "import os\n",
    "import pandas as pd\n",
    "import pickle"
   ]
  },
  {
   "cell_type": "markdown",
   "metadata": {},
   "source": [
    "## 60. 単語ベクトルの読み込みと表示\n",
    "\n",
    "Google Newsデータセット（約1,000億単語）での学習済み単語ベクトル（300万単語・フレーズ，300次元）をダウンロードし，”United States”の単語ベクトルを表示せよ．ただし，”United States”は内部的には”United_States”と表現されていることに注意せよ．"
   ]
  },
  {
   "cell_type": "code",
   "execution_count": 2,
   "metadata": {},
   "outputs": [],
   "source": [
    "# !pip install --upgrade gensim"
   ]
  },
  {
   "cell_type": "code",
   "execution_count": 3,
   "metadata": {},
   "outputs": [],
   "source": [
    "from gensim.models import KeyedVectors"
   ]
  },
  {
   "cell_type": "code",
   "execution_count": 4,
   "metadata": {},
   "outputs": [],
   "source": [
    "# 学習済み単語ベクトル\n",
    "vector_path = os.path.join(os.getcwd(), '../data/GoogleNews-vectors-negative300.bin')"
   ]
  },
  {
   "cell_type": "code",
   "execution_count": 5,
   "metadata": {},
   "outputs": [],
   "source": [
    "# 読み込み\n",
    "wv_from_bin = KeyedVectors.load_word2vec_format(vector_path, binary=True)"
   ]
  },
  {
   "cell_type": "code",
   "execution_count": 6,
   "metadata": {
    "collapsed": true,
    "jupyter": {
     "outputs_hidden": true
    }
   },
   "outputs": [
    {
     "data": {
      "text/plain": [
       "array([-3.61328125e-02, -4.83398438e-02,  2.35351562e-01,  1.74804688e-01,\n",
       "       -1.46484375e-01, -7.42187500e-02, -1.01562500e-01, -7.71484375e-02,\n",
       "        1.09375000e-01, -5.71289062e-02, -1.48437500e-01, -6.00585938e-02,\n",
       "        1.74804688e-01, -7.71484375e-02,  2.58789062e-02, -7.66601562e-02,\n",
       "       -3.80859375e-02,  1.35742188e-01,  3.75976562e-02, -4.19921875e-02,\n",
       "       -3.56445312e-02,  5.34667969e-02,  3.68118286e-04, -1.66992188e-01,\n",
       "       -1.17187500e-01,  1.41601562e-01, -1.69921875e-01, -6.49414062e-02,\n",
       "       -1.66992188e-01,  1.00585938e-01,  1.15722656e-01, -2.18750000e-01,\n",
       "       -9.86328125e-02, -2.56347656e-02,  1.23046875e-01, -3.54003906e-02,\n",
       "       -1.58203125e-01, -1.60156250e-01,  2.94189453e-02,  8.15429688e-02,\n",
       "        6.88476562e-02,  1.87500000e-01,  6.49414062e-02,  1.15234375e-01,\n",
       "       -2.27050781e-02,  3.32031250e-01, -3.27148438e-02,  1.77734375e-01,\n",
       "       -2.08007812e-01,  4.54101562e-02, -1.23901367e-02,  1.19628906e-01,\n",
       "        7.44628906e-03, -9.03320312e-03,  1.14257812e-01,  1.69921875e-01,\n",
       "       -2.38281250e-01, -2.79541016e-02, -1.21093750e-01,  2.47802734e-02,\n",
       "        7.71484375e-02, -2.81982422e-02, -4.71191406e-02,  1.78222656e-02,\n",
       "       -1.23046875e-01, -5.32226562e-02,  2.68554688e-02, -3.11279297e-02,\n",
       "       -5.59082031e-02, -5.00488281e-02, -3.73535156e-02,  1.25976562e-01,\n",
       "        5.61523438e-02,  1.51367188e-01,  4.29687500e-02, -2.08007812e-01,\n",
       "       -4.78515625e-02,  2.78320312e-02,  1.81640625e-01,  2.20703125e-01,\n",
       "       -3.61328125e-02, -8.39843750e-02, -3.69548798e-05, -9.52148438e-02,\n",
       "       -1.25000000e-01, -1.95312500e-01, -1.50390625e-01, -4.15039062e-02,\n",
       "        1.31835938e-01,  1.17675781e-01,  1.91650391e-02,  5.51757812e-02,\n",
       "       -9.42382812e-02, -1.08886719e-01,  7.32421875e-02, -1.15234375e-01,\n",
       "        8.93554688e-02, -1.40625000e-01,  1.45507812e-01,  4.49218750e-02,\n",
       "       -1.10473633e-02, -1.62353516e-02,  4.05883789e-03,  3.75976562e-02,\n",
       "       -6.98242188e-02, -5.46875000e-02,  2.17285156e-02, -9.47265625e-02,\n",
       "        4.24804688e-02,  1.81884766e-02, -1.73339844e-02,  4.63867188e-02,\n",
       "       -1.42578125e-01,  1.99218750e-01,  1.10839844e-01,  2.58789062e-02,\n",
       "       -7.08007812e-02, -5.54199219e-02,  3.45703125e-01,  1.61132812e-01,\n",
       "       -2.44140625e-01, -2.59765625e-01, -9.71679688e-02,  8.00781250e-02,\n",
       "       -8.78906250e-02, -7.22656250e-02,  1.42578125e-01, -8.54492188e-02,\n",
       "       -3.18359375e-01,  8.30078125e-02,  6.34765625e-02,  1.64062500e-01,\n",
       "       -1.92382812e-01, -1.17675781e-01, -5.41992188e-02, -1.56250000e-01,\n",
       "       -1.21582031e-01, -4.95605469e-02,  1.20117188e-01, -3.83300781e-02,\n",
       "        5.51757812e-02, -8.97216797e-03,  4.32128906e-02,  6.93359375e-02,\n",
       "        8.93554688e-02,  2.53906250e-01,  1.65039062e-01,  1.64062500e-01,\n",
       "       -1.41601562e-01,  4.58984375e-02,  1.97265625e-01, -8.98437500e-02,\n",
       "        3.90625000e-02, -1.51367188e-01, -8.60595703e-03, -1.17675781e-01,\n",
       "       -1.97265625e-01, -1.12792969e-01,  1.29882812e-01,  1.96289062e-01,\n",
       "        1.56402588e-03,  3.93066406e-02,  2.17773438e-01, -1.43554688e-01,\n",
       "        6.03027344e-02, -1.35742188e-01,  1.16210938e-01, -1.59912109e-02,\n",
       "        2.79296875e-01,  1.46484375e-01, -1.19628906e-01,  1.76757812e-01,\n",
       "        1.28906250e-01, -1.49414062e-01,  6.93359375e-02, -1.72851562e-01,\n",
       "        9.22851562e-02,  1.33056641e-02, -2.00195312e-01, -9.76562500e-02,\n",
       "       -1.65039062e-01, -2.46093750e-01, -2.35595703e-02, -2.11914062e-01,\n",
       "        1.84570312e-01, -1.85546875e-02,  2.16796875e-01,  5.05371094e-02,\n",
       "        2.02636719e-02,  4.25781250e-01,  1.28906250e-01, -2.77099609e-02,\n",
       "        1.29882812e-01, -1.15722656e-01, -2.05078125e-02,  1.49414062e-01,\n",
       "        7.81250000e-03, -2.05078125e-01, -8.05664062e-02, -2.67578125e-01,\n",
       "       -2.29492188e-02, -8.20312500e-02,  8.64257812e-02,  7.61718750e-02,\n",
       "       -3.66210938e-02,  5.22460938e-02, -1.22070312e-01, -1.44042969e-02,\n",
       "       -2.69531250e-01,  8.44726562e-02, -2.52685547e-02, -2.96630859e-02,\n",
       "       -1.68945312e-01,  1.93359375e-01, -1.08398438e-01,  1.94091797e-02,\n",
       "       -1.80664062e-01,  1.93359375e-01, -7.08007812e-02,  5.85937500e-02,\n",
       "       -1.01562500e-01, -1.31835938e-01,  7.51953125e-02, -7.66601562e-02,\n",
       "        3.37219238e-03, -8.59375000e-02,  1.25000000e-01,  2.92968750e-02,\n",
       "        1.70898438e-01, -9.37500000e-02, -1.09375000e-01, -2.50244141e-02,\n",
       "        2.11914062e-01, -4.44335938e-02,  6.12792969e-02,  2.62451172e-02,\n",
       "       -1.77734375e-01,  1.23046875e-01, -7.42187500e-02, -1.67968750e-01,\n",
       "       -1.08886719e-01, -9.04083252e-04, -7.37304688e-02,  5.49316406e-02,\n",
       "        6.03027344e-02,  8.39843750e-02,  9.17968750e-02, -1.32812500e-01,\n",
       "        1.22070312e-01, -8.78906250e-03,  1.19140625e-01, -1.94335938e-01,\n",
       "       -6.64062500e-02, -2.07031250e-01,  7.37304688e-02,  8.93554688e-02,\n",
       "        1.81884766e-02, -1.20605469e-01, -2.61230469e-02,  2.67333984e-02,\n",
       "        7.76367188e-02, -8.30078125e-02,  6.78710938e-02, -3.54003906e-02,\n",
       "        3.10546875e-01, -2.42919922e-02, -1.41601562e-01, -2.08007812e-01,\n",
       "       -4.57763672e-03, -6.54296875e-02, -4.95605469e-02,  2.22656250e-01,\n",
       "        1.53320312e-01, -1.38671875e-01, -5.24902344e-02,  4.24804688e-02,\n",
       "       -2.38281250e-01,  1.56250000e-01,  5.83648682e-04, -1.20605469e-01,\n",
       "       -9.22851562e-02, -4.44335938e-02,  3.61328125e-02, -1.86767578e-02,\n",
       "       -8.25195312e-02, -8.25195312e-02, -4.05273438e-02,  1.19018555e-02,\n",
       "        1.69921875e-01, -2.80761719e-02,  3.03649902e-03,  9.32617188e-02,\n",
       "       -8.49609375e-02,  1.57470703e-02,  7.03125000e-02,  1.62353516e-02,\n",
       "       -2.27050781e-02,  3.51562500e-02,  2.47070312e-01, -2.67333984e-02],\n",
       "      dtype=float32)"
      ]
     },
     "execution_count": 6,
     "metadata": {},
     "output_type": "execute_result"
    }
   ],
   "source": [
    "wv_from_bin['United_States']"
   ]
  },
  {
   "cell_type": "markdown",
   "metadata": {},
   "source": [
    "## 61. 単語の類似度\n",
    "“United States”と”U.S.”のコサイン類似度を計算せよ．"
   ]
  },
  {
   "cell_type": "code",
   "execution_count": 7,
   "metadata": {
    "collapsed": true,
    "jupyter": {
     "outputs_hidden": true
    }
   },
   "outputs": [
    {
     "data": {
      "text/plain": [
       "array([ 1.34887695e-02, -5.92041016e-03,  1.03515625e-01,  1.22070312e-01,\n",
       "       -1.87500000e-01, -6.49414062e-02, -1.62109375e-01, -2.30712891e-02,\n",
       "        9.08203125e-02, -8.98437500e-02, -1.86523438e-01,  3.93676758e-03,\n",
       "        1.66015625e-01, -4.37011719e-02, -1.09375000e-01, -5.88378906e-02,\n",
       "       -1.45507812e-01, -4.37011719e-02, -3.36914062e-02, -7.61718750e-02,\n",
       "       -1.97265625e-01,  6.98242188e-02, -1.42578125e-01, -1.19628906e-01,\n",
       "       -1.31225586e-02,  1.21582031e-01, -6.07910156e-02, -1.15356445e-02,\n",
       "       -5.12695312e-02,  2.30468750e-01,  2.75390625e-01, -2.41210938e-01,\n",
       "       -1.66015625e-01, -1.32812500e-01,  3.68652344e-02, -5.44433594e-02,\n",
       "       -1.62353516e-02, -8.00781250e-02, -1.29394531e-02,  3.11279297e-02,\n",
       "        3.54003906e-03, -3.56445312e-02,  1.63085938e-01,  1.24511719e-01,\n",
       "       -6.98242188e-02,  2.08007812e-01, -3.49121094e-02,  1.87500000e-01,\n",
       "       -5.27343750e-02,  1.13281250e-01,  2.27050781e-02,  1.18652344e-01,\n",
       "        4.27246094e-02, -1.76239014e-03,  7.53784180e-03,  1.77734375e-01,\n",
       "       -1.52343750e-01,  3.32031250e-02, -3.95507812e-02,  5.46264648e-03,\n",
       "       -1.35742188e-01, -1.87988281e-02, -7.27539062e-02,  9.81445312e-02,\n",
       "       -1.67968750e-01, -3.66210938e-02,  2.97851562e-02,  1.37329102e-03,\n",
       "        1.92871094e-02, -9.13085938e-02, -8.44726562e-02, -1.12304688e-02,\n",
       "        9.82666016e-03,  1.31835938e-01,  2.24304199e-03, -3.80859375e-02,\n",
       "       -7.12890625e-02,  1.69921875e-01, -5.02929688e-02,  2.74658203e-02,\n",
       "       -2.64892578e-02, -1.50390625e-01, -1.03027344e-01,  5.34667969e-02,\n",
       "       -8.10546875e-02, -2.51953125e-01, -1.41601562e-01, -4.94384766e-03,\n",
       "       -1.15966797e-02,  3.75976562e-02,  2.01416016e-02,  1.18652344e-01,\n",
       "       -8.98437500e-02, -1.42578125e-01,  7.27539062e-02,  2.49023438e-02,\n",
       "        9.42382812e-02, -2.07519531e-02,  1.54296875e-01, -1.16699219e-01,\n",
       "       -1.34765625e-01,  1.04980469e-01,  1.25000000e-01,  1.42822266e-02,\n",
       "       -2.90527344e-02,  7.81250000e-02,  4.85839844e-02, -1.17675781e-01,\n",
       "       -1.11083984e-02, -6.98089600e-04,  9.57031250e-02, -3.28063965e-03,\n",
       "       -1.79687500e-01,  1.26953125e-01,  2.14843750e-02, -3.02734375e-02,\n",
       "       -1.25976562e-01, -4.85839844e-02,  2.83203125e-01,  4.34570312e-02,\n",
       "       -1.70898438e-01, -3.85742188e-02,  1.95312500e-02,  8.10546875e-02,\n",
       "        1.23046875e-01, -5.83496094e-02,  2.32421875e-01, -1.03027344e-01,\n",
       "       -1.04980469e-01,  1.04492188e-01, -3.41796875e-02,  8.39843750e-02,\n",
       "       -1.03027344e-01, -5.10253906e-02, -1.23535156e-01, -1.46484375e-01,\n",
       "        7.82012939e-04, -2.34375000e-01,  1.60980225e-03, -5.88378906e-02,\n",
       "        2.39257812e-01, -1.23535156e-01, -6.83593750e-02,  3.55529785e-03,\n",
       "       -1.15722656e-01,  1.34887695e-02,  8.00781250e-02,  9.71679688e-02,\n",
       "       -1.56250000e-01, -3.61328125e-02,  1.31835938e-01, -1.86523438e-01,\n",
       "        8.34960938e-02, -2.08007812e-01,  7.56835938e-02,  2.81982422e-02,\n",
       "       -1.65039062e-01, -1.60156250e-01,  1.00585938e-01,  1.01562500e-01,\n",
       "       -2.02636719e-02,  8.30078125e-02,  1.38671875e-01, -1.38671875e-01,\n",
       "        6.03027344e-02, -1.26953125e-01,  2.02148438e-01,  6.83593750e-02,\n",
       "        2.67578125e-01,  1.70898438e-01, -8.54492188e-02,  2.08984375e-01,\n",
       "        4.68750000e-02, -1.59179688e-01,  1.47460938e-01, -2.50000000e-01,\n",
       "        5.90820312e-02, -3.14941406e-02, -8.64257812e-02, -9.81445312e-02,\n",
       "       -1.81640625e-01, -3.66210938e-02, -8.49609375e-02, -1.50146484e-02,\n",
       "        3.27148438e-02, -6.25000000e-02,  2.25585938e-01, -2.13623047e-02,\n",
       "        4.54101562e-02,  2.85156250e-01,  1.08886719e-01, -1.33789062e-01,\n",
       "        2.24304199e-03, -1.86523438e-01, -1.24511719e-01,  1.64062500e-01,\n",
       "       -6.22558594e-02, -2.40234375e-01,  9.58251953e-03, -1.43554688e-01,\n",
       "       -8.83789062e-02, -3.47900391e-03,  6.22558594e-02,  7.66601562e-02,\n",
       "        1.87988281e-02,  1.24511719e-01, -1.59179688e-01,  3.34472656e-02,\n",
       "       -2.94921875e-01,  7.56835938e-02, -3.03955078e-02,  4.29687500e-02,\n",
       "       -8.93554688e-02,  2.37304688e-01, -1.45507812e-01, -4.51660156e-02,\n",
       "       -9.03320312e-03,  1.44531250e-01, -2.30468750e-01,  5.20019531e-02,\n",
       "       -1.46484375e-01, -7.17773438e-02, -1.03149414e-02, -9.86328125e-02,\n",
       "       -1.67968750e-01, -1.24511719e-01,  2.03857422e-02, -3.08227539e-03,\n",
       "        2.01171875e-01, -1.40625000e-01,  1.44042969e-02, -1.21582031e-01,\n",
       "        1.08398438e-01, -4.19921875e-02,  4.11987305e-04,  5.21850586e-03,\n",
       "       -1.12792969e-01,  8.64257812e-02, -4.78515625e-02, -4.90722656e-02,\n",
       "       -5.41992188e-02,  5.10253906e-02, -1.46484375e-02, -1.69677734e-02,\n",
       "        5.87463379e-04,  3.29589844e-02,  6.54296875e-02,  6.77490234e-03,\n",
       "        3.71093750e-02, -1.53198242e-02,  1.95312500e-02, -1.71875000e-01,\n",
       "       -1.49414062e-01, -1.42578125e-01,  1.91650391e-02,  1.45507812e-01,\n",
       "        1.17187500e-01,  1.26342773e-02,  2.23388672e-02, -6.88476562e-02,\n",
       "        1.16210938e-01,  7.95898438e-02,  3.63769531e-02, -4.24804688e-02,\n",
       "        3.30078125e-01,  1.49536133e-02, -1.91406250e-01, -2.53906250e-01,\n",
       "        4.37011719e-02,  9.66796875e-02, -9.08203125e-02,  1.23046875e-01,\n",
       "        4.73632812e-02, -2.34375000e-01,  3.63769531e-02,  1.97753906e-02,\n",
       "       -8.98437500e-02,  4.29687500e-02,  5.61523438e-02, -6.68334961e-03,\n",
       "       -8.25195312e-02,  3.60107422e-03, -2.57873535e-03,  7.61718750e-02,\n",
       "        1.13769531e-01, -9.66796875e-02, -1.14746094e-01,  1.28906250e-01,\n",
       "        1.61132812e-01,  1.34887695e-02,  2.53677368e-04,  3.14941406e-02,\n",
       "        7.59887695e-03,  2.39257812e-02,  5.90820312e-02,  1.53808594e-02,\n",
       "       -5.56640625e-02,  9.81445312e-02,  1.97265625e-01, -5.07812500e-02],\n",
       "      dtype=float32)"
      ]
     },
     "execution_count": 7,
     "metadata": {},
     "output_type": "execute_result"
    }
   ],
   "source": [
    "wv_from_bin['U.S.']"
   ]
  },
  {
   "cell_type": "code",
   "execution_count": 9,
   "metadata": {},
   "outputs": [
    {
     "data": {
      "text/plain": [
       "0.73107743"
      ]
     },
     "execution_count": 9,
     "metadata": {},
     "output_type": "execute_result"
    }
   ],
   "source": [
    "wv_from_bin.similarity('United_States', 'U.S.')"
   ]
  },
  {
   "cell_type": "markdown",
   "metadata": {},
   "source": [
    "## 62. 類似度の高い単語10件\n",
    "“United States”とコサイン類似度が高い10語と，その類似度を出力せよ．"
   ]
  },
  {
   "cell_type": "code",
   "execution_count": 11,
   "metadata": {},
   "outputs": [],
   "source": [
    "result = wv_from_bin.similar_by_word('United_States')"
   ]
  },
  {
   "cell_type": "code",
   "execution_count": 12,
   "metadata": {},
   "outputs": [
    {
     "name": "stdout",
     "output_type": "stream",
     "text": [
      "Unites_States 0.7877248525619507\n",
      "Untied_States 0.7541370391845703\n",
      "United_Sates 0.74007248878479\n",
      "U.S. 0.7310774326324463\n",
      "theUnited_States 0.6404393911361694\n",
      "America 0.6178410053253174\n",
      "UnitedStates 0.6167312264442444\n",
      "Europe 0.6132988929748535\n",
      "countries 0.6044804453849792\n",
      "Canada 0.6019070148468018\n"
     ]
    }
   ],
   "source": [
    "for k, s in result[:10]:\n",
    "    print(k, s)"
   ]
  },
  {
   "cell_type": "markdown",
   "metadata": {},
   "source": [
    "## 63. 加法構成性によるアナロジー\n",
    "“Spain”の単語ベクトルから”Madrid”のベクトルを引き，”Athens”のベクトルを足したベクトルを計算し，そのベクトルと類似度の高い10語とその類似度を出力せよ．"
   ]
  },
  {
   "cell_type": "code",
   "execution_count": 7,
   "metadata": {},
   "outputs": [],
   "source": [
    "result = wv_from_bin.most_similar(positive=['Spain', 'Athens'], negative=['Madrid'])"
   ]
  },
  {
   "cell_type": "code",
   "execution_count": 8,
   "metadata": {},
   "outputs": [
    {
     "name": "stdout",
     "output_type": "stream",
     "text": [
      "Greece 0.6898480653762817\n",
      "Aristeidis_Grigoriadis 0.5606849193572998\n",
      "Ioannis_Drymonakos 0.555290937423706\n",
      "Greeks 0.5450686812400818\n",
      "Ioannis_Christou 0.5400862693786621\n",
      "Hrysopiyi_Devetzi 0.5248445272445679\n",
      "Heraklio 0.5207759141921997\n",
      "Athens_Greece 0.516880989074707\n",
      "Lithuania 0.5166865587234497\n",
      "Iraklion 0.5146791338920593\n"
     ]
    }
   ],
   "source": [
    "for k, s in result[:10]:\n",
    "    print(k, s)"
   ]
  },
  {
   "cell_type": "markdown",
   "metadata": {},
   "source": [
    "## 64. アナロジーデータでの実験\n",
    "[単語アナロジーの評価データ](http://download.tensorflow.org/data/questions-words.txt)をダウンロードし，vec(2列目の単語) - vec(1列目の単語) + vec(3列目の単語)を計算し，そのベクトルと類似度が最も高い単語と，その類似度を求めよ．求めた単語と類似度は，各事例の末尾に追記せよ．"
   ]
  },
  {
   "cell_type": "markdown",
   "metadata": {},
   "source": [
    "### データ準備"
   ]
  },
  {
   "cell_type": "code",
   "execution_count": 6,
   "metadata": {},
   "outputs": [],
   "source": [
    "# 単語アナロジーの評価データ\n",
    "word_valid_path = os.path.join(os.getcwd(), '../data/questions-words.txt')"
   ]
  },
  {
   "cell_type": "code",
   "execution_count": 7,
   "metadata": {},
   "outputs": [],
   "source": [
    "# 読み込み\n",
    "with open(word_valid_path) as f:\n",
    "    lines = f.readlines()"
   ]
  },
  {
   "cell_type": "code",
   "execution_count": 8,
   "metadata": {},
   "outputs": [
    {
     "data": {
      "text/html": [
       "<div>\n",
       "<style scoped>\n",
       "    .dataframe tbody tr th:only-of-type {\n",
       "        vertical-align: middle;\n",
       "    }\n",
       "\n",
       "    .dataframe tbody tr th {\n",
       "        vertical-align: top;\n",
       "    }\n",
       "\n",
       "    .dataframe thead th {\n",
       "        text-align: right;\n",
       "    }\n",
       "</style>\n",
       "<table border=\"1\" class=\"dataframe\">\n",
       "  <thead>\n",
       "    <tr style=\"text-align: right;\">\n",
       "      <th></th>\n",
       "      <th>0</th>\n",
       "      <th>1</th>\n",
       "      <th>2</th>\n",
       "      <th>3</th>\n",
       "      <th>4</th>\n",
       "    </tr>\n",
       "  </thead>\n",
       "  <tbody>\n",
       "    <tr>\n",
       "      <th>0</th>\n",
       "      <td>Athens</td>\n",
       "      <td>Greece</td>\n",
       "      <td>Baghdad</td>\n",
       "      <td>Iraq</td>\n",
       "      <td>capital-common-countries</td>\n",
       "    </tr>\n",
       "    <tr>\n",
       "      <th>1</th>\n",
       "      <td>Athens</td>\n",
       "      <td>Greece</td>\n",
       "      <td>Bangkok</td>\n",
       "      <td>Thailand</td>\n",
       "      <td>capital-common-countries</td>\n",
       "    </tr>\n",
       "    <tr>\n",
       "      <th>2</th>\n",
       "      <td>Athens</td>\n",
       "      <td>Greece</td>\n",
       "      <td>Beijing</td>\n",
       "      <td>China</td>\n",
       "      <td>capital-common-countries</td>\n",
       "    </tr>\n",
       "  </tbody>\n",
       "</table>\n",
       "</div>"
      ],
      "text/plain": [
       "        0       1        2         3                         4\n",
       "0  Athens  Greece  Baghdad      Iraq  capital-common-countries\n",
       "1  Athens  Greece  Bangkok  Thailand  capital-common-countries\n",
       "2  Athens  Greece  Beijing     China  capital-common-countries"
      ]
     },
     "execution_count": 8,
     "metadata": {},
     "output_type": "execute_result"
    }
   ],
   "source": [
    "data_list = []\n",
    "for line in lines:\n",
    "    line = line.split()\n",
    "    if line[0] == ':':\n",
    "        group = line[1]\n",
    "    else:\n",
    "        line.append(group)\n",
    "        data_list.append(line)\n",
    "        \n",
    "df = pd.DataFrame(data_list)\n",
    "df.head(3)"
   ]
  },
  {
   "cell_type": "code",
   "execution_count": 9,
   "metadata": {},
   "outputs": [
    {
     "data": {
      "text/html": [
       "<div>\n",
       "<style scoped>\n",
       "    .dataframe tbody tr th:only-of-type {\n",
       "        vertical-align: middle;\n",
       "    }\n",
       "\n",
       "    .dataframe tbody tr th {\n",
       "        vertical-align: top;\n",
       "    }\n",
       "\n",
       "    .dataframe thead th {\n",
       "        text-align: right;\n",
       "    }\n",
       "</style>\n",
       "<table border=\"1\" class=\"dataframe\">\n",
       "  <thead>\n",
       "    <tr style=\"text-align: right;\">\n",
       "      <th></th>\n",
       "      <th>vec1</th>\n",
       "      <th>vec2</th>\n",
       "      <th>vec3</th>\n",
       "      <th>vec4</th>\n",
       "      <th>group</th>\n",
       "    </tr>\n",
       "  </thead>\n",
       "  <tbody>\n",
       "    <tr>\n",
       "      <th>0</th>\n",
       "      <td>Athens</td>\n",
       "      <td>Greece</td>\n",
       "      <td>Baghdad</td>\n",
       "      <td>Iraq</td>\n",
       "      <td>capital-common-countries</td>\n",
       "    </tr>\n",
       "    <tr>\n",
       "      <th>1</th>\n",
       "      <td>Athens</td>\n",
       "      <td>Greece</td>\n",
       "      <td>Bangkok</td>\n",
       "      <td>Thailand</td>\n",
       "      <td>capital-common-countries</td>\n",
       "    </tr>\n",
       "    <tr>\n",
       "      <th>2</th>\n",
       "      <td>Athens</td>\n",
       "      <td>Greece</td>\n",
       "      <td>Beijing</td>\n",
       "      <td>China</td>\n",
       "      <td>capital-common-countries</td>\n",
       "    </tr>\n",
       "  </tbody>\n",
       "</table>\n",
       "</div>"
      ],
      "text/plain": [
       "     vec1    vec2     vec3      vec4                     group\n",
       "0  Athens  Greece  Baghdad      Iraq  capital-common-countries\n",
       "1  Athens  Greece  Bangkok  Thailand  capital-common-countries\n",
       "2  Athens  Greece  Beijing     China  capital-common-countries"
      ]
     },
     "execution_count": 9,
     "metadata": {},
     "output_type": "execute_result"
    }
   ],
   "source": [
    "# 列名変更\n",
    "df.columns = ['vec1', 'vec2', 'vec3', 'vec4', 'group']\n",
    "df.head(3)"
   ]
  },
  {
   "cell_type": "code",
   "execution_count": 10,
   "metadata": {},
   "outputs": [
    {
     "name": "stdout",
     "output_type": "stream",
     "text": [
      "<class 'pandas.core.frame.DataFrame'>\n",
      "RangeIndex: 19544 entries, 0 to 19543\n",
      "Data columns (total 5 columns):\n",
      " #   Column  Non-Null Count  Dtype \n",
      "---  ------  --------------  ----- \n",
      " 0   vec1    19544 non-null  object\n",
      " 1   vec2    19544 non-null  object\n",
      " 2   vec3    19544 non-null  object\n",
      " 3   vec4    19544 non-null  object\n",
      " 4   group   19544 non-null  object\n",
      "dtypes: object(5)\n",
      "memory usage: 763.6+ KB\n"
     ]
    }
   ],
   "source": [
    "df.info()"
   ]
  },
  {
   "cell_type": "markdown",
   "metadata": {},
   "source": [
    "### 関数準備"
   ]
  },
  {
   "cell_type": "code",
   "execution_count": 11,
   "metadata": {},
   "outputs": [
    {
     "data": {
      "text/html": [
       "<div>\n",
       "<style scoped>\n",
       "    .dataframe tbody tr th:only-of-type {\n",
       "        vertical-align: middle;\n",
       "    }\n",
       "\n",
       "    .dataframe tbody tr th {\n",
       "        vertical-align: top;\n",
       "    }\n",
       "\n",
       "    .dataframe thead th {\n",
       "        text-align: right;\n",
       "    }\n",
       "</style>\n",
       "<table border=\"1\" class=\"dataframe\">\n",
       "  <thead>\n",
       "    <tr style=\"text-align: right;\">\n",
       "      <th></th>\n",
       "      <th>0</th>\n",
       "      <th>1</th>\n",
       "    </tr>\n",
       "  </thead>\n",
       "  <tbody>\n",
       "    <tr>\n",
       "      <th>0</th>\n",
       "      <td>Greece</td>\n",
       "      <td>0.689848</td>\n",
       "    </tr>\n",
       "    <tr>\n",
       "      <th>1</th>\n",
       "      <td>Iraqi</td>\n",
       "      <td>0.635187</td>\n",
       "    </tr>\n",
       "  </tbody>\n",
       "</table>\n",
       "</div>"
      ],
      "text/plain": [
       "        0         1\n",
       "0  Greece  0.689848\n",
       "1   Iraqi  0.635187"
      ]
     },
     "execution_count": 11,
     "metadata": {},
     "output_type": "execute_result"
    }
   ],
   "source": [
    "# vec2 - vec1 + vec3\n",
    "def two_pos_one_neg(row):\n",
    "    return wv_from_bin.most_similar(positive=[row['vec2'], row['vec3']], negative=[row['vec1']])[0]\n",
    "\n",
    "pd.DataFrame([\n",
    "    {\n",
    "        'vec1': 'Madrid',\n",
    "        'vec2': 'Spain',\n",
    "        'vec3': 'Athens',\n",
    "    },\n",
    "    {\n",
    "        'vec1': 'Athens',\n",
    "        'vec2': 'Greece',\n",
    "        'vec3': 'Baghdad',\n",
    "    },\n",
    "]).apply(two_pos_one_neg, axis=1, result_type='expand')"
   ]
  },
  {
   "cell_type": "markdown",
   "metadata": {},
   "source": [
    "### 適用"
   ]
  },
  {
   "cell_type": "code",
   "execution_count": 12,
   "metadata": {},
   "outputs": [
    {
     "name": "stdout",
     "output_type": "stream",
     "text": [
      "Wall time: 16.8 s\n"
     ]
    },
    {
     "data": {
      "text/html": [
       "<div>\n",
       "<style scoped>\n",
       "    .dataframe tbody tr th:only-of-type {\n",
       "        vertical-align: middle;\n",
       "    }\n",
       "\n",
       "    .dataframe tbody tr th {\n",
       "        vertical-align: top;\n",
       "    }\n",
       "\n",
       "    .dataframe thead th {\n",
       "        text-align: right;\n",
       "    }\n",
       "</style>\n",
       "<table border=\"1\" class=\"dataframe\">\n",
       "  <thead>\n",
       "    <tr style=\"text-align: right;\">\n",
       "      <th></th>\n",
       "      <th>0</th>\n",
       "      <th>1</th>\n",
       "    </tr>\n",
       "  </thead>\n",
       "  <tbody>\n",
       "    <tr>\n",
       "      <th>0</th>\n",
       "      <td>Iraqi</td>\n",
       "      <td>0.635187</td>\n",
       "    </tr>\n",
       "    <tr>\n",
       "      <th>1</th>\n",
       "      <td>Thailand</td>\n",
       "      <td>0.713767</td>\n",
       "    </tr>\n",
       "    <tr>\n",
       "      <th>2</th>\n",
       "      <td>China</td>\n",
       "      <td>0.723578</td>\n",
       "    </tr>\n",
       "  </tbody>\n",
       "</table>\n",
       "</div>"
      ],
      "text/plain": [
       "          0         1\n",
       "0     Iraqi  0.635187\n",
       "1  Thailand  0.713767\n",
       "2     China  0.723578"
      ]
     },
     "execution_count": 12,
     "metadata": {},
     "output_type": "execute_result"
    }
   ],
   "source": [
    "%%time\n",
    "# 試しに何行かにやってみて、時間見てみる\n",
    "(\n",
    "    df\n",
    "    .loc[:100, :]\n",
    "    .apply(two_pos_one_neg, axis=1, result_type='expand')\n",
    "    .head(3)\n",
    ")"
   ]
  },
  {
   "cell_type": "code",
   "execution_count": 13,
   "metadata": {},
   "outputs": [
    {
     "data": {
      "text/plain": [
       "19544"
      ]
     },
     "execution_count": 13,
     "metadata": {},
     "output_type": "execute_result"
    }
   ],
   "source": [
    "len(df)"
   ]
  },
  {
   "cell_type": "code",
   "execution_count": 14,
   "metadata": {},
   "outputs": [],
   "source": [
    "# 単純計算で16.8s / 100 * 16544 = 3,283s = 約55分かかる\n",
    "# 類似度が最も高い単語と，その類似度\n",
    "df_ans_cos = df.apply(two_pos_one_neg, axis=1, result_type='expand')"
   ]
  },
  {
   "cell_type": "code",
   "execution_count": 15,
   "metadata": {},
   "outputs": [
    {
     "data": {
      "text/plain": [
       "19544"
      ]
     },
     "execution_count": 15,
     "metadata": {},
     "output_type": "execute_result"
    }
   ],
   "source": [
    "len(df_ans_cos)"
   ]
  },
  {
   "cell_type": "code",
   "execution_count": 16,
   "metadata": {},
   "outputs": [
    {
     "data": {
      "text/html": [
       "<div>\n",
       "<style scoped>\n",
       "    .dataframe tbody tr th:only-of-type {\n",
       "        vertical-align: middle;\n",
       "    }\n",
       "\n",
       "    .dataframe tbody tr th {\n",
       "        vertical-align: top;\n",
       "    }\n",
       "\n",
       "    .dataframe thead th {\n",
       "        text-align: right;\n",
       "    }\n",
       "</style>\n",
       "<table border=\"1\" class=\"dataframe\">\n",
       "  <thead>\n",
       "    <tr style=\"text-align: right;\">\n",
       "      <th></th>\n",
       "      <th>0</th>\n",
       "      <th>1</th>\n",
       "    </tr>\n",
       "  </thead>\n",
       "  <tbody>\n",
       "    <tr>\n",
       "      <th>0</th>\n",
       "      <td>Iraqi</td>\n",
       "      <td>0.635187</td>\n",
       "    </tr>\n",
       "    <tr>\n",
       "      <th>1</th>\n",
       "      <td>Thailand</td>\n",
       "      <td>0.713767</td>\n",
       "    </tr>\n",
       "    <tr>\n",
       "      <th>2</th>\n",
       "      <td>China</td>\n",
       "      <td>0.723578</td>\n",
       "    </tr>\n",
       "  </tbody>\n",
       "</table>\n",
       "</div>"
      ],
      "text/plain": [
       "          0         1\n",
       "0     Iraqi  0.635187\n",
       "1  Thailand  0.713767\n",
       "2     China  0.723578"
      ]
     },
     "execution_count": 16,
     "metadata": {},
     "output_type": "execute_result"
    }
   ],
   "source": [
    "df_ans_cos.head(3)"
   ]
  },
  {
   "cell_type": "code",
   "execution_count": 17,
   "metadata": {},
   "outputs": [
    {
     "data": {
      "text/html": [
       "<div>\n",
       "<style scoped>\n",
       "    .dataframe tbody tr th:only-of-type {\n",
       "        vertical-align: middle;\n",
       "    }\n",
       "\n",
       "    .dataframe tbody tr th {\n",
       "        vertical-align: top;\n",
       "    }\n",
       "\n",
       "    .dataframe thead th {\n",
       "        text-align: right;\n",
       "    }\n",
       "</style>\n",
       "<table border=\"1\" class=\"dataframe\">\n",
       "  <thead>\n",
       "    <tr style=\"text-align: right;\">\n",
       "      <th></th>\n",
       "      <th>answer</th>\n",
       "      <th>cosine_similarity</th>\n",
       "    </tr>\n",
       "  </thead>\n",
       "  <tbody>\n",
       "    <tr>\n",
       "      <th>0</th>\n",
       "      <td>Iraqi</td>\n",
       "      <td>0.635187</td>\n",
       "    </tr>\n",
       "    <tr>\n",
       "      <th>1</th>\n",
       "      <td>Thailand</td>\n",
       "      <td>0.713767</td>\n",
       "    </tr>\n",
       "    <tr>\n",
       "      <th>2</th>\n",
       "      <td>China</td>\n",
       "      <td>0.723578</td>\n",
       "    </tr>\n",
       "  </tbody>\n",
       "</table>\n",
       "</div>"
      ],
      "text/plain": [
       "     answer  cosine_similarity\n",
       "0     Iraqi           0.635187\n",
       "1  Thailand           0.713767\n",
       "2     China           0.723578"
      ]
     },
     "execution_count": 17,
     "metadata": {},
     "output_type": "execute_result"
    }
   ],
   "source": [
    "# 列名変更\n",
    "df_ans_cos.columns = ['answer', 'cosine_similarity']\n",
    "df_ans_cos.head(3)"
   ]
  },
  {
   "cell_type": "code",
   "execution_count": 18,
   "metadata": {},
   "outputs": [],
   "source": [
    "# 各事例の末尾に追記\n",
    "df = pd.concat([df, df_ans_cos], axis=1)"
   ]
  },
  {
   "cell_type": "code",
   "execution_count": 19,
   "metadata": {},
   "outputs": [
    {
     "data": {
      "text/html": [
       "<div>\n",
       "<style scoped>\n",
       "    .dataframe tbody tr th:only-of-type {\n",
       "        vertical-align: middle;\n",
       "    }\n",
       "\n",
       "    .dataframe tbody tr th {\n",
       "        vertical-align: top;\n",
       "    }\n",
       "\n",
       "    .dataframe thead th {\n",
       "        text-align: right;\n",
       "    }\n",
       "</style>\n",
       "<table border=\"1\" class=\"dataframe\">\n",
       "  <thead>\n",
       "    <tr style=\"text-align: right;\">\n",
       "      <th></th>\n",
       "      <th>vec1</th>\n",
       "      <th>vec2</th>\n",
       "      <th>vec3</th>\n",
       "      <th>vec4</th>\n",
       "      <th>group</th>\n",
       "      <th>answer</th>\n",
       "      <th>cosine_similarity</th>\n",
       "    </tr>\n",
       "  </thead>\n",
       "  <tbody>\n",
       "    <tr>\n",
       "      <th>0</th>\n",
       "      <td>Athens</td>\n",
       "      <td>Greece</td>\n",
       "      <td>Baghdad</td>\n",
       "      <td>Iraq</td>\n",
       "      <td>capital-common-countries</td>\n",
       "      <td>Iraqi</td>\n",
       "      <td>0.635187</td>\n",
       "    </tr>\n",
       "    <tr>\n",
       "      <th>1</th>\n",
       "      <td>Athens</td>\n",
       "      <td>Greece</td>\n",
       "      <td>Bangkok</td>\n",
       "      <td>Thailand</td>\n",
       "      <td>capital-common-countries</td>\n",
       "      <td>Thailand</td>\n",
       "      <td>0.713767</td>\n",
       "    </tr>\n",
       "    <tr>\n",
       "      <th>2</th>\n",
       "      <td>Athens</td>\n",
       "      <td>Greece</td>\n",
       "      <td>Beijing</td>\n",
       "      <td>China</td>\n",
       "      <td>capital-common-countries</td>\n",
       "      <td>China</td>\n",
       "      <td>0.723578</td>\n",
       "    </tr>\n",
       "  </tbody>\n",
       "</table>\n",
       "</div>"
      ],
      "text/plain": [
       "     vec1    vec2     vec3      vec4                     group    answer  \\\n",
       "0  Athens  Greece  Baghdad      Iraq  capital-common-countries     Iraqi   \n",
       "1  Athens  Greece  Bangkok  Thailand  capital-common-countries  Thailand   \n",
       "2  Athens  Greece  Beijing     China  capital-common-countries     China   \n",
       "\n",
       "   cosine_similarity  \n",
       "0           0.635187  \n",
       "1           0.713767  \n",
       "2           0.723578  "
      ]
     },
     "execution_count": 19,
     "metadata": {},
     "output_type": "execute_result"
    }
   ],
   "source": [
    "df.head(3)"
   ]
  },
  {
   "cell_type": "code",
   "execution_count": 20,
   "metadata": {},
   "outputs": [],
   "source": [
    "# 時間かかるので結果保存\n",
    "with open('df_64.pickle', mode=\"wb\") as f:\n",
    "    pickle.dump(df, f)"
   ]
  },
  {
   "cell_type": "markdown",
   "metadata": {},
   "source": [
    "## 65. アナロジータスクでの正解率\n",
    "64の実行結果を用い，意味的アナロジー（semantic analogy）と文法的アナロジー（syntactic analogy）の正解率を測定せよ．"
   ]
  },
  {
   "cell_type": "code",
   "execution_count": 3,
   "metadata": {},
   "outputs": [],
   "source": [
    "# 読み込み\n",
    "with open('df_64.pickle', mode=\"rb\") as f:\n",
    "    df = pickle.load(f)"
   ]
  },
  {
   "cell_type": "code",
   "execution_count": 4,
   "metadata": {},
   "outputs": [
    {
     "data": {
      "text/html": [
       "<div>\n",
       "<style scoped>\n",
       "    .dataframe tbody tr th:only-of-type {\n",
       "        vertical-align: middle;\n",
       "    }\n",
       "\n",
       "    .dataframe tbody tr th {\n",
       "        vertical-align: top;\n",
       "    }\n",
       "\n",
       "    .dataframe thead th {\n",
       "        text-align: right;\n",
       "    }\n",
       "</style>\n",
       "<table border=\"1\" class=\"dataframe\">\n",
       "  <thead>\n",
       "    <tr style=\"text-align: right;\">\n",
       "      <th></th>\n",
       "      <th>vec1</th>\n",
       "      <th>vec2</th>\n",
       "      <th>vec3</th>\n",
       "      <th>vec4</th>\n",
       "      <th>group</th>\n",
       "      <th>answer</th>\n",
       "      <th>cosine_similarity</th>\n",
       "    </tr>\n",
       "  </thead>\n",
       "  <tbody>\n",
       "    <tr>\n",
       "      <th>0</th>\n",
       "      <td>Athens</td>\n",
       "      <td>Greece</td>\n",
       "      <td>Baghdad</td>\n",
       "      <td>Iraq</td>\n",
       "      <td>capital-common-countries</td>\n",
       "      <td>Iraqi</td>\n",
       "      <td>0.635187</td>\n",
       "    </tr>\n",
       "    <tr>\n",
       "      <th>1</th>\n",
       "      <td>Athens</td>\n",
       "      <td>Greece</td>\n",
       "      <td>Bangkok</td>\n",
       "      <td>Thailand</td>\n",
       "      <td>capital-common-countries</td>\n",
       "      <td>Thailand</td>\n",
       "      <td>0.713767</td>\n",
       "    </tr>\n",
       "    <tr>\n",
       "      <th>2</th>\n",
       "      <td>Athens</td>\n",
       "      <td>Greece</td>\n",
       "      <td>Beijing</td>\n",
       "      <td>China</td>\n",
       "      <td>capital-common-countries</td>\n",
       "      <td>China</td>\n",
       "      <td>0.723578</td>\n",
       "    </tr>\n",
       "  </tbody>\n",
       "</table>\n",
       "</div>"
      ],
      "text/plain": [
       "     vec1    vec2     vec3      vec4                     group    answer  \\\n",
       "0  Athens  Greece  Baghdad      Iraq  capital-common-countries     Iraqi   \n",
       "1  Athens  Greece  Bangkok  Thailand  capital-common-countries  Thailand   \n",
       "2  Athens  Greece  Beijing     China  capital-common-countries     China   \n",
       "\n",
       "   cosine_similarity  \n",
       "0           0.635187  \n",
       "1           0.713767  \n",
       "2           0.723578  "
      ]
     },
     "execution_count": 4,
     "metadata": {},
     "output_type": "execute_result"
    }
   ],
   "source": [
    "df.head(3)"
   ]
  },
  {
   "cell_type": "code",
   "execution_count": 5,
   "metadata": {},
   "outputs": [
    {
     "data": {
      "text/plain": [
       "group\n",
       "capital-common-countries        506\n",
       "capital-world                  4524\n",
       "city-in-state                  2467\n",
       "currency                        866\n",
       "family                          506\n",
       "gram1-adjective-to-adverb       992\n",
       "gram2-opposite                  812\n",
       "gram3-comparative              1332\n",
       "gram4-superlative              1122\n",
       "gram5-present-participle       1056\n",
       "gram6-nationality-adjective    1599\n",
       "gram7-past-tense               1560\n",
       "gram8-plural                   1332\n",
       "gram9-plural-verbs              870\n",
       "Name: vec1, dtype: int64"
      ]
     },
     "execution_count": 5,
     "metadata": {},
     "output_type": "execute_result"
    }
   ],
   "source": [
    "# グループごとの件数\n",
    "df.groupby('group')['vec1'].count()"
   ]
  },
  {
   "cell_type": "code",
   "execution_count": 8,
   "metadata": {},
   "outputs": [
    {
     "data": {
      "text/plain": [
       "10675"
      ]
     },
     "execution_count": 8,
     "metadata": {},
     "output_type": "execute_result"
    }
   ],
   "source": [
    "# syn\n",
    "df['group'].apply(lambda x: x.startswith('gram')).sum()"
   ]
  },
  {
   "cell_type": "markdown",
   "metadata": {},
   "source": [
    "### 意味的アナロジー（semantic analogy）"
   ]
  },
  {
   "cell_type": "code",
   "execution_count": 10,
   "metadata": {},
   "outputs": [],
   "source": [
    "df_sem = df[(~df['group'].apply(lambda x: x.startswith('gram')))]"
   ]
  },
  {
   "cell_type": "code",
   "execution_count": 11,
   "metadata": {},
   "outputs": [
    {
     "data": {
      "text/plain": [
       "0.7308602999210734"
      ]
     },
     "execution_count": 11,
     "metadata": {},
     "output_type": "execute_result"
    }
   ],
   "source": [
    "# 正解率\n",
    "(df_sem['vec4'] == df_sem['answer']).sum() / len(df_sem)"
   ]
  },
  {
   "cell_type": "markdown",
   "metadata": {},
   "source": [
    "### 文法的アナロジー（syntactic analogy）"
   ]
  },
  {
   "cell_type": "code",
   "execution_count": 12,
   "metadata": {},
   "outputs": [],
   "source": [
    "df_syn = df[df['group'].apply(lambda x: x.startswith('gram'))]"
   ]
  },
  {
   "cell_type": "code",
   "execution_count": 13,
   "metadata": {},
   "outputs": [
    {
     "data": {
      "text/plain": [
       "0.7400468384074942"
      ]
     },
     "execution_count": 13,
     "metadata": {},
     "output_type": "execute_result"
    }
   ],
   "source": [
    "# 正解率\n",
    "(df_syn['vec4'] == df_syn['answer']).sum() / len(df_syn)"
   ]
  },
  {
   "cell_type": "markdown",
   "metadata": {},
   "source": [
    "## 66. WordSimilarity-353での評価\n",
    "The WordSimilarity-353 Test Collectionの評価データをダウンロードし，単語ベクトルにより計算される類似度のランキングと，人間の類似度判定のランキングの間のスピアマン相関係数を計算せよ．"
   ]
  },
  {
   "cell_type": "code",
   "execution_count": 7,
   "metadata": {},
   "outputs": [],
   "source": [
    "from scipy.stats import spearmanr"
   ]
  },
  {
   "cell_type": "markdown",
   "metadata": {},
   "source": [
    "### データ読み込み"
   ]
  },
  {
   "cell_type": "code",
   "execution_count": 8,
   "metadata": {},
   "outputs": [],
   "source": [
    "# 学習済み単語ベクトル\n",
    "combined_path = os.path.join(os.getcwd(), '../data/combined.csv')"
   ]
  },
  {
   "cell_type": "code",
   "execution_count": 11,
   "metadata": {},
   "outputs": [
    {
     "data": {
      "text/html": [
       "<div>\n",
       "<style scoped>\n",
       "    .dataframe tbody tr th:only-of-type {\n",
       "        vertical-align: middle;\n",
       "    }\n",
       "\n",
       "    .dataframe tbody tr th {\n",
       "        vertical-align: top;\n",
       "    }\n",
       "\n",
       "    .dataframe thead th {\n",
       "        text-align: right;\n",
       "    }\n",
       "</style>\n",
       "<table border=\"1\" class=\"dataframe\">\n",
       "  <thead>\n",
       "    <tr style=\"text-align: right;\">\n",
       "      <th></th>\n",
       "      <th>Word 1</th>\n",
       "      <th>Word 2</th>\n",
       "      <th>Human (mean)</th>\n",
       "    </tr>\n",
       "  </thead>\n",
       "  <tbody>\n",
       "    <tr>\n",
       "      <th>0</th>\n",
       "      <td>love</td>\n",
       "      <td>sex</td>\n",
       "      <td>6.77</td>\n",
       "    </tr>\n",
       "    <tr>\n",
       "      <th>1</th>\n",
       "      <td>tiger</td>\n",
       "      <td>cat</td>\n",
       "      <td>7.35</td>\n",
       "    </tr>\n",
       "    <tr>\n",
       "      <th>2</th>\n",
       "      <td>tiger</td>\n",
       "      <td>tiger</td>\n",
       "      <td>10.00</td>\n",
       "    </tr>\n",
       "  </tbody>\n",
       "</table>\n",
       "</div>"
      ],
      "text/plain": [
       "  Word 1 Word 2  Human (mean)\n",
       "0   love    sex          6.77\n",
       "1  tiger    cat          7.35\n",
       "2  tiger  tiger         10.00"
      ]
     },
     "execution_count": 11,
     "metadata": {},
     "output_type": "execute_result"
    }
   ],
   "source": [
    "# 読み込み\n",
    "df = pd.read_csv(combined_path)\n",
    "df.head(3)"
   ]
  },
  {
   "cell_type": "markdown",
   "metadata": {},
   "source": [
    "### 類似度算出"
   ]
  },
  {
   "cell_type": "code",
   "execution_count": 17,
   "metadata": {},
   "outputs": [
    {
     "data": {
      "text/plain": [
       "0    0.263938\n",
       "1    0.517296\n",
       "dtype: float64"
      ]
     },
     "execution_count": 17,
     "metadata": {},
     "output_type": "execute_result"
    }
   ],
   "source": [
    "# Word 1とWord 2の類似度\n",
    "def get_similarity(row):\n",
    "    return wv_from_bin.similarity(row['Word 1'], row['Word 2'])\n",
    "\n",
    "pd.DataFrame([\n",
    "    {\n",
    "        'Word 1': 'love',\n",
    "        'Word 2': 'sex',\n",
    "    },\n",
    "    {\n",
    "        'Word 1': 'tiger',\n",
    "        'Word 2': 'cat',\n",
    "    },\n",
    "]).apply(get_similarity, axis=1)"
   ]
  },
  {
   "cell_type": "code",
   "execution_count": 19,
   "metadata": {},
   "outputs": [],
   "source": [
    "df['vector_score'] = df.apply(get_similarity, axis=1)"
   ]
  },
  {
   "cell_type": "code",
   "execution_count": 20,
   "metadata": {},
   "outputs": [
    {
     "data": {
      "text/html": [
       "<div>\n",
       "<style scoped>\n",
       "    .dataframe tbody tr th:only-of-type {\n",
       "        vertical-align: middle;\n",
       "    }\n",
       "\n",
       "    .dataframe tbody tr th {\n",
       "        vertical-align: top;\n",
       "    }\n",
       "\n",
       "    .dataframe thead th {\n",
       "        text-align: right;\n",
       "    }\n",
       "</style>\n",
       "<table border=\"1\" class=\"dataframe\">\n",
       "  <thead>\n",
       "    <tr style=\"text-align: right;\">\n",
       "      <th></th>\n",
       "      <th>Word 1</th>\n",
       "      <th>Word 2</th>\n",
       "      <th>Human (mean)</th>\n",
       "      <th>vector_score</th>\n",
       "    </tr>\n",
       "  </thead>\n",
       "  <tbody>\n",
       "    <tr>\n",
       "      <th>0</th>\n",
       "      <td>love</td>\n",
       "      <td>sex</td>\n",
       "      <td>6.77</td>\n",
       "      <td>0.263938</td>\n",
       "    </tr>\n",
       "    <tr>\n",
       "      <th>1</th>\n",
       "      <td>tiger</td>\n",
       "      <td>cat</td>\n",
       "      <td>7.35</td>\n",
       "      <td>0.517296</td>\n",
       "    </tr>\n",
       "    <tr>\n",
       "      <th>2</th>\n",
       "      <td>tiger</td>\n",
       "      <td>tiger</td>\n",
       "      <td>10.00</td>\n",
       "      <td>1.000000</td>\n",
       "    </tr>\n",
       "  </tbody>\n",
       "</table>\n",
       "</div>"
      ],
      "text/plain": [
       "  Word 1 Word 2  Human (mean)  vector_score\n",
       "0   love    sex          6.77      0.263938\n",
       "1  tiger    cat          7.35      0.517296\n",
       "2  tiger  tiger         10.00      1.000000"
      ]
     },
     "execution_count": 20,
     "metadata": {},
     "output_type": "execute_result"
    }
   ],
   "source": [
    "df.head(3)"
   ]
  },
  {
   "cell_type": "markdown",
   "metadata": {},
   "source": [
    "### ランキング付け"
   ]
  },
  {
   "cell_type": "code",
   "execution_count": 24,
   "metadata": {},
   "outputs": [],
   "source": [
    "df['human_rank'] = df['Human (mean)'].rank(ascending=False)\n",
    "df['vector_rank'] = df['vector_score'].rank(ascending=False)"
   ]
  },
  {
   "cell_type": "markdown",
   "metadata": {},
   "source": [
    "### スピアマン相関係数を計算"
   ]
  },
  {
   "cell_type": "code",
   "execution_count": 25,
   "metadata": {},
   "outputs": [],
   "source": [
    "correlation, pvalue = spearmanr(df['human_rank'], df['vector_rank'])"
   ]
  },
  {
   "cell_type": "code",
   "execution_count": 26,
   "metadata": {},
   "outputs": [
    {
     "name": "stdout",
     "output_type": "stream",
     "text": [
      "0.7000166486272194\n"
     ]
    }
   ],
   "source": [
    "print(correlation)"
   ]
  },
  {
   "cell_type": "markdown",
   "metadata": {},
   "source": [
    "## 67. k-meansクラスタリング\n",
    "国名に関する単語ベクトルを抽出し，k-meansクラスタリングをクラスタ数k=5として実行せよ．"
   ]
  },
  {
   "cell_type": "markdown",
   "metadata": {},
   "source": [
    "### 国名に関する単語ベクトル抽出\n",
    "\n",
    "うまい抽出方法なさそうなので、[【言語処理100本ノック 2020】第7章: 単語ベクトル](https://qiita.com/yamaru/items/822af1f7f77666381e20)を参考にする"
   ]
  },
  {
   "cell_type": "code",
   "execution_count": 14,
   "metadata": {},
   "outputs": [
    {
     "data": {
      "text/html": [
       "<div>\n",
       "<style scoped>\n",
       "    .dataframe tbody tr th:only-of-type {\n",
       "        vertical-align: middle;\n",
       "    }\n",
       "\n",
       "    .dataframe tbody tr th {\n",
       "        vertical-align: top;\n",
       "    }\n",
       "\n",
       "    .dataframe thead th {\n",
       "        text-align: right;\n",
       "    }\n",
       "</style>\n",
       "<table border=\"1\" class=\"dataframe\">\n",
       "  <thead>\n",
       "    <tr style=\"text-align: right;\">\n",
       "      <th></th>\n",
       "      <th>vec1</th>\n",
       "      <th>vec2</th>\n",
       "      <th>vec3</th>\n",
       "      <th>vec4</th>\n",
       "      <th>group</th>\n",
       "      <th>answer</th>\n",
       "      <th>cosine_similarity</th>\n",
       "    </tr>\n",
       "  </thead>\n",
       "  <tbody>\n",
       "    <tr>\n",
       "      <th>0</th>\n",
       "      <td>Athens</td>\n",
       "      <td>Greece</td>\n",
       "      <td>Baghdad</td>\n",
       "      <td>Iraq</td>\n",
       "      <td>capital-common-countries</td>\n",
       "      <td>Iraqi</td>\n",
       "      <td>0.635187</td>\n",
       "    </tr>\n",
       "    <tr>\n",
       "      <th>1</th>\n",
       "      <td>Athens</td>\n",
       "      <td>Greece</td>\n",
       "      <td>Bangkok</td>\n",
       "      <td>Thailand</td>\n",
       "      <td>capital-common-countries</td>\n",
       "      <td>Thailand</td>\n",
       "      <td>0.713767</td>\n",
       "    </tr>\n",
       "    <tr>\n",
       "      <th>2</th>\n",
       "      <td>Athens</td>\n",
       "      <td>Greece</td>\n",
       "      <td>Beijing</td>\n",
       "      <td>China</td>\n",
       "      <td>capital-common-countries</td>\n",
       "      <td>China</td>\n",
       "      <td>0.723578</td>\n",
       "    </tr>\n",
       "  </tbody>\n",
       "</table>\n",
       "</div>"
      ],
      "text/plain": [
       "     vec1    vec2     vec3      vec4                     group    answer  \\\n",
       "0  Athens  Greece  Baghdad      Iraq  capital-common-countries     Iraqi   \n",
       "1  Athens  Greece  Bangkok  Thailand  capital-common-countries  Thailand   \n",
       "2  Athens  Greece  Beijing     China  capital-common-countries     China   \n",
       "\n",
       "   cosine_similarity  \n",
       "0           0.635187  \n",
       "1           0.713767  \n",
       "2           0.723578  "
      ]
     },
     "execution_count": 14,
     "metadata": {},
     "output_type": "execute_result"
    }
   ],
   "source": [
    "# 読み込み\n",
    "with open('df_64.pickle', mode=\"rb\") as f:\n",
    "    df = pickle.load(f)\n",
    "df.head(3)"
   ]
  },
  {
   "cell_type": "code",
   "execution_count": 15,
   "metadata": {},
   "outputs": [
    {
     "data": {
      "text/plain": [
       "0             Greece\n",
       "22              Iraq\n",
       "44          Thailand\n",
       "66             China\n",
       "88           Germany\n",
       "            ...     \n",
       "5839             USA\n",
       "14573       Colombia\n",
       "14885        Iceland\n",
       "15002         Israel\n",
       "15314    Netherlands\n",
       "Length: 129, dtype: object"
      ]
     },
     "execution_count": 15,
     "metadata": {},
     "output_type": "execute_result"
    }
   ],
   "source": [
    "s_country = (\n",
    "    pd.concat([\n",
    "        df.loc[df['group'] == 'capital-common-countries', 'vec2'],\n",
    "        df.loc[df['group'] == 'capital-world', 'vec2'],\n",
    "        df.loc[df['group'] == 'currency', 'vec1'],\n",
    "        df.loc[df['group'] == 'gram6-nationality-adjective', 'vec1'],\n",
    "    ])\n",
    "    .drop_duplicates()\n",
    ")\n",
    "s_country"
   ]
  },
  {
   "cell_type": "code",
   "execution_count": 16,
   "metadata": {},
   "outputs": [
    {
     "data": {
      "text/html": [
       "<div>\n",
       "<style scoped>\n",
       "    .dataframe tbody tr th:only-of-type {\n",
       "        vertical-align: middle;\n",
       "    }\n",
       "\n",
       "    .dataframe tbody tr th {\n",
       "        vertical-align: top;\n",
       "    }\n",
       "\n",
       "    .dataframe thead th {\n",
       "        text-align: right;\n",
       "    }\n",
       "</style>\n",
       "<table border=\"1\" class=\"dataframe\">\n",
       "  <thead>\n",
       "    <tr style=\"text-align: right;\">\n",
       "      <th></th>\n",
       "      <th>0</th>\n",
       "      <th>1</th>\n",
       "      <th>2</th>\n",
       "      <th>3</th>\n",
       "      <th>4</th>\n",
       "      <th>5</th>\n",
       "      <th>6</th>\n",
       "      <th>7</th>\n",
       "      <th>8</th>\n",
       "      <th>9</th>\n",
       "      <th>...</th>\n",
       "      <th>290</th>\n",
       "      <th>291</th>\n",
       "      <th>292</th>\n",
       "      <th>293</th>\n",
       "      <th>294</th>\n",
       "      <th>295</th>\n",
       "      <th>296</th>\n",
       "      <th>297</th>\n",
       "      <th>298</th>\n",
       "      <th>299</th>\n",
       "    </tr>\n",
       "  </thead>\n",
       "  <tbody>\n",
       "    <tr>\n",
       "      <th>0</th>\n",
       "      <td>0.472656</td>\n",
       "      <td>0.007019</td>\n",
       "      <td>0.059082</td>\n",
       "      <td>0.090332</td>\n",
       "      <td>0.039551</td>\n",
       "      <td>-0.058594</td>\n",
       "      <td>0.060059</td>\n",
       "      <td>-0.257812</td>\n",
       "      <td>-0.241211</td>\n",
       "      <td>-0.045898</td>\n",
       "      <td>...</td>\n",
       "      <td>0.055908</td>\n",
       "      <td>0.021118</td>\n",
       "      <td>-0.117676</td>\n",
       "      <td>-0.052246</td>\n",
       "      <td>0.07373</td>\n",
       "      <td>0.462891</td>\n",
       "      <td>-0.425781</td>\n",
       "      <td>0.024658</td>\n",
       "      <td>0.090332</td>\n",
       "      <td>0.023193</td>\n",
       "    </tr>\n",
       "    <tr>\n",
       "      <th>1</th>\n",
       "      <td>0.191406</td>\n",
       "      <td>0.125000</td>\n",
       "      <td>-0.065430</td>\n",
       "      <td>0.060059</td>\n",
       "      <td>-0.285156</td>\n",
       "      <td>-0.102539</td>\n",
       "      <td>0.117188</td>\n",
       "      <td>-0.351562</td>\n",
       "      <td>-0.095215</td>\n",
       "      <td>0.200195</td>\n",
       "      <td>...</td>\n",
       "      <td>-0.100586</td>\n",
       "      <td>-0.077148</td>\n",
       "      <td>-0.123047</td>\n",
       "      <td>0.193359</td>\n",
       "      <td>-0.15332</td>\n",
       "      <td>0.089355</td>\n",
       "      <td>-0.173828</td>\n",
       "      <td>-0.054688</td>\n",
       "      <td>0.302734</td>\n",
       "      <td>0.105957</td>\n",
       "    </tr>\n",
       "  </tbody>\n",
       "</table>\n",
       "<p>2 rows × 300 columns</p>\n",
       "</div>"
      ],
      "text/plain": [
       "        0         1         2         3         4         5         6    \\\n",
       "0  0.472656  0.007019  0.059082  0.090332  0.039551 -0.058594  0.060059   \n",
       "1  0.191406  0.125000 -0.065430  0.060059 -0.285156 -0.102539  0.117188   \n",
       "\n",
       "        7         8         9    ...       290       291       292       293  \\\n",
       "0 -0.257812 -0.241211 -0.045898  ...  0.055908  0.021118 -0.117676 -0.052246   \n",
       "1 -0.351562 -0.095215  0.200195  ... -0.100586 -0.077148 -0.123047  0.193359   \n",
       "\n",
       "       294       295       296       297       298       299  \n",
       "0  0.07373  0.462891 -0.425781  0.024658  0.090332  0.023193  \n",
       "1 -0.15332  0.089355 -0.173828 -0.054688  0.302734  0.105957  \n",
       "\n",
       "[2 rows x 300 columns]"
      ]
     },
     "execution_count": 16,
     "metadata": {},
     "output_type": "execute_result"
    }
   ],
   "source": [
    "def get_vector(name):\n",
    "    return pd.Series(wv_from_bin[name])\n",
    "\n",
    "pd.DataFrame(\n",
    "    pd.Series(['Greece', 'Iraq']).apply(get_vector)\n",
    ")"
   ]
  },
  {
   "cell_type": "code",
   "execution_count": 18,
   "metadata": {},
   "outputs": [
    {
     "data": {
      "text/html": [
       "<div>\n",
       "<style scoped>\n",
       "    .dataframe tbody tr th:only-of-type {\n",
       "        vertical-align: middle;\n",
       "    }\n",
       "\n",
       "    .dataframe tbody tr th {\n",
       "        vertical-align: top;\n",
       "    }\n",
       "\n",
       "    .dataframe thead th {\n",
       "        text-align: right;\n",
       "    }\n",
       "</style>\n",
       "<table border=\"1\" class=\"dataframe\">\n",
       "  <thead>\n",
       "    <tr style=\"text-align: right;\">\n",
       "      <th></th>\n",
       "      <th>0</th>\n",
       "      <th>1</th>\n",
       "      <th>2</th>\n",
       "      <th>3</th>\n",
       "      <th>4</th>\n",
       "      <th>5</th>\n",
       "      <th>6</th>\n",
       "      <th>7</th>\n",
       "      <th>8</th>\n",
       "      <th>9</th>\n",
       "      <th>...</th>\n",
       "      <th>291</th>\n",
       "      <th>292</th>\n",
       "      <th>293</th>\n",
       "      <th>294</th>\n",
       "      <th>295</th>\n",
       "      <th>296</th>\n",
       "      <th>297</th>\n",
       "      <th>298</th>\n",
       "      <th>299</th>\n",
       "      <th>300</th>\n",
       "    </tr>\n",
       "  </thead>\n",
       "  <tbody>\n",
       "    <tr>\n",
       "      <th>0</th>\n",
       "      <td>Greece</td>\n",
       "      <td>0.472656</td>\n",
       "      <td>0.007019</td>\n",
       "      <td>0.059082</td>\n",
       "      <td>0.090332</td>\n",
       "      <td>0.039551</td>\n",
       "      <td>-0.058594</td>\n",
       "      <td>0.060059</td>\n",
       "      <td>-0.257812</td>\n",
       "      <td>-0.241211</td>\n",
       "      <td>...</td>\n",
       "      <td>0.055908</td>\n",
       "      <td>0.021118</td>\n",
       "      <td>-0.117676</td>\n",
       "      <td>-0.052246</td>\n",
       "      <td>0.073730</td>\n",
       "      <td>0.462891</td>\n",
       "      <td>-0.425781</td>\n",
       "      <td>0.024658</td>\n",
       "      <td>0.090332</td>\n",
       "      <td>0.023193</td>\n",
       "    </tr>\n",
       "    <tr>\n",
       "      <th>1</th>\n",
       "      <td>Iraq</td>\n",
       "      <td>0.191406</td>\n",
       "      <td>0.125000</td>\n",
       "      <td>-0.065430</td>\n",
       "      <td>0.060059</td>\n",
       "      <td>-0.285156</td>\n",
       "      <td>-0.102539</td>\n",
       "      <td>0.117188</td>\n",
       "      <td>-0.351562</td>\n",
       "      <td>-0.095215</td>\n",
       "      <td>...</td>\n",
       "      <td>-0.100586</td>\n",
       "      <td>-0.077148</td>\n",
       "      <td>-0.123047</td>\n",
       "      <td>0.193359</td>\n",
       "      <td>-0.153320</td>\n",
       "      <td>0.089355</td>\n",
       "      <td>-0.173828</td>\n",
       "      <td>-0.054688</td>\n",
       "      <td>0.302734</td>\n",
       "      <td>0.105957</td>\n",
       "    </tr>\n",
       "    <tr>\n",
       "      <th>2</th>\n",
       "      <td>Thailand</td>\n",
       "      <td>0.109863</td>\n",
       "      <td>-0.117188</td>\n",
       "      <td>0.010010</td>\n",
       "      <td>0.238281</td>\n",
       "      <td>-0.193359</td>\n",
       "      <td>0.060303</td>\n",
       "      <td>0.059326</td>\n",
       "      <td>-0.402344</td>\n",
       "      <td>-0.139648</td>\n",
       "      <td>...</td>\n",
       "      <td>-0.035889</td>\n",
       "      <td>0.146484</td>\n",
       "      <td>-0.110352</td>\n",
       "      <td>-0.082520</td>\n",
       "      <td>-0.073242</td>\n",
       "      <td>0.076172</td>\n",
       "      <td>-0.326172</td>\n",
       "      <td>-0.048584</td>\n",
       "      <td>0.130859</td>\n",
       "      <td>0.241211</td>\n",
       "    </tr>\n",
       "    <tr>\n",
       "      <th>3</th>\n",
       "      <td>China</td>\n",
       "      <td>-0.073242</td>\n",
       "      <td>0.135742</td>\n",
       "      <td>0.108887</td>\n",
       "      <td>0.083008</td>\n",
       "      <td>-0.127930</td>\n",
       "      <td>-0.227539</td>\n",
       "      <td>0.151367</td>\n",
       "      <td>-0.045654</td>\n",
       "      <td>-0.065430</td>\n",
       "      <td>...</td>\n",
       "      <td>0.140625</td>\n",
       "      <td>0.087402</td>\n",
       "      <td>0.152344</td>\n",
       "      <td>0.079590</td>\n",
       "      <td>0.006348</td>\n",
       "      <td>-0.037842</td>\n",
       "      <td>-0.183594</td>\n",
       "      <td>0.137695</td>\n",
       "      <td>0.093750</td>\n",
       "      <td>-0.079590</td>\n",
       "    </tr>\n",
       "    <tr>\n",
       "      <th>4</th>\n",
       "      <td>Germany</td>\n",
       "      <td>0.259766</td>\n",
       "      <td>0.140625</td>\n",
       "      <td>0.247070</td>\n",
       "      <td>0.009583</td>\n",
       "      <td>-0.250000</td>\n",
       "      <td>-0.082520</td>\n",
       "      <td>-0.099121</td>\n",
       "      <td>-0.353516</td>\n",
       "      <td>-0.148438</td>\n",
       "      <td>...</td>\n",
       "      <td>-0.060791</td>\n",
       "      <td>0.118164</td>\n",
       "      <td>-0.064453</td>\n",
       "      <td>0.113770</td>\n",
       "      <td>-0.172852</td>\n",
       "      <td>0.171875</td>\n",
       "      <td>-0.194336</td>\n",
       "      <td>0.008179</td>\n",
       "      <td>0.068359</td>\n",
       "      <td>-0.141602</td>\n",
       "    </tr>\n",
       "  </tbody>\n",
       "</table>\n",
       "<p>5 rows × 301 columns</p>\n",
       "</div>"
      ],
      "text/plain": [
       "        0         1         2         3         4         5         6    \\\n",
       "0    Greece  0.472656  0.007019  0.059082  0.090332  0.039551 -0.058594   \n",
       "1      Iraq  0.191406  0.125000 -0.065430  0.060059 -0.285156 -0.102539   \n",
       "2  Thailand  0.109863 -0.117188  0.010010  0.238281 -0.193359  0.060303   \n",
       "3     China -0.073242  0.135742  0.108887  0.083008 -0.127930 -0.227539   \n",
       "4   Germany  0.259766  0.140625  0.247070  0.009583 -0.250000 -0.082520   \n",
       "\n",
       "        7         8         9    ...       291       292       293       294  \\\n",
       "0  0.060059 -0.257812 -0.241211  ...  0.055908  0.021118 -0.117676 -0.052246   \n",
       "1  0.117188 -0.351562 -0.095215  ... -0.100586 -0.077148 -0.123047  0.193359   \n",
       "2  0.059326 -0.402344 -0.139648  ... -0.035889  0.146484 -0.110352 -0.082520   \n",
       "3  0.151367 -0.045654 -0.065430  ...  0.140625  0.087402  0.152344  0.079590   \n",
       "4 -0.099121 -0.353516 -0.148438  ... -0.060791  0.118164 -0.064453  0.113770   \n",
       "\n",
       "        295       296       297       298       299       300  \n",
       "0  0.073730  0.462891 -0.425781  0.024658  0.090332  0.023193  \n",
       "1 -0.153320  0.089355 -0.173828 -0.054688  0.302734  0.105957  \n",
       "2 -0.073242  0.076172 -0.326172 -0.048584  0.130859  0.241211  \n",
       "3  0.006348 -0.037842 -0.183594  0.137695  0.093750 -0.079590  \n",
       "4 -0.172852  0.171875 -0.194336  0.008179  0.068359 -0.141602  \n",
       "\n",
       "[5 rows x 301 columns]"
      ]
     },
     "execution_count": 18,
     "metadata": {},
     "output_type": "execute_result"
    }
   ],
   "source": [
    "df_country_vector = (\n",
    "    pd.concat([\n",
    "        s_country,\n",
    "        s_country.apply(get_vector),\n",
    "    ], axis=1)\n",
    "    .reset_index(drop=True)\n",
    ")\n",
    "df_country_vector.columns = range(df_country_vector.shape[1])\n",
    "df_country_vector.head()"
   ]
  },
  {
   "cell_type": "code",
   "execution_count": 19,
   "metadata": {},
   "outputs": [],
   "source": [
    "# 保存\n",
    "with open('df_67.pickle', mode=\"wb\") as f:\n",
    "    pickle.dump(df_country_vector, f)"
   ]
  },
  {
   "cell_type": "markdown",
   "metadata": {},
   "source": [
    "### k-meansクラスタリング"
   ]
  },
  {
   "cell_type": "code",
   "execution_count": 21,
   "metadata": {},
   "outputs": [
    {
     "data": {
      "text/html": [
       "<div>\n",
       "<style scoped>\n",
       "    .dataframe tbody tr th:only-of-type {\n",
       "        vertical-align: middle;\n",
       "    }\n",
       "\n",
       "    .dataframe tbody tr th {\n",
       "        vertical-align: top;\n",
       "    }\n",
       "\n",
       "    .dataframe thead th {\n",
       "        text-align: right;\n",
       "    }\n",
       "</style>\n",
       "<table border=\"1\" class=\"dataframe\">\n",
       "  <thead>\n",
       "    <tr style=\"text-align: right;\">\n",
       "      <th></th>\n",
       "      <th>0</th>\n",
       "      <th>1</th>\n",
       "      <th>2</th>\n",
       "      <th>3</th>\n",
       "      <th>4</th>\n",
       "      <th>5</th>\n",
       "      <th>6</th>\n",
       "      <th>7</th>\n",
       "      <th>8</th>\n",
       "      <th>9</th>\n",
       "      <th>...</th>\n",
       "      <th>291</th>\n",
       "      <th>292</th>\n",
       "      <th>293</th>\n",
       "      <th>294</th>\n",
       "      <th>295</th>\n",
       "      <th>296</th>\n",
       "      <th>297</th>\n",
       "      <th>298</th>\n",
       "      <th>299</th>\n",
       "      <th>300</th>\n",
       "    </tr>\n",
       "  </thead>\n",
       "  <tbody>\n",
       "    <tr>\n",
       "      <th>0</th>\n",
       "      <td>Greece</td>\n",
       "      <td>0.472656</td>\n",
       "      <td>0.007019</td>\n",
       "      <td>0.059082</td>\n",
       "      <td>0.090332</td>\n",
       "      <td>0.039551</td>\n",
       "      <td>-0.058594</td>\n",
       "      <td>0.060059</td>\n",
       "      <td>-0.257812</td>\n",
       "      <td>-0.241211</td>\n",
       "      <td>...</td>\n",
       "      <td>0.055908</td>\n",
       "      <td>0.021118</td>\n",
       "      <td>-0.117676</td>\n",
       "      <td>-0.052246</td>\n",
       "      <td>0.073730</td>\n",
       "      <td>0.462891</td>\n",
       "      <td>-0.425781</td>\n",
       "      <td>0.024658</td>\n",
       "      <td>0.090332</td>\n",
       "      <td>0.023193</td>\n",
       "    </tr>\n",
       "    <tr>\n",
       "      <th>1</th>\n",
       "      <td>Iraq</td>\n",
       "      <td>0.191406</td>\n",
       "      <td>0.125000</td>\n",
       "      <td>-0.065430</td>\n",
       "      <td>0.060059</td>\n",
       "      <td>-0.285156</td>\n",
       "      <td>-0.102539</td>\n",
       "      <td>0.117188</td>\n",
       "      <td>-0.351562</td>\n",
       "      <td>-0.095215</td>\n",
       "      <td>...</td>\n",
       "      <td>-0.100586</td>\n",
       "      <td>-0.077148</td>\n",
       "      <td>-0.123047</td>\n",
       "      <td>0.193359</td>\n",
       "      <td>-0.153320</td>\n",
       "      <td>0.089355</td>\n",
       "      <td>-0.173828</td>\n",
       "      <td>-0.054688</td>\n",
       "      <td>0.302734</td>\n",
       "      <td>0.105957</td>\n",
       "    </tr>\n",
       "    <tr>\n",
       "      <th>2</th>\n",
       "      <td>Thailand</td>\n",
       "      <td>0.109863</td>\n",
       "      <td>-0.117188</td>\n",
       "      <td>0.010010</td>\n",
       "      <td>0.238281</td>\n",
       "      <td>-0.193359</td>\n",
       "      <td>0.060303</td>\n",
       "      <td>0.059326</td>\n",
       "      <td>-0.402344</td>\n",
       "      <td>-0.139648</td>\n",
       "      <td>...</td>\n",
       "      <td>-0.035889</td>\n",
       "      <td>0.146484</td>\n",
       "      <td>-0.110352</td>\n",
       "      <td>-0.082520</td>\n",
       "      <td>-0.073242</td>\n",
       "      <td>0.076172</td>\n",
       "      <td>-0.326172</td>\n",
       "      <td>-0.048584</td>\n",
       "      <td>0.130859</td>\n",
       "      <td>0.241211</td>\n",
       "    </tr>\n",
       "    <tr>\n",
       "      <th>3</th>\n",
       "      <td>China</td>\n",
       "      <td>-0.073242</td>\n",
       "      <td>0.135742</td>\n",
       "      <td>0.108887</td>\n",
       "      <td>0.083008</td>\n",
       "      <td>-0.127930</td>\n",
       "      <td>-0.227539</td>\n",
       "      <td>0.151367</td>\n",
       "      <td>-0.045654</td>\n",
       "      <td>-0.065430</td>\n",
       "      <td>...</td>\n",
       "      <td>0.140625</td>\n",
       "      <td>0.087402</td>\n",
       "      <td>0.152344</td>\n",
       "      <td>0.079590</td>\n",
       "      <td>0.006348</td>\n",
       "      <td>-0.037842</td>\n",
       "      <td>-0.183594</td>\n",
       "      <td>0.137695</td>\n",
       "      <td>0.093750</td>\n",
       "      <td>-0.079590</td>\n",
       "    </tr>\n",
       "    <tr>\n",
       "      <th>4</th>\n",
       "      <td>Germany</td>\n",
       "      <td>0.259766</td>\n",
       "      <td>0.140625</td>\n",
       "      <td>0.247070</td>\n",
       "      <td>0.009583</td>\n",
       "      <td>-0.250000</td>\n",
       "      <td>-0.082520</td>\n",
       "      <td>-0.099121</td>\n",
       "      <td>-0.353516</td>\n",
       "      <td>-0.148438</td>\n",
       "      <td>...</td>\n",
       "      <td>-0.060791</td>\n",
       "      <td>0.118164</td>\n",
       "      <td>-0.064453</td>\n",
       "      <td>0.113770</td>\n",
       "      <td>-0.172852</td>\n",
       "      <td>0.171875</td>\n",
       "      <td>-0.194336</td>\n",
       "      <td>0.008179</td>\n",
       "      <td>0.068359</td>\n",
       "      <td>-0.141602</td>\n",
       "    </tr>\n",
       "  </tbody>\n",
       "</table>\n",
       "<p>5 rows × 301 columns</p>\n",
       "</div>"
      ],
      "text/plain": [
       "        0         1         2         3         4         5         6    \\\n",
       "0    Greece  0.472656  0.007019  0.059082  0.090332  0.039551 -0.058594   \n",
       "1      Iraq  0.191406  0.125000 -0.065430  0.060059 -0.285156 -0.102539   \n",
       "2  Thailand  0.109863 -0.117188  0.010010  0.238281 -0.193359  0.060303   \n",
       "3     China -0.073242  0.135742  0.108887  0.083008 -0.127930 -0.227539   \n",
       "4   Germany  0.259766  0.140625  0.247070  0.009583 -0.250000 -0.082520   \n",
       "\n",
       "        7         8         9    ...       291       292       293       294  \\\n",
       "0  0.060059 -0.257812 -0.241211  ...  0.055908  0.021118 -0.117676 -0.052246   \n",
       "1  0.117188 -0.351562 -0.095215  ... -0.100586 -0.077148 -0.123047  0.193359   \n",
       "2  0.059326 -0.402344 -0.139648  ... -0.035889  0.146484 -0.110352 -0.082520   \n",
       "3  0.151367 -0.045654 -0.065430  ...  0.140625  0.087402  0.152344  0.079590   \n",
       "4 -0.099121 -0.353516 -0.148438  ... -0.060791  0.118164 -0.064453  0.113770   \n",
       "\n",
       "        295       296       297       298       299       300  \n",
       "0  0.073730  0.462891 -0.425781  0.024658  0.090332  0.023193  \n",
       "1 -0.153320  0.089355 -0.173828 -0.054688  0.302734  0.105957  \n",
       "2 -0.073242  0.076172 -0.326172 -0.048584  0.130859  0.241211  \n",
       "3  0.006348 -0.037842 -0.183594  0.137695  0.093750 -0.079590  \n",
       "4 -0.172852  0.171875 -0.194336  0.008179  0.068359 -0.141602  \n",
       "\n",
       "[5 rows x 301 columns]"
      ]
     },
     "execution_count": 21,
     "metadata": {},
     "output_type": "execute_result"
    }
   ],
   "source": [
    "# 読み込み\n",
    "with open('df_67.pickle', mode=\"rb\") as f:\n",
    "    df_country_vector = pickle.load(f)\n",
    "df_country_vector.head()"
   ]
  },
  {
   "cell_type": "code",
   "execution_count": 22,
   "metadata": {},
   "outputs": [],
   "source": [
    "from sklearn.cluster import KMeans"
   ]
  },
  {
   "cell_type": "code",
   "execution_count": 27,
   "metadata": {},
   "outputs": [],
   "source": [
    "kmeans = KMeans(n_clusters=5, random_state=0)"
   ]
  },
  {
   "cell_type": "code",
   "execution_count": 28,
   "metadata": {},
   "outputs": [
    {
     "data": {
      "text/plain": [
       "KMeans(algorithm='auto', copy_x=True, init='k-means++', max_iter=300,\n",
       "       n_clusters=5, n_init=10, n_jobs=None, precompute_distances='auto',\n",
       "       random_state=0, tol=0.0001, verbose=0)"
      ]
     },
     "execution_count": 28,
     "metadata": {},
     "output_type": "execute_result"
    }
   ],
   "source": [
    "kmeans.fit(df_country_vector.loc[:, 1:])"
   ]
  },
  {
   "cell_type": "code",
   "execution_count": 29,
   "metadata": {},
   "outputs": [
    {
     "data": {
      "text/plain": [
       "array([3, 2, 2, 2, 3, 3, 2, 2, 2, 4, 3, 2, 2, 3, 3, 0, 3, 3, 3, 3, 3, 2,\n",
       "       2, 1, 1, 1, 2, 2, 1, 4, 0, 1, 0, 0, 1, 1, 2, 0, 4, 0, 3, 3, 0, 3,\n",
       "       1, 4, 0, 1, 3, 1, 2, 2, 2, 3, 0, 2, 1, 4, 1, 2, 1, 2, 1, 0, 1, 4,\n",
       "       1, 1, 4, 3, 3, 1, 1, 4, 2, 4, 1, 0, 1, 1, 4, 2, 1, 4, 1, 3, 1, 2,\n",
       "       4, 3, 4, 2, 0, 4, 4, 0, 0, 2, 2, 0, 0, 0, 4, 2, 0, 1, 1, 3, 3, 3,\n",
       "       2, 0, 3, 1, 0, 3, 4, 4, 2, 3, 2, 2, 2, 4, 3, 4, 3, 2, 3])"
      ]
     },
     "execution_count": 29,
     "metadata": {},
     "output_type": "execute_result"
    }
   ],
   "source": [
    "kmeans.labels_"
   ]
  },
  {
   "cell_type": "code",
   "execution_count": 33,
   "metadata": {},
   "outputs": [
    {
     "data": {
      "text/html": [
       "<div>\n",
       "<style scoped>\n",
       "    .dataframe tbody tr th:only-of-type {\n",
       "        vertical-align: middle;\n",
       "    }\n",
       "\n",
       "    .dataframe tbody tr th {\n",
       "        vertical-align: top;\n",
       "    }\n",
       "\n",
       "    .dataframe thead th {\n",
       "        text-align: right;\n",
       "    }\n",
       "</style>\n",
       "<table border=\"1\" class=\"dataframe\">\n",
       "  <thead>\n",
       "    <tr style=\"text-align: right;\">\n",
       "      <th></th>\n",
       "      <th>0</th>\n",
       "      <th>1</th>\n",
       "      <th>2</th>\n",
       "      <th>3</th>\n",
       "      <th>4</th>\n",
       "      <th>5</th>\n",
       "      <th>6</th>\n",
       "      <th>7</th>\n",
       "      <th>8</th>\n",
       "      <th>9</th>\n",
       "      <th>...</th>\n",
       "      <th>292</th>\n",
       "      <th>293</th>\n",
       "      <th>294</th>\n",
       "      <th>295</th>\n",
       "      <th>296</th>\n",
       "      <th>297</th>\n",
       "      <th>298</th>\n",
       "      <th>299</th>\n",
       "      <th>300</th>\n",
       "      <th>label</th>\n",
       "    </tr>\n",
       "  </thead>\n",
       "  <tbody>\n",
       "    <tr>\n",
       "      <th>0</th>\n",
       "      <td>Greece</td>\n",
       "      <td>0.472656</td>\n",
       "      <td>0.007019</td>\n",
       "      <td>0.059082</td>\n",
       "      <td>0.090332</td>\n",
       "      <td>0.039551</td>\n",
       "      <td>-0.058594</td>\n",
       "      <td>0.060059</td>\n",
       "      <td>-0.257812</td>\n",
       "      <td>-0.241211</td>\n",
       "      <td>...</td>\n",
       "      <td>0.021118</td>\n",
       "      <td>-0.117676</td>\n",
       "      <td>-0.052246</td>\n",
       "      <td>0.073730</td>\n",
       "      <td>0.462891</td>\n",
       "      <td>-0.425781</td>\n",
       "      <td>0.024658</td>\n",
       "      <td>0.090332</td>\n",
       "      <td>0.023193</td>\n",
       "      <td>3</td>\n",
       "    </tr>\n",
       "    <tr>\n",
       "      <th>1</th>\n",
       "      <td>Iraq</td>\n",
       "      <td>0.191406</td>\n",
       "      <td>0.125000</td>\n",
       "      <td>-0.065430</td>\n",
       "      <td>0.060059</td>\n",
       "      <td>-0.285156</td>\n",
       "      <td>-0.102539</td>\n",
       "      <td>0.117188</td>\n",
       "      <td>-0.351562</td>\n",
       "      <td>-0.095215</td>\n",
       "      <td>...</td>\n",
       "      <td>-0.077148</td>\n",
       "      <td>-0.123047</td>\n",
       "      <td>0.193359</td>\n",
       "      <td>-0.153320</td>\n",
       "      <td>0.089355</td>\n",
       "      <td>-0.173828</td>\n",
       "      <td>-0.054688</td>\n",
       "      <td>0.302734</td>\n",
       "      <td>0.105957</td>\n",
       "      <td>2</td>\n",
       "    </tr>\n",
       "    <tr>\n",
       "      <th>2</th>\n",
       "      <td>Thailand</td>\n",
       "      <td>0.109863</td>\n",
       "      <td>-0.117188</td>\n",
       "      <td>0.010010</td>\n",
       "      <td>0.238281</td>\n",
       "      <td>-0.193359</td>\n",
       "      <td>0.060303</td>\n",
       "      <td>0.059326</td>\n",
       "      <td>-0.402344</td>\n",
       "      <td>-0.139648</td>\n",
       "      <td>...</td>\n",
       "      <td>0.146484</td>\n",
       "      <td>-0.110352</td>\n",
       "      <td>-0.082520</td>\n",
       "      <td>-0.073242</td>\n",
       "      <td>0.076172</td>\n",
       "      <td>-0.326172</td>\n",
       "      <td>-0.048584</td>\n",
       "      <td>0.130859</td>\n",
       "      <td>0.241211</td>\n",
       "      <td>2</td>\n",
       "    </tr>\n",
       "    <tr>\n",
       "      <th>3</th>\n",
       "      <td>China</td>\n",
       "      <td>-0.073242</td>\n",
       "      <td>0.135742</td>\n",
       "      <td>0.108887</td>\n",
       "      <td>0.083008</td>\n",
       "      <td>-0.127930</td>\n",
       "      <td>-0.227539</td>\n",
       "      <td>0.151367</td>\n",
       "      <td>-0.045654</td>\n",
       "      <td>-0.065430</td>\n",
       "      <td>...</td>\n",
       "      <td>0.087402</td>\n",
       "      <td>0.152344</td>\n",
       "      <td>0.079590</td>\n",
       "      <td>0.006348</td>\n",
       "      <td>-0.037842</td>\n",
       "      <td>-0.183594</td>\n",
       "      <td>0.137695</td>\n",
       "      <td>0.093750</td>\n",
       "      <td>-0.079590</td>\n",
       "      <td>2</td>\n",
       "    </tr>\n",
       "    <tr>\n",
       "      <th>4</th>\n",
       "      <td>Germany</td>\n",
       "      <td>0.259766</td>\n",
       "      <td>0.140625</td>\n",
       "      <td>0.247070</td>\n",
       "      <td>0.009583</td>\n",
       "      <td>-0.250000</td>\n",
       "      <td>-0.082520</td>\n",
       "      <td>-0.099121</td>\n",
       "      <td>-0.353516</td>\n",
       "      <td>-0.148438</td>\n",
       "      <td>...</td>\n",
       "      <td>0.118164</td>\n",
       "      <td>-0.064453</td>\n",
       "      <td>0.113770</td>\n",
       "      <td>-0.172852</td>\n",
       "      <td>0.171875</td>\n",
       "      <td>-0.194336</td>\n",
       "      <td>0.008179</td>\n",
       "      <td>0.068359</td>\n",
       "      <td>-0.141602</td>\n",
       "      <td>3</td>\n",
       "    </tr>\n",
       "  </tbody>\n",
       "</table>\n",
       "<p>5 rows × 302 columns</p>\n",
       "</div>"
      ],
      "text/plain": [
       "          0         1         2         3         4         5         6  \\\n",
       "0    Greece  0.472656  0.007019  0.059082  0.090332  0.039551 -0.058594   \n",
       "1      Iraq  0.191406  0.125000 -0.065430  0.060059 -0.285156 -0.102539   \n",
       "2  Thailand  0.109863 -0.117188  0.010010  0.238281 -0.193359  0.060303   \n",
       "3     China -0.073242  0.135742  0.108887  0.083008 -0.127930 -0.227539   \n",
       "4   Germany  0.259766  0.140625  0.247070  0.009583 -0.250000 -0.082520   \n",
       "\n",
       "          7         8         9  ...       292       293       294       295  \\\n",
       "0  0.060059 -0.257812 -0.241211  ...  0.021118 -0.117676 -0.052246  0.073730   \n",
       "1  0.117188 -0.351562 -0.095215  ... -0.077148 -0.123047  0.193359 -0.153320   \n",
       "2  0.059326 -0.402344 -0.139648  ...  0.146484 -0.110352 -0.082520 -0.073242   \n",
       "3  0.151367 -0.045654 -0.065430  ...  0.087402  0.152344  0.079590  0.006348   \n",
       "4 -0.099121 -0.353516 -0.148438  ...  0.118164 -0.064453  0.113770 -0.172852   \n",
       "\n",
       "        296       297       298       299       300  label  \n",
       "0  0.462891 -0.425781  0.024658  0.090332  0.023193      3  \n",
       "1  0.089355 -0.173828 -0.054688  0.302734  0.105957      2  \n",
       "2  0.076172 -0.326172 -0.048584  0.130859  0.241211      2  \n",
       "3 -0.037842 -0.183594  0.137695  0.093750 -0.079590      2  \n",
       "4  0.171875 -0.194336  0.008179  0.068359 -0.141602      3  \n",
       "\n",
       "[5 rows x 302 columns]"
      ]
     },
     "execution_count": 33,
     "metadata": {},
     "output_type": "execute_result"
    }
   ],
   "source": [
    "df_country_vector = (\n",
    "    pd.concat([\n",
    "        df_country_vector,\n",
    "        pd.Series(kmeans.labels_, name='label'),\n",
    "    ], axis=1)\n",
    ")\n",
    "df_country_vector.head()"
   ]
  },
  {
   "cell_type": "code",
   "execution_count": 38,
   "metadata": {},
   "outputs": [
    {
     "name": "stdout",
     "output_type": "stream",
     "text": [
      "0\n"
     ]
    },
    {
     "data": {
      "text/plain": [
       "15           Russia\n",
       "30     Turkmenistan\n",
       "32       Kazakhstan\n",
       "33       Azerbaijan\n",
       "37           Serbia\n",
       "39       Kyrgyzstan\n",
       "42          Romania\n",
       "46          Moldova\n",
       "54       Tajikistan\n",
       "63          Ukraine\n",
       "77          Belarus\n",
       "92           Latvia\n",
       "95        Macedonia\n",
       "96         Bulgaria\n",
       "99          Estonia\n",
       "100      Uzbekistan\n",
       "101         Georgia\n",
       "104         Albania\n",
       "111       Lithuania\n",
       "114         Armenia\n",
       "Name: 0, dtype: object"
      ]
     },
     "metadata": {},
     "output_type": "display_data"
    },
    {
     "name": "stdout",
     "output_type": "stream",
     "text": [
      "1\n"
     ]
    },
    {
     "data": {
      "text/plain": [
       "23        Nigeria\n",
       "24          Ghana\n",
       "25        Algeria\n",
       "28     Madagascar\n",
       "31        Eritrea\n",
       "34           Mali\n",
       "35         Gambia\n",
       "44        Burundi\n",
       "47         Guinea\n",
       "49        Senegal\n",
       "56       Botswana\n",
       "58       Zimbabwe\n",
       "60         Uganda\n",
       "62          Sudan\n",
       "64         Rwanda\n",
       "66          Gabon\n",
       "67         Malawi\n",
       "71         Angola\n",
       "72         Zambia\n",
       "76     Mozambique\n",
       "78        Somalia\n",
       "79        Liberia\n",
       "82          Kenya\n",
       "84          Niger\n",
       "86     Mauritania\n",
       "105         Libya\n",
       "106       Tunisia\n",
       "113       Namibia\n",
       "Name: 0, dtype: object"
      ]
     },
     "metadata": {},
     "output_type": "display_data"
    },
    {
     "name": "stdout",
     "output_type": "stream",
     "text": [
      "2\n"
     ]
    },
    {
     "data": {
      "text/plain": [
       "1             Iraq\n",
       "2         Thailand\n",
       "3            China\n",
       "6            Egypt\n",
       "7        Australia\n",
       "8          Vietnam\n",
       "11        Pakistan\n",
       "12     Afghanistan\n",
       "21            Iran\n",
       "22           Japan\n",
       "26          Jordan\n",
       "27          Turkey\n",
       "36         Lebanon\n",
       "50           Syria\n",
       "51      Bangladesh\n",
       "52           Qatar\n",
       "55          Tuvalu\n",
       "59       Indonesia\n",
       "61           Nepal\n",
       "74         Bahrain\n",
       "81            Oman\n",
       "87       Greenland\n",
       "91         Morocco\n",
       "97            Fiji\n",
       "98          Taiwan\n",
       "103         Bhutan\n",
       "110           Laos\n",
       "118       Cambodia\n",
       "120          India\n",
       "121          Korea\n",
       "122       Malaysia\n",
       "127         Israel\n",
       "Name: 0, dtype: object"
      ]
     },
     "metadata": {},
     "output_type": "display_data"
    },
    {
     "name": "stdout",
     "output_type": "stream",
     "text": [
      "3\n"
     ]
    },
    {
     "data": {
      "text/plain": [
       "0             Greece\n",
       "4            Germany\n",
       "5        Switzerland\n",
       "10           Finland\n",
       "13           England\n",
       "14             Spain\n",
       "16            Norway\n",
       "17            Canada\n",
       "18            France\n",
       "19             Italy\n",
       "20            Sweden\n",
       "40          Slovakia\n",
       "41           Belgium\n",
       "43           Hungary\n",
       "48           Denmark\n",
       "53           Ireland\n",
       "69          Portugal\n",
       "70          Slovenia\n",
       "85            Cyprus\n",
       "89        Montenegro\n",
       "107    Liechtenstein\n",
       "108            Malta\n",
       "109          Austria\n",
       "112           Poland\n",
       "115          Croatia\n",
       "119           Europe\n",
       "124              USA\n",
       "126          Iceland\n",
       "128      Netherlands\n",
       "Name: 0, dtype: object"
      ]
     },
     "metadata": {},
     "output_type": "display_data"
    },
    {
     "name": "stdout",
     "output_type": "stream",
     "text": [
      "4\n"
     ]
    },
    {
     "data": {
      "text/plain": [
       "9             Cuba\n",
       "29           Samoa\n",
       "38          Belize\n",
       "45       Venezuela\n",
       "57          Guyana\n",
       "65         Jamaica\n",
       "68            Peru\n",
       "73       Nicaragua\n",
       "75     Philippines\n",
       "80         Uruguay\n",
       "83         Bahamas\n",
       "88        Suriname\n",
       "90         Ecuador\n",
       "93        Dominica\n",
       "94           Chile\n",
       "102       Honduras\n",
       "116      Argentina\n",
       "117         Brazil\n",
       "123         Mexico\n",
       "125       Colombia\n",
       "Name: 0, dtype: object"
      ]
     },
     "metadata": {},
     "output_type": "display_data"
    }
   ],
   "source": [
    "# 0: 東欧\n",
    "# 1: アフリカ\n",
    "# 2: アジア\n",
    "# 3: 西欧、北米\n",
    "# 4: 中南米\n",
    "for l in sorted(df_country_vector['label'].unique()):\n",
    "    print(l)\n",
    "    display(df_country_vector.loc[df_country_vector['label']==l, 0])"
   ]
  },
  {
   "cell_type": "markdown",
   "metadata": {},
   "source": [
    "## 68. Ward法によるクラスタリング\n",
    "\n",
    "国名に関する単語ベクトルに対し，Ward法による階層型クラスタリングを実行せよ．さらに，クラスタリング結果をデンドログラムとして可視化せよ．"
   ]
  },
  {
   "cell_type": "code",
   "execution_count": 60,
   "metadata": {},
   "outputs": [
    {
     "data": {
      "text/html": [
       "<div>\n",
       "<style scoped>\n",
       "    .dataframe tbody tr th:only-of-type {\n",
       "        vertical-align: middle;\n",
       "    }\n",
       "\n",
       "    .dataframe tbody tr th {\n",
       "        vertical-align: top;\n",
       "    }\n",
       "\n",
       "    .dataframe thead th {\n",
       "        text-align: right;\n",
       "    }\n",
       "</style>\n",
       "<table border=\"1\" class=\"dataframe\">\n",
       "  <thead>\n",
       "    <tr style=\"text-align: right;\">\n",
       "      <th></th>\n",
       "      <th>0</th>\n",
       "      <th>1</th>\n",
       "      <th>2</th>\n",
       "      <th>3</th>\n",
       "      <th>4</th>\n",
       "      <th>5</th>\n",
       "      <th>6</th>\n",
       "      <th>7</th>\n",
       "      <th>8</th>\n",
       "      <th>9</th>\n",
       "      <th>...</th>\n",
       "      <th>291</th>\n",
       "      <th>292</th>\n",
       "      <th>293</th>\n",
       "      <th>294</th>\n",
       "      <th>295</th>\n",
       "      <th>296</th>\n",
       "      <th>297</th>\n",
       "      <th>298</th>\n",
       "      <th>299</th>\n",
       "      <th>300</th>\n",
       "    </tr>\n",
       "  </thead>\n",
       "  <tbody>\n",
       "    <tr>\n",
       "      <th>0</th>\n",
       "      <td>Greece</td>\n",
       "      <td>0.472656</td>\n",
       "      <td>0.007019</td>\n",
       "      <td>0.059082</td>\n",
       "      <td>0.090332</td>\n",
       "      <td>0.039551</td>\n",
       "      <td>-0.058594</td>\n",
       "      <td>0.060059</td>\n",
       "      <td>-0.257812</td>\n",
       "      <td>-0.241211</td>\n",
       "      <td>...</td>\n",
       "      <td>0.055908</td>\n",
       "      <td>0.021118</td>\n",
       "      <td>-0.117676</td>\n",
       "      <td>-0.052246</td>\n",
       "      <td>0.073730</td>\n",
       "      <td>0.462891</td>\n",
       "      <td>-0.425781</td>\n",
       "      <td>0.024658</td>\n",
       "      <td>0.090332</td>\n",
       "      <td>0.023193</td>\n",
       "    </tr>\n",
       "    <tr>\n",
       "      <th>1</th>\n",
       "      <td>Iraq</td>\n",
       "      <td>0.191406</td>\n",
       "      <td>0.125000</td>\n",
       "      <td>-0.065430</td>\n",
       "      <td>0.060059</td>\n",
       "      <td>-0.285156</td>\n",
       "      <td>-0.102539</td>\n",
       "      <td>0.117188</td>\n",
       "      <td>-0.351562</td>\n",
       "      <td>-0.095215</td>\n",
       "      <td>...</td>\n",
       "      <td>-0.100586</td>\n",
       "      <td>-0.077148</td>\n",
       "      <td>-0.123047</td>\n",
       "      <td>0.193359</td>\n",
       "      <td>-0.153320</td>\n",
       "      <td>0.089355</td>\n",
       "      <td>-0.173828</td>\n",
       "      <td>-0.054688</td>\n",
       "      <td>0.302734</td>\n",
       "      <td>0.105957</td>\n",
       "    </tr>\n",
       "    <tr>\n",
       "      <th>2</th>\n",
       "      <td>Thailand</td>\n",
       "      <td>0.109863</td>\n",
       "      <td>-0.117188</td>\n",
       "      <td>0.010010</td>\n",
       "      <td>0.238281</td>\n",
       "      <td>-0.193359</td>\n",
       "      <td>0.060303</td>\n",
       "      <td>0.059326</td>\n",
       "      <td>-0.402344</td>\n",
       "      <td>-0.139648</td>\n",
       "      <td>...</td>\n",
       "      <td>-0.035889</td>\n",
       "      <td>0.146484</td>\n",
       "      <td>-0.110352</td>\n",
       "      <td>-0.082520</td>\n",
       "      <td>-0.073242</td>\n",
       "      <td>0.076172</td>\n",
       "      <td>-0.326172</td>\n",
       "      <td>-0.048584</td>\n",
       "      <td>0.130859</td>\n",
       "      <td>0.241211</td>\n",
       "    </tr>\n",
       "    <tr>\n",
       "      <th>3</th>\n",
       "      <td>China</td>\n",
       "      <td>-0.073242</td>\n",
       "      <td>0.135742</td>\n",
       "      <td>0.108887</td>\n",
       "      <td>0.083008</td>\n",
       "      <td>-0.127930</td>\n",
       "      <td>-0.227539</td>\n",
       "      <td>0.151367</td>\n",
       "      <td>-0.045654</td>\n",
       "      <td>-0.065430</td>\n",
       "      <td>...</td>\n",
       "      <td>0.140625</td>\n",
       "      <td>0.087402</td>\n",
       "      <td>0.152344</td>\n",
       "      <td>0.079590</td>\n",
       "      <td>0.006348</td>\n",
       "      <td>-0.037842</td>\n",
       "      <td>-0.183594</td>\n",
       "      <td>0.137695</td>\n",
       "      <td>0.093750</td>\n",
       "      <td>-0.079590</td>\n",
       "    </tr>\n",
       "    <tr>\n",
       "      <th>4</th>\n",
       "      <td>Germany</td>\n",
       "      <td>0.259766</td>\n",
       "      <td>0.140625</td>\n",
       "      <td>0.247070</td>\n",
       "      <td>0.009583</td>\n",
       "      <td>-0.250000</td>\n",
       "      <td>-0.082520</td>\n",
       "      <td>-0.099121</td>\n",
       "      <td>-0.353516</td>\n",
       "      <td>-0.148438</td>\n",
       "      <td>...</td>\n",
       "      <td>-0.060791</td>\n",
       "      <td>0.118164</td>\n",
       "      <td>-0.064453</td>\n",
       "      <td>0.113770</td>\n",
       "      <td>-0.172852</td>\n",
       "      <td>0.171875</td>\n",
       "      <td>-0.194336</td>\n",
       "      <td>0.008179</td>\n",
       "      <td>0.068359</td>\n",
       "      <td>-0.141602</td>\n",
       "    </tr>\n",
       "  </tbody>\n",
       "</table>\n",
       "<p>5 rows × 301 columns</p>\n",
       "</div>"
      ],
      "text/plain": [
       "        0         1         2         3         4         5         6    \\\n",
       "0    Greece  0.472656  0.007019  0.059082  0.090332  0.039551 -0.058594   \n",
       "1      Iraq  0.191406  0.125000 -0.065430  0.060059 -0.285156 -0.102539   \n",
       "2  Thailand  0.109863 -0.117188  0.010010  0.238281 -0.193359  0.060303   \n",
       "3     China -0.073242  0.135742  0.108887  0.083008 -0.127930 -0.227539   \n",
       "4   Germany  0.259766  0.140625  0.247070  0.009583 -0.250000 -0.082520   \n",
       "\n",
       "        7         8         9    ...       291       292       293       294  \\\n",
       "0  0.060059 -0.257812 -0.241211  ...  0.055908  0.021118 -0.117676 -0.052246   \n",
       "1  0.117188 -0.351562 -0.095215  ... -0.100586 -0.077148 -0.123047  0.193359   \n",
       "2  0.059326 -0.402344 -0.139648  ... -0.035889  0.146484 -0.110352 -0.082520   \n",
       "3  0.151367 -0.045654 -0.065430  ...  0.140625  0.087402  0.152344  0.079590   \n",
       "4 -0.099121 -0.353516 -0.148438  ... -0.060791  0.118164 -0.064453  0.113770   \n",
       "\n",
       "        295       296       297       298       299       300  \n",
       "0  0.073730  0.462891 -0.425781  0.024658  0.090332  0.023193  \n",
       "1 -0.153320  0.089355 -0.173828 -0.054688  0.302734  0.105957  \n",
       "2 -0.073242  0.076172 -0.326172 -0.048584  0.130859  0.241211  \n",
       "3  0.006348 -0.037842 -0.183594  0.137695  0.093750 -0.079590  \n",
       "4 -0.172852  0.171875 -0.194336  0.008179  0.068359 -0.141602  \n",
       "\n",
       "[5 rows x 301 columns]"
      ]
     },
     "execution_count": 60,
     "metadata": {},
     "output_type": "execute_result"
    }
   ],
   "source": [
    "# 読み込み\n",
    "with open('df_67.pickle', mode=\"rb\") as f:\n",
    "    df_country_vector = pickle.load(f)\n",
    "df_country_vector.head()"
   ]
  },
  {
   "cell_type": "code",
   "execution_count": 61,
   "metadata": {},
   "outputs": [],
   "source": [
    "from sklearn.cluster import AgglomerativeClustering\n",
    "from matplotlib import pyplot as plt\n",
    "from scipy.cluster.hierarchy import dendrogram"
   ]
  },
  {
   "cell_type": "code",
   "execution_count": 70,
   "metadata": {},
   "outputs": [],
   "source": [
    "clustering = AgglomerativeClustering(distance_threshold=0, n_clusters=None, linkage='ward')"
   ]
  },
  {
   "cell_type": "code",
   "execution_count": 71,
   "metadata": {},
   "outputs": [
    {
     "data": {
      "text/plain": [
       "AgglomerativeClustering(affinity='euclidean', compute_full_tree='auto',\n",
       "                        connectivity=None, distance_threshold=0, linkage='ward',\n",
       "                        memory=None, n_clusters=None)"
      ]
     },
     "execution_count": 71,
     "metadata": {},
     "output_type": "execute_result"
    }
   ],
   "source": [
    "clustering.fit(df_country_vector.loc[:, 1:])"
   ]
  },
  {
   "cell_type": "code",
   "execution_count": 72,
   "metadata": {},
   "outputs": [
    {
     "data": {
      "text/plain": [
       "array([113, 110,  83,  98, 124, 108, 109,  66,  67,  74, 127,  95,  73,\n",
       "        64, 114, 107, 125,  71,  92, 103,  96, 101,  84, 100, 102,  97,\n",
       "        91, 126,  48,  85,  76,  70, 111, 118,  99, 128,  36,  79,  77,\n",
       "        49,  47, 121,  62,  88,  78,  50,  80,  89,  23,  72, 119,  82,\n",
       "        87, 123,  90,  39,  63,  24, 115, 105, 116, 120, 106, 122,  65,\n",
       "       104,  35,  60,  57,  61,  59,  45,  17,  44,  52,  29, 112, 117,\n",
       "        81,  93,  94,  31,  75,  30,  11,  69,  43,  53,  40,  41,  68,\n",
       "        54,  14,  46,  19,  51,  86,  37,  26,  42,  22,  33,  55,  58,\n",
       "        32,  34,  21,  15,  25,  20,  12,  56,  27,  10,  28,  13,   6,\n",
       "         5,  38,  18,  16,   9,   7,   2,   8,   4,   3,   1,   0],\n",
       "      dtype=int64)"
      ]
     },
     "execution_count": 72,
     "metadata": {},
     "output_type": "execute_result"
    }
   ],
   "source": [
    "clustering.labels_"
   ]
  },
  {
   "cell_type": "code",
   "execution_count": 73,
   "metadata": {},
   "outputs": [],
   "source": [
    "def plot_dendrogram(model, **kwargs):\n",
    "    # Create linkage matrix and then plot the dendrogram\n",
    "\n",
    "    # create the counts of samples under each node\n",
    "    counts = np.zeros(model.children_.shape[0])\n",
    "    n_samples = len(model.labels_)\n",
    "    for i, merge in enumerate(model.children_):\n",
    "        current_count = 0\n",
    "        for child_idx in merge:\n",
    "            if child_idx < n_samples:\n",
    "                current_count += 1  # leaf node\n",
    "            else:\n",
    "                current_count += counts[child_idx - n_samples]\n",
    "        counts[i] = current_count\n",
    "\n",
    "    linkage_matrix = np.column_stack([model.children_, model.distances_,\n",
    "                                      counts]).astype(float)\n",
    "\n",
    "    # Plot the corresponding dendrogram\n",
    "    dendrogram(linkage_matrix, **kwargs)"
   ]
  },
  {
   "cell_type": "code",
   "execution_count": 91,
   "metadata": {},
   "outputs": [
    {
     "data": {
      "image/png": "[encoded data removed]",
      "text/plain": [
       "<Figure size 1152x648 with 1 Axes>"
      ]
     },
     "metadata": {
      "needs_background": "light"
     },
     "output_type": "display_data"
    }
   ],
   "source": [
    "fig, ax = plt.subplots(figsize=(16, 9))\n",
    "\n",
    "ax.set_title('Hierarchical Clustering Dendrogram')\n",
    "# plot the dendrogram\n",
    "plot_dendrogram(clustering, truncate_mode='level', p=5)\n",
    "ax.set_xlabel(\"Number of points in node (or index of point if no parenthesis).\")\n",
    "\n",
    "plt.show()"
   ]
  },
  {
   "cell_type": "markdown",
   "metadata": {},
   "source": [
    "## 69. t-SNEによる可視化\n",
    "ベクトル空間上の国名に関する単語ベクトルをt-SNEで可視化せよ．"
   ]
  },
  {
   "cell_type": "code",
   "execution_count": null,
   "metadata": {},
   "outputs": [],
   "source": []
  }
 ],
 "metadata": {
  "kernelspec": {
   "display_name": "Python 3",
   "language": "python",
   "name": "python3"
  },
  "language_info": {
   "codemirror_mode": {
    "name": "ipython",
    "version": 3
   },
   "file_extension": ".py",
   "mimetype": "text/x-python",
   "name": "python",
   "nbconvert_exporter": "python",
   "pygments_lexer": "ipython3",
   "version": "3.7.1"
  }
 },
 "nbformat": 4,
 "nbformat_minor": 4
}
