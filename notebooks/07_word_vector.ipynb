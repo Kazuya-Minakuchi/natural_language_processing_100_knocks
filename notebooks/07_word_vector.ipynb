{
 "cells": [
  {
   "cell_type": "markdown",
   "metadata": {},
   "source": [
    "# 第7章: 単語ベクトル\n",
    "\n",
    "単語の意味を実ベクトルで表現する単語ベクトル（単語埋め込み）に関して，以下の処理を行うプログラムを作成せよ．"
   ]
  },
  {
   "cell_type": "code",
   "execution_count": 1,
   "metadata": {},
   "outputs": [],
   "source": [
    "import os\n",
    "import pandas as pd\n",
    "import pickle"
   ]
  },
  {
   "cell_type": "markdown",
   "metadata": {},
   "source": [
    "## 60. 単語ベクトルの読み込みと表示\n",
    "\n",
    "Google Newsデータセット（約1,000億単語）での学習済み単語ベクトル（300万単語・フレーズ，300次元）をダウンロードし，”United States”の単語ベクトルを表示せよ．ただし，”United States”は内部的には”United_States”と表現されていることに注意せよ．"
   ]
  },
  {
   "cell_type": "code",
   "execution_count": 2,
   "metadata": {},
   "outputs": [],
   "source": [
    "# !pip install --upgrade gensim"
   ]
  },
  {
   "cell_type": "code",
   "execution_count": 3,
   "metadata": {},
   "outputs": [],
   "source": [
    "from gensim.models import KeyedVectors"
   ]
  },
  {
   "cell_type": "code",
   "execution_count": 4,
   "metadata": {},
   "outputs": [],
   "source": [
    "# 学習済み単語ベクトル\n",
    "vector_path = os.path.join(os.getcwd(), '../data/GoogleNews-vectors-negative300.bin')"
   ]
  },
  {
   "cell_type": "code",
   "execution_count": 5,
   "metadata": {},
   "outputs": [],
   "source": [
    "# 読み込み\n",
    "wv_from_bin = KeyedVectors.load_word2vec_format(vector_path, binary=True)"
   ]
  },
  {
   "cell_type": "code",
   "execution_count": 6,
   "metadata": {
    "collapsed": true,
    "jupyter": {
     "outputs_hidden": true
    }
   },
   "outputs": [
    {
     "data": {
      "text/plain": [
       "array([-3.61328125e-02, -4.83398438e-02,  2.35351562e-01,  1.74804688e-01,\n",
       "       -1.46484375e-01, -7.42187500e-02, -1.01562500e-01, -7.71484375e-02,\n",
       "        1.09375000e-01, -5.71289062e-02, -1.48437500e-01, -6.00585938e-02,\n",
       "        1.74804688e-01, -7.71484375e-02,  2.58789062e-02, -7.66601562e-02,\n",
       "       -3.80859375e-02,  1.35742188e-01,  3.75976562e-02, -4.19921875e-02,\n",
       "       -3.56445312e-02,  5.34667969e-02,  3.68118286e-04, -1.66992188e-01,\n",
       "       -1.17187500e-01,  1.41601562e-01, -1.69921875e-01, -6.49414062e-02,\n",
       "       -1.66992188e-01,  1.00585938e-01,  1.15722656e-01, -2.18750000e-01,\n",
       "       -9.86328125e-02, -2.56347656e-02,  1.23046875e-01, -3.54003906e-02,\n",
       "       -1.58203125e-01, -1.60156250e-01,  2.94189453e-02,  8.15429688e-02,\n",
       "        6.88476562e-02,  1.87500000e-01,  6.49414062e-02,  1.15234375e-01,\n",
       "       -2.27050781e-02,  3.32031250e-01, -3.27148438e-02,  1.77734375e-01,\n",
       "       -2.08007812e-01,  4.54101562e-02, -1.23901367e-02,  1.19628906e-01,\n",
       "        7.44628906e-03, -9.03320312e-03,  1.14257812e-01,  1.69921875e-01,\n",
       "       -2.38281250e-01, -2.79541016e-02, -1.21093750e-01,  2.47802734e-02,\n",
       "        7.71484375e-02, -2.81982422e-02, -4.71191406e-02,  1.78222656e-02,\n",
       "       -1.23046875e-01, -5.32226562e-02,  2.68554688e-02, -3.11279297e-02,\n",
       "       -5.59082031e-02, -5.00488281e-02, -3.73535156e-02,  1.25976562e-01,\n",
       "        5.61523438e-02,  1.51367188e-01,  4.29687500e-02, -2.08007812e-01,\n",
       "       -4.78515625e-02,  2.78320312e-02,  1.81640625e-01,  2.20703125e-01,\n",
       "       -3.61328125e-02, -8.39843750e-02, -3.69548798e-05, -9.52148438e-02,\n",
       "       -1.25000000e-01, -1.95312500e-01, -1.50390625e-01, -4.15039062e-02,\n",
       "        1.31835938e-01,  1.17675781e-01,  1.91650391e-02,  5.51757812e-02,\n",
       "       -9.42382812e-02, -1.08886719e-01,  7.32421875e-02, -1.15234375e-01,\n",
       "        8.93554688e-02, -1.40625000e-01,  1.45507812e-01,  4.49218750e-02,\n",
       "       -1.10473633e-02, -1.62353516e-02,  4.05883789e-03,  3.75976562e-02,\n",
       "       -6.98242188e-02, -5.46875000e-02,  2.17285156e-02, -9.47265625e-02,\n",
       "        4.24804688e-02,  1.81884766e-02, -1.73339844e-02,  4.63867188e-02,\n",
       "       -1.42578125e-01,  1.99218750e-01,  1.10839844e-01,  2.58789062e-02,\n",
       "       -7.08007812e-02, -5.54199219e-02,  3.45703125e-01,  1.61132812e-01,\n",
       "       -2.44140625e-01, -2.59765625e-01, -9.71679688e-02,  8.00781250e-02,\n",
       "       -8.78906250e-02, -7.22656250e-02,  1.42578125e-01, -8.54492188e-02,\n",
       "       -3.18359375e-01,  8.30078125e-02,  6.34765625e-02,  1.64062500e-01,\n",
       "       -1.92382812e-01, -1.17675781e-01, -5.41992188e-02, -1.56250000e-01,\n",
       "       -1.21582031e-01, -4.95605469e-02,  1.20117188e-01, -3.83300781e-02,\n",
       "        5.51757812e-02, -8.97216797e-03,  4.32128906e-02,  6.93359375e-02,\n",
       "        8.93554688e-02,  2.53906250e-01,  1.65039062e-01,  1.64062500e-01,\n",
       "       -1.41601562e-01,  4.58984375e-02,  1.97265625e-01, -8.98437500e-02,\n",
       "        3.90625000e-02, -1.51367188e-01, -8.60595703e-03, -1.17675781e-01,\n",
       "       -1.97265625e-01, -1.12792969e-01,  1.29882812e-01,  1.96289062e-01,\n",
       "        1.56402588e-03,  3.93066406e-02,  2.17773438e-01, -1.43554688e-01,\n",
       "        6.03027344e-02, -1.35742188e-01,  1.16210938e-01, -1.59912109e-02,\n",
       "        2.79296875e-01,  1.46484375e-01, -1.19628906e-01,  1.76757812e-01,\n",
       "        1.28906250e-01, -1.49414062e-01,  6.93359375e-02, -1.72851562e-01,\n",
       "        9.22851562e-02,  1.33056641e-02, -2.00195312e-01, -9.76562500e-02,\n",
       "       -1.65039062e-01, -2.46093750e-01, -2.35595703e-02, -2.11914062e-01,\n",
       "        1.84570312e-01, -1.85546875e-02,  2.16796875e-01,  5.05371094e-02,\n",
       "        2.02636719e-02,  4.25781250e-01,  1.28906250e-01, -2.77099609e-02,\n",
       "        1.29882812e-01, -1.15722656e-01, -2.05078125e-02,  1.49414062e-01,\n",
       "        7.81250000e-03, -2.05078125e-01, -8.05664062e-02, -2.67578125e-01,\n",
       "       -2.29492188e-02, -8.20312500e-02,  8.64257812e-02,  7.61718750e-02,\n",
       "       -3.66210938e-02,  5.22460938e-02, -1.22070312e-01, -1.44042969e-02,\n",
       "       -2.69531250e-01,  8.44726562e-02, -2.52685547e-02, -2.96630859e-02,\n",
       "       -1.68945312e-01,  1.93359375e-01, -1.08398438e-01,  1.94091797e-02,\n",
       "       -1.80664062e-01,  1.93359375e-01, -7.08007812e-02,  5.85937500e-02,\n",
       "       -1.01562500e-01, -1.31835938e-01,  7.51953125e-02, -7.66601562e-02,\n",
       "        3.37219238e-03, -8.59375000e-02,  1.25000000e-01,  2.92968750e-02,\n",
       "        1.70898438e-01, -9.37500000e-02, -1.09375000e-01, -2.50244141e-02,\n",
       "        2.11914062e-01, -4.44335938e-02,  6.12792969e-02,  2.62451172e-02,\n",
       "       -1.77734375e-01,  1.23046875e-01, -7.42187500e-02, -1.67968750e-01,\n",
       "       -1.08886719e-01, -9.04083252e-04, -7.37304688e-02,  5.49316406e-02,\n",
       "        6.03027344e-02,  8.39843750e-02,  9.17968750e-02, -1.32812500e-01,\n",
       "        1.22070312e-01, -8.78906250e-03,  1.19140625e-01, -1.94335938e-01,\n",
       "       -6.64062500e-02, -2.07031250e-01,  7.37304688e-02,  8.93554688e-02,\n",
       "        1.81884766e-02, -1.20605469e-01, -2.61230469e-02,  2.67333984e-02,\n",
       "        7.76367188e-02, -8.30078125e-02,  6.78710938e-02, -3.54003906e-02,\n",
       "        3.10546875e-01, -2.42919922e-02, -1.41601562e-01, -2.08007812e-01,\n",
       "       -4.57763672e-03, -6.54296875e-02, -4.95605469e-02,  2.22656250e-01,\n",
       "        1.53320312e-01, -1.38671875e-01, -5.24902344e-02,  4.24804688e-02,\n",
       "       -2.38281250e-01,  1.56250000e-01,  5.83648682e-04, -1.20605469e-01,\n",
       "       -9.22851562e-02, -4.44335938e-02,  3.61328125e-02, -1.86767578e-02,\n",
       "       -8.25195312e-02, -8.25195312e-02, -4.05273438e-02,  1.19018555e-02,\n",
       "        1.69921875e-01, -2.80761719e-02,  3.03649902e-03,  9.32617188e-02,\n",
       "       -8.49609375e-02,  1.57470703e-02,  7.03125000e-02,  1.62353516e-02,\n",
       "       -2.27050781e-02,  3.51562500e-02,  2.47070312e-01, -2.67333984e-02],\n",
       "      dtype=float32)"
      ]
     },
     "execution_count": 6,
     "metadata": {},
     "output_type": "execute_result"
    }
   ],
   "source": [
    "wv_from_bin['United_States']"
   ]
  },
  {
   "cell_type": "markdown",
   "metadata": {},
   "source": [
    "## 61. 単語の類似度\n",
    "“United States”と”U.S.”のコサイン類似度を計算せよ．"
   ]
  },
  {
   "cell_type": "code",
   "execution_count": 7,
   "metadata": {
    "collapsed": true,
    "jupyter": {
     "outputs_hidden": true
    }
   },
   "outputs": [
    {
     "data": {
      "text/plain": [
       "array([ 1.34887695e-02, -5.92041016e-03,  1.03515625e-01,  1.22070312e-01,\n",
       "       -1.87500000e-01, -6.49414062e-02, -1.62109375e-01, -2.30712891e-02,\n",
       "        9.08203125e-02, -8.98437500e-02, -1.86523438e-01,  3.93676758e-03,\n",
       "        1.66015625e-01, -4.37011719e-02, -1.09375000e-01, -5.88378906e-02,\n",
       "       -1.45507812e-01, -4.37011719e-02, -3.36914062e-02, -7.61718750e-02,\n",
       "       -1.97265625e-01,  6.98242188e-02, -1.42578125e-01, -1.19628906e-01,\n",
       "       -1.31225586e-02,  1.21582031e-01, -6.07910156e-02, -1.15356445e-02,\n",
       "       -5.12695312e-02,  2.30468750e-01,  2.75390625e-01, -2.41210938e-01,\n",
       "       -1.66015625e-01, -1.32812500e-01,  3.68652344e-02, -5.44433594e-02,\n",
       "       -1.62353516e-02, -8.00781250e-02, -1.29394531e-02,  3.11279297e-02,\n",
       "        3.54003906e-03, -3.56445312e-02,  1.63085938e-01,  1.24511719e-01,\n",
       "       -6.98242188e-02,  2.08007812e-01, -3.49121094e-02,  1.87500000e-01,\n",
       "       -5.27343750e-02,  1.13281250e-01,  2.27050781e-02,  1.18652344e-01,\n",
       "        4.27246094e-02, -1.76239014e-03,  7.53784180e-03,  1.77734375e-01,\n",
       "       -1.52343750e-01,  3.32031250e-02, -3.95507812e-02,  5.46264648e-03,\n",
       "       -1.35742188e-01, -1.87988281e-02, -7.27539062e-02,  9.81445312e-02,\n",
       "       -1.67968750e-01, -3.66210938e-02,  2.97851562e-02,  1.37329102e-03,\n",
       "        1.92871094e-02, -9.13085938e-02, -8.44726562e-02, -1.12304688e-02,\n",
       "        9.82666016e-03,  1.31835938e-01,  2.24304199e-03, -3.80859375e-02,\n",
       "       -7.12890625e-02,  1.69921875e-01, -5.02929688e-02,  2.74658203e-02,\n",
       "       -2.64892578e-02, -1.50390625e-01, -1.03027344e-01,  5.34667969e-02,\n",
       "       -8.10546875e-02, -2.51953125e-01, -1.41601562e-01, -4.94384766e-03,\n",
       "       -1.15966797e-02,  3.75976562e-02,  2.01416016e-02,  1.18652344e-01,\n",
       "       -8.98437500e-02, -1.42578125e-01,  7.27539062e-02,  2.49023438e-02,\n",
       "        9.42382812e-02, -2.07519531e-02,  1.54296875e-01, -1.16699219e-01,\n",
       "       -1.34765625e-01,  1.04980469e-01,  1.25000000e-01,  1.42822266e-02,\n",
       "       -2.90527344e-02,  7.81250000e-02,  4.85839844e-02, -1.17675781e-01,\n",
       "       -1.11083984e-02, -6.98089600e-04,  9.57031250e-02, -3.28063965e-03,\n",
       "       -1.79687500e-01,  1.26953125e-01,  2.14843750e-02, -3.02734375e-02,\n",
       "       -1.25976562e-01, -4.85839844e-02,  2.83203125e-01,  4.34570312e-02,\n",
       "       -1.70898438e-01, -3.85742188e-02,  1.95312500e-02,  8.10546875e-02,\n",
       "        1.23046875e-01, -5.83496094e-02,  2.32421875e-01, -1.03027344e-01,\n",
       "       -1.04980469e-01,  1.04492188e-01, -3.41796875e-02,  8.39843750e-02,\n",
       "       -1.03027344e-01, -5.10253906e-02, -1.23535156e-01, -1.46484375e-01,\n",
       "        7.82012939e-04, -2.34375000e-01,  1.60980225e-03, -5.88378906e-02,\n",
       "        2.39257812e-01, -1.23535156e-01, -6.83593750e-02,  3.55529785e-03,\n",
       "       -1.15722656e-01,  1.34887695e-02,  8.00781250e-02,  9.71679688e-02,\n",
       "       -1.56250000e-01, -3.61328125e-02,  1.31835938e-01, -1.86523438e-01,\n",
       "        8.34960938e-02, -2.08007812e-01,  7.56835938e-02,  2.81982422e-02,\n",
       "       -1.65039062e-01, -1.60156250e-01,  1.00585938e-01,  1.01562500e-01,\n",
       "       -2.02636719e-02,  8.30078125e-02,  1.38671875e-01, -1.38671875e-01,\n",
       "        6.03027344e-02, -1.26953125e-01,  2.02148438e-01,  6.83593750e-02,\n",
       "        2.67578125e-01,  1.70898438e-01, -8.54492188e-02,  2.08984375e-01,\n",
       "        4.68750000e-02, -1.59179688e-01,  1.47460938e-01, -2.50000000e-01,\n",
       "        5.90820312e-02, -3.14941406e-02, -8.64257812e-02, -9.81445312e-02,\n",
       "       -1.81640625e-01, -3.66210938e-02, -8.49609375e-02, -1.50146484e-02,\n",
       "        3.27148438e-02, -6.25000000e-02,  2.25585938e-01, -2.13623047e-02,\n",
       "        4.54101562e-02,  2.85156250e-01,  1.08886719e-01, -1.33789062e-01,\n",
       "        2.24304199e-03, -1.86523438e-01, -1.24511719e-01,  1.64062500e-01,\n",
       "       -6.22558594e-02, -2.40234375e-01,  9.58251953e-03, -1.43554688e-01,\n",
       "       -8.83789062e-02, -3.47900391e-03,  6.22558594e-02,  7.66601562e-02,\n",
       "        1.87988281e-02,  1.24511719e-01, -1.59179688e-01,  3.34472656e-02,\n",
       "       -2.94921875e-01,  7.56835938e-02, -3.03955078e-02,  4.29687500e-02,\n",
       "       -8.93554688e-02,  2.37304688e-01, -1.45507812e-01, -4.51660156e-02,\n",
       "       -9.03320312e-03,  1.44531250e-01, -2.30468750e-01,  5.20019531e-02,\n",
       "       -1.46484375e-01, -7.17773438e-02, -1.03149414e-02, -9.86328125e-02,\n",
       "       -1.67968750e-01, -1.24511719e-01,  2.03857422e-02, -3.08227539e-03,\n",
       "        2.01171875e-01, -1.40625000e-01,  1.44042969e-02, -1.21582031e-01,\n",
       "        1.08398438e-01, -4.19921875e-02,  4.11987305e-04,  5.21850586e-03,\n",
       "       -1.12792969e-01,  8.64257812e-02, -4.78515625e-02, -4.90722656e-02,\n",
       "       -5.41992188e-02,  5.10253906e-02, -1.46484375e-02, -1.69677734e-02,\n",
       "        5.87463379e-04,  3.29589844e-02,  6.54296875e-02,  6.77490234e-03,\n",
       "        3.71093750e-02, -1.53198242e-02,  1.95312500e-02, -1.71875000e-01,\n",
       "       -1.49414062e-01, -1.42578125e-01,  1.91650391e-02,  1.45507812e-01,\n",
       "        1.17187500e-01,  1.26342773e-02,  2.23388672e-02, -6.88476562e-02,\n",
       "        1.16210938e-01,  7.95898438e-02,  3.63769531e-02, -4.24804688e-02,\n",
       "        3.30078125e-01,  1.49536133e-02, -1.91406250e-01, -2.53906250e-01,\n",
       "        4.37011719e-02,  9.66796875e-02, -9.08203125e-02,  1.23046875e-01,\n",
       "        4.73632812e-02, -2.34375000e-01,  3.63769531e-02,  1.97753906e-02,\n",
       "       -8.98437500e-02,  4.29687500e-02,  5.61523438e-02, -6.68334961e-03,\n",
       "       -8.25195312e-02,  3.60107422e-03, -2.57873535e-03,  7.61718750e-02,\n",
       "        1.13769531e-01, -9.66796875e-02, -1.14746094e-01,  1.28906250e-01,\n",
       "        1.61132812e-01,  1.34887695e-02,  2.53677368e-04,  3.14941406e-02,\n",
       "        7.59887695e-03,  2.39257812e-02,  5.90820312e-02,  1.53808594e-02,\n",
       "       -5.56640625e-02,  9.81445312e-02,  1.97265625e-01, -5.07812500e-02],\n",
       "      dtype=float32)"
      ]
     },
     "execution_count": 7,
     "metadata": {},
     "output_type": "execute_result"
    }
   ],
   "source": [
    "wv_from_bin['U.S.']"
   ]
  },
  {
   "cell_type": "code",
   "execution_count": 9,
   "metadata": {},
   "outputs": [
    {
     "data": {
      "text/plain": [
       "0.73107743"
      ]
     },
     "execution_count": 9,
     "metadata": {},
     "output_type": "execute_result"
    }
   ],
   "source": [
    "wv_from_bin.similarity('United_States', 'U.S.')"
   ]
  },
  {
   "cell_type": "markdown",
   "metadata": {},
   "source": [
    "## 62. 類似度の高い単語10件\n",
    "“United States”とコサイン類似度が高い10語と，その類似度を出力せよ．"
   ]
  },
  {
   "cell_type": "code",
   "execution_count": 11,
   "metadata": {},
   "outputs": [],
   "source": [
    "result = wv_from_bin.similar_by_word('United_States')"
   ]
  },
  {
   "cell_type": "code",
   "execution_count": 12,
   "metadata": {},
   "outputs": [
    {
     "name": "stdout",
     "output_type": "stream",
     "text": [
      "Unites_States 0.7877248525619507\n",
      "Untied_States 0.7541370391845703\n",
      "United_Sates 0.74007248878479\n",
      "U.S. 0.7310774326324463\n",
      "theUnited_States 0.6404393911361694\n",
      "America 0.6178410053253174\n",
      "UnitedStates 0.6167312264442444\n",
      "Europe 0.6132988929748535\n",
      "countries 0.6044804453849792\n",
      "Canada 0.6019070148468018\n"
     ]
    }
   ],
   "source": [
    "for k, s in result[:10]:\n",
    "    print(k, s)"
   ]
  },
  {
   "cell_type": "markdown",
   "metadata": {},
   "source": [
    "## 63. 加法構成性によるアナロジー\n",
    "“Spain”の単語ベクトルから”Madrid”のベクトルを引き，”Athens”のベクトルを足したベクトルを計算し，そのベクトルと類似度の高い10語とその類似度を出力せよ．"
   ]
  },
  {
   "cell_type": "code",
   "execution_count": 7,
   "metadata": {},
   "outputs": [],
   "source": [
    "result = wv_from_bin.most_similar(positive=['Spain', 'Athens'], negative=['Madrid'])"
   ]
  },
  {
   "cell_type": "code",
   "execution_count": 8,
   "metadata": {},
   "outputs": [
    {
     "name": "stdout",
     "output_type": "stream",
     "text": [
      "Greece 0.6898480653762817\n",
      "Aristeidis_Grigoriadis 0.5606849193572998\n",
      "Ioannis_Drymonakos 0.555290937423706\n",
      "Greeks 0.5450686812400818\n",
      "Ioannis_Christou 0.5400862693786621\n",
      "Hrysopiyi_Devetzi 0.5248445272445679\n",
      "Heraklio 0.5207759141921997\n",
      "Athens_Greece 0.516880989074707\n",
      "Lithuania 0.5166865587234497\n",
      "Iraklion 0.5146791338920593\n"
     ]
    }
   ],
   "source": [
    "for k, s in result[:10]:\n",
    "    print(k, s)"
   ]
  },
  {
   "cell_type": "markdown",
   "metadata": {},
   "source": [
    "## 64. アナロジーデータでの実験\n",
    "[単語アナロジーの評価データ](http://download.tensorflow.org/data/questions-words.txt)をダウンロードし，vec(2列目の単語) - vec(1列目の単語) + vec(3列目の単語)を計算し，そのベクトルと類似度が最も高い単語と，その類似度を求めよ．求めた単語と類似度は，各事例の末尾に追記せよ．"
   ]
  },
  {
   "cell_type": "markdown",
   "metadata": {},
   "source": [
    "### データ準備"
   ]
  },
  {
   "cell_type": "code",
   "execution_count": 6,
   "metadata": {},
   "outputs": [],
   "source": [
    "# 単語アナロジーの評価データ\n",
    "word_valid_path = os.path.join(os.getcwd(), '../data/questions-words.txt')"
   ]
  },
  {
   "cell_type": "code",
   "execution_count": 7,
   "metadata": {},
   "outputs": [],
   "source": [
    "# 読み込み\n",
    "with open(word_valid_path) as f:\n",
    "    lines = f.readlines()"
   ]
  },
  {
   "cell_type": "code",
   "execution_count": 8,
   "metadata": {},
   "outputs": [
    {
     "data": {
      "text/html": [
       "<div>\n",
       "<style scoped>\n",
       "    .dataframe tbody tr th:only-of-type {\n",
       "        vertical-align: middle;\n",
       "    }\n",
       "\n",
       "    .dataframe tbody tr th {\n",
       "        vertical-align: top;\n",
       "    }\n",
       "\n",
       "    .dataframe thead th {\n",
       "        text-align: right;\n",
       "    }\n",
       "</style>\n",
       "<table border=\"1\" class=\"dataframe\">\n",
       "  <thead>\n",
       "    <tr style=\"text-align: right;\">\n",
       "      <th></th>\n",
       "      <th>0</th>\n",
       "      <th>1</th>\n",
       "      <th>2</th>\n",
       "      <th>3</th>\n",
       "      <th>4</th>\n",
       "    </tr>\n",
       "  </thead>\n",
       "  <tbody>\n",
       "    <tr>\n",
       "      <th>0</th>\n",
       "      <td>Athens</td>\n",
       "      <td>Greece</td>\n",
       "      <td>Baghdad</td>\n",
       "      <td>Iraq</td>\n",
       "      <td>capital-common-countries</td>\n",
       "    </tr>\n",
       "    <tr>\n",
       "      <th>1</th>\n",
       "      <td>Athens</td>\n",
       "      <td>Greece</td>\n",
       "      <td>Bangkok</td>\n",
       "      <td>Thailand</td>\n",
       "      <td>capital-common-countries</td>\n",
       "    </tr>\n",
       "    <tr>\n",
       "      <th>2</th>\n",
       "      <td>Athens</td>\n",
       "      <td>Greece</td>\n",
       "      <td>Beijing</td>\n",
       "      <td>China</td>\n",
       "      <td>capital-common-countries</td>\n",
       "    </tr>\n",
       "  </tbody>\n",
       "</table>\n",
       "</div>"
      ],
      "text/plain": [
       "        0       1        2         3                         4\n",
       "0  Athens  Greece  Baghdad      Iraq  capital-common-countries\n",
       "1  Athens  Greece  Bangkok  Thailand  capital-common-countries\n",
       "2  Athens  Greece  Beijing     China  capital-common-countries"
      ]
     },
     "execution_count": 8,
     "metadata": {},
     "output_type": "execute_result"
    }
   ],
   "source": [
    "data_list = []\n",
    "for line in lines:\n",
    "    line = line.split()\n",
    "    if line[0] == ':':\n",
    "        group = line[1]\n",
    "    else:\n",
    "        line.append(group)\n",
    "        data_list.append(line)\n",
    "        \n",
    "df = pd.DataFrame(data_list)\n",
    "df.head(3)"
   ]
  },
  {
   "cell_type": "code",
   "execution_count": 9,
   "metadata": {},
   "outputs": [
    {
     "data": {
      "text/html": [
       "<div>\n",
       "<style scoped>\n",
       "    .dataframe tbody tr th:only-of-type {\n",
       "        vertical-align: middle;\n",
       "    }\n",
       "\n",
       "    .dataframe tbody tr th {\n",
       "        vertical-align: top;\n",
       "    }\n",
       "\n",
       "    .dataframe thead th {\n",
       "        text-align: right;\n",
       "    }\n",
       "</style>\n",
       "<table border=\"1\" class=\"dataframe\">\n",
       "  <thead>\n",
       "    <tr style=\"text-align: right;\">\n",
       "      <th></th>\n",
       "      <th>vec1</th>\n",
       "      <th>vec2</th>\n",
       "      <th>vec3</th>\n",
       "      <th>vec4</th>\n",
       "      <th>group</th>\n",
       "    </tr>\n",
       "  </thead>\n",
       "  <tbody>\n",
       "    <tr>\n",
       "      <th>0</th>\n",
       "      <td>Athens</td>\n",
       "      <td>Greece</td>\n",
       "      <td>Baghdad</td>\n",
       "      <td>Iraq</td>\n",
       "      <td>capital-common-countries</td>\n",
       "    </tr>\n",
       "    <tr>\n",
       "      <th>1</th>\n",
       "      <td>Athens</td>\n",
       "      <td>Greece</td>\n",
       "      <td>Bangkok</td>\n",
       "      <td>Thailand</td>\n",
       "      <td>capital-common-countries</td>\n",
       "    </tr>\n",
       "    <tr>\n",
       "      <th>2</th>\n",
       "      <td>Athens</td>\n",
       "      <td>Greece</td>\n",
       "      <td>Beijing</td>\n",
       "      <td>China</td>\n",
       "      <td>capital-common-countries</td>\n",
       "    </tr>\n",
       "  </tbody>\n",
       "</table>\n",
       "</div>"
      ],
      "text/plain": [
       "     vec1    vec2     vec3      vec4                     group\n",
       "0  Athens  Greece  Baghdad      Iraq  capital-common-countries\n",
       "1  Athens  Greece  Bangkok  Thailand  capital-common-countries\n",
       "2  Athens  Greece  Beijing     China  capital-common-countries"
      ]
     },
     "execution_count": 9,
     "metadata": {},
     "output_type": "execute_result"
    }
   ],
   "source": [
    "# 列名変更\n",
    "df.columns = ['vec1', 'vec2', 'vec3', 'vec4', 'group']\n",
    "df.head(3)"
   ]
  },
  {
   "cell_type": "code",
   "execution_count": 10,
   "metadata": {},
   "outputs": [
    {
     "name": "stdout",
     "output_type": "stream",
     "text": [
      "<class 'pandas.core.frame.DataFrame'>\n",
      "RangeIndex: 19544 entries, 0 to 19543\n",
      "Data columns (total 5 columns):\n",
      " #   Column  Non-Null Count  Dtype \n",
      "---  ------  --------------  ----- \n",
      " 0   vec1    19544 non-null  object\n",
      " 1   vec2    19544 non-null  object\n",
      " 2   vec3    19544 non-null  object\n",
      " 3   vec4    19544 non-null  object\n",
      " 4   group   19544 non-null  object\n",
      "dtypes: object(5)\n",
      "memory usage: 763.6+ KB\n"
     ]
    }
   ],
   "source": [
    "df.info()"
   ]
  },
  {
   "cell_type": "markdown",
   "metadata": {},
   "source": [
    "### 関数準備"
   ]
  },
  {
   "cell_type": "code",
   "execution_count": 11,
   "metadata": {},
   "outputs": [
    {
     "data": {
      "text/html": [
       "<div>\n",
       "<style scoped>\n",
       "    .dataframe tbody tr th:only-of-type {\n",
       "        vertical-align: middle;\n",
       "    }\n",
       "\n",
       "    .dataframe tbody tr th {\n",
       "        vertical-align: top;\n",
       "    }\n",
       "\n",
       "    .dataframe thead th {\n",
       "        text-align: right;\n",
       "    }\n",
       "</style>\n",
       "<table border=\"1\" class=\"dataframe\">\n",
       "  <thead>\n",
       "    <tr style=\"text-align: right;\">\n",
       "      <th></th>\n",
       "      <th>0</th>\n",
       "      <th>1</th>\n",
       "    </tr>\n",
       "  </thead>\n",
       "  <tbody>\n",
       "    <tr>\n",
       "      <th>0</th>\n",
       "      <td>Greece</td>\n",
       "      <td>0.689848</td>\n",
       "    </tr>\n",
       "    <tr>\n",
       "      <th>1</th>\n",
       "      <td>Iraqi</td>\n",
       "      <td>0.635187</td>\n",
       "    </tr>\n",
       "  </tbody>\n",
       "</table>\n",
       "</div>"
      ],
      "text/plain": [
       "        0         1\n",
       "0  Greece  0.689848\n",
       "1   Iraqi  0.635187"
      ]
     },
     "execution_count": 11,
     "metadata": {},
     "output_type": "execute_result"
    }
   ],
   "source": [
    "# vec2 - vec1 + vec3\n",
    "def two_pos_one_neg(row):\n",
    "    return wv_from_bin.most_similar(positive=[row['vec2'], row['vec3']], negative=[row['vec1']])[0]\n",
    "\n",
    "pd.DataFrame([\n",
    "    {\n",
    "        'vec1': 'Madrid',\n",
    "        'vec2': 'Spain',\n",
    "        'vec3': 'Athens',\n",
    "    },\n",
    "    {\n",
    "        'vec1': 'Athens',\n",
    "        'vec2': 'Greece',\n",
    "        'vec3': 'Baghdad',\n",
    "    },\n",
    "]).apply(two_pos_one_neg, axis=1, result_type='expand')"
   ]
  },
  {
   "cell_type": "markdown",
   "metadata": {},
   "source": [
    "### 適用"
   ]
  },
  {
   "cell_type": "code",
   "execution_count": 12,
   "metadata": {},
   "outputs": [
    {
     "name": "stdout",
     "output_type": "stream",
     "text": [
      "Wall time: 16.8 s\n"
     ]
    },
    {
     "data": {
      "text/html": [
       "<div>\n",
       "<style scoped>\n",
       "    .dataframe tbody tr th:only-of-type {\n",
       "        vertical-align: middle;\n",
       "    }\n",
       "\n",
       "    .dataframe tbody tr th {\n",
       "        vertical-align: top;\n",
       "    }\n",
       "\n",
       "    .dataframe thead th {\n",
       "        text-align: right;\n",
       "    }\n",
       "</style>\n",
       "<table border=\"1\" class=\"dataframe\">\n",
       "  <thead>\n",
       "    <tr style=\"text-align: right;\">\n",
       "      <th></th>\n",
       "      <th>0</th>\n",
       "      <th>1</th>\n",
       "    </tr>\n",
       "  </thead>\n",
       "  <tbody>\n",
       "    <tr>\n",
       "      <th>0</th>\n",
       "      <td>Iraqi</td>\n",
       "      <td>0.635187</td>\n",
       "    </tr>\n",
       "    <tr>\n",
       "      <th>1</th>\n",
       "      <td>Thailand</td>\n",
       "      <td>0.713767</td>\n",
       "    </tr>\n",
       "    <tr>\n",
       "      <th>2</th>\n",
       "      <td>China</td>\n",
       "      <td>0.723578</td>\n",
       "    </tr>\n",
       "  </tbody>\n",
       "</table>\n",
       "</div>"
      ],
      "text/plain": [
       "          0         1\n",
       "0     Iraqi  0.635187\n",
       "1  Thailand  0.713767\n",
       "2     China  0.723578"
      ]
     },
     "execution_count": 12,
     "metadata": {},
     "output_type": "execute_result"
    }
   ],
   "source": [
    "%%time\n",
    "# 試しに何行かにやってみて、時間見てみる\n",
    "(\n",
    "    df\n",
    "    .loc[:100, :]\n",
    "    .apply(two_pos_one_neg, axis=1, result_type='expand')\n",
    "    .head(3)\n",
    ")"
   ]
  },
  {
   "cell_type": "code",
   "execution_count": 13,
   "metadata": {},
   "outputs": [
    {
     "data": {
      "text/plain": [
       "19544"
      ]
     },
     "execution_count": 13,
     "metadata": {},
     "output_type": "execute_result"
    }
   ],
   "source": [
    "len(df)"
   ]
  },
  {
   "cell_type": "code",
   "execution_count": 14,
   "metadata": {},
   "outputs": [],
   "source": [
    "# 単純計算で16.8s / 100 * 16544 = 3,283s = 約55分かかる\n",
    "# 類似度が最も高い単語と，その類似度\n",
    "df_ans_cos = df.apply(two_pos_one_neg, axis=1, result_type='expand')"
   ]
  },
  {
   "cell_type": "code",
   "execution_count": 15,
   "metadata": {},
   "outputs": [
    {
     "data": {
      "text/plain": [
       "19544"
      ]
     },
     "execution_count": 15,
     "metadata": {},
     "output_type": "execute_result"
    }
   ],
   "source": [
    "len(df_ans_cos)"
   ]
  },
  {
   "cell_type": "code",
   "execution_count": 16,
   "metadata": {},
   "outputs": [
    {
     "data": {
      "text/html": [
       "<div>\n",
       "<style scoped>\n",
       "    .dataframe tbody tr th:only-of-type {\n",
       "        vertical-align: middle;\n",
       "    }\n",
       "\n",
       "    .dataframe tbody tr th {\n",
       "        vertical-align: top;\n",
       "    }\n",
       "\n",
       "    .dataframe thead th {\n",
       "        text-align: right;\n",
       "    }\n",
       "</style>\n",
       "<table border=\"1\" class=\"dataframe\">\n",
       "  <thead>\n",
       "    <tr style=\"text-align: right;\">\n",
       "      <th></th>\n",
       "      <th>0</th>\n",
       "      <th>1</th>\n",
       "    </tr>\n",
       "  </thead>\n",
       "  <tbody>\n",
       "    <tr>\n",
       "      <th>0</th>\n",
       "      <td>Iraqi</td>\n",
       "      <td>0.635187</td>\n",
       "    </tr>\n",
       "    <tr>\n",
       "      <th>1</th>\n",
       "      <td>Thailand</td>\n",
       "      <td>0.713767</td>\n",
       "    </tr>\n",
       "    <tr>\n",
       "      <th>2</th>\n",
       "      <td>China</td>\n",
       "      <td>0.723578</td>\n",
       "    </tr>\n",
       "  </tbody>\n",
       "</table>\n",
       "</div>"
      ],
      "text/plain": [
       "          0         1\n",
       "0     Iraqi  0.635187\n",
       "1  Thailand  0.713767\n",
       "2     China  0.723578"
      ]
     },
     "execution_count": 16,
     "metadata": {},
     "output_type": "execute_result"
    }
   ],
   "source": [
    "df_ans_cos.head(3)"
   ]
  },
  {
   "cell_type": "code",
   "execution_count": 17,
   "metadata": {},
   "outputs": [
    {
     "data": {
      "text/html": [
       "<div>\n",
       "<style scoped>\n",
       "    .dataframe tbody tr th:only-of-type {\n",
       "        vertical-align: middle;\n",
       "    }\n",
       "\n",
       "    .dataframe tbody tr th {\n",
       "        vertical-align: top;\n",
       "    }\n",
       "\n",
       "    .dataframe thead th {\n",
       "        text-align: right;\n",
       "    }\n",
       "</style>\n",
       "<table border=\"1\" class=\"dataframe\">\n",
       "  <thead>\n",
       "    <tr style=\"text-align: right;\">\n",
       "      <th></th>\n",
       "      <th>answer</th>\n",
       "      <th>cosine_similarity</th>\n",
       "    </tr>\n",
       "  </thead>\n",
       "  <tbody>\n",
       "    <tr>\n",
       "      <th>0</th>\n",
       "      <td>Iraqi</td>\n",
       "      <td>0.635187</td>\n",
       "    </tr>\n",
       "    <tr>\n",
       "      <th>1</th>\n",
       "      <td>Thailand</td>\n",
       "      <td>0.713767</td>\n",
       "    </tr>\n",
       "    <tr>\n",
       "      <th>2</th>\n",
       "      <td>China</td>\n",
       "      <td>0.723578</td>\n",
       "    </tr>\n",
       "  </tbody>\n",
       "</table>\n",
       "</div>"
      ],
      "text/plain": [
       "     answer  cosine_similarity\n",
       "0     Iraqi           0.635187\n",
       "1  Thailand           0.713767\n",
       "2     China           0.723578"
      ]
     },
     "execution_count": 17,
     "metadata": {},
     "output_type": "execute_result"
    }
   ],
   "source": [
    "# 列名変更\n",
    "df_ans_cos.columns = ['answer', 'cosine_similarity']\n",
    "df_ans_cos.head(3)"
   ]
  },
  {
   "cell_type": "code",
   "execution_count": 18,
   "metadata": {},
   "outputs": [],
   "source": [
    "# 各事例の末尾に追記\n",
    "df = pd.concat([df, df_ans_cos], axis=1)"
   ]
  },
  {
   "cell_type": "code",
   "execution_count": 19,
   "metadata": {},
   "outputs": [
    {
     "data": {
      "text/html": [
       "<div>\n",
       "<style scoped>\n",
       "    .dataframe tbody tr th:only-of-type {\n",
       "        vertical-align: middle;\n",
       "    }\n",
       "\n",
       "    .dataframe tbody tr th {\n",
       "        vertical-align: top;\n",
       "    }\n",
       "\n",
       "    .dataframe thead th {\n",
       "        text-align: right;\n",
       "    }\n",
       "</style>\n",
       "<table border=\"1\" class=\"dataframe\">\n",
       "  <thead>\n",
       "    <tr style=\"text-align: right;\">\n",
       "      <th></th>\n",
       "      <th>vec1</th>\n",
       "      <th>vec2</th>\n",
       "      <th>vec3</th>\n",
       "      <th>vec4</th>\n",
       "      <th>group</th>\n",
       "      <th>answer</th>\n",
       "      <th>cosine_similarity</th>\n",
       "    </tr>\n",
       "  </thead>\n",
       "  <tbody>\n",
       "    <tr>\n",
       "      <th>0</th>\n",
       "      <td>Athens</td>\n",
       "      <td>Greece</td>\n",
       "      <td>Baghdad</td>\n",
       "      <td>Iraq</td>\n",
       "      <td>capital-common-countries</td>\n",
       "      <td>Iraqi</td>\n",
       "      <td>0.635187</td>\n",
       "    </tr>\n",
       "    <tr>\n",
       "      <th>1</th>\n",
       "      <td>Athens</td>\n",
       "      <td>Greece</td>\n",
       "      <td>Bangkok</td>\n",
       "      <td>Thailand</td>\n",
       "      <td>capital-common-countries</td>\n",
       "      <td>Thailand</td>\n",
       "      <td>0.713767</td>\n",
       "    </tr>\n",
       "    <tr>\n",
       "      <th>2</th>\n",
       "      <td>Athens</td>\n",
       "      <td>Greece</td>\n",
       "      <td>Beijing</td>\n",
       "      <td>China</td>\n",
       "      <td>capital-common-countries</td>\n",
       "      <td>China</td>\n",
       "      <td>0.723578</td>\n",
       "    </tr>\n",
       "  </tbody>\n",
       "</table>\n",
       "</div>"
      ],
      "text/plain": [
       "     vec1    vec2     vec3      vec4                     group    answer  \\\n",
       "0  Athens  Greece  Baghdad      Iraq  capital-common-countries     Iraqi   \n",
       "1  Athens  Greece  Bangkok  Thailand  capital-common-countries  Thailand   \n",
       "2  Athens  Greece  Beijing     China  capital-common-countries     China   \n",
       "\n",
       "   cosine_similarity  \n",
       "0           0.635187  \n",
       "1           0.713767  \n",
       "2           0.723578  "
      ]
     },
     "execution_count": 19,
     "metadata": {},
     "output_type": "execute_result"
    }
   ],
   "source": [
    "df.head(3)"
   ]
  },
  {
   "cell_type": "code",
   "execution_count": 20,
   "metadata": {},
   "outputs": [],
   "source": [
    "# 時間かかるので結果保存\n",
    "with open('df_64.pickle', mode=\"wb\") as f:\n",
    "    pickle.dump(df, f)"
   ]
  },
  {
   "cell_type": "markdown",
   "metadata": {},
   "source": [
    "## 65. アナロジータスクでの正解率\n",
    "64の実行結果を用い，意味的アナロジー（semantic analogy）と文法的アナロジー（syntactic analogy）の正解率を測定せよ．"
   ]
  },
  {
   "cell_type": "code",
   "execution_count": 3,
   "metadata": {},
   "outputs": [],
   "source": [
    "# 読み込み\n",
    "with open('df_64.pickle', mode=\"rb\") as f:\n",
    "    df = pickle.load(f)"
   ]
  },
  {
   "cell_type": "code",
   "execution_count": 4,
   "metadata": {},
   "outputs": [
    {
     "data": {
      "text/html": [
       "<div>\n",
       "<style scoped>\n",
       "    .dataframe tbody tr th:only-of-type {\n",
       "        vertical-align: middle;\n",
       "    }\n",
       "\n",
       "    .dataframe tbody tr th {\n",
       "        vertical-align: top;\n",
       "    }\n",
       "\n",
       "    .dataframe thead th {\n",
       "        text-align: right;\n",
       "    }\n",
       "</style>\n",
       "<table border=\"1\" class=\"dataframe\">\n",
       "  <thead>\n",
       "    <tr style=\"text-align: right;\">\n",
       "      <th></th>\n",
       "      <th>vec1</th>\n",
       "      <th>vec2</th>\n",
       "      <th>vec3</th>\n",
       "      <th>vec4</th>\n",
       "      <th>group</th>\n",
       "      <th>answer</th>\n",
       "      <th>cosine_similarity</th>\n",
       "    </tr>\n",
       "  </thead>\n",
       "  <tbody>\n",
       "    <tr>\n",
       "      <th>0</th>\n",
       "      <td>Athens</td>\n",
       "      <td>Greece</td>\n",
       "      <td>Baghdad</td>\n",
       "      <td>Iraq</td>\n",
       "      <td>capital-common-countries</td>\n",
       "      <td>Iraqi</td>\n",
       "      <td>0.635187</td>\n",
       "    </tr>\n",
       "    <tr>\n",
       "      <th>1</th>\n",
       "      <td>Athens</td>\n",
       "      <td>Greece</td>\n",
       "      <td>Bangkok</td>\n",
       "      <td>Thailand</td>\n",
       "      <td>capital-common-countries</td>\n",
       "      <td>Thailand</td>\n",
       "      <td>0.713767</td>\n",
       "    </tr>\n",
       "    <tr>\n",
       "      <th>2</th>\n",
       "      <td>Athens</td>\n",
       "      <td>Greece</td>\n",
       "      <td>Beijing</td>\n",
       "      <td>China</td>\n",
       "      <td>capital-common-countries</td>\n",
       "      <td>China</td>\n",
       "      <td>0.723578</td>\n",
       "    </tr>\n",
       "  </tbody>\n",
       "</table>\n",
       "</div>"
      ],
      "text/plain": [
       "     vec1    vec2     vec3      vec4                     group    answer  \\\n",
       "0  Athens  Greece  Baghdad      Iraq  capital-common-countries     Iraqi   \n",
       "1  Athens  Greece  Bangkok  Thailand  capital-common-countries  Thailand   \n",
       "2  Athens  Greece  Beijing     China  capital-common-countries     China   \n",
       "\n",
       "   cosine_similarity  \n",
       "0           0.635187  \n",
       "1           0.713767  \n",
       "2           0.723578  "
      ]
     },
     "execution_count": 4,
     "metadata": {},
     "output_type": "execute_result"
    }
   ],
   "source": [
    "df.head(3)"
   ]
  },
  {
   "cell_type": "code",
   "execution_count": 5,
   "metadata": {},
   "outputs": [
    {
     "data": {
      "text/plain": [
       "group\n",
       "capital-common-countries        506\n",
       "capital-world                  4524\n",
       "city-in-state                  2467\n",
       "currency                        866\n",
       "family                          506\n",
       "gram1-adjective-to-adverb       992\n",
       "gram2-opposite                  812\n",
       "gram3-comparative              1332\n",
       "gram4-superlative              1122\n",
       "gram5-present-participle       1056\n",
       "gram6-nationality-adjective    1599\n",
       "gram7-past-tense               1560\n",
       "gram8-plural                   1332\n",
       "gram9-plural-verbs              870\n",
       "Name: vec1, dtype: int64"
      ]
     },
     "execution_count": 5,
     "metadata": {},
     "output_type": "execute_result"
    }
   ],
   "source": [
    "# グループごとの件数\n",
    "df.groupby('group')['vec1'].count()"
   ]
  },
  {
   "cell_type": "code",
   "execution_count": 8,
   "metadata": {},
   "outputs": [
    {
     "data": {
      "text/plain": [
       "10675"
      ]
     },
     "execution_count": 8,
     "metadata": {},
     "output_type": "execute_result"
    }
   ],
   "source": [
    "# syn\n",
    "df['group'].apply(lambda x: x.startswith('gram')).sum()"
   ]
  },
  {
   "cell_type": "markdown",
   "metadata": {},
   "source": [
    "### 意味的アナロジー（semantic analogy）"
   ]
  },
  {
   "cell_type": "code",
   "execution_count": 10,
   "metadata": {},
   "outputs": [],
   "source": [
    "df_sem = df[(~df['group'].apply(lambda x: x.startswith('gram')))]"
   ]
  },
  {
   "cell_type": "code",
   "execution_count": 11,
   "metadata": {},
   "outputs": [
    {
     "data": {
      "text/plain": [
       "0.7308602999210734"
      ]
     },
     "execution_count": 11,
     "metadata": {},
     "output_type": "execute_result"
    }
   ],
   "source": [
    "# 正解率\n",
    "(df_sem['vec4'] == df_sem['answer']).sum() / len(df_sem)"
   ]
  },
  {
   "cell_type": "markdown",
   "metadata": {},
   "source": [
    "### 文法的アナロジー（syntactic analogy）"
   ]
  },
  {
   "cell_type": "code",
   "execution_count": 12,
   "metadata": {},
   "outputs": [],
   "source": [
    "df_syn = df[df['group'].apply(lambda x: x.startswith('gram'))]"
   ]
  },
  {
   "cell_type": "code",
   "execution_count": 13,
   "metadata": {},
   "outputs": [
    {
     "data": {
      "text/plain": [
       "0.7400468384074942"
      ]
     },
     "execution_count": 13,
     "metadata": {},
     "output_type": "execute_result"
    }
   ],
   "source": [
    "# 正解率\n",
    "(df_syn['vec4'] == df_syn['answer']).sum() / len(df_syn)"
   ]
  },
  {
   "cell_type": "markdown",
   "metadata": {},
   "source": [
    "## 66. WordSimilarity-353での評価\n",
    "The WordSimilarity-353 Test Collectionの評価データをダウンロードし，単語ベクトルにより計算される類似度のランキングと，人間の類似度判定のランキングの間のスピアマン相関係数を計算せよ．"
   ]
  },
  {
   "cell_type": "code",
   "execution_count": 7,
   "metadata": {},
   "outputs": [],
   "source": [
    "from scipy.stats import spearmanr"
   ]
  },
  {
   "cell_type": "markdown",
   "metadata": {},
   "source": [
    "### データ読み込み"
   ]
  },
  {
   "cell_type": "code",
   "execution_count": 8,
   "metadata": {},
   "outputs": [],
   "source": [
    "# 学習済み単語ベクトル\n",
    "combined_path = os.path.join(os.getcwd(), '../data/combined.csv')"
   ]
  },
  {
   "cell_type": "code",
   "execution_count": 11,
   "metadata": {},
   "outputs": [
    {
     "data": {
      "text/html": [
       "<div>\n",
       "<style scoped>\n",
       "    .dataframe tbody tr th:only-of-type {\n",
       "        vertical-align: middle;\n",
       "    }\n",
       "\n",
       "    .dataframe tbody tr th {\n",
       "        vertical-align: top;\n",
       "    }\n",
       "\n",
       "    .dataframe thead th {\n",
       "        text-align: right;\n",
       "    }\n",
       "</style>\n",
       "<table border=\"1\" class=\"dataframe\">\n",
       "  <thead>\n",
       "    <tr style=\"text-align: right;\">\n",
       "      <th></th>\n",
       "      <th>Word 1</th>\n",
       "      <th>Word 2</th>\n",
       "      <th>Human (mean)</th>\n",
       "    </tr>\n",
       "  </thead>\n",
       "  <tbody>\n",
       "    <tr>\n",
       "      <th>0</th>\n",
       "      <td>love</td>\n",
       "      <td>sex</td>\n",
       "      <td>6.77</td>\n",
       "    </tr>\n",
       "    <tr>\n",
       "      <th>1</th>\n",
       "      <td>tiger</td>\n",
       "      <td>cat</td>\n",
       "      <td>7.35</td>\n",
       "    </tr>\n",
       "    <tr>\n",
       "      <th>2</th>\n",
       "      <td>tiger</td>\n",
       "      <td>tiger</td>\n",
       "      <td>10.00</td>\n",
       "    </tr>\n",
       "  </tbody>\n",
       "</table>\n",
       "</div>"
      ],
      "text/plain": [
       "  Word 1 Word 2  Human (mean)\n",
       "0   love    sex          6.77\n",
       "1  tiger    cat          7.35\n",
       "2  tiger  tiger         10.00"
      ]
     },
     "execution_count": 11,
     "metadata": {},
     "output_type": "execute_result"
    }
   ],
   "source": [
    "# 読み込み\n",
    "df = pd.read_csv(combined_path)\n",
    "df.head(3)"
   ]
  },
  {
   "cell_type": "markdown",
   "metadata": {},
   "source": [
    "### 類似度算出"
   ]
  },
  {
   "cell_type": "code",
   "execution_count": 17,
   "metadata": {},
   "outputs": [
    {
     "data": {
      "text/plain": [
       "0    0.263938\n",
       "1    0.517296\n",
       "dtype: float64"
      ]
     },
     "execution_count": 17,
     "metadata": {},
     "output_type": "execute_result"
    }
   ],
   "source": [
    "# Word 1とWord 2の類似度\n",
    "def get_similarity(row):\n",
    "    return wv_from_bin.similarity(row['Word 1'], row['Word 2'])\n",
    "\n",
    "pd.DataFrame([\n",
    "    {\n",
    "        'Word 1': 'love',\n",
    "        'Word 2': 'sex',\n",
    "    },\n",
    "    {\n",
    "        'Word 1': 'tiger',\n",
    "        'Word 2': 'cat',\n",
    "    },\n",
    "]).apply(get_similarity, axis=1)"
   ]
  },
  {
   "cell_type": "code",
   "execution_count": 19,
   "metadata": {},
   "outputs": [],
   "source": [
    "df['vector_score'] = df.apply(get_similarity, axis=1)"
   ]
  },
  {
   "cell_type": "code",
   "execution_count": 20,
   "metadata": {},
   "outputs": [
    {
     "data": {
      "text/html": [
       "<div>\n",
       "<style scoped>\n",
       "    .dataframe tbody tr th:only-of-type {\n",
       "        vertical-align: middle;\n",
       "    }\n",
       "\n",
       "    .dataframe tbody tr th {\n",
       "        vertical-align: top;\n",
       "    }\n",
       "\n",
       "    .dataframe thead th {\n",
       "        text-align: right;\n",
       "    }\n",
       "</style>\n",
       "<table border=\"1\" class=\"dataframe\">\n",
       "  <thead>\n",
       "    <tr style=\"text-align: right;\">\n",
       "      <th></th>\n",
       "      <th>Word 1</th>\n",
       "      <th>Word 2</th>\n",
       "      <th>Human (mean)</th>\n",
       "      <th>vector_score</th>\n",
       "    </tr>\n",
       "  </thead>\n",
       "  <tbody>\n",
       "    <tr>\n",
       "      <th>0</th>\n",
       "      <td>love</td>\n",
       "      <td>sex</td>\n",
       "      <td>6.77</td>\n",
       "      <td>0.263938</td>\n",
       "    </tr>\n",
       "    <tr>\n",
       "      <th>1</th>\n",
       "      <td>tiger</td>\n",
       "      <td>cat</td>\n",
       "      <td>7.35</td>\n",
       "      <td>0.517296</td>\n",
       "    </tr>\n",
       "    <tr>\n",
       "      <th>2</th>\n",
       "      <td>tiger</td>\n",
       "      <td>tiger</td>\n",
       "      <td>10.00</td>\n",
       "      <td>1.000000</td>\n",
       "    </tr>\n",
       "  </tbody>\n",
       "</table>\n",
       "</div>"
      ],
      "text/plain": [
       "  Word 1 Word 2  Human (mean)  vector_score\n",
       "0   love    sex          6.77      0.263938\n",
       "1  tiger    cat          7.35      0.517296\n",
       "2  tiger  tiger         10.00      1.000000"
      ]
     },
     "execution_count": 20,
     "metadata": {},
     "output_type": "execute_result"
    }
   ],
   "source": [
    "df.head(3)"
   ]
  },
  {
   "cell_type": "markdown",
   "metadata": {},
   "source": [
    "### ランキング付け"
   ]
  },
  {
   "cell_type": "code",
   "execution_count": 24,
   "metadata": {},
   "outputs": [],
   "source": [
    "df['human_rank'] = df['Human (mean)'].rank(ascending=False)\n",
    "df['vector_rank'] = df['vector_score'].rank(ascending=False)"
   ]
  },
  {
   "cell_type": "markdown",
   "metadata": {},
   "source": [
    "### スピアマン相関係数を計算"
   ]
  },
  {
   "cell_type": "code",
   "execution_count": 25,
   "metadata": {},
   "outputs": [],
   "source": [
    "correlation, pvalue = spearmanr(df['human_rank'], df['vector_rank'])"
   ]
  },
  {
   "cell_type": "code",
   "execution_count": 26,
   "metadata": {},
   "outputs": [
    {
     "name": "stdout",
     "output_type": "stream",
     "text": [
      "0.7000166486272194\n"
     ]
    }
   ],
   "source": [
    "print(correlation)"
   ]
  },
  {
   "cell_type": "markdown",
   "metadata": {},
   "source": [
    "## 67. k-meansクラスタリング\n",
    "国名に関する単語ベクトルを抽出し，k-meansクラスタリングをクラスタ数k=5として実行せよ．"
   ]
  },
  {
   "cell_type": "markdown",
   "metadata": {},
   "source": [
    "### 国名に関する単語ベクトル抽出\n",
    "\n",
    "うまい抽出方法なさそうなので、[【言語処理100本ノック 2020】第7章: 単語ベクトル](https://qiita.com/yamaru/items/822af1f7f77666381e20)を参考にする"
   ]
  },
  {
   "cell_type": "code",
   "execution_count": 10,
   "metadata": {},
   "outputs": [
    {
     "data": {
      "text/html": [
       "<div>\n",
       "<style scoped>\n",
       "    .dataframe tbody tr th:only-of-type {\n",
       "        vertical-align: middle;\n",
       "    }\n",
       "\n",
       "    .dataframe tbody tr th {\n",
       "        vertical-align: top;\n",
       "    }\n",
       "\n",
       "    .dataframe thead th {\n",
       "        text-align: right;\n",
       "    }\n",
       "</style>\n",
       "<table border=\"1\" class=\"dataframe\">\n",
       "  <thead>\n",
       "    <tr style=\"text-align: right;\">\n",
       "      <th></th>\n",
       "      <th>vec1</th>\n",
       "      <th>vec2</th>\n",
       "      <th>vec3</th>\n",
       "      <th>vec4</th>\n",
       "      <th>group</th>\n",
       "      <th>answer</th>\n",
       "      <th>cosine_similarity</th>\n",
       "    </tr>\n",
       "  </thead>\n",
       "  <tbody>\n",
       "    <tr>\n",
       "      <th>0</th>\n",
       "      <td>Athens</td>\n",
       "      <td>Greece</td>\n",
       "      <td>Baghdad</td>\n",
       "      <td>Iraq</td>\n",
       "      <td>capital-common-countries</td>\n",
       "      <td>Iraqi</td>\n",
       "      <td>0.635187</td>\n",
       "    </tr>\n",
       "    <tr>\n",
       "      <th>1</th>\n",
       "      <td>Athens</td>\n",
       "      <td>Greece</td>\n",
       "      <td>Bangkok</td>\n",
       "      <td>Thailand</td>\n",
       "      <td>capital-common-countries</td>\n",
       "      <td>Thailand</td>\n",
       "      <td>0.713767</td>\n",
       "    </tr>\n",
       "    <tr>\n",
       "      <th>2</th>\n",
       "      <td>Athens</td>\n",
       "      <td>Greece</td>\n",
       "      <td>Beijing</td>\n",
       "      <td>China</td>\n",
       "      <td>capital-common-countries</td>\n",
       "      <td>China</td>\n",
       "      <td>0.723578</td>\n",
       "    </tr>\n",
       "  </tbody>\n",
       "</table>\n",
       "</div>"
      ],
      "text/plain": [
       "     vec1    vec2     vec3      vec4                     group    answer  \\\n",
       "0  Athens  Greece  Baghdad      Iraq  capital-common-countries     Iraqi   \n",
       "1  Athens  Greece  Bangkok  Thailand  capital-common-countries  Thailand   \n",
       "2  Athens  Greece  Beijing     China  capital-common-countries     China   \n",
       "\n",
       "   cosine_similarity  \n",
       "0           0.635187  \n",
       "1           0.713767  \n",
       "2           0.723578  "
      ]
     },
     "execution_count": 10,
     "metadata": {},
     "output_type": "execute_result"
    }
   ],
   "source": [
    "# 読み込み\n",
    "with open('df_64.pickle', mode=\"rb\") as f:\n",
    "    df = pickle.load(f)\n",
    "df.head(3)"
   ]
  },
  {
   "cell_type": "code",
   "execution_count": 26,
   "metadata": {},
   "outputs": [
    {
     "data": {
      "text/plain": [
       "0             Greece\n",
       "22              Iraq\n",
       "44          Thailand\n",
       "66             China\n",
       "88           Germany\n",
       "            ...     \n",
       "5839             USA\n",
       "14573       Colombia\n",
       "14885        Iceland\n",
       "15002         Israel\n",
       "15314    Netherlands\n",
       "Length: 129, dtype: object"
      ]
     },
     "execution_count": 26,
     "metadata": {},
     "output_type": "execute_result"
    }
   ],
   "source": [
    "s_country = (\n",
    "    pd.concat([\n",
    "        df.loc[df['group'] == 'capital-common-countries', 'vec2'],\n",
    "        df.loc[df['group'] == 'capital-world', 'vec2'],\n",
    "        df.loc[df['group'] == 'currency', 'vec1'],\n",
    "        df.loc[df['group'] == 'gram6-nationality-adjective', 'vec1'],\n",
    "    ])\n",
    "    .drop_duplicates()\n",
    ")\n",
    "s_country"
   ]
  },
  {
   "cell_type": "code",
   "execution_count": 37,
   "metadata": {},
   "outputs": [
    {
     "data": {
      "text/html": [
       "<div>\n",
       "<style scoped>\n",
       "    .dataframe tbody tr th:only-of-type {\n",
       "        vertical-align: middle;\n",
       "    }\n",
       "\n",
       "    .dataframe tbody tr th {\n",
       "        vertical-align: top;\n",
       "    }\n",
       "\n",
       "    .dataframe thead th {\n",
       "        text-align: right;\n",
       "    }\n",
       "</style>\n",
       "<table border=\"1\" class=\"dataframe\">\n",
       "  <thead>\n",
       "    <tr style=\"text-align: right;\">\n",
       "      <th></th>\n",
       "      <th>0</th>\n",
       "      <th>1</th>\n",
       "      <th>2</th>\n",
       "      <th>3</th>\n",
       "      <th>4</th>\n",
       "      <th>5</th>\n",
       "      <th>6</th>\n",
       "      <th>7</th>\n",
       "      <th>8</th>\n",
       "      <th>9</th>\n",
       "      <th>...</th>\n",
       "      <th>290</th>\n",
       "      <th>291</th>\n",
       "      <th>292</th>\n",
       "      <th>293</th>\n",
       "      <th>294</th>\n",
       "      <th>295</th>\n",
       "      <th>296</th>\n",
       "      <th>297</th>\n",
       "      <th>298</th>\n",
       "      <th>299</th>\n",
       "    </tr>\n",
       "  </thead>\n",
       "  <tbody>\n",
       "    <tr>\n",
       "      <th>0</th>\n",
       "      <td>0.472656</td>\n",
       "      <td>0.007019</td>\n",
       "      <td>0.059082</td>\n",
       "      <td>0.090332</td>\n",
       "      <td>0.039551</td>\n",
       "      <td>-0.058594</td>\n",
       "      <td>0.060059</td>\n",
       "      <td>-0.257812</td>\n",
       "      <td>-0.241211</td>\n",
       "      <td>-0.045898</td>\n",
       "      <td>...</td>\n",
       "      <td>0.055908</td>\n",
       "      <td>0.021118</td>\n",
       "      <td>-0.117676</td>\n",
       "      <td>-0.052246</td>\n",
       "      <td>0.07373</td>\n",
       "      <td>0.462891</td>\n",
       "      <td>-0.425781</td>\n",
       "      <td>0.024658</td>\n",
       "      <td>0.090332</td>\n",
       "      <td>0.023193</td>\n",
       "    </tr>\n",
       "    <tr>\n",
       "      <th>1</th>\n",
       "      <td>0.191406</td>\n",
       "      <td>0.125000</td>\n",
       "      <td>-0.065430</td>\n",
       "      <td>0.060059</td>\n",
       "      <td>-0.285156</td>\n",
       "      <td>-0.102539</td>\n",
       "      <td>0.117188</td>\n",
       "      <td>-0.351562</td>\n",
       "      <td>-0.095215</td>\n",
       "      <td>0.200195</td>\n",
       "      <td>...</td>\n",
       "      <td>-0.100586</td>\n",
       "      <td>-0.077148</td>\n",
       "      <td>-0.123047</td>\n",
       "      <td>0.193359</td>\n",
       "      <td>-0.15332</td>\n",
       "      <td>0.089355</td>\n",
       "      <td>-0.173828</td>\n",
       "      <td>-0.054688</td>\n",
       "      <td>0.302734</td>\n",
       "      <td>0.105957</td>\n",
       "    </tr>\n",
       "  </tbody>\n",
       "</table>\n",
       "<p>2 rows × 300 columns</p>\n",
       "</div>"
      ],
      "text/plain": [
       "        0         1         2         3         4         5         6    \\\n",
       "0  0.472656  0.007019  0.059082  0.090332  0.039551 -0.058594  0.060059   \n",
       "1  0.191406  0.125000 -0.065430  0.060059 -0.285156 -0.102539  0.117188   \n",
       "\n",
       "        7         8         9    ...       290       291       292       293  \\\n",
       "0 -0.257812 -0.241211 -0.045898  ...  0.055908  0.021118 -0.117676 -0.052246   \n",
       "1 -0.351562 -0.095215  0.200195  ... -0.100586 -0.077148 -0.123047  0.193359   \n",
       "\n",
       "       294       295       296       297       298       299  \n",
       "0  0.07373  0.462891 -0.425781  0.024658  0.090332  0.023193  \n",
       "1 -0.15332  0.089355 -0.173828 -0.054688  0.302734  0.105957  \n",
       "\n",
       "[2 rows x 300 columns]"
      ]
     },
     "execution_count": 37,
     "metadata": {},
     "output_type": "execute_result"
    }
   ],
   "source": [
    "def get_vector(name):\n",
    "    return pd.Series(wv_from_bin[name])\n",
    "\n",
    "pd.DataFrame(\n",
    "    pd.Series(['Greece', 'Iraq']).apply(get_vector)\n",
    ")"
   ]
  },
  {
   "cell_type": "code",
   "execution_count": null,
   "metadata": {},
   "outputs": [],
   "source": []
  },
  {
   "cell_type": "code",
   "execution_count": null,
   "metadata": {},
   "outputs": [],
   "source": []
  },
  {
   "cell_type": "code",
   "execution_count": null,
   "metadata": {},
   "outputs": [],
   "source": []
  },
  {
   "cell_type": "code",
   "execution_count": 11,
   "metadata": {},
   "outputs": [
    {
     "data": {
      "text/html": [
       "<div>\n",
       "<style scoped>\n",
       "    .dataframe tbody tr th:only-of-type {\n",
       "        vertical-align: middle;\n",
       "    }\n",
       "\n",
       "    .dataframe tbody tr th {\n",
       "        vertical-align: top;\n",
       "    }\n",
       "\n",
       "    .dataframe thead th {\n",
       "        text-align: right;\n",
       "    }\n",
       "</style>\n",
       "<table border=\"1\" class=\"dataframe\">\n",
       "  <thead>\n",
       "    <tr style=\"text-align: right;\">\n",
       "      <th></th>\n",
       "      <th>vec1</th>\n",
       "      <th>vec2</th>\n",
       "      <th>vec3</th>\n",
       "      <th>vec4</th>\n",
       "      <th>answer</th>\n",
       "      <th>cosine_similarity</th>\n",
       "    </tr>\n",
       "    <tr>\n",
       "      <th>group</th>\n",
       "      <th></th>\n",
       "      <th></th>\n",
       "      <th></th>\n",
       "      <th></th>\n",
       "      <th></th>\n",
       "      <th></th>\n",
       "    </tr>\n",
       "  </thead>\n",
       "  <tbody>\n",
       "    <tr>\n",
       "      <th>capital-common-countries</th>\n",
       "      <td>506</td>\n",
       "      <td>506</td>\n",
       "      <td>506</td>\n",
       "      <td>506</td>\n",
       "      <td>506</td>\n",
       "      <td>506</td>\n",
       "    </tr>\n",
       "    <tr>\n",
       "      <th>capital-world</th>\n",
       "      <td>4524</td>\n",
       "      <td>4524</td>\n",
       "      <td>4524</td>\n",
       "      <td>4524</td>\n",
       "      <td>4524</td>\n",
       "      <td>4524</td>\n",
       "    </tr>\n",
       "    <tr>\n",
       "      <th>city-in-state</th>\n",
       "      <td>2467</td>\n",
       "      <td>2467</td>\n",
       "      <td>2467</td>\n",
       "      <td>2467</td>\n",
       "      <td>2467</td>\n",
       "      <td>2467</td>\n",
       "    </tr>\n",
       "    <tr>\n",
       "      <th>currency</th>\n",
       "      <td>866</td>\n",
       "      <td>866</td>\n",
       "      <td>866</td>\n",
       "      <td>866</td>\n",
       "      <td>866</td>\n",
       "      <td>866</td>\n",
       "    </tr>\n",
       "    <tr>\n",
       "      <th>family</th>\n",
       "      <td>506</td>\n",
       "      <td>506</td>\n",
       "      <td>506</td>\n",
       "      <td>506</td>\n",
       "      <td>506</td>\n",
       "      <td>506</td>\n",
       "    </tr>\n",
       "    <tr>\n",
       "      <th>gram1-adjective-to-adverb</th>\n",
       "      <td>992</td>\n",
       "      <td>992</td>\n",
       "      <td>992</td>\n",
       "      <td>992</td>\n",
       "      <td>992</td>\n",
       "      <td>992</td>\n",
       "    </tr>\n",
       "    <tr>\n",
       "      <th>gram2-opposite</th>\n",
       "      <td>812</td>\n",
       "      <td>812</td>\n",
       "      <td>812</td>\n",
       "      <td>812</td>\n",
       "      <td>812</td>\n",
       "      <td>812</td>\n",
       "    </tr>\n",
       "    <tr>\n",
       "      <th>gram3-comparative</th>\n",
       "      <td>1332</td>\n",
       "      <td>1332</td>\n",
       "      <td>1332</td>\n",
       "      <td>1332</td>\n",
       "      <td>1332</td>\n",
       "      <td>1332</td>\n",
       "    </tr>\n",
       "    <tr>\n",
       "      <th>gram4-superlative</th>\n",
       "      <td>1122</td>\n",
       "      <td>1122</td>\n",
       "      <td>1122</td>\n",
       "      <td>1122</td>\n",
       "      <td>1122</td>\n",
       "      <td>1122</td>\n",
       "    </tr>\n",
       "    <tr>\n",
       "      <th>gram5-present-participle</th>\n",
       "      <td>1056</td>\n",
       "      <td>1056</td>\n",
       "      <td>1056</td>\n",
       "      <td>1056</td>\n",
       "      <td>1056</td>\n",
       "      <td>1056</td>\n",
       "    </tr>\n",
       "    <tr>\n",
       "      <th>gram6-nationality-adjective</th>\n",
       "      <td>1599</td>\n",
       "      <td>1599</td>\n",
       "      <td>1599</td>\n",
       "      <td>1599</td>\n",
       "      <td>1599</td>\n",
       "      <td>1599</td>\n",
       "    </tr>\n",
       "    <tr>\n",
       "      <th>gram7-past-tense</th>\n",
       "      <td>1560</td>\n",
       "      <td>1560</td>\n",
       "      <td>1560</td>\n",
       "      <td>1560</td>\n",
       "      <td>1560</td>\n",
       "      <td>1560</td>\n",
       "    </tr>\n",
       "    <tr>\n",
       "      <th>gram8-plural</th>\n",
       "      <td>1332</td>\n",
       "      <td>1332</td>\n",
       "      <td>1332</td>\n",
       "      <td>1332</td>\n",
       "      <td>1332</td>\n",
       "      <td>1332</td>\n",
       "    </tr>\n",
       "    <tr>\n",
       "      <th>gram9-plural-verbs</th>\n",
       "      <td>870</td>\n",
       "      <td>870</td>\n",
       "      <td>870</td>\n",
       "      <td>870</td>\n",
       "      <td>870</td>\n",
       "      <td>870</td>\n",
       "    </tr>\n",
       "  </tbody>\n",
       "</table>\n",
       "</div>"
      ],
      "text/plain": [
       "                             vec1  vec2  vec3  vec4  answer  cosine_similarity\n",
       "group                                                                         \n",
       "capital-common-countries      506   506   506   506     506                506\n",
       "capital-world                4524  4524  4524  4524    4524               4524\n",
       "city-in-state                2467  2467  2467  2467    2467               2467\n",
       "currency                      866   866   866   866     866                866\n",
       "family                        506   506   506   506     506                506\n",
       "gram1-adjective-to-adverb     992   992   992   992     992                992\n",
       "gram2-opposite                812   812   812   812     812                812\n",
       "gram3-comparative            1332  1332  1332  1332    1332               1332\n",
       "gram4-superlative            1122  1122  1122  1122    1122               1122\n",
       "gram5-present-participle     1056  1056  1056  1056    1056               1056\n",
       "gram6-nationality-adjective  1599  1599  1599  1599    1599               1599\n",
       "gram7-past-tense             1560  1560  1560  1560    1560               1560\n",
       "gram8-plural                 1332  1332  1332  1332    1332               1332\n",
       "gram9-plural-verbs            870   870   870   870     870                870"
      ]
     },
     "execution_count": 11,
     "metadata": {},
     "output_type": "execute_result"
    }
   ],
   "source": [
    "df.groupby('group').count()"
   ]
  },
  {
   "cell_type": "code",
   "execution_count": 6,
   "metadata": {},
   "outputs": [],
   "source": [
    "result = wv_from_bin.similar_by_word('country', topn=200)"
   ]
  },
  {
   "cell_type": "code",
   "execution_count": 7,
   "metadata": {},
   "outputs": [
    {
     "data": {
      "text/plain": [
       "[('nation', 0.7242871522903442),\n",
       " ('continent', 0.6130886077880859),\n",
       " ('region', 0.6015146970748901),\n",
       " ('thecountry', 0.6001830101013184),\n",
       " ('world', 0.5980385541915894),\n",
       " ('coun_try', 0.5916948318481445),\n",
       " ('United_States', 0.5706112384796143),\n",
       " ('countrys', 0.5641982555389404),\n",
       " ('coutnry', 0.5425863862037659),\n",
       " ('counry', 0.5201680660247803),\n",
       " ('Untied_States', 0.5172195434570312),\n",
       " ('globe', 0.5137461423873901),\n",
       " ('America', 0.48584625124931335),\n",
       " ('Unites_States', 0.48474687337875366),\n",
       " ('countries', 0.48209184408187866),\n",
       " ('national', 0.47806477546691895),\n",
       " ('abroad', 0.4719730019569397),\n",
       " ('United_Sates', 0.47095435857772827),\n",
       " ('countryâ_€_™', 0.46157145500183105),\n",
       " ('coutry', 0.4603279232978821),\n",
       " ('countryÂ', 0.4602794051170349),\n",
       " ('country.The', 0.4549213945865631),\n",
       " ('impoverished_landlocked', 0.4546322822570801),\n",
       " ('republic', 0.4531654715538025),\n",
       " ('western_hemisphere', 0.45273035764694214),\n",
       " ('Europe', 0.4527193009853363),\n",
       " ('nationís', 0.45020997524261475),\n",
       " ('fledging_democracies', 0.4480096399784088),\n",
       " ('homeland', 0.4417324662208557),\n",
       " ('country.It', 0.43890541791915894),\n",
       " ('ethnically_polarized', 0.4375952184200287),\n",
       " ('sub_Saharan_Africa', 0.4374428987503052),\n",
       " ('regions', 0.43722742795944214),\n",
       " ('state', 0.4359859228134155),\n",
       " ('Balkan_peninsula', 0.434438019990921),\n",
       " ('contry', 0.432685911655426),\n",
       " ('Africa', 0.43208128213882446),\n",
       " ('country.â_€', 0.4294183850288391),\n",
       " ('Caucasian_republics', 0.42930129170417786),\n",
       " ('strife_torn', 0.42921775579452515),\n",
       " ('Kikuyu_tribe_Kenya', 0.4288219213485718),\n",
       " ('landlocked_Burkina_Faso', 0.4274824857711792),\n",
       " ('countr', 0.42713189125061035),\n",
       " ('countryís', 0.4271111786365509),\n",
       " ('theworld', 0.42697006464004517),\n",
       " ('landlocked_Balkan', 0.42676398158073425),\n",
       " ('province', 0.42229124903678894),\n",
       " ('impoverished_Arabian_peninsula', 0.4216068685054779),\n",
       " ('Socialists_bulldozed', 0.4192574620246887),\n",
       " ('Enrollment_lags', 0.4180009961128235),\n",
       " ('counrty', 0.41601860523223877),\n",
       " ('country.He', 0.41474610567092896),\n",
       " ('industralised', 0.41469207406044006),\n",
       " ('northern_Cabinda_enclave', 0.41445982456207275),\n",
       " ('fledging_democracy', 0.4120814800262451),\n",
       " ('countryand', 0.411947637796402),\n",
       " ('Pashtun_heartlands', 0.41190028190612793),\n",
       " ('U.S.', 0.4111868739128113),\n",
       " ('Britain', 0.41103070974349976),\n",
       " ('Mambilla_Plateau', 0.41047289967536926),\n",
       " ('Yugoslavia_Czechoslovakia', 0.4102906286716461),\n",
       " ('landlocked_Himalayan', 0.40961891412734985),\n",
       " ('fruited_plain', 0.4094477891921997),\n",
       " ('Multiparty_democracy', 0.4087475836277008),\n",
       " ('globally', 0.40780484676361084),\n",
       " ('foreign', 0.40657979249954224),\n",
       " ('MAURICE_Iowa_KTIV', 0.40527015924453735),\n",
       " ('Tarai_plains', 0.40511220693588257),\n",
       " ('Continent', 0.4047727584838867),\n",
       " ('disaffected_tribesmen', 0.40468883514404297),\n",
       " ('Porous_borders', 0.4039408564567566),\n",
       " ('sub_Sahara', 0.40357571840286255),\n",
       " ('separatist_rebellions', 0.40230056643486023),\n",
       " ('disapora', 0.4022214412689209),\n",
       " ('vast_steppe', 0.4020453691482544),\n",
       " ('heartland', 0.4012843668460846),\n",
       " ('Nouredine_Yazid_Zerhouni', 0.40128207206726074),\n",
       " ('countryside', 0.3996603488922119),\n",
       " ('Europeand', 0.39893674850463867),\n",
       " ('provinces', 0.39892083406448364),\n",
       " ('thenation', 0.39865440130233765),\n",
       " ('subcontinent', 0.39853203296661377),\n",
       " ('staunchly_Roman_Catholic', 0.3984546363353729),\n",
       " ('culturally_homogenous', 0.39815643429756165),\n",
       " ('hemisphere', 0.397982120513916),\n",
       " ('motherland', 0.39714330434799194),\n",
       " ('Roland_Van_Hauwermeiren', 0.3960626423358917),\n",
       " ('Cholera_spreads', 0.3957178294658661),\n",
       " ('Tribal_chieftains', 0.3956565260887146),\n",
       " ('countrymen', 0.3946755528450012),\n",
       " ('neigbouring_countries', 0.39462488889694214),\n",
       " ('Mollendo_Peru', 0.3937244713306427),\n",
       " ('vastest', 0.3935931921005249),\n",
       " ('Asia', 0.3935837149620056),\n",
       " ('India', 0.39333686232566833),\n",
       " ('linguistically_divided', 0.39287567138671875),\n",
       " ('SKOPJE_Macedonia_Macedonia', 0.39264678955078125),\n",
       " ('FCO_advises', 0.39240437746047974),\n",
       " ('Adriatic_republic', 0.3919985890388489),\n",
       " ('Indonesia_sprawling_archipelagic', 0.39187461137771606),\n",
       " ('neo_colonial_occupation', 0.3916698694229126),\n",
       " ('geographically_diverse_homebuilders', 0.3913283944129944),\n",
       " ('Midde_East', 0.3913235664367676),\n",
       " ('voivodships', 0.3903358280658722),\n",
       " ('nations', 0.39010050892829895),\n",
       " ('multiparty_democracies', 0.3899056315422058),\n",
       " ('katleen', 0.38968223333358765),\n",
       " ('semi_autonomous_Zanzibar', 0.38952112197875977),\n",
       " ('oppressive_dictatorships', 0.3889898657798767),\n",
       " ('forex_earner', 0.3888304531574249),\n",
       " ('impoverished_Himalayan', 0.3887603282928467),\n",
       " ('world.The', 0.38800719380378723),\n",
       " ('kingdom', 0.3876144289970398),\n",
       " ('worldís', 0.38696932792663574),\n",
       " ('cotton_plantations', 0.3866901993751526),\n",
       " ('Brand_BITS_Pilani', 0.38626348972320557),\n",
       " ('Shafi_Ullah_student', 0.3858531713485718),\n",
       " ('Southeast_Asia', 0.3857639729976654),\n",
       " ('Western_Hemisphere', 0.38473790884017944),\n",
       " ('metropolis', 0.3846988379955292),\n",
       " ('Murshedy', 0.3842199444770813),\n",
       " ('geopolitically_unstable', 0.3838702142238617),\n",
       " ('porous_borders_sowing', 0.3830949366092682),\n",
       " ('internationally', 0.38226619362831116),\n",
       " ('communities', 0.38213592767715454),\n",
       " ('producer_Eni_idled', 0.3819449543952942),\n",
       " ('CFA_franc_zone', 0.3803725838661194),\n",
       " ('former_Soviet_republic', 0.3802758455276489),\n",
       " ('scenic_Himalayan', 0.3802250027656555),\n",
       " ('Peasant_farmers', 0.38017570972442627),\n",
       " ('inPakistan', 0.38013821840286255),\n",
       " ('nascent_democracies', 0.3799171447753906),\n",
       " ('per_capita_GDPs', 0.3797914683818817),\n",
       " ('Erkki_Tuomioja_whose', 0.37959083914756775),\n",
       " ('Timor_Leste_East_Timor', 0.3791944682598114),\n",
       " ('HCM_CITY_Viet_Nam', 0.37880873680114746),\n",
       " ('Angola_Mozambique_Namibia', 0.3784831166267395),\n",
       " ('Nigeria', 0.3781089782714844),\n",
       " ('justice_Nyongo', 0.378021776676178),\n",
       " ('properity', 0.3773491084575653),\n",
       " ('nationâ_€_™', 0.3772328794002533),\n",
       " ('Western_hemisphere', 0.37715086340904236),\n",
       " ('armed_insurrections', 0.376970499753952),\n",
       " ('Niger_Mali_Mauritania', 0.3767228126525879),\n",
       " ('authoritarian_dictatorships', 0.376627117395401),\n",
       " ('seismic_faultlines', 0.3765929639339447),\n",
       " ('sub_saharan', 0.3764420747756958),\n",
       " ('Gospel_Proclaimers', 0.3763042986392975),\n",
       " ('civilizations_Yunus', 0.37592774629592896),\n",
       " ('citizenries', 0.3753392696380615),\n",
       " ('Caucausus', 0.3752485513687134),\n",
       " ('Anarchy_reigns', 0.37463539838790894),\n",
       " ('Nepalis_residing', 0.37447190284729004),\n",
       " ('trodden_masses', 0.37442004680633545),\n",
       " ('Zulu_heartland', 0.3744150698184967),\n",
       " ('ethnic_Slavs', 0.37425005435943604),\n",
       " ('neo_colony', 0.3741407096385956),\n",
       " ('ASEAN_rotating_chairmanship', 0.37410861253738403),\n",
       " ('diasporans', 0.37409141659736633),\n",
       " ('Islamist_insurgencies', 0.3738241195678711),\n",
       " ('coups_mutinies', 0.37361761927604675),\n",
       " ('sub_Saharan', 0.3734811544418335),\n",
       " ('Ethiopia', 0.3733821511268616),\n",
       " ('militancy_wracked', 0.3733784556388855),\n",
       " ('nationwide', 0.37333011627197266),\n",
       " ('petrostate', 0.37322163581848145),\n",
       " ('infrastructurally', 0.3731418251991272),\n",
       " ('founding_fathers_envisioned', 0.3729732632637024),\n",
       " ('plagues_Diyala_province', 0.37289512157440186),\n",
       " ('recognizeable_athletes', 0.3724672794342041),\n",
       " ('countrywide', 0.3723644018173218),\n",
       " ('minister_Antonio_Patriota', 0.37184420228004456),\n",
       " ('cocoa_plantations_attracted', 0.371511846780777),\n",
       " ('Middle_East', 0.3714284896850586),\n",
       " ('Ebiraland', 0.37118273973464966),\n",
       " ('Djindjic_Serbia', 0.3709146976470947),\n",
       " ('impoverished', 0.37084683775901794),\n",
       " ('fatherland', 0.37062251567840576),\n",
       " ('Latin_America', 0.3705154061317444),\n",
       " ('remote_Patagonian', 0.3702546954154968),\n",
       " ('endemically_corrupt', 0.37024614214897156),\n",
       " ('archipelago', 0.37021443247795105),\n",
       " ('multiethnic_multicultural', 0.3701114058494568),\n",
       " ('mountainous_ungoverned_border', 0.36938080191612244),\n",
       " ('British_Isles', 0.36926308274269104),\n",
       " ('continental', 0.36916619539260864),\n",
       " ('economy', 0.3691498041152954),\n",
       " ('impoverished_Arabian_Peninsula', 0.36913615465164185),\n",
       " ('countrysides', 0.36892902851104736),\n",
       " ('ethnically_heterogeneous', 0.3689197897911072),\n",
       " ('Bamian_province', 0.3685069978237152),\n",
       " ('eastern_seaboards', 0.368188738822937),\n",
       " ('creeping_totalitarianism', 0.367465615272522),\n",
       " ('APGROUP_NorthAmerica_;)_COUNTRY', 0.36729705333709717),\n",
       " ('gulag_archipelago', 0.36727261543273926),\n",
       " ('Presidente_Vicente_Fox', 0.36706382036209106),\n",
       " ('Mugabe_misrule', 0.36696991324424744),\n",
       " ('ungoverned_regions', 0.36686718463897705),\n",
       " ('Songhua_River_disrupting', 0.3668628931045532),\n",
       " ('impoverished_agrarian', 0.36682242155075073)]"
      ]
     },
     "execution_count": 7,
     "metadata": {},
     "output_type": "execute_result"
    }
   ],
   "source": [
    "result"
   ]
  },
  {
   "cell_type": "markdown",
   "metadata": {},
   "source": []
  }
 ],
 "metadata": {
  "kernelspec": {
   "display_name": "Python 3",
   "language": "python",
   "name": "python3"
  },
  "language_info": {
   "codemirror_mode": {
    "name": "ipython",
    "version": 3
   },
   "file_extension": ".py",
   "mimetype": "text/x-python",
   "name": "python",
   "nbconvert_exporter": "python",
   "pygments_lexer": "ipython3",
   "version": "3.7.1"
  }
 },
 "nbformat": 4,
 "nbformat_minor": 4
}
