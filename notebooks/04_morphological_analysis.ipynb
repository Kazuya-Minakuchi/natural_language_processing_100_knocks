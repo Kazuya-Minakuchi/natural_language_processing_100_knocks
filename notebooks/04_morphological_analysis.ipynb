{
 "cells": [
  {
   "cell_type": "markdown",
   "metadata": {},
   "source": [
    "# 第4章: 形態素解析\n",
    "\n",
    "夏目漱石の小説『吾輩は猫である』の文章（neko.txt）をMeCabを使って形態素解析し，その結果をneko.txt.mecabというファイルに保存せよ．このファイルを用いて，以下の問に対応するプログラムを実装せよ．\n",
    "\n",
    "なお，問題37, 38, 39はmatplotlibもしくはGnuplotを用いるとよい．"
   ]
  },
  {
   "cell_type": "markdown",
   "metadata": {},
   "source": [
    "## MeCab実行"
   ]
  },
  {
   "cell_type": "markdown",
   "metadata": {},
   "source": [
    "コマンドプロンプトで以下を実行\n",
    "\n",
    "`mecab neko.txt -o neko.txt.mecab`"
   ]
  },
  {
   "cell_type": "markdown",
   "metadata": {},
   "source": [
    "## 30. 形態素解析結果の読み込み\n",
    "形態素解析結果（neko.txt.mecab）を読み込むプログラムを実装せよ．ただし，各形態素は表層形（surface），基本形（base），品詞（pos），品詞細分類1（pos1）をキーとするマッピング型に格納し，1文を形態素（マッピング型）のリストとして表現せよ．第4章の残りの問題では，ここで作ったプログラムを活用せよ．"
   ]
  },
  {
   "cell_type": "code",
   "execution_count": 1,
   "metadata": {},
   "outputs": [],
   "source": [
    "import os\n",
    "from typing import List, Dict"
   ]
  },
  {
   "cell_type": "code",
   "execution_count": 2,
   "metadata": {},
   "outputs": [],
   "source": [
    "input_path = os.path.join(os.getcwd(), '../data/neko.txt.mecab')"
   ]
  },
  {
   "cell_type": "code",
   "execution_count": 3,
   "metadata": {},
   "outputs": [],
   "source": [
    "# 読み込み\n",
    "def get_raw(path: str) -> str:\n",
    "    with open(path, mode='r', encoding='utf-8') as f:\n",
    "        return f.read()"
   ]
  },
  {
   "cell_type": "code",
   "execution_count": 4,
   "metadata": {},
   "outputs": [
    {
     "data": {
      "text/plain": [
       "['\\n一\\t名詞,数,*,*,*,*,一,イチ,イチ\\n',\n",
       " '\\u3000\\t記号,空白,*,*,*,*,\\u3000,\\u3000,\\u3000\\n吾輩\\t名詞,代名詞,一般,*,*,*,吾輩,ワガハイ,ワガハイ\\nは\\t助詞,係助詞,*,*,*,*,は,ハ,ワ\\n猫\\t名詞,一般,*,*,*,*,猫,ネコ,ネコ\\nで\\t助動詞,*,*,*,特殊・ダ,連用形,だ,デ,デ\\nある\\t助動詞,*,*,*,五段・ラ行アル,基本形,ある,アル,アル\\n。\\t記号,句点,*,*,*,*,。,。,。\\n',\n",
       " '名前\\t名詞,一般,*,*,*,*,名前,ナマエ,ナマエ\\nは\\t助詞,係助詞,*,*,*,*,は,ハ,ワ\\nまだ\\t副詞,助詞類接続,*,*,*,*,まだ,マダ,マダ\\n無い\\t形容詞,自立,*,*,形容詞・アウオ段,基本形,無い,ナイ,ナイ\\n。\\t記号,句点,*,*,*,*,。,。,。\\n']"
      ]
     },
     "execution_count": 4,
     "metadata": {},
     "output_type": "execute_result"
    }
   ],
   "source": [
    "# 文ごとにリストに入れる\n",
    "def get_sentences(text: str) -> List[str]:\n",
    "    return [s for s in text.split('EOS\\n') if s != '']\n",
    "\n",
    "test_text = \"\"\"\n",
    "一\t名詞,数,*,*,*,*,一,イチ,イチ\n",
    "EOS\n",
    "EOS\n",
    "　\t記号,空白,*,*,*,*,　,　,　\n",
    "吾輩\t名詞,代名詞,一般,*,*,*,吾輩,ワガハイ,ワガハイ\n",
    "は\t助詞,係助詞,*,*,*,*,は,ハ,ワ\n",
    "猫\t名詞,一般,*,*,*,*,猫,ネコ,ネコ\n",
    "で\t助動詞,*,*,*,特殊・ダ,連用形,だ,デ,デ\n",
    "ある\t助動詞,*,*,*,五段・ラ行アル,基本形,ある,アル,アル\n",
    "。\t記号,句点,*,*,*,*,。,。,。\n",
    "EOS\n",
    "名前\t名詞,一般,*,*,*,*,名前,ナマエ,ナマエ\n",
    "は\t助詞,係助詞,*,*,*,*,は,ハ,ワ\n",
    "まだ\t副詞,助詞類接続,*,*,*,*,まだ,マダ,マダ\n",
    "無い\t形容詞,自立,*,*,形容詞・アウオ段,基本形,無い,ナイ,ナイ\n",
    "。\t記号,句点,*,*,*,*,。,。,。\n",
    "EOS\n",
    "EOS\n",
    "\"\"\"\n",
    "get_sentences(test_text)"
   ]
  },
  {
   "cell_type": "code",
   "execution_count": 5,
   "metadata": {},
   "outputs": [
    {
     "data": {
      "text/plain": [
       "[{'surface': 'どこ', 'base': 'どこ', 'pos': '名詞', 'pos1': '代名詞'},\n",
       " {'surface': 'で', 'base': 'で', 'pos': '助詞', 'pos1': '格助詞'},\n",
       " {'surface': '生れ', 'base': '生れる', 'pos': '動詞', 'pos1': '自立'},\n",
       " {'surface': 'た', 'base': 'た', 'pos': '助動詞', 'pos1': '*'},\n",
       " {'surface': 'か', 'base': 'か', 'pos': '助詞', 'pos1': '副助詞／並立助詞／終助詞'},\n",
       " {'surface': 'とんと', 'base': 'とんと', 'pos': '副詞', 'pos1': '一般'},\n",
       " {'surface': '見当', 'base': '見当', 'pos': '名詞', 'pos1': 'サ変接続'},\n",
       " {'surface': 'が', 'base': 'が', 'pos': '助詞', 'pos1': '格助詞'},\n",
       " {'surface': 'つか', 'base': 'つく', 'pos': '動詞', 'pos1': '自立'},\n",
       " {'surface': 'ぬ', 'base': 'ぬ', 'pos': '助動詞', 'pos1': '*'},\n",
       " {'surface': '。', 'base': '。', 'pos': '記号', 'pos1': '句点'}]"
      ]
     },
     "execution_count": 5,
     "metadata": {},
     "output_type": "execute_result"
    }
   ],
   "source": [
    "# 文の形態素をマッピングし、リストに入れる\n",
    "def mapping_sentence(text: str) -> List[Dict]:\n",
    "    morphemes = text.split('\\n')\n",
    "    ret_list = []\n",
    "    for m in morphemes:\n",
    "        # 空白行は除外\n",
    "        if m == '':\n",
    "            continue\n",
    "        # 表層系とそれ以外を分離\n",
    "        surface, others = m.split('\\t')\n",
    "        # それ以外の中身を分離\n",
    "        other = others.split(',')\n",
    "        # 空白は除外\n",
    "        if other[0] == '記号' and other[1] == '空白':\n",
    "            continue\n",
    "        # マッピング型にしてリストに追加\n",
    "        ret_list.append({\n",
    "            'surface': surface,\n",
    "            'base': other[6],\n",
    "            'pos': other[0],\n",
    "            'pos1': other[1],\n",
    "        })\n",
    "    return ret_list\n",
    "\n",
    "test_text = \"\"\"\n",
    "　\t記号,空白,*,*,*,*,　,　,　\n",
    "どこ\t名詞,代名詞,一般,*,*,*,どこ,ドコ,ドコ\n",
    "で\t助詞,格助詞,一般,*,*,*,で,デ,デ\n",
    "生れ\t動詞,自立,*,*,一段,連用形,生れる,ウマレ,ウマレ\n",
    "た\t助動詞,*,*,*,特殊・タ,基本形,た,タ,タ\n",
    "か\t助詞,副助詞／並立助詞／終助詞,*,*,*,*,か,カ,カ\n",
    "とんと\t副詞,一般,*,*,*,*,とんと,トント,トント\n",
    "見当\t名詞,サ変接続,*,*,*,*,見当,ケントウ,ケントー\n",
    "が\t助詞,格助詞,一般,*,*,*,が,ガ,ガ\n",
    "つか\t動詞,自立,*,*,五段・カ行イ音便,未然形,つく,ツカ,ツカ\n",
    "ぬ\t助動詞,*,*,*,特殊・ヌ,基本形,ぬ,ヌ,ヌ\n",
    "。\t記号,句点,*,*,*,*,。,。,。\n",
    "\"\"\"\n",
    "\n",
    "mapping_sentence(test_text)"
   ]
  },
  {
   "cell_type": "code",
   "execution_count": 6,
   "metadata": {},
   "outputs": [
    {
     "data": {
      "text/plain": [
       "[[{'surface': '一', 'base': '一', 'pos': '名詞', 'pos1': '数'}],\n",
       " [{'surface': '吾輩', 'base': '吾輩', 'pos': '名詞', 'pos1': '代名詞'},\n",
       "  {'surface': 'は', 'base': 'は', 'pos': '助詞', 'pos1': '係助詞'},\n",
       "  {'surface': '猫', 'base': '猫', 'pos': '名詞', 'pos1': '一般'},\n",
       "  {'surface': 'で', 'base': 'だ', 'pos': '助動詞', 'pos1': '*'},\n",
       "  {'surface': 'ある', 'base': 'ある', 'pos': '助動詞', 'pos1': '*'},\n",
       "  {'surface': '。', 'base': '。', 'pos': '記号', 'pos1': '句点'}]]"
      ]
     },
     "execution_count": 6,
     "metadata": {},
     "output_type": "execute_result"
    }
   ],
   "source": [
    "# 形態素解析結果読み込み\n",
    "def load_mecab(path: str) -> List[List[Dict]]:\n",
    "    # 読み込み\n",
    "    text = get_raw(input_path)\n",
    "    # 文ごとに分離\n",
    "    sentences = get_sentences(text)\n",
    "    # マッピング型のリストに格納\n",
    "    return list(map(mapping_sentence, sentences))\n",
    "\n",
    "load_mecab(input_path)[0:2]"
   ]
  },
  {
   "cell_type": "markdown",
   "metadata": {},
   "source": [
    "## 31. 動詞\n",
    "動詞の表層形をすべて抽出せよ．"
   ]
  },
  {
   "cell_type": "code",
   "execution_count": 7,
   "metadata": {},
   "outputs": [
    {
     "data": {
      "text/plain": [
       "True"
      ]
     },
     "execution_count": 7,
     "metadata": {},
     "output_type": "execute_result"
    }
   ],
   "source": [
    "# 文に含まれる動詞の表層形をリストにする\n",
    "def get_surface_of_verb(morphemes: List[Dict]) -> List[str]:\n",
    "    return [m['surface'] for m in morphemes if m['pos'] == '動詞']\n",
    "\n",
    "test_list = [\n",
    "    {'surface': 'a', 'pos': '動詞'},\n",
    "    {'surface': 'b', 'pos': '動詞'},\n",
    "    {'surface': 'c', 'pos': '名詞'},\n",
    "]\n",
    "get_surface_of_verb(test_list) == ['a', 'b']"
   ]
  },
  {
   "cell_type": "code",
   "execution_count": 8,
   "metadata": {},
   "outputs": [],
   "source": [
    "from functools import reduce"
   ]
  },
  {
   "cell_type": "code",
   "execution_count": 9,
   "metadata": {},
   "outputs": [],
   "source": [
    "# 各文から取り出して、和集合をとる\n",
    "output = reduce(lambda x, y: set(x) | set(y),\n",
    "                map(get_surface_of_verb, load_mecab(input_path))\n",
    ")\n",
    "# print(output)"
   ]
  },
  {
   "cell_type": "markdown",
   "metadata": {},
   "source": [
    "## 32. 動詞の原形\n",
    "動詞の原形をすべて抽出せよ．"
   ]
  },
  {
   "cell_type": "code",
   "execution_count": 10,
   "metadata": {},
   "outputs": [
    {
     "data": {
      "text/plain": [
       "True"
      ]
     },
     "execution_count": 10,
     "metadata": {},
     "output_type": "execute_result"
    }
   ],
   "source": [
    "# 文に含まれる動詞の原型をリストにする\n",
    "def get_base_of_verb(morphemes: List[Dict]) -> List[str]:\n",
    "    return [m['base'] for m in morphemes if m['pos'] == '動詞']\n",
    "\n",
    "test_list = [\n",
    "    {'base': 'a', 'pos': '動詞'},\n",
    "    {'base': 'b', 'pos': '動詞'},\n",
    "    {'base': 'c', 'pos': '名詞'},\n",
    "]\n",
    "get_base_of_verb(test_list) == ['a', 'b']"
   ]
  },
  {
   "cell_type": "code",
   "execution_count": 11,
   "metadata": {},
   "outputs": [],
   "source": [
    "# 各文から取り出して、和集合をとる\n",
    "output = reduce(lambda x, y: set(x) | set(y),\n",
    "                map(get_base_of_verb, load_mecab(input_path))\n",
    ")\n",
    "# print(output)"
   ]
  },
  {
   "cell_type": "markdown",
   "metadata": {},
   "source": [
    "## 33. 「AのB」\n",
    "2つの名詞が「の」で連結されている名詞句を抽出せよ．"
   ]
  },
  {
   "cell_type": "code",
   "execution_count": 12,
   "metadata": {},
   "outputs": [
    {
     "data": {
      "text/plain": [
       "True"
      ]
     },
     "execution_count": 12,
     "metadata": {},
     "output_type": "execute_result"
    }
   ],
   "source": [
    "# 名詞句を抽出する\n",
    "def get_noun_phrase(morphemes: List[Dict]) -> List[str]:\n",
    "    ret_list = []\n",
    "    for i in range(len(morphemes) - 2):\n",
    "        m1 = morphemes[i]\n",
    "        # 名詞でなかったらパス\n",
    "        if m1['pos'] != '名詞':\n",
    "            continue\n",
    "        # 'の'が挟まってなかったらパス\n",
    "        m2 = morphemes[i+1]\n",
    "        if m2['surface'] != 'の':\n",
    "            continue\n",
    "        # 名詞で挟んでなかったらパス\n",
    "        m3 = morphemes[i+2]\n",
    "        if  m3['pos'] != '名詞':\n",
    "            continue\n",
    "        # (名詞)'の'(名詞)だったらリストに追加\n",
    "        ret_list.append(m1['surface'] + m2['surface'] + m3['surface'])\n",
    "    return ret_list\n",
    "\n",
    "test_list = [\n",
    "    {'surface': 'a', 'pos': '名詞'},\n",
    "    {'surface': 'b', 'pos': '名詞'},\n",
    "    {'surface': 'の', 'pos': ''},\n",
    "    {'surface': 'c', 'pos': '名詞'},\n",
    "    {'surface': 'の', 'pos': ''},\n",
    "    {'surface': 'd', 'pos': '名詞'},\n",
    "    {'surface': 'の', 'pos': ''},\n",
    "    {'surface': 'e', 'pos': '動詞'},\n",
    "]\n",
    "get_noun_phrase(test_list) == ['bのc', 'cのd']"
   ]
  },
  {
   "cell_type": "code",
   "execution_count": 13,
   "metadata": {},
   "outputs": [],
   "source": [
    "# 各文から取り出して、和集合をとる\n",
    "output = reduce(lambda x, y: set(x) | set(y),\n",
    "                map(get_noun_phrase, load_mecab(input_path))\n",
    ")\n",
    "# print(output)"
   ]
  },
  {
   "cell_type": "markdown",
   "metadata": {},
   "source": [
    "## 34. 名詞の連接\n",
    "名詞の連接（連続して出現する名詞）を最長一致で抽出せよ．"
   ]
  },
  {
   "cell_type": "code",
   "execution_count": 14,
   "metadata": {},
   "outputs": [
    {
     "data": {
      "text/plain": [
       "True"
      ]
     },
     "execution_count": 14,
     "metadata": {},
     "output_type": "execute_result"
    }
   ],
   "source": [
    "# 名詞の連接（連続して出現する名詞）を抽出\n",
    "def get_noun_articulation(morphemes: List[Dict]) -> List[str]:\n",
    "    ret_list = []\n",
    "    temp = []\n",
    "    for m in morphemes:\n",
    "        # 名詞だったらストック\n",
    "        if m['pos'] == '名詞':\n",
    "            temp.append(m['surface'])\n",
    "        # 名詞でなかったらリセット\n",
    "        else:\n",
    "            # 名詞が2つ以上連続していたら、抽出\n",
    "            if len(temp) >=2:\n",
    "                ret_list.append(''.join(temp))\n",
    "            temp = []\n",
    "    # ループ終了時のチェック\n",
    "    # 2つ以上連続していたら、抽出\n",
    "    if len(temp) >=2:\n",
    "        ret_list.append(''.join(temp))\n",
    "    return ret_list\n",
    "\n",
    "test_list = [\n",
    "    {'surface': 'a', 'pos': '名詞'},\n",
    "    {'surface': 'b', 'pos': '動詞'},\n",
    "    {'surface': 'c', 'pos': '名詞'},\n",
    "    {'surface': 'd', 'pos': '名詞'},\n",
    "    {'surface': 'e', 'pos': '動詞'},\n",
    "    {'surface': 'f', 'pos': '名詞'},\n",
    "    {'surface': 'g', 'pos': '名詞'},\n",
    "    {'surface': 'h', 'pos': '名詞'},\n",
    "    {'surface': 'i', 'pos': '動詞'},\n",
    "]\n",
    "get_noun_articulation(test_list) == ['cd', 'fgh']"
   ]
  },
  {
   "cell_type": "code",
   "execution_count": 15,
   "metadata": {},
   "outputs": [],
   "source": [
    "# 各文から取り出して、和集合をとる\n",
    "output = reduce(lambda x, y: set(x) | set(y),\n",
    "                map(get_noun_articulation, load_mecab(input_path))\n",
    ")\n",
    "# print(output)"
   ]
  },
  {
   "cell_type": "markdown",
   "metadata": {},
   "source": [
    "## 35. 単語の出現頻度\n",
    "文章中に出現する単語とその出現頻度を求め，出現頻度の高い順に並べよ．"
   ]
  },
  {
   "cell_type": "code",
   "execution_count": 16,
   "metadata": {},
   "outputs": [
    {
     "data": {
      "text/plain": [
       "True"
      ]
     },
     "execution_count": 16,
     "metadata": {},
     "output_type": "execute_result"
    }
   ],
   "source": [
    "# '助詞'と'記号'以外に絞る\n",
    "def get_word(morphemes: List[Dict]) -> List[Dict]:\n",
    "    ret_list = []\n",
    "    for m in morphemes:\n",
    "        if m['pos'] != '助詞' and m['pos'] != '記号':\n",
    "            ret_list.append(m)\n",
    "    return ret_list\n",
    "\n",
    "test_list = [\n",
    "    {'surface': 'a', 'pos': '名詞'},\n",
    "    {'surface': 'b', 'pos': '助詞'},\n",
    "    {'surface': 'c', 'pos': '記号'},\n",
    "]\n",
    "get_word(test_list) == [{'surface': 'a', 'pos': '名詞'}]"
   ]
  },
  {
   "cell_type": "code",
   "execution_count": 17,
   "metadata": {},
   "outputs": [],
   "source": [
    "import pandas as pd"
   ]
  },
  {
   "cell_type": "code",
   "execution_count": 18,
   "metadata": {},
   "outputs": [
    {
     "data": {
      "text/plain": [
       "word\n",
       "だ        5975\n",
       "た        4267\n",
       "する       3657\n",
       "ない       3052\n",
       "ある       2320\n",
       "         ... \n",
       "振り落とす       1\n",
       "振れる         1\n",
       "振袖          1\n",
       "挽回          1\n",
       "愁然          1\n",
       "Name: cnt, Length: 11140, dtype: int64"
      ]
     },
     "execution_count": 18,
     "metadata": {},
     "output_type": "execute_result"
    }
   ],
   "source": [
    "# 単語一覧\n",
    "words = reduce(\n",
    "    lambda x, y: x+y,\n",
    "    map(lambda morphemes: [m['base'] for m in morphemes],\n",
    "        map(get_word, load_mecab(input_path))\n",
    "       )\n",
    ")\n",
    "# Pandas DataFrameを使って集計、ソート\n",
    "df_word_cnt = (\n",
    "    pd.DataFrame({'word': words})\n",
    "    .assign(cnt=1) # カウント列追加\n",
    "    .groupby('word')['cnt'].count()\n",
    "    .sort_values(ascending=False)\n",
    ")\n",
    "df_word_cnt"
   ]
  },
  {
   "cell_type": "markdown",
   "metadata": {},
   "source": [
    "## 36. 頻度上位10語\n",
    "出現頻度が高い10語とその出現頻度をグラフ（例えば棒グラフなど）で表示せよ．"
   ]
  },
  {
   "cell_type": "code",
   "execution_count": 19,
   "metadata": {},
   "outputs": [
    {
     "data": {
      "text/plain": [
       "word\n",
       "だ     5975\n",
       "た     4267\n",
       "する    3657\n",
       "ない    3052\n",
       "ある    2320\n",
       "*     2191\n",
       "いる    1777\n",
       "の     1611\n",
       "ん     1554\n",
       "云う    1408\n",
       "Name: cnt, dtype: int64"
      ]
     },
     "execution_count": 19,
     "metadata": {},
     "output_type": "execute_result"
    }
   ],
   "source": [
    "# 出現頻度が高い10語\n",
    "df_word_cnt.head(10)"
   ]
  },
  {
   "cell_type": "code",
   "execution_count": 20,
   "metadata": {},
   "outputs": [],
   "source": [
    "import matplotlib\n",
    "import matplotlib.pyplot as plt\n",
    "import japanize_matplotlib"
   ]
  },
  {
   "cell_type": "code",
   "execution_count": 21,
   "metadata": {},
   "outputs": [
    {
     "data": {
      "text/plain": [
       "<BarContainer object of 10 artists>"
      ]
     },
     "execution_count": 21,
     "metadata": {},
     "output_type": "execute_result"
    },
    {
     "data": {
      "image/png": "[encoded data removed]",
      "text/plain": [
       "<Figure size 432x288 with 1 Axes>"
      ]
     },
     "metadata": {
      "needs_background": "light"
     },
     "output_type": "display_data"
    }
   ],
   "source": [
    "# 出現頻度をグラフ表示\n",
    "fig, ax = plt.subplots(1, 1)\n",
    "x = df_word_cnt.head(10).index\n",
    "y = df_word_cnt.head(10).values\n",
    "ax.bar(x=x, height=y)"
   ]
  },
  {
   "cell_type": "markdown",
   "metadata": {},
   "source": [
    "## 37. 「猫」と共起頻度の高い上位10語\n",
    "「猫」とよく共起する（共起頻度が高い）10語とその出現頻度をグラフ（例えば棒グラフなど）で表示せよ．"
   ]
  },
  {
   "cell_type": "code",
   "execution_count": 22,
   "metadata": {},
   "outputs": [
    {
     "data": {
      "text/plain": [
       "True"
      ]
     },
     "execution_count": 22,
     "metadata": {},
     "output_type": "execute_result"
    }
   ],
   "source": [
    "# ある単語を含む文のみ抽出\n",
    "def get_sentence_with_word(sentences: List[List[Dict]], word: str) -> List[List[Dict]]:\n",
    "    ret_list = []\n",
    "    for morphemes in sentences:\n",
    "        for m in morphemes:\n",
    "            # 猫が居たらストック\n",
    "            if m['surface'] == word:\n",
    "                ret_list.append(morphemes)\n",
    "                break\n",
    "    return ret_list\n",
    "\n",
    "test_list = [\n",
    "    [{'surface': '猫', 'pos': '名詞'},\n",
    "    {'surface': 'b', 'pos': '動詞'}],\n",
    "    [{'surface': 'i', 'pos': '動詞'}],\n",
    "    [{'surface': '猫', 'pos': '動詞'}],\n",
    "]\n",
    "get_sentence_with_word(test_list, word='猫') == [\n",
    "    [{'surface': '猫', 'pos': '名詞'},\n",
    "    {'surface': 'b', 'pos': '動詞'}],\n",
    "    [{'surface': '猫', 'pos': '動詞'}],\n",
    "]"
   ]
  },
  {
   "cell_type": "code",
   "execution_count": 23,
   "metadata": {},
   "outputs": [
    {
     "data": {
      "text/plain": [
       "word\n",
       "猫     248\n",
       "だ     231\n",
       "する    144\n",
       "た     140\n",
       "ある    127\n",
       "     ... \n",
       "極り      1\n",
       "極度      1\n",
       "楽       1\n",
       "構う      1\n",
       "忠告      1\n",
       "Name: cnt, Length: 1544, dtype: int64"
      ]
     },
     "execution_count": 23,
     "metadata": {},
     "output_type": "execute_result"
    }
   ],
   "source": [
    "# 猫を含む文の単語一覧\n",
    "neko_words = reduce(\n",
    "    lambda x, y: x+y,\n",
    "    map(lambda morphemes: [m['base'] for m in morphemes],\n",
    "                map(get_word,\n",
    "                    get_sentence_with_word(load_mecab(input_path), word='猫')\n",
    "                   )\n",
    "       )\n",
    ")\n",
    "# Pandas DataFrameを使って集計、ソート\n",
    "df_neko_word_cnt = (\n",
    "    pd.DataFrame({'word': neko_words})\n",
    "    .assign(cnt=1) # カウント列追加\n",
    "    .groupby('word')['cnt'].count()\n",
    "    .sort_values(ascending=False)\n",
    ")\n",
    "df_neko_word_cnt"
   ]
  },
  {
   "cell_type": "code",
   "execution_count": 24,
   "metadata": {},
   "outputs": [
    {
     "data": {
      "text/plain": [
       "word\n",
       "猫     248\n",
       "だ     231\n",
       "する    144\n",
       "た     140\n",
       "ある    127\n",
       "ない    112\n",
       "*      63\n",
       "事      59\n",
       "いる     58\n",
       "吾輩     58\n",
       "の      55\n",
       "Name: cnt, dtype: int64"
      ]
     },
     "execution_count": 24,
     "metadata": {},
     "output_type": "execute_result"
    }
   ],
   "source": [
    "# 猫も入ってるので、11個表示させておく\n",
    "df_neko_word_cnt.head(11)"
   ]
  },
  {
   "cell_type": "code",
   "execution_count": 25,
   "metadata": {},
   "outputs": [
    {
     "data": {
      "text/plain": [
       "<BarContainer object of 10 artists>"
      ]
     },
     "execution_count": 25,
     "metadata": {},
     "output_type": "execute_result"
    },
    {
     "data": {
      "image/png": "[encoded data removed]",
      "text/plain": [
       "<Figure size 432x288 with 1 Axes>"
      ]
     },
     "metadata": {
      "needs_background": "light"
     },
     "output_type": "display_data"
    }
   ],
   "source": [
    "# 出現頻度をグラフ表示\n",
    "fig, ax = plt.subplots(1, 1)\n",
    "x = df_neko_word_cnt.head(10).index\n",
    "y = df_neko_word_cnt.head(10).values\n",
    "ax.bar(x=x, height=y)"
   ]
  },
  {
   "cell_type": "markdown",
   "metadata": {},
   "source": [
    "## 38. ヒストグラム\n",
    "単語の出現頻度のヒストグラムを描け．ただし，横軸は出現頻度を表し，1から単語の出現頻度の最大値までの線形目盛とする．縦軸はx軸で示される出現頻度となった単語の異なり数（種類数）である．"
   ]
  },
  {
   "cell_type": "code",
   "execution_count": 26,
   "metadata": {},
   "outputs": [
    {
     "data": {
      "text/plain": [
       "<matplotlib.axes._subplots.AxesSubplot at 0x1bc3f4f6e10>"
      ]
     },
     "execution_count": 26,
     "metadata": {},
     "output_type": "execute_result"
    },
    {
     "data": {
      "image/png": "[encoded data removed]",
      "text/plain": [
       "<Figure size 432x288 with 1 Axes>"
      ]
     },
     "metadata": {
      "needs_background": "light"
     },
     "output_type": "display_data"
    }
   ],
   "source": [
    "df_word_cnt.hist()"
   ]
  },
  {
   "cell_type": "code",
   "execution_count": 27,
   "metadata": {},
   "outputs": [
    {
     "data": {
      "text/plain": [
       "<matplotlib.axes._subplots.AxesSubplot at 0x1bc2b8dea20>"
      ]
     },
     "execution_count": 27,
     "metadata": {},
     "output_type": "execute_result"
    },
    {
     "data": {
      "image/png": "[encoded data removed]",
      "text/plain": [
       "<Figure size 432x288 with 1 Axes>"
      ]
     },
     "metadata": {
      "needs_background": "light"
     },
     "output_type": "display_data"
    }
   ],
   "source": [
    "# 対数グラフで見てみる\n",
    "df_word_cnt.hist(log=True)"
   ]
  },
  {
   "cell_type": "markdown",
   "metadata": {},
   "source": [
    "## 39. Zipfの法則\n",
    "単語の出現頻度順位を横軸，その出現頻度を縦軸として，両対数グラフをプロットせよ．"
   ]
  },
  {
   "cell_type": "code",
   "execution_count": 28,
   "metadata": {},
   "outputs": [
    {
     "data": {
      "text/html": [
       "<div>\n",
       "<style scoped>\n",
       "    .dataframe tbody tr th:only-of-type {\n",
       "        vertical-align: middle;\n",
       "    }\n",
       "\n",
       "    .dataframe tbody tr th {\n",
       "        vertical-align: top;\n",
       "    }\n",
       "\n",
       "    .dataframe thead th {\n",
       "        text-align: right;\n",
       "    }\n",
       "</style>\n",
       "<table border=\"1\" class=\"dataframe\">\n",
       "  <thead>\n",
       "    <tr style=\"text-align: right;\">\n",
       "      <th></th>\n",
       "      <th>word</th>\n",
       "      <th>cnt</th>\n",
       "    </tr>\n",
       "  </thead>\n",
       "  <tbody>\n",
       "    <tr>\n",
       "      <th>0</th>\n",
       "      <td>だ</td>\n",
       "      <td>5975</td>\n",
       "    </tr>\n",
       "    <tr>\n",
       "      <th>1</th>\n",
       "      <td>た</td>\n",
       "      <td>4267</td>\n",
       "    </tr>\n",
       "    <tr>\n",
       "      <th>2</th>\n",
       "      <td>する</td>\n",
       "      <td>3657</td>\n",
       "    </tr>\n",
       "    <tr>\n",
       "      <th>3</th>\n",
       "      <td>ない</td>\n",
       "      <td>3052</td>\n",
       "    </tr>\n",
       "    <tr>\n",
       "      <th>4</th>\n",
       "      <td>ある</td>\n",
       "      <td>2320</td>\n",
       "    </tr>\n",
       "  </tbody>\n",
       "</table>\n",
       "</div>"
      ],
      "text/plain": [
       "  word   cnt\n",
       "0    だ  5975\n",
       "1    た  4267\n",
       "2   する  3657\n",
       "3   ない  3052\n",
       "4   ある  2320"
      ]
     },
     "execution_count": 28,
     "metadata": {},
     "output_type": "execute_result"
    }
   ],
   "source": [
    "df_39 = df_word_cnt.reset_index()\n",
    "df_39.head()"
   ]
  },
  {
   "cell_type": "code",
   "execution_count": 29,
   "metadata": {},
   "outputs": [],
   "source": [
    "df_39['rank'] = df_39['cnt'].rank(ascending=False)"
   ]
  },
  {
   "cell_type": "code",
   "execution_count": 30,
   "metadata": {},
   "outputs": [
    {
     "data": {
      "image/png": "[encoded data removed]",
      "text/plain": [
       "<Figure size 432x288 with 1 Axes>"
      ]
     },
     "metadata": {
      "needs_background": "light"
     },
     "output_type": "display_data"
    }
   ],
   "source": [
    "fig, ax = plt.subplots()\n",
    "x = df_39['rank']\n",
    "y = df_39['cnt']\n",
    "ax.plot(x, y)\n",
    "ax.set_xscale('log')\n",
    "ax.set_yscale('log')\n",
    "plt.show()"
   ]
  },
  {
   "cell_type": "code",
   "execution_count": null,
   "metadata": {},
   "outputs": [],
   "source": []
  }
 ],
 "metadata": {
  "kernelspec": {
   "display_name": "Python 3",
   "language": "python",
   "name": "python3"
  },
  "language_info": {
   "codemirror_mode": {
    "name": "ipython",
    "version": 3
   },
   "file_extension": ".py",
   "mimetype": "text/x-python",
   "name": "python",
   "nbconvert_exporter": "python",
   "pygments_lexer": "ipython3",
   "version": "3.7.1"
  }
 },
 "nbformat": 4,
 "nbformat_minor": 4
}
