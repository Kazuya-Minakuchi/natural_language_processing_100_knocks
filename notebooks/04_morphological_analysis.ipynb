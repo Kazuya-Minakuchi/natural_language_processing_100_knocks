{
 "cells": [
  {
   "cell_type": "markdown",
   "metadata": {},
   "source": [
    "# 第4章: 形態素解析\n",
    "\n",
    "夏目漱石の小説『吾輩は猫である』の文章（neko.txt）をMeCabを使って形態素解析し，その結果をneko.txt.mecabというファイルに保存せよ．このファイルを用いて，以下の問に対応するプログラムを実装せよ．\n",
    "\n",
    "なお，問題37, 38, 39はmatplotlibもしくはGnuplotを用いるとよい．"
   ]
  },
  {
   "cell_type": "markdown",
   "metadata": {},
   "source": [
    "## MeCab動作チェック"
   ]
  },
  {
   "cell_type": "code",
   "execution_count": 1,
   "metadata": {},
   "outputs": [],
   "source": [
    "import MeCab\n",
    "import sys\n",
    "import re\n",
    "from collections import Counter"
   ]
  },
  {
   "cell_type": "code",
   "execution_count": 2,
   "metadata": {},
   "outputs": [],
   "source": [
    "text = 'pythonが大好きです。'"
   ]
  },
  {
   "cell_type": "code",
   "execution_count": 3,
   "metadata": {},
   "outputs": [
    {
     "name": "stdout",
     "output_type": "stream",
     "text": [
      "表層形\t品詞,品詞細分類1,品詞細分類2,品詞細分類3,活用型,活用形,原形,読み,発音\n",
      "python\t名詞,固有名詞,組織,*,*,*,*\n",
      "が\t助詞,格助詞,一般,*,*,*,が,ガ,ガ\n",
      "大好き\t名詞,形容動詞語幹,*,*,*,*,大好き,ダイスキ,ダイスキ\n",
      "です\t助動詞,*,*,*,特殊・デス,基本形,です,デス,デス\n",
      "。\t記号,句点,*,*,*,*,。,。,。\n",
      "EOS\n",
      "\n"
     ]
    }
   ],
   "source": [
    "print('表層形\\t品詞,品詞細分類1,品詞細分類2,品詞細分類3,活用型,活用形,原形,読み,発音')\n",
    "parse = MeCab.Tagger().parse(text)\n",
    "print(parse)"
   ]
  },
  {
   "cell_type": "code",
   "execution_count": 4,
   "metadata": {},
   "outputs": [
    {
     "data": {
      "text/plain": [
       "['python\\t名詞,固有名詞,組織,*,*,*,*',\n",
       " 'が\\t助詞,格助詞,一般,*,*,*,が,ガ,ガ',\n",
       " '大好き\\t名詞,形容動詞語幹,*,*,*,*,大好き,ダイスキ,ダイスキ',\n",
       " 'です\\t助動詞,*,*,*,特殊・デス,基本形,です,デス,デス',\n",
       " '。\\t記号,句点,*,*,*,*,。,。,。',\n",
       " 'EOS',\n",
       " '']"
      ]
     },
     "execution_count": 4,
     "metadata": {},
     "output_type": "execute_result"
    }
   ],
   "source": [
    "lines = parse.split('\\n')\n",
    "lines"
   ]
  },
  {
   "cell_type": "markdown",
   "metadata": {},
   "source": [
    "## MeCab実行"
   ]
  },
  {
   "cell_type": "markdown",
   "metadata": {},
   "source": [
    "コマンドプロンプトで以下を実行\n",
    "\n",
    "`mecab neko.txt -o neko.txt.mecab`"
   ]
  },
  {
   "cell_type": "markdown",
   "metadata": {},
   "source": [
    "## 30. 形態素解析結果の読み込み\n",
    "形態素解析結果（neko.txt.mecab）を読み込むプログラムを実装せよ．ただし，各形態素は表層形（surface），基本形（base），品詞（pos），品詞細分類1（pos1）をキーとするマッピング型に格納し，1文を形態素（マッピング型）のリストとして表現せよ．第4章の残りの問題では，ここで作ったプログラムを活用せよ．"
   ]
  },
  {
   "cell_type": "code",
   "execution_count": 80,
   "metadata": {},
   "outputs": [],
   "source": [
    "import os\n",
    "from typing import List, Dict"
   ]
  },
  {
   "cell_type": "code",
   "execution_count": 81,
   "metadata": {},
   "outputs": [],
   "source": [
    "input_path = os.path.join(os.getcwd(), '../data/neko.txt.mecab')"
   ]
  },
  {
   "cell_type": "code",
   "execution_count": 82,
   "metadata": {},
   "outputs": [],
   "source": [
    "# 読み込み\n",
    "def get_raw(path: str) -> str:\n",
    "    with open(path, mode='r', encoding='utf-8') as f:\n",
    "        return f.read()"
   ]
  },
  {
   "cell_type": "code",
   "execution_count": 83,
   "metadata": {},
   "outputs": [
    {
     "data": {
      "text/plain": [
       "['\\n一\\t名詞,数,*,*,*,*,一,イチ,イチ\\n',\n",
       " '\\u3000\\t記号,空白,*,*,*,*,\\u3000,\\u3000,\\u3000\\n吾輩\\t名詞,代名詞,一般,*,*,*,吾輩,ワガハイ,ワガハイ\\nは\\t助詞,係助詞,*,*,*,*,は,ハ,ワ\\n猫\\t名詞,一般,*,*,*,*,猫,ネコ,ネコ\\nで\\t助動詞,*,*,*,特殊・ダ,連用形,だ,デ,デ\\nある\\t助動詞,*,*,*,五段・ラ行アル,基本形,ある,アル,アル\\n。\\t記号,句点,*,*,*,*,。,。,。\\n',\n",
       " '名前\\t名詞,一般,*,*,*,*,名前,ナマエ,ナマエ\\nは\\t助詞,係助詞,*,*,*,*,は,ハ,ワ\\nまだ\\t副詞,助詞類接続,*,*,*,*,まだ,マダ,マダ\\n無い\\t形容詞,自立,*,*,形容詞・アウオ段,基本形,無い,ナイ,ナイ\\n。\\t記号,句点,*,*,*,*,。,。,。\\n']"
      ]
     },
     "execution_count": 83,
     "metadata": {},
     "output_type": "execute_result"
    }
   ],
   "source": [
    "# 文ごとにリストに入れる\n",
    "def get_sentences(text: str) -> List[str]:\n",
    "    return [s for s in text.split('EOS\\n') if s != '']\n",
    "\n",
    "test_text = \"\"\"\n",
    "一\t名詞,数,*,*,*,*,一,イチ,イチ\n",
    "EOS\n",
    "EOS\n",
    "　\t記号,空白,*,*,*,*,　,　,　\n",
    "吾輩\t名詞,代名詞,一般,*,*,*,吾輩,ワガハイ,ワガハイ\n",
    "は\t助詞,係助詞,*,*,*,*,は,ハ,ワ\n",
    "猫\t名詞,一般,*,*,*,*,猫,ネコ,ネコ\n",
    "で\t助動詞,*,*,*,特殊・ダ,連用形,だ,デ,デ\n",
    "ある\t助動詞,*,*,*,五段・ラ行アル,基本形,ある,アル,アル\n",
    "。\t記号,句点,*,*,*,*,。,。,。\n",
    "EOS\n",
    "名前\t名詞,一般,*,*,*,*,名前,ナマエ,ナマエ\n",
    "は\t助詞,係助詞,*,*,*,*,は,ハ,ワ\n",
    "まだ\t副詞,助詞類接続,*,*,*,*,まだ,マダ,マダ\n",
    "無い\t形容詞,自立,*,*,形容詞・アウオ段,基本形,無い,ナイ,ナイ\n",
    "。\t記号,句点,*,*,*,*,。,。,。\n",
    "EOS\n",
    "EOS\n",
    "\"\"\"\n",
    "get_sentences(test_text)"
   ]
  },
  {
   "cell_type": "code",
   "execution_count": 84,
   "metadata": {},
   "outputs": [
    {
     "data": {
      "text/plain": [
       "[{'surface': 'どこ', 'base': 'どこ', 'pos': '名詞', 'pos1': '代名詞'},\n",
       " {'surface': 'で', 'base': 'で', 'pos': '助詞', 'pos1': '格助詞'},\n",
       " {'surface': '生れ', 'base': '生れる', 'pos': '動詞', 'pos1': '自立'},\n",
       " {'surface': 'た', 'base': 'た', 'pos': '助動詞', 'pos1': '*'},\n",
       " {'surface': 'か', 'base': 'か', 'pos': '助詞', 'pos1': '副助詞／並立助詞／終助詞'},\n",
       " {'surface': 'とんと', 'base': 'とんと', 'pos': '副詞', 'pos1': '一般'},\n",
       " {'surface': '見当', 'base': '見当', 'pos': '名詞', 'pos1': 'サ変接続'},\n",
       " {'surface': 'が', 'base': 'が', 'pos': '助詞', 'pos1': '格助詞'},\n",
       " {'surface': 'つか', 'base': 'つく', 'pos': '動詞', 'pos1': '自立'},\n",
       " {'surface': 'ぬ', 'base': 'ぬ', 'pos': '助動詞', 'pos1': '*'},\n",
       " {'surface': '。', 'base': '。', 'pos': '記号', 'pos1': '句点'}]"
      ]
     },
     "execution_count": 84,
     "metadata": {},
     "output_type": "execute_result"
    }
   ],
   "source": [
    "# 文の形態素をマッピングし、リストに入れる\n",
    "def mapping_sentence(text: str) -> List[Dict]:\n",
    "    morphemes = text.split('\\n')\n",
    "    ret_list = []\n",
    "    for m in morphemes:\n",
    "        # 空白行は除外\n",
    "        if m == '':\n",
    "            continue\n",
    "        # 表層系とそれ以外を分離\n",
    "        surface, others = m.split('\\t')\n",
    "        # それ以外の中身を分離\n",
    "        other = others.split(',')\n",
    "        # 空白は除外\n",
    "        if other[0] == '記号' and other[1] == '空白':\n",
    "            continue\n",
    "        # マッピング型にしてリストに追加\n",
    "        ret_list.append({\n",
    "            'surface': surface,\n",
    "            'base': other[6],\n",
    "            'pos': other[0],\n",
    "            'pos1': other[1],\n",
    "        })\n",
    "    return ret_list\n",
    "\n",
    "test_text = \"\"\"\n",
    "　\t記号,空白,*,*,*,*,　,　,　\n",
    "どこ\t名詞,代名詞,一般,*,*,*,どこ,ドコ,ドコ\n",
    "で\t助詞,格助詞,一般,*,*,*,で,デ,デ\n",
    "生れ\t動詞,自立,*,*,一段,連用形,生れる,ウマレ,ウマレ\n",
    "た\t助動詞,*,*,*,特殊・タ,基本形,た,タ,タ\n",
    "か\t助詞,副助詞／並立助詞／終助詞,*,*,*,*,か,カ,カ\n",
    "とんと\t副詞,一般,*,*,*,*,とんと,トント,トント\n",
    "見当\t名詞,サ変接続,*,*,*,*,見当,ケントウ,ケントー\n",
    "が\t助詞,格助詞,一般,*,*,*,が,ガ,ガ\n",
    "つか\t動詞,自立,*,*,五段・カ行イ音便,未然形,つく,ツカ,ツカ\n",
    "ぬ\t助動詞,*,*,*,特殊・ヌ,基本形,ぬ,ヌ,ヌ\n",
    "。\t記号,句点,*,*,*,*,。,。,。\n",
    "\"\"\"\n",
    "\n",
    "mapping_sentence(test_text)"
   ]
  },
  {
   "cell_type": "code",
   "execution_count": 86,
   "metadata": {},
   "outputs": [
    {
     "data": {
      "text/plain": [
       "[[{'surface': '一', 'base': '一', 'pos': '名詞', 'pos1': '数'}],\n",
       " [{'surface': '吾輩', 'base': '吾輩', 'pos': '名詞', 'pos1': '代名詞'},\n",
       "  {'surface': 'は', 'base': 'は', 'pos': '助詞', 'pos1': '係助詞'},\n",
       "  {'surface': '猫', 'base': '猫', 'pos': '名詞', 'pos1': '一般'},\n",
       "  {'surface': 'で', 'base': 'だ', 'pos': '助動詞', 'pos1': '*'},\n",
       "  {'surface': 'ある', 'base': 'ある', 'pos': '助動詞', 'pos1': '*'},\n",
       "  {'surface': '。', 'base': '。', 'pos': '記号', 'pos1': '句点'}]]"
      ]
     },
     "execution_count": 86,
     "metadata": {},
     "output_type": "execute_result"
    }
   ],
   "source": [
    "# 形態素解析結果読み込み\n",
    "def load_mecab(path: str) -> List[List[Dict]]:\n",
    "    # 読み込み\n",
    "    text = get_raw(input_path)\n",
    "    # 文ごとに分離\n",
    "    sentences = get_sentences(text)\n",
    "    # マッピング型のリストに格納\n",
    "    return list(map(mapping_sentence, sentences))\n",
    "\n",
    "load_mecab(input_path)[0:2]"
   ]
  },
  {
   "cell_type": "markdown",
   "metadata": {},
   "source": [
    "## 31. 動詞\n",
    "動詞の表層形をすべて抽出せよ．"
   ]
  },
  {
   "cell_type": "code",
   "execution_count": 89,
   "metadata": {},
   "outputs": [
    {
     "data": {
      "text/plain": [
       "True"
      ]
     },
     "execution_count": 89,
     "metadata": {},
     "output_type": "execute_result"
    }
   ],
   "source": [
    "def get_surface_of_verb(morphemes: List[Dict]) -> List[str]:\n",
    "    return [m['surface'] for m in morphemes if m['pos'] == '動詞']\n",
    "\n",
    "test_list = [\n",
    "    {'surface': 'a', 'pos': '動詞'},\n",
    "    {'surface': 'b', 'pos': '動詞'},\n",
    "    {'surface': 'c', 'pos': '名刺'},\n",
    "]\n",
    "get_surface_of_verb(test_list) == ['a', 'b']"
   ]
  },
  {
   "cell_type": "code",
   "execution_count": null,
   "metadata": {},
   "outputs": [],
   "source": []
  },
  {
   "cell_type": "code",
   "execution_count": null,
   "metadata": {},
   "outputs": [],
   "source": [
    "# load_mecab(input_path)"
   ]
  }
 ],
 "metadata": {
  "kernelspec": {
   "display_name": "Python 3",
   "language": "python",
   "name": "python3"
  },
  "language_info": {
   "codemirror_mode": {
    "name": "ipython",
    "version": 3
   },
   "file_extension": ".py",
   "mimetype": "text/x-python",
   "name": "python",
   "nbconvert_exporter": "python",
   "pygments_lexer": "ipython3",
   "version": "3.7.1"
  }
 },
 "nbformat": 4,
 "nbformat_minor": 4
}
