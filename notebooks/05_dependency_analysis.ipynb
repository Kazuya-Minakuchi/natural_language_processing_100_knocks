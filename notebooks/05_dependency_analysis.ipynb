{
 "cells": [
  {
   "cell_type": "markdown",
   "metadata": {},
   "source": [
    "# 第5章: 係り受け解析\n",
    "\n",
    "日本語Wikipediaの「人工知能」に関する記事からテキスト部分を抜き出したファイルがai.ja.zipに収録されている． この文章をCaboChaやKNP等のツールを利用して係り受け解析を行い，その結果をai.ja.txt.parsedというファイルに保存せよ．このファイルを読み込み，以下の問に対応するプログラムを実装せよ．"
   ]
  },
  {
   "cell_type": "markdown",
   "metadata": {},
   "source": [
    "KNP使うときのコマンド\n",
    "\n",
    "`juman < ai.ja.txt | knp -simple -anaphora > ai.ja.txt.parsed`"
   ]
  },
  {
   "cell_type": "code",
   "execution_count": 1,
   "metadata": {},
   "outputs": [],
   "source": [
    "import os\n",
    "from typing import List, Dict"
   ]
  },
  {
   "cell_type": "code",
   "execution_count": 2,
   "metadata": {},
   "outputs": [],
   "source": [
    "input_path = os.path.join(os.getcwd(), '../data/ai.ja.txt.parsed')"
   ]
  },
  {
   "cell_type": "code",
   "execution_count": 3,
   "metadata": {},
   "outputs": [],
   "source": [
    "# 読み込み\n",
    "def get_raw(path: str) -> str:\n",
    "    with open(path, mode='r') as f:\n",
    "        return f.read()"
   ]
  },
  {
   "cell_type": "code",
   "execution_count": 4,
   "metadata": {},
   "outputs": [],
   "source": [
    "# 行ごとに読み込み\n",
    "def get_lines(path: str) -> List[str]:\n",
    "    with open(path, mode='r') as f:\n",
    "        s = [s.strip() for s in f.readlines()]\n",
    "    return s"
   ]
  },
  {
   "cell_type": "code",
   "execution_count": 5,
   "metadata": {},
   "outputs": [],
   "source": [
    "# 全文\n",
    "raw = get_raw(input_path)"
   ]
  },
  {
   "cell_type": "code",
   "execution_count": 6,
   "metadata": {},
   "outputs": [],
   "source": [
    "# 文リスト\n",
    "sentences = raw.split('EOS\\n')"
   ]
  },
  {
   "cell_type": "markdown",
   "metadata": {},
   "source": [
    "## 40. 係り受け解析結果の読み込み（形態素）\n",
    "形態素を表すクラスMorphを実装せよ．このクラスは表層形（surface），基本形（base），品詞（pos），品詞細分類1（pos1）をメンバ変数に持つこととする．さらに，係り受け解析の結果（ai.ja.txt.parsed）を読み込み，各文をMorphオブジェクトのリストとして表現し，冒頭の説明文の形態素列を表示せよ．"
   ]
  },
  {
   "cell_type": "code",
   "execution_count": 7,
   "metadata": {},
   "outputs": [
    {
     "data": {
      "text/plain": [
       "<__main__.Morph at 0x1d7f8c1c048>"
      ]
     },
     "execution_count": 7,
     "metadata": {},
     "output_type": "execute_result"
    }
   ],
   "source": [
    "# 形態素を表すクラス\n",
    "class Morph():\n",
    "    def __init__(self, morph_dict: dict):\n",
    "        self.surface = morph_dict['surface'] # 表層形\n",
    "        self.base = morph_dict['base'] # 基本形\n",
    "        self.pos = morph_dict['pos'] # 品詞\n",
    "        self.pos1 = morph_dict['pos1'] # 品詞細分類1\n",
    "\n",
    "Morph({'surface': 'a', 'base': 'b', 'pos': 'c', 'pos1': 'd'})"
   ]
  },
  {
   "cell_type": "code",
   "execution_count": 8,
   "metadata": {},
   "outputs": [
    {
     "data": {
      "text/plain": [
       "True"
      ]
     },
     "execution_count": 8,
     "metadata": {},
     "output_type": "execute_result"
    }
   ],
   "source": [
    "# 入力形態素から始まる行を渡すと、表層形（surface），基本形（base），品詞（pos），品詞細分類1（pos1）の辞書を返す\n",
    "def get_surface_base_pos_pos1(text: str) -> dict:\n",
    "    morp = text.split(' ')\n",
    "    surface = morp[0]\n",
    "    base = morp[2]\n",
    "    pos = morp[3]\n",
    "    pos1 = morp[5]\n",
    "    return {\n",
    "        'surface': surface,\n",
    "        'base': base,\n",
    "        'pos': pos,\n",
    "        'pos1': pos1\n",
    "    }\n",
    "\n",
    "tes = 'a b c d e f'\n",
    "expect = {\n",
    "    'surface': 'a',\n",
    "    'base': 'c',\n",
    "    'pos': 'd',\n",
    "    'pos1': 'f'\n",
    "}\n",
    "get_surface_base_pos_pos1(tes) == expect"
   ]
  },
  {
   "cell_type": "code",
   "execution_count": 9,
   "metadata": {},
   "outputs": [
    {
     "data": {
      "text/plain": [
       "'人工知能（じんこうちのう、、AI〈エーアイ〉）とは、「『計算（）』という概念と『コンピュータ（）』という道具を用いて『知能』を研究する計算機科学（）の一分野」を指す語。「言語の理解や推論、問題解決などの知的行動を人間に代わってコンピューターに行わせる技術」、または、「計算機（コンピュータ）による知的な情報処理システムの設計や実現に関する研究分野」ともされる。'"
      ]
     },
     "execution_count": 9,
     "metadata": {},
     "output_type": "execute_result"
    }
   ],
   "source": [
    "# 1文を渡すと、形態素リストを返す\n",
    "def get_sentence_morphs(sentence: str) -> List:\n",
    "    # 改行で分ける\n",
    "    # 長さ0の文字列は除外(末尾の改行によって空白になる要素)\n",
    "    lines = [l for l in sentence.split('\\n') if len(l) != 0]\n",
    "    ret_list = []\n",
    "    # 行ごとに処理\n",
    "    for l in lines:\n",
    "        # #, *, +で始まる行は形態素でない情報なのでパス\n",
    "        if l[:1] == '#' or l[:1] == '*' or l[:1] == '+':\n",
    "            continue\n",
    "        # その他の（入力形態素から始まる）場合\n",
    "        else:\n",
    "            # 形態素を辞書型で取得\n",
    "            morph_dict = get_surface_base_pos_pos1(l)\n",
    "            # インスタンス作ってリストに入れる\n",
    "            ret_list.append(Morph(morph_dict))\n",
    "    return ret_list\n",
    "\n",
    "tes = sentences[2]\n",
    "''.join([m.surface for m in get_sentence_morphs(tes)])"
   ]
  },
  {
   "cell_type": "code",
   "execution_count": 10,
   "metadata": {},
   "outputs": [],
   "source": [
    "# 出力\n",
    "output = [get_sentence_morphs(s) for s in sentences]"
   ]
  },
  {
   "cell_type": "code",
   "execution_count": 11,
   "metadata": {},
   "outputs": [
    {
     "data": {
      "text/plain": [
       "'人工知能（じんこうちのう、、AI〈エーアイ〉）とは、「『計算（）』という概念と『コンピュータ（）』という道具を用いて『知能』を研究する計算機科学（）の一分野」を指す語。「言語の理解や推論、問題解決などの知的行動を人間に代わってコンピューターに行わせる技術」、または、「計算機（コンピュータ）による知的な情報処理システムの設計や実現に関する研究分野」ともされる。'"
      ]
     },
     "execution_count": 11,
     "metadata": {},
     "output_type": "execute_result"
    }
   ],
   "source": [
    "# 表示\n",
    "''.join([o.surface for o in output[2]])"
   ]
  },
  {
   "cell_type": "markdown",
   "metadata": {},
   "source": [
    "## 41. 係り受け解析結果の読み込み（文節・係り受け）\n",
    "40に加えて，文節を表すクラスChunkを実装せよ．このクラスは形態素（Morphオブジェクト）のリスト（morphs），係り先文節インデックス番号（dst），係り元文節インデックス番号のリスト（srcs）をメンバ変数に持つこととする．さらに，入力テキストの係り受け解析結果を読み込み，１文をChunkオブジェクトのリストとして表現し，冒頭の説明文の文節の文字列と係り先を表示せよ．本章の残りの問題では，ここで作ったプログラムを活用せよ．"
   ]
  },
  {
   "cell_type": "code",
   "execution_count": 12,
   "metadata": {},
   "outputs": [],
   "source": [
    "# 文節を表すクラス\n",
    "class Chunk():\n",
    "    def __init__(self, chunk_dict: dict):\n",
    "        self.morphs = chunk_dict['morphs']\n",
    "        self.dst = chunk_dict['dst']\n",
    "        self.srcs = chunk_dict['srcs']"
   ]
  },
  {
   "cell_type": "code",
   "execution_count": 13,
   "metadata": {},
   "outputs": [],
   "source": [
    "import re\n",
    "# 文節を渡すと、係り先と形態素リストを返す\n",
    "def get_chunk_morphs(sentence: str) -> List:\n",
    "    chunk = {}\n",
    "    lines = sentence.split('\\n')\n",
    "    # 係り先\n",
    "    chunk['dst'] = int(re.match(r'-*[0-9]+', lines[0]).group())\n",
    "    # 形態素リスト\n",
    "    chunk['morphs'] = get_sentence_morphs('\\n'.join(lines[1:]))\n",
    "    return chunk"
   ]
  },
  {
   "cell_type": "code",
   "execution_count": 14,
   "metadata": {},
   "outputs": [],
   "source": [
    "# 1文を渡すと、文節リストを返す\n",
    "def get_sentence_chunks(sentence: str) -> List:\n",
    "    chunks_raw = sentence.split('\\n* ')[1:] # 先頭は、#から始まる解析文の情報なので除外\n",
    "    chunks = {}\n",
    "    for i, c in enumerate(chunks_raw):\n",
    "        chunks[i] = get_chunk_morphs(c)\n",
    "        chunks[i]['srcs'] = []\n",
    "    for i, c in chunks.items():\n",
    "        if c['dst'] != -1:\n",
    "            chunks[c['dst']]['srcs'].append(i)\n",
    "    return [Chunk(c) for c in chunks.values()]"
   ]
  },
  {
   "cell_type": "code",
   "execution_count": 15,
   "metadata": {},
   "outputs": [
    {
     "data": {
      "text/plain": [
       "[['人工', '知能'],\n",
       " ['（', 'じんこう', 'ちのう', '、', '、'],\n",
       " ['AI'],\n",
       " ['〈', 'エーアイ', '〉', '）', 'と', 'は', '、'],\n",
       " ['「', '『', '計算', '（）', '』', 'と'],\n",
       " ['いう'],\n",
       " ['概念', 'と'],\n",
       " ['『', 'コンピュータ', '（）', '』', 'と'],\n",
       " ['いう'],\n",
       " ['道具', 'を'],\n",
       " ['用いて'],\n",
       " ['『', '知能', '』', 'を'],\n",
       " ['研究', 'する'],\n",
       " ['計算', '機', '科学', '（）', 'の'],\n",
       " ['一', '分野', '」', 'を'],\n",
       " ['指す'],\n",
       " ['語', '。'],\n",
       " ['「', '言語', 'の'],\n",
       " ['理解', 'や'],\n",
       " ['推論', '、'],\n",
       " ['問題', '解決', 'など', 'の'],\n",
       " ['知的', '行動', 'を'],\n",
       " ['人間', 'に'],\n",
       " ['代わって'],\n",
       " ['コンピューター', 'に'],\n",
       " ['行わ', 'せる'],\n",
       " ['技術', '」', '、', 'または', '、'],\n",
       " ['「', '計算', '機'],\n",
       " ['（', 'コンピュータ', '）', 'に'],\n",
       " ['よる'],\n",
       " ['知的な'],\n",
       " ['情報', '処理', 'システム', 'の'],\n",
       " ['設計', 'や'],\n",
       " ['実現', 'に'],\n",
       " ['関する'],\n",
       " ['研究', '分野', '」', 'と', 'も'],\n",
       " ['さ', 'れる', '。']]"
      ]
     },
     "execution_count": 15,
     "metadata": {},
     "output_type": "execute_result"
    }
   ],
   "source": [
    "[[m.surface for m in c.morphs] for c in get_sentence_chunks(sentences[2])]"
   ]
  },
  {
   "cell_type": "code",
   "execution_count": 16,
   "metadata": {},
   "outputs": [],
   "source": [
    "# 出力\n",
    "output = [get_sentence_chunks(s) for s in sentences]"
   ]
  },
  {
   "cell_type": "markdown",
   "metadata": {},
   "source": [
    "## 42. 係り元と係り先の文節の表示\n",
    "係り元の文節と係り先の文節のテキストをタブ区切り形式ですべて抽出せよ．ただし，句読点などの記号は出力しないようにせよ．"
   ]
  },
  {
   "cell_type": "code",
   "execution_count": null,
   "metadata": {},
   "outputs": [],
   "source": []
  }
 ],
 "metadata": {
  "kernelspec": {
   "display_name": "Python 3",
   "language": "python",
   "name": "python3"
  },
  "language_info": {
   "codemirror_mode": {
    "name": "ipython",
    "version": 3
   },
   "file_extension": ".py",
   "mimetype": "text/x-python",
   "name": "python",
   "nbconvert_exporter": "python",
   "pygments_lexer": "ipython3",
   "version": "3.7.1"
  }
 },
 "nbformat": 4,
 "nbformat_minor": 4
}
