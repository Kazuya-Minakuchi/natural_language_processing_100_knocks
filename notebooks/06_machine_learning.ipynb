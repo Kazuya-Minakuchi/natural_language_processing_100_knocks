{
 "cells": [
  {
   "cell_type": "markdown",
   "metadata": {},
   "source": [
    "# 第6章: 機械学習"
   ]
  },
  {
   "cell_type": "markdown",
   "metadata": {},
   "source": [
    "本章では，Fabio Gasparetti氏が公開している[News Aggregator Data Set](https://archive.ics.uci.edu/ml/datasets/News+Aggregator)を用い，ニュース記事の見出しを「ビジネス」「科学技術」「エンターテイメント」「健康」のカテゴリに分類するタスク（カテゴリ分類）に取り組む．"
   ]
  },
  {
   "cell_type": "markdown",
   "metadata": {},
   "source": [
    "## 50. データの入手・整形\n",
    "News Aggregator Data Setをダウンロードし、以下の要領で学習データ（train.txt），検証データ（valid.txt），評価データ（test.txt）を作成せよ．\n",
    "\n",
    "1. ダウンロードしたzipファイルを解凍し，readme.txtの説明を読む．\n",
    "2. 情報源（publisher）が”Reuters”, “Huffington Post”, “Businessweek”, “Contactmusic.com”, “Daily Mail”の事例（記事）のみを抽出する．\n",
    "3. 抽出された事例をランダムに並び替える．\n",
    "4. 抽出された事例の80%を学習データ，残りの10%ずつを検証データと評価データに分割し，それぞれtrain.txt，valid.txt，test.txtというファイル名で保存する．ファイルには，１行に１事例を書き出すこととし，カテゴリ名と記事見出しのタブ区切り形式とせよ（このファイルは後に問題70で再利用する）．\n",
    "\n",
    "学習データと評価データを作成したら，各カテゴリの事例数を確認せよ．"
   ]
  },
  {
   "cell_type": "code",
   "execution_count": 1,
   "metadata": {},
   "outputs": [],
   "source": [
    "import itertools\n",
    "import json\n",
    "import numpy as np\n",
    "import operator\n",
    "import os\n",
    "import pandas as pd\n",
    "import pickle"
   ]
  },
  {
   "cell_type": "code",
   "execution_count": 2,
   "metadata": {},
   "outputs": [],
   "source": [
    "input_path = os.path.join(os.getcwd(), '../data/newsCorpora.csv')"
   ]
  },
  {
   "cell_type": "code",
   "execution_count": 3,
   "metadata": {},
   "outputs": [
    {
     "data": {
      "text/html": [
       "<div>\n",
       "<style scoped>\n",
       "    .dataframe tbody tr th:only-of-type {\n",
       "        vertical-align: middle;\n",
       "    }\n",
       "\n",
       "    .dataframe tbody tr th {\n",
       "        vertical-align: top;\n",
       "    }\n",
       "\n",
       "    .dataframe thead th {\n",
       "        text-align: right;\n",
       "    }\n",
       "</style>\n",
       "<table border=\"1\" class=\"dataframe\">\n",
       "  <thead>\n",
       "    <tr style=\"text-align: right;\">\n",
       "      <th></th>\n",
       "      <th>ID</th>\n",
       "      <th>TITLE</th>\n",
       "      <th>URL</th>\n",
       "      <th>PUBLISHER</th>\n",
       "      <th>CATEGORY</th>\n",
       "      <th>STORY</th>\n",
       "      <th>HOSTNAME</th>\n",
       "      <th>TIMESTAMP</th>\n",
       "    </tr>\n",
       "  </thead>\n",
       "  <tbody>\n",
       "    <tr>\n",
       "      <th>0</th>\n",
       "      <td>1</td>\n",
       "      <td>Fed official says weak data caused by weather,...</td>\n",
       "      <td>http://www.latimes.com/business/money/la-fi-mo...</td>\n",
       "      <td>Los Angeles Times</td>\n",
       "      <td>b</td>\n",
       "      <td>ddUyU0VZz0BRneMioxUPQVP6sIxvM</td>\n",
       "      <td>www.latimes.com</td>\n",
       "      <td>1394470370698</td>\n",
       "    </tr>\n",
       "    <tr>\n",
       "      <th>1</th>\n",
       "      <td>2</td>\n",
       "      <td>Fed's Charles Plosser sees high bar for change...</td>\n",
       "      <td>http://www.livemint.com/Politics/H2EvwJSK2VE6O...</td>\n",
       "      <td>Livemint</td>\n",
       "      <td>b</td>\n",
       "      <td>ddUyU0VZz0BRneMioxUPQVP6sIxvM</td>\n",
       "      <td>www.livemint.com</td>\n",
       "      <td>1394470371207</td>\n",
       "    </tr>\n",
       "    <tr>\n",
       "      <th>2</th>\n",
       "      <td>3</td>\n",
       "      <td>US open: Stocks fall after Fed official hints ...</td>\n",
       "      <td>http://www.ifamagazine.com/news/us-open-stocks...</td>\n",
       "      <td>IFA Magazine</td>\n",
       "      <td>b</td>\n",
       "      <td>ddUyU0VZz0BRneMioxUPQVP6sIxvM</td>\n",
       "      <td>www.ifamagazine.com</td>\n",
       "      <td>1394470371550</td>\n",
       "    </tr>\n",
       "    <tr>\n",
       "      <th>3</th>\n",
       "      <td>4</td>\n",
       "      <td>Fed risks falling 'behind the curve', Charles ...</td>\n",
       "      <td>http://www.ifamagazine.com/news/fed-risks-fall...</td>\n",
       "      <td>IFA Magazine</td>\n",
       "      <td>b</td>\n",
       "      <td>ddUyU0VZz0BRneMioxUPQVP6sIxvM</td>\n",
       "      <td>www.ifamagazine.com</td>\n",
       "      <td>1394470371793</td>\n",
       "    </tr>\n",
       "    <tr>\n",
       "      <th>4</th>\n",
       "      <td>5</td>\n",
       "      <td>Fed's Plosser: Nasty Weather Has Curbed Job Gr...</td>\n",
       "      <td>http://www.moneynews.com/Economy/federal-reser...</td>\n",
       "      <td>Moneynews</td>\n",
       "      <td>b</td>\n",
       "      <td>ddUyU0VZz0BRneMioxUPQVP6sIxvM</td>\n",
       "      <td>www.moneynews.com</td>\n",
       "      <td>1394470372027</td>\n",
       "    </tr>\n",
       "  </tbody>\n",
       "</table>\n",
       "</div>"
      ],
      "text/plain": [
       "   ID                                              TITLE  \\\n",
       "0   1  Fed official says weak data caused by weather,...   \n",
       "1   2  Fed's Charles Plosser sees high bar for change...   \n",
       "2   3  US open: Stocks fall after Fed official hints ...   \n",
       "3   4  Fed risks falling 'behind the curve', Charles ...   \n",
       "4   5  Fed's Plosser: Nasty Weather Has Curbed Job Gr...   \n",
       "\n",
       "                                                 URL          PUBLISHER  \\\n",
       "0  http://www.latimes.com/business/money/la-fi-mo...  Los Angeles Times   \n",
       "1  http://www.livemint.com/Politics/H2EvwJSK2VE6O...           Livemint   \n",
       "2  http://www.ifamagazine.com/news/us-open-stocks...       IFA Magazine   \n",
       "3  http://www.ifamagazine.com/news/fed-risks-fall...       IFA Magazine   \n",
       "4  http://www.moneynews.com/Economy/federal-reser...          Moneynews   \n",
       "\n",
       "  CATEGORY                          STORY             HOSTNAME      TIMESTAMP  \n",
       "0        b  ddUyU0VZz0BRneMioxUPQVP6sIxvM      www.latimes.com  1394470370698  \n",
       "1        b  ddUyU0VZz0BRneMioxUPQVP6sIxvM     www.livemint.com  1394470371207  \n",
       "2        b  ddUyU0VZz0BRneMioxUPQVP6sIxvM  www.ifamagazine.com  1394470371550  \n",
       "3        b  ddUyU0VZz0BRneMioxUPQVP6sIxvM  www.ifamagazine.com  1394470371793  \n",
       "4        b  ddUyU0VZz0BRneMioxUPQVP6sIxvM    www.moneynews.com  1394470372027  "
      ]
     },
     "execution_count": 3,
     "metadata": {},
     "output_type": "execute_result"
    }
   ],
   "source": [
    "# 読み込み\n",
    "df = pd.read_csv(input_path, sep='\\t', names=('ID', 'TITLE', 'URL', 'PUBLISHER', 'CATEGORY', 'STORY', 'HOSTNAME', 'TIMESTAMP'))\n",
    "df.head()"
   ]
  },
  {
   "cell_type": "code",
   "execution_count": 4,
   "metadata": {},
   "outputs": [
    {
     "name": "stdout",
     "output_type": "stream",
     "text": [
      "<class 'pandas.core.frame.DataFrame'>\n",
      "RangeIndex: 422419 entries, 0 to 422418\n",
      "Data columns (total 8 columns):\n",
      " #   Column     Non-Null Count   Dtype \n",
      "---  ------     --------------   ----- \n",
      " 0   ID         422419 non-null  int64 \n",
      " 1   TITLE      422419 non-null  object\n",
      " 2   URL        422419 non-null  object\n",
      " 3   PUBLISHER  422417 non-null  object\n",
      " 4   CATEGORY   422419 non-null  object\n",
      " 5   STORY      422419 non-null  object\n",
      " 6   HOSTNAME   422419 non-null  object\n",
      " 7   TIMESTAMP  422419 non-null  int64 \n",
      "dtypes: int64(2), object(6)\n",
      "memory usage: 25.8+ MB\n"
     ]
    }
   ],
   "source": [
    "# データ数、データ型\n",
    "df.info()"
   ]
  },
  {
   "cell_type": "code",
   "execution_count": 5,
   "metadata": {},
   "outputs": [
    {
     "data": {
      "text/plain": [
       "ID           0\n",
       "TITLE        0\n",
       "URL          0\n",
       "PUBLISHER    2\n",
       "CATEGORY     0\n",
       "STORY        0\n",
       "HOSTNAME     0\n",
       "TIMESTAMP    0\n",
       "dtype: int64"
      ]
     },
     "execution_count": 5,
     "metadata": {},
     "output_type": "execute_result"
    }
   ],
   "source": [
    "# 欠損\n",
    "df.isnull().sum()"
   ]
  },
  {
   "cell_type": "code",
   "execution_count": 6,
   "metadata": {},
   "outputs": [
    {
     "data": {
      "text/html": [
       "<div>\n",
       "<style scoped>\n",
       "    .dataframe tbody tr th:only-of-type {\n",
       "        vertical-align: middle;\n",
       "    }\n",
       "\n",
       "    .dataframe tbody tr th {\n",
       "        vertical-align: top;\n",
       "    }\n",
       "\n",
       "    .dataframe thead th {\n",
       "        text-align: right;\n",
       "    }\n",
       "</style>\n",
       "<table border=\"1\" class=\"dataframe\">\n",
       "  <thead>\n",
       "    <tr style=\"text-align: right;\">\n",
       "      <th></th>\n",
       "      <th>ID</th>\n",
       "      <th>TITLE</th>\n",
       "      <th>URL</th>\n",
       "      <th>PUBLISHER</th>\n",
       "      <th>CATEGORY</th>\n",
       "      <th>STORY</th>\n",
       "      <th>HOSTNAME</th>\n",
       "      <th>TIMESTAMP</th>\n",
       "    </tr>\n",
       "  </thead>\n",
       "  <tbody>\n",
       "    <tr>\n",
       "      <th>12</th>\n",
       "      <td>13</td>\n",
       "      <td>Europe reaches crunch point on banking union</td>\n",
       "      <td>http://in.reuters.com/article/2014/03/10/eu-ba...</td>\n",
       "      <td>Reuters</td>\n",
       "      <td>b</td>\n",
       "      <td>dPhGU51DcrolUIMxbRm0InaHGA2XM</td>\n",
       "      <td>in.reuters.com</td>\n",
       "      <td>1394470501755</td>\n",
       "    </tr>\n",
       "    <tr>\n",
       "      <th>13</th>\n",
       "      <td>14</td>\n",
       "      <td>ECB FOCUS-Stronger euro drowns out ECB's messa...</td>\n",
       "      <td>http://in.reuters.com/article/2014/03/10/ecb-p...</td>\n",
       "      <td>Reuters</td>\n",
       "      <td>b</td>\n",
       "      <td>dPhGU51DcrolUIMxbRm0InaHGA2XM</td>\n",
       "      <td>in.reuters.com</td>\n",
       "      <td>1394470501948</td>\n",
       "    </tr>\n",
       "    <tr>\n",
       "      <th>19</th>\n",
       "      <td>20</td>\n",
       "      <td>Euro Anxieties Wane as Bunds Top Treasuries, S...</td>\n",
       "      <td>http://www.businessweek.com/news/2014-03-10/ge...</td>\n",
       "      <td>Businessweek</td>\n",
       "      <td>b</td>\n",
       "      <td>dPhGU51DcrolUIMxbRm0InaHGA2XM</td>\n",
       "      <td>www.businessweek.com</td>\n",
       "      <td>1394470503148</td>\n",
       "    </tr>\n",
       "    <tr>\n",
       "      <th>20</th>\n",
       "      <td>21</td>\n",
       "      <td>Noyer Says Strong Euro Creates Unwarranted Eco...</td>\n",
       "      <td>http://www.businessweek.com/news/2014-03-10/no...</td>\n",
       "      <td>Businessweek</td>\n",
       "      <td>b</td>\n",
       "      <td>dPhGU51DcrolUIMxbRm0InaHGA2XM</td>\n",
       "      <td>www.businessweek.com</td>\n",
       "      <td>1394470503366</td>\n",
       "    </tr>\n",
       "    <tr>\n",
       "      <th>29</th>\n",
       "      <td>30</td>\n",
       "      <td>REFILE-Bad loan triggers key feature in ECB ba...</td>\n",
       "      <td>http://in.reuters.com/article/2014/03/10/euroz...</td>\n",
       "      <td>Reuters</td>\n",
       "      <td>b</td>\n",
       "      <td>dPhGU51DcrolUIMxbRm0InaHGA2XM</td>\n",
       "      <td>in.reuters.com</td>\n",
       "      <td>1394470505070</td>\n",
       "    </tr>\n",
       "  </tbody>\n",
       "</table>\n",
       "</div>"
      ],
      "text/plain": [
       "    ID                                              TITLE  \\\n",
       "12  13       Europe reaches crunch point on banking union   \n",
       "13  14  ECB FOCUS-Stronger euro drowns out ECB's messa...   \n",
       "19  20  Euro Anxieties Wane as Bunds Top Treasuries, S...   \n",
       "20  21  Noyer Says Strong Euro Creates Unwarranted Eco...   \n",
       "29  30  REFILE-Bad loan triggers key feature in ECB ba...   \n",
       "\n",
       "                                                  URL     PUBLISHER CATEGORY  \\\n",
       "12  http://in.reuters.com/article/2014/03/10/eu-ba...       Reuters        b   \n",
       "13  http://in.reuters.com/article/2014/03/10/ecb-p...       Reuters        b   \n",
       "19  http://www.businessweek.com/news/2014-03-10/ge...  Businessweek        b   \n",
       "20  http://www.businessweek.com/news/2014-03-10/no...  Businessweek        b   \n",
       "29  http://in.reuters.com/article/2014/03/10/euroz...       Reuters        b   \n",
       "\n",
       "                            STORY              HOSTNAME      TIMESTAMP  \n",
       "12  dPhGU51DcrolUIMxbRm0InaHGA2XM        in.reuters.com  1394470501755  \n",
       "13  dPhGU51DcrolUIMxbRm0InaHGA2XM        in.reuters.com  1394470501948  \n",
       "19  dPhGU51DcrolUIMxbRm0InaHGA2XM  www.businessweek.com  1394470503148  \n",
       "20  dPhGU51DcrolUIMxbRm0InaHGA2XM  www.businessweek.com  1394470503366  \n",
       "29  dPhGU51DcrolUIMxbRm0InaHGA2XM        in.reuters.com  1394470505070  "
      ]
     },
     "execution_count": 6,
     "metadata": {},
     "output_type": "execute_result"
    }
   ],
   "source": [
    "# 情報源（publisher）が”Reuters”, “Huffington Post”, “Businessweek”, “Contactmusic.com”, “Daily Mail”の事例（記事）のみを抽出する．\n",
    "df = df[df['PUBLISHER'].apply(lambda x: x in ['Reuters', 'Huffington Post', 'Businessweek', 'Contactmusic.com', 'Daily Mail'])]\n",
    "df.head()"
   ]
  },
  {
   "cell_type": "code",
   "execution_count": 7,
   "metadata": {},
   "outputs": [
    {
     "name": "stdout",
     "output_type": "stream",
     "text": [
      "<class 'pandas.core.frame.DataFrame'>\n",
      "Int64Index: 13340 entries, 12 to 422319\n",
      "Data columns (total 8 columns):\n",
      " #   Column     Non-Null Count  Dtype \n",
      "---  ------     --------------  ----- \n",
      " 0   ID         13340 non-null  int64 \n",
      " 1   TITLE      13340 non-null  object\n",
      " 2   URL        13340 non-null  object\n",
      " 3   PUBLISHER  13340 non-null  object\n",
      " 4   CATEGORY   13340 non-null  object\n",
      " 5   STORY      13340 non-null  object\n",
      " 6   HOSTNAME   13340 non-null  object\n",
      " 7   TIMESTAMP  13340 non-null  int64 \n",
      "dtypes: int64(2), object(6)\n",
      "memory usage: 938.0+ KB\n"
     ]
    }
   ],
   "source": [
    "# データ数、データ型\n",
    "df.info()"
   ]
  },
  {
   "cell_type": "code",
   "execution_count": 8,
   "metadata": {},
   "outputs": [
    {
     "data": {
      "text/html": [
       "<div>\n",
       "<style scoped>\n",
       "    .dataframe tbody tr th:only-of-type {\n",
       "        vertical-align: middle;\n",
       "    }\n",
       "\n",
       "    .dataframe tbody tr th {\n",
       "        vertical-align: top;\n",
       "    }\n",
       "\n",
       "    .dataframe thead th {\n",
       "        text-align: right;\n",
       "    }\n",
       "</style>\n",
       "<table border=\"1\" class=\"dataframe\">\n",
       "  <thead>\n",
       "    <tr style=\"text-align: right;\">\n",
       "      <th></th>\n",
       "      <th>ID</th>\n",
       "      <th>TITLE</th>\n",
       "      <th>URL</th>\n",
       "      <th>PUBLISHER</th>\n",
       "      <th>STORY</th>\n",
       "      <th>HOSTNAME</th>\n",
       "      <th>TIMESTAMP</th>\n",
       "    </tr>\n",
       "    <tr>\n",
       "      <th>CATEGORY</th>\n",
       "      <th></th>\n",
       "      <th></th>\n",
       "      <th></th>\n",
       "      <th></th>\n",
       "      <th></th>\n",
       "      <th></th>\n",
       "      <th></th>\n",
       "    </tr>\n",
       "  </thead>\n",
       "  <tbody>\n",
       "    <tr>\n",
       "      <th>b</th>\n",
       "      <td>5627</td>\n",
       "      <td>5627</td>\n",
       "      <td>5627</td>\n",
       "      <td>5627</td>\n",
       "      <td>5627</td>\n",
       "      <td>5627</td>\n",
       "      <td>5627</td>\n",
       "    </tr>\n",
       "    <tr>\n",
       "      <th>e</th>\n",
       "      <td>5279</td>\n",
       "      <td>5279</td>\n",
       "      <td>5279</td>\n",
       "      <td>5279</td>\n",
       "      <td>5279</td>\n",
       "      <td>5279</td>\n",
       "      <td>5279</td>\n",
       "    </tr>\n",
       "    <tr>\n",
       "      <th>m</th>\n",
       "      <td>910</td>\n",
       "      <td>910</td>\n",
       "      <td>910</td>\n",
       "      <td>910</td>\n",
       "      <td>910</td>\n",
       "      <td>910</td>\n",
       "      <td>910</td>\n",
       "    </tr>\n",
       "    <tr>\n",
       "      <th>t</th>\n",
       "      <td>1524</td>\n",
       "      <td>1524</td>\n",
       "      <td>1524</td>\n",
       "      <td>1524</td>\n",
       "      <td>1524</td>\n",
       "      <td>1524</td>\n",
       "      <td>1524</td>\n",
       "    </tr>\n",
       "  </tbody>\n",
       "</table>\n",
       "</div>"
      ],
      "text/plain": [
       "            ID  TITLE   URL  PUBLISHER  STORY  HOSTNAME  TIMESTAMP\n",
       "CATEGORY                                                          \n",
       "b         5627   5627  5627       5627   5627      5627       5627\n",
       "e         5279   5279  5279       5279   5279      5279       5279\n",
       "m          910    910   910        910    910       910        910\n",
       "t         1524   1524  1524       1524   1524      1524       1524"
      ]
     },
     "execution_count": 8,
     "metadata": {},
     "output_type": "execute_result"
    }
   ],
   "source": [
    "# CATEGORYごとの数\n",
    "df.groupby('CATEGORY').count()"
   ]
  },
  {
   "cell_type": "code",
   "execution_count": 9,
   "metadata": {},
   "outputs": [
    {
     "data": {
      "text/html": [
       "<div>\n",
       "<style scoped>\n",
       "    .dataframe tbody tr th:only-of-type {\n",
       "        vertical-align: middle;\n",
       "    }\n",
       "\n",
       "    .dataframe tbody tr th {\n",
       "        vertical-align: top;\n",
       "    }\n",
       "\n",
       "    .dataframe thead th {\n",
       "        text-align: right;\n",
       "    }\n",
       "</style>\n",
       "<table border=\"1\" class=\"dataframe\">\n",
       "  <thead>\n",
       "    <tr style=\"text-align: right;\">\n",
       "      <th></th>\n",
       "      <th>ID</th>\n",
       "      <th>TITLE</th>\n",
       "      <th>URL</th>\n",
       "      <th>CATEGORY</th>\n",
       "      <th>STORY</th>\n",
       "      <th>HOSTNAME</th>\n",
       "      <th>TIMESTAMP</th>\n",
       "    </tr>\n",
       "    <tr>\n",
       "      <th>PUBLISHER</th>\n",
       "      <th></th>\n",
       "      <th></th>\n",
       "      <th></th>\n",
       "      <th></th>\n",
       "      <th></th>\n",
       "      <th></th>\n",
       "      <th></th>\n",
       "    </tr>\n",
       "  </thead>\n",
       "  <tbody>\n",
       "    <tr>\n",
       "      <th>Businessweek</th>\n",
       "      <td>2395</td>\n",
       "      <td>2395</td>\n",
       "      <td>2395</td>\n",
       "      <td>2395</td>\n",
       "      <td>2395</td>\n",
       "      <td>2395</td>\n",
       "      <td>2395</td>\n",
       "    </tr>\n",
       "    <tr>\n",
       "      <th>Contactmusic.com</th>\n",
       "      <td>2334</td>\n",
       "      <td>2334</td>\n",
       "      <td>2334</td>\n",
       "      <td>2334</td>\n",
       "      <td>2334</td>\n",
       "      <td>2334</td>\n",
       "      <td>2334</td>\n",
       "    </tr>\n",
       "    <tr>\n",
       "      <th>Daily Mail</th>\n",
       "      <td>2254</td>\n",
       "      <td>2254</td>\n",
       "      <td>2254</td>\n",
       "      <td>2254</td>\n",
       "      <td>2254</td>\n",
       "      <td>2254</td>\n",
       "      <td>2254</td>\n",
       "    </tr>\n",
       "    <tr>\n",
       "      <th>Huffington Post</th>\n",
       "      <td>2455</td>\n",
       "      <td>2455</td>\n",
       "      <td>2455</td>\n",
       "      <td>2455</td>\n",
       "      <td>2455</td>\n",
       "      <td>2455</td>\n",
       "      <td>2455</td>\n",
       "    </tr>\n",
       "    <tr>\n",
       "      <th>Reuters</th>\n",
       "      <td>3902</td>\n",
       "      <td>3902</td>\n",
       "      <td>3902</td>\n",
       "      <td>3902</td>\n",
       "      <td>3902</td>\n",
       "      <td>3902</td>\n",
       "      <td>3902</td>\n",
       "    </tr>\n",
       "  </tbody>\n",
       "</table>\n",
       "</div>"
      ],
      "text/plain": [
       "                    ID  TITLE   URL  CATEGORY  STORY  HOSTNAME  TIMESTAMP\n",
       "PUBLISHER                                                                \n",
       "Businessweek      2395   2395  2395      2395   2395      2395       2395\n",
       "Contactmusic.com  2334   2334  2334      2334   2334      2334       2334\n",
       "Daily Mail        2254   2254  2254      2254   2254      2254       2254\n",
       "Huffington Post   2455   2455  2455      2455   2455      2455       2455\n",
       "Reuters           3902   3902  3902      3902   3902      3902       3902"
      ]
     },
     "execution_count": 9,
     "metadata": {},
     "output_type": "execute_result"
    }
   ],
   "source": [
    "# PUBLISHERごとの数\n",
    "df.groupby('PUBLISHER').count()"
   ]
  },
  {
   "cell_type": "code",
   "execution_count": 10,
   "metadata": {},
   "outputs": [
    {
     "data": {
      "text/html": [
       "<div>\n",
       "<style scoped>\n",
       "    .dataframe tbody tr th:only-of-type {\n",
       "        vertical-align: middle;\n",
       "    }\n",
       "\n",
       "    .dataframe tbody tr th {\n",
       "        vertical-align: top;\n",
       "    }\n",
       "\n",
       "    .dataframe thead th {\n",
       "        text-align: right;\n",
       "    }\n",
       "</style>\n",
       "<table border=\"1\" class=\"dataframe\">\n",
       "  <thead>\n",
       "    <tr style=\"text-align: right;\">\n",
       "      <th></th>\n",
       "      <th>ID</th>\n",
       "      <th>TITLE</th>\n",
       "      <th>URL</th>\n",
       "      <th>PUBLISHER</th>\n",
       "      <th>CATEGORY</th>\n",
       "      <th>STORY</th>\n",
       "      <th>HOSTNAME</th>\n",
       "      <th>TIMESTAMP</th>\n",
       "    </tr>\n",
       "  </thead>\n",
       "  <tbody>\n",
       "    <tr>\n",
       "      <th>0</th>\n",
       "      <td>311098</td>\n",
       "      <td>RPT-Fitch Updates EMEA Consumer ABS Rating Cri...</td>\n",
       "      <td>http://in.reuters.com/article/2014/06/24/fitch...</td>\n",
       "      <td>Reuters</td>\n",
       "      <td>b</td>\n",
       "      <td>d3tIMfB2mg-9MZM4G_jGTEiRVl3jM</td>\n",
       "      <td>in.reuters.com</td>\n",
       "      <td>1403633888597</td>\n",
       "    </tr>\n",
       "    <tr>\n",
       "      <th>1</th>\n",
       "      <td>49198</td>\n",
       "      <td>Gurlitt Wants to Return Nazi-Looted Art, Suedd...</td>\n",
       "      <td>http://www.businessweek.com/news/2014-03-26/gu...</td>\n",
       "      <td>Businessweek</td>\n",
       "      <td>e</td>\n",
       "      <td>dWeC4g3bvX-bI6MKAcxt43Jp7MzSM</td>\n",
       "      <td>www.businessweek.com</td>\n",
       "      <td>1395886231417</td>\n",
       "    </tr>\n",
       "    <tr>\n",
       "      <th>2</th>\n",
       "      <td>410578</td>\n",
       "      <td>UPDATE 1-Fairfax Financial, CEO probed over po...</td>\n",
       "      <td>http://in.reuters.com/article/2014/08/01/fairf...</td>\n",
       "      <td>Reuters</td>\n",
       "      <td>b</td>\n",
       "      <td>d6s61cXf9rASExMO8inpkRujc9VTM</td>\n",
       "      <td>in.reuters.com</td>\n",
       "      <td>1406929609070</td>\n",
       "    </tr>\n",
       "    <tr>\n",
       "      <th>3</th>\n",
       "      <td>270668</td>\n",
       "      <td>Angelina Jolie - Angelina Jolie Will Not Tight...</td>\n",
       "      <td>http://www.contactmusic.com/story/angelina-jol...</td>\n",
       "      <td>Contactmusic.com</td>\n",
       "      <td>e</td>\n",
       "      <td>d7SbUKanRaD34YMwE64lo09d_qCnM</td>\n",
       "      <td>www.contactmusic.com</td>\n",
       "      <td>1401828902205</td>\n",
       "    </tr>\n",
       "    <tr>\n",
       "      <th>4</th>\n",
       "      <td>301656</td>\n",
       "      <td>Patent Officials Cancel the Washington Redskin...</td>\n",
       "      <td>http://www.businessweek.com/articles/2014-06-1...</td>\n",
       "      <td>Businessweek</td>\n",
       "      <td>b</td>\n",
       "      <td>dXVU3KhKpHSxleMNmc46pQj6e5zwM</td>\n",
       "      <td>www.businessweek.com</td>\n",
       "      <td>1403113194649</td>\n",
       "    </tr>\n",
       "  </tbody>\n",
       "</table>\n",
       "</div>"
      ],
      "text/plain": [
       "       ID                                              TITLE  \\\n",
       "0  311098  RPT-Fitch Updates EMEA Consumer ABS Rating Cri...   \n",
       "1   49198  Gurlitt Wants to Return Nazi-Looted Art, Suedd...   \n",
       "2  410578  UPDATE 1-Fairfax Financial, CEO probed over po...   \n",
       "3  270668  Angelina Jolie - Angelina Jolie Will Not Tight...   \n",
       "4  301656  Patent Officials Cancel the Washington Redskin...   \n",
       "\n",
       "                                                 URL         PUBLISHER  \\\n",
       "0  http://in.reuters.com/article/2014/06/24/fitch...           Reuters   \n",
       "1  http://www.businessweek.com/news/2014-03-26/gu...      Businessweek   \n",
       "2  http://in.reuters.com/article/2014/08/01/fairf...           Reuters   \n",
       "3  http://www.contactmusic.com/story/angelina-jol...  Contactmusic.com   \n",
       "4  http://www.businessweek.com/articles/2014-06-1...      Businessweek   \n",
       "\n",
       "  CATEGORY                          STORY              HOSTNAME      TIMESTAMP  \n",
       "0        b  d3tIMfB2mg-9MZM4G_jGTEiRVl3jM        in.reuters.com  1403633888597  \n",
       "1        e  dWeC4g3bvX-bI6MKAcxt43Jp7MzSM  www.businessweek.com  1395886231417  \n",
       "2        b  d6s61cXf9rASExMO8inpkRujc9VTM        in.reuters.com  1406929609070  \n",
       "3        e  d7SbUKanRaD34YMwE64lo09d_qCnM  www.contactmusic.com  1401828902205  \n",
       "4        b  dXVU3KhKpHSxleMNmc46pQj6e5zwM  www.businessweek.com  1403113194649  "
      ]
     },
     "execution_count": 10,
     "metadata": {},
     "output_type": "execute_result"
    }
   ],
   "source": [
    "# 抽出された事例をランダムに並び替える\n",
    "df = df.sample(frac=1.0, random_state=0).reset_index(drop=True)\n",
    "df.head()"
   ]
  },
  {
   "cell_type": "code",
   "execution_count": 11,
   "metadata": {},
   "outputs": [
    {
     "data": {
      "text/plain": [
       "13340"
      ]
     },
     "execution_count": 11,
     "metadata": {},
     "output_type": "execute_result"
    }
   ],
   "source": [
    "len(df)"
   ]
  },
  {
   "cell_type": "code",
   "execution_count": 12,
   "metadata": {},
   "outputs": [],
   "source": [
    "# 抽出された事例の80%を学習データ，残りの10%ずつを検証データと評価データに分割\n",
    "train_num = int(len(df) * 0.8)\n",
    "valid_num = int(len(df) * 0.1)\n",
    "df_train = df[0:train_num]\n",
    "df_valid = df[train_num:train_num + valid_num]\n",
    "df_test = df[train_num + valid_num:]"
   ]
  },
  {
   "cell_type": "code",
   "execution_count": 13,
   "metadata": {},
   "outputs": [
    {
     "data": {
      "text/plain": [
       "13340"
      ]
     },
     "execution_count": 13,
     "metadata": {},
     "output_type": "execute_result"
    }
   ],
   "source": [
    "# 数確認\n",
    "len(df_train) + len(df_valid) + len(df_test)"
   ]
  },
  {
   "cell_type": "code",
   "execution_count": 14,
   "metadata": {},
   "outputs": [],
   "source": [
    "# それぞれtrain.txt，valid.txt，test.txtというファイル名で保存する\n",
    "# １行に１事例を書き出す\n",
    "# カテゴリ名と記事見出しのタブ区切り形式\n",
    "df_train[['CATEGORY', 'TITLE']].to_csv('train.txt', sep='\\t', index=False)\n",
    "df_valid[['CATEGORY', 'TITLE']].to_csv('valid.txt', sep='\\t', index=False)\n",
    "df_test[['CATEGORY', 'TITLE']].to_csv('test.txt', sep='\\t', index=False)"
   ]
  },
  {
   "cell_type": "code",
   "execution_count": 15,
   "metadata": {},
   "outputs": [
    {
     "data": {
      "text/html": [
       "<div>\n",
       "<style scoped>\n",
       "    .dataframe tbody tr th:only-of-type {\n",
       "        vertical-align: middle;\n",
       "    }\n",
       "\n",
       "    .dataframe tbody tr th {\n",
       "        vertical-align: top;\n",
       "    }\n",
       "\n",
       "    .dataframe thead th {\n",
       "        text-align: right;\n",
       "    }\n",
       "</style>\n",
       "<table border=\"1\" class=\"dataframe\">\n",
       "  <thead>\n",
       "    <tr style=\"text-align: right;\">\n",
       "      <th></th>\n",
       "      <th>ID</th>\n",
       "      <th>TITLE</th>\n",
       "      <th>URL</th>\n",
       "      <th>PUBLISHER</th>\n",
       "      <th>STORY</th>\n",
       "      <th>HOSTNAME</th>\n",
       "      <th>TIMESTAMP</th>\n",
       "    </tr>\n",
       "    <tr>\n",
       "      <th>CATEGORY</th>\n",
       "      <th></th>\n",
       "      <th></th>\n",
       "      <th></th>\n",
       "      <th></th>\n",
       "      <th></th>\n",
       "      <th></th>\n",
       "      <th></th>\n",
       "    </tr>\n",
       "  </thead>\n",
       "  <tbody>\n",
       "    <tr>\n",
       "      <th>b</th>\n",
       "      <td>4493</td>\n",
       "      <td>4493</td>\n",
       "      <td>4493</td>\n",
       "      <td>4493</td>\n",
       "      <td>4493</td>\n",
       "      <td>4493</td>\n",
       "      <td>4493</td>\n",
       "    </tr>\n",
       "    <tr>\n",
       "      <th>e</th>\n",
       "      <td>4232</td>\n",
       "      <td>4232</td>\n",
       "      <td>4232</td>\n",
       "      <td>4232</td>\n",
       "      <td>4232</td>\n",
       "      <td>4232</td>\n",
       "      <td>4232</td>\n",
       "    </tr>\n",
       "    <tr>\n",
       "      <th>m</th>\n",
       "      <td>717</td>\n",
       "      <td>717</td>\n",
       "      <td>717</td>\n",
       "      <td>717</td>\n",
       "      <td>717</td>\n",
       "      <td>717</td>\n",
       "      <td>717</td>\n",
       "    </tr>\n",
       "    <tr>\n",
       "      <th>t</th>\n",
       "      <td>1230</td>\n",
       "      <td>1230</td>\n",
       "      <td>1230</td>\n",
       "      <td>1230</td>\n",
       "      <td>1230</td>\n",
       "      <td>1230</td>\n",
       "      <td>1230</td>\n",
       "    </tr>\n",
       "  </tbody>\n",
       "</table>\n",
       "</div>"
      ],
      "text/plain": [
       "            ID  TITLE   URL  PUBLISHER  STORY  HOSTNAME  TIMESTAMP\n",
       "CATEGORY                                                          \n",
       "b         4493   4493  4493       4493   4493      4493       4493\n",
       "e         4232   4232  4232       4232   4232      4232       4232\n",
       "m          717    717   717        717    717       717        717\n",
       "t         1230   1230  1230       1230   1230      1230       1230"
      ]
     },
     "execution_count": 15,
     "metadata": {},
     "output_type": "execute_result"
    }
   ],
   "source": [
    "# カテゴリごとのデータ数\n",
    "# 訓練データ\n",
    "df_train.groupby('CATEGORY').count()"
   ]
  },
  {
   "cell_type": "code",
   "execution_count": 16,
   "metadata": {},
   "outputs": [
    {
     "data": {
      "text/html": [
       "<div>\n",
       "<style scoped>\n",
       "    .dataframe tbody tr th:only-of-type {\n",
       "        vertical-align: middle;\n",
       "    }\n",
       "\n",
       "    .dataframe tbody tr th {\n",
       "        vertical-align: top;\n",
       "    }\n",
       "\n",
       "    .dataframe thead th {\n",
       "        text-align: right;\n",
       "    }\n",
       "</style>\n",
       "<table border=\"1\" class=\"dataframe\">\n",
       "  <thead>\n",
       "    <tr style=\"text-align: right;\">\n",
       "      <th></th>\n",
       "      <th>ID</th>\n",
       "      <th>TITLE</th>\n",
       "      <th>URL</th>\n",
       "      <th>PUBLISHER</th>\n",
       "      <th>STORY</th>\n",
       "      <th>HOSTNAME</th>\n",
       "      <th>TIMESTAMP</th>\n",
       "    </tr>\n",
       "    <tr>\n",
       "      <th>CATEGORY</th>\n",
       "      <th></th>\n",
       "      <th></th>\n",
       "      <th></th>\n",
       "      <th></th>\n",
       "      <th></th>\n",
       "      <th></th>\n",
       "      <th></th>\n",
       "    </tr>\n",
       "  </thead>\n",
       "  <tbody>\n",
       "    <tr>\n",
       "      <th>b</th>\n",
       "      <td>564</td>\n",
       "      <td>564</td>\n",
       "      <td>564</td>\n",
       "      <td>564</td>\n",
       "      <td>564</td>\n",
       "      <td>564</td>\n",
       "      <td>564</td>\n",
       "    </tr>\n",
       "    <tr>\n",
       "      <th>e</th>\n",
       "      <td>517</td>\n",
       "      <td>517</td>\n",
       "      <td>517</td>\n",
       "      <td>517</td>\n",
       "      <td>517</td>\n",
       "      <td>517</td>\n",
       "      <td>517</td>\n",
       "    </tr>\n",
       "    <tr>\n",
       "      <th>m</th>\n",
       "      <td>96</td>\n",
       "      <td>96</td>\n",
       "      <td>96</td>\n",
       "      <td>96</td>\n",
       "      <td>96</td>\n",
       "      <td>96</td>\n",
       "      <td>96</td>\n",
       "    </tr>\n",
       "    <tr>\n",
       "      <th>t</th>\n",
       "      <td>157</td>\n",
       "      <td>157</td>\n",
       "      <td>157</td>\n",
       "      <td>157</td>\n",
       "      <td>157</td>\n",
       "      <td>157</td>\n",
       "      <td>157</td>\n",
       "    </tr>\n",
       "  </tbody>\n",
       "</table>\n",
       "</div>"
      ],
      "text/plain": [
       "           ID  TITLE  URL  PUBLISHER  STORY  HOSTNAME  TIMESTAMP\n",
       "CATEGORY                                                        \n",
       "b         564    564  564        564    564       564        564\n",
       "e         517    517  517        517    517       517        517\n",
       "m          96     96   96         96     96        96         96\n",
       "t         157    157  157        157    157       157        157"
      ]
     },
     "execution_count": 16,
     "metadata": {},
     "output_type": "execute_result"
    }
   ],
   "source": [
    "# カテゴリごとのデータ数\n",
    "# 評価データ\n",
    "df_test.groupby('CATEGORY').count()"
   ]
  },
  {
   "cell_type": "markdown",
   "metadata": {},
   "source": [
    "## 51. 特徴量抽出\n",
    "\n",
    "学習データ，検証データ，評価データから特徴量を抽出し，それぞれtrain.feature.txt，valid.feature.txt，test.feature.txtというファイル名で保存せよ．\n",
    "なお，カテゴリ分類に有用そうな特徴量は各自で自由に設計せよ．記事の見出しを単語列に変換したものが最低限のベースラインとなるであろう．"
   ]
  },
  {
   "cell_type": "code",
   "execution_count": 7,
   "metadata": {},
   "outputs": [],
   "source": [
    "# tf-idf変換準備\n",
    "from sklearn.feature_extraction.text import TfidfVectorizer"
   ]
  },
  {
   "cell_type": "code",
   "execution_count": 8,
   "metadata": {},
   "outputs": [
    {
     "name": "stdout",
     "output_type": "stream",
     "text": [
      "['book', 'car', 'english', 'friend', 'is', 'my', 'this']\n",
      "[[0.         0.69903033 0.         0.         0.41285857 0.41285857\n",
      "  0.41285857]\n",
      " [0.         0.         0.         0.69903033 0.41285857 0.41285857\n",
      "  0.41285857]\n",
      " [0.57292883 0.         0.57292883 0.         0.338381   0.338381\n",
      "  0.338381  ]]\n"
     ]
    }
   ],
   "source": [
    "# 試しに動かす\n",
    "tf_vec = TfidfVectorizer()\n",
    "\n",
    "tes = pd.DataFrame([\n",
    "    'This is my car',\n",
    "    'This is my friend',\n",
    "    'This is my English book',\n",
    "], columns=['TITLE'])\n",
    "\n",
    "tes_vector = tf_vec.fit_transform(tes['TITLE'].tolist())\n",
    "\n",
    "print(tf_vec.get_feature_names())\n",
    "print(tes_vector.toarray())"
   ]
  },
  {
   "cell_type": "code",
   "execution_count": 9,
   "metadata": {},
   "outputs": [
    {
     "data": {
      "text/html": [
       "<div>\n",
       "<style scoped>\n",
       "    .dataframe tbody tr th:only-of-type {\n",
       "        vertical-align: middle;\n",
       "    }\n",
       "\n",
       "    .dataframe tbody tr th {\n",
       "        vertical-align: top;\n",
       "    }\n",
       "\n",
       "    .dataframe thead th {\n",
       "        text-align: right;\n",
       "    }\n",
       "</style>\n",
       "<table border=\"1\" class=\"dataframe\">\n",
       "  <thead>\n",
       "    <tr style=\"text-align: right;\">\n",
       "      <th></th>\n",
       "      <th>CATEGORY</th>\n",
       "      <th>TITLE</th>\n",
       "    </tr>\n",
       "  </thead>\n",
       "  <tbody>\n",
       "    <tr>\n",
       "      <th>0</th>\n",
       "      <td>b</td>\n",
       "      <td>Vodafone's Service Revenue Falls as European M...</td>\n",
       "    </tr>\n",
       "    <tr>\n",
       "      <th>1</th>\n",
       "      <td>e</td>\n",
       "      <td>So, Tupac Shakur's Final Words Were A Big \"F*C...</td>\n",
       "    </tr>\n",
       "    <tr>\n",
       "      <th>2</th>\n",
       "      <td>t</td>\n",
       "      <td>Elephants really are intelligent: Creatures ca...</td>\n",
       "    </tr>\n",
       "    <tr>\n",
       "      <th>3</th>\n",
       "      <td>t</td>\n",
       "      <td>FTC says Snapchat deceived customers over 'dis...</td>\n",
       "    </tr>\n",
       "    <tr>\n",
       "      <th>4</th>\n",
       "      <td>b</td>\n",
       "      <td>UPDATE 3-GM says facing multiple probes into r...</td>\n",
       "    </tr>\n",
       "  </tbody>\n",
       "</table>\n",
       "</div>"
      ],
      "text/plain": [
       "  CATEGORY                                              TITLE\n",
       "0        b  Vodafone's Service Revenue Falls as European M...\n",
       "1        e  So, Tupac Shakur's Final Words Were A Big \"F*C...\n",
       "2        t  Elephants really are intelligent: Creatures ca...\n",
       "3        t  FTC says Snapchat deceived customers over 'dis...\n",
       "4        b  UPDATE 3-GM says facing multiple probes into r..."
      ]
     },
     "execution_count": 9,
     "metadata": {},
     "output_type": "execute_result"
    }
   ],
   "source": [
    "# 学習データ，検証データ，評価データ読み込み\n",
    "df_train = pd.read_csv('train.txt', sep='\\t')\n",
    "df_valid = pd.read_csv('valid.txt', sep='\\t')\n",
    "df_test = pd.read_csv('test.txt', sep='\\t')\n",
    "df_test.head()"
   ]
  },
  {
   "cell_type": "code",
   "execution_count": 10,
   "metadata": {},
   "outputs": [],
   "source": [
    "# tf-idf変換\n",
    "tf_vec = TfidfVectorizer()\n",
    "# 計算 & 変換\n",
    "train_data = tf_vec.fit_transform(df_train['TITLE'].tolist()).toarray()\n",
    "feature_names = tf_vec.get_feature_names()\n",
    "# 変換\n",
    "valid_data = tf_vec.transform(df_valid['TITLE'].tolist()).toarray()\n",
    "test_data = tf_vec.transform(df_test['TITLE'].tolist()).toarray()"
   ]
  },
  {
   "cell_type": "code",
   "execution_count": 21,
   "metadata": {},
   "outputs": [],
   "source": [
    "train = {\n",
    "    'data': train_data.tolist(),\n",
    "    'target': df_train['CATEGORY'].tolist()\n",
    "}\n",
    "valid = {\n",
    "    'data': valid_data.tolist(),\n",
    "    'target': df_valid['CATEGORY'].tolist()\n",
    "}\n",
    "test = {\n",
    "    'data': test_data.tolist(),\n",
    "    'target': df_test['CATEGORY'].tolist()\n",
    "}"
   ]
  },
  {
   "cell_type": "code",
   "execution_count": 22,
   "metadata": {},
   "outputs": [],
   "source": [
    "# 辞書をJSONに変換して保存\n",
    "def save_dict_json(save_dict: dict, file_name: str):\n",
    "    text = json.dumps(save_dict)\n",
    "    with open(file_name, mode='w') as f:\n",
    "        f.write(text)\n",
    "\n",
    "save_dict_json(save_dict={'a': ['b', 'c']}, file_name='tes.txt')"
   ]
  },
  {
   "cell_type": "code",
   "execution_count": 23,
   "metadata": {},
   "outputs": [],
   "source": [
    "# 保存\n",
    "save_dict_json(save_dict=train, file_name='train.feature.txt')\n",
    "save_dict_json(save_dict=valid, file_name='valid.feature.txt')\n",
    "save_dict_json(save_dict=test, file_name='test.feature.txt')"
   ]
  },
  {
   "cell_type": "markdown",
   "metadata": {},
   "source": [
    "## 52. 学習\n",
    "51で構築した学習データを用いて，ロジスティック回帰モデルを学習せよ．"
   ]
  },
  {
   "cell_type": "code",
   "execution_count": 2,
   "metadata": {},
   "outputs": [
    {
     "data": {
      "text/plain": [
       "{'a': ['b', 'c']}"
      ]
     },
     "execution_count": 2,
     "metadata": {},
     "output_type": "execute_result"
    }
   ],
   "source": [
    "# JSONを読み込んで辞書に変換\n",
    "def load_json_dict(file_name: str):\n",
    "    with open(file_name, mode='r') as f:\n",
    "        text = f.read()    \n",
    "    return json.loads(text)\n",
    "\n",
    "load_json_dict(file_name='tes.txt')"
   ]
  },
  {
   "cell_type": "code",
   "execution_count": 3,
   "metadata": {},
   "outputs": [],
   "source": [
    "train = load_json_dict(file_name='train.feature.txt')\n",
    "test = load_json_dict(file_name='test.feature.txt')\n",
    "valid = load_json_dict(file_name='valid.feature.txt')"
   ]
  },
  {
   "cell_type": "code",
   "execution_count": 4,
   "metadata": {},
   "outputs": [],
   "source": [
    "from sklearn.linear_model import LogisticRegression"
   ]
  },
  {
   "cell_type": "code",
   "execution_count": 5,
   "metadata": {},
   "outputs": [
    {
     "name": "stderr",
     "output_type": "stream",
     "text": [
      "C:\\Users\\kazuy\\Anaconda3\\lib\\site-packages\\sklearn\\linear_model\\_logistic.py:940: ConvergenceWarning: lbfgs failed to converge (status=1):\n",
      "STOP: TOTAL NO. of ITERATIONS REACHED LIMIT.\n",
      "\n",
      "Increase the number of iterations (max_iter) or scale the data as shown in:\n",
      "    https://scikit-learn.org/stable/modules/preprocessing.html\n",
      "Please also refer to the documentation for alternative solver options:\n",
      "    https://scikit-learn.org/stable/modules/linear_model.html#logistic-regression\n",
      "  extra_warning_msg=_LOGISTIC_SOLVER_CONVERGENCE_MSG)\n"
     ]
    }
   ],
   "source": [
    "X = train['data']\n",
    "y = train['target']\n",
    "clf = LogisticRegression(random_state=0).fit(X, y)"
   ]
  },
  {
   "cell_type": "markdown",
   "metadata": {},
   "source": [
    "## 53. 予測\n",
    "52で学習したロジスティック回帰モデルを用い，与えられた記事見出しからカテゴリとその予測確率を計算するプログラムを実装せよ．"
   ]
  },
  {
   "cell_type": "code",
   "execution_count": 11,
   "metadata": {},
   "outputs": [
    {
     "data": {
      "text/plain": [
       "(array(['e'], dtype='<U1'),\n",
       " array([[0.14747156, 0.57247087, 0.09697171, 0.18308586]]))"
      ]
     },
     "execution_count": 11,
     "metadata": {},
     "output_type": "execute_result"
    }
   ],
   "source": [
    "# 文字列入れると、予測カテゴリと予測確率を返す\n",
    "def get_score(text):\n",
    "    X = tf_vec.transform([text])\n",
    "    return (clf.predict(X), clf.predict_proba(X))\n",
    "\n",
    "get_score('This is a pen')"
   ]
  },
  {
   "cell_type": "markdown",
   "metadata": {},
   "source": [
    "## 54. 正解率の計測\n",
    "52で学習したロジスティック回帰モデルの正解率を，学習データおよび評価データ上で計測せよ．"
   ]
  },
  {
   "cell_type": "code",
   "execution_count": 12,
   "metadata": {},
   "outputs": [
    {
     "data": {
      "text/plain": [
       "0.9446214392803598"
      ]
     },
     "execution_count": 12,
     "metadata": {},
     "output_type": "execute_result"
    }
   ],
   "source": [
    "# 学習データ\n",
    "X = train['data']\n",
    "y = train['target']\n",
    "clf.score(X, y)"
   ]
  },
  {
   "cell_type": "code",
   "execution_count": 15,
   "metadata": {},
   "outputs": [
    {
     "data": {
      "text/plain": [
       "0.889055472263868"
      ]
     },
     "execution_count": 15,
     "metadata": {},
     "output_type": "execute_result"
    }
   ],
   "source": [
    "# 評価データ\n",
    "X = test['data']\n",
    "y = test['target']\n",
    "clf.score(X, y)"
   ]
  },
  {
   "cell_type": "markdown",
   "metadata": {},
   "source": [
    "# 55. 混同行列の作成\n",
    "52で学習したロジスティック回帰モデルの混同行列（confusion matrix）を，学習データおよび評価データ上で作成せよ．"
   ]
  },
  {
   "cell_type": "code",
   "execution_count": 16,
   "metadata": {},
   "outputs": [],
   "source": [
    "from sklearn.metrics import confusion_matrix"
   ]
  },
  {
   "cell_type": "code",
   "execution_count": 17,
   "metadata": {},
   "outputs": [
    {
     "data": {
      "text/plain": [
       "array([[4404,   58,    4,   27],\n",
       "       [  23, 4204,    0,    5],\n",
       "       [  73,  133,  507,    4],\n",
       "       [ 151,  111,    2,  966]], dtype=int64)"
      ]
     },
     "execution_count": 17,
     "metadata": {},
     "output_type": "execute_result"
    }
   ],
   "source": [
    "# 学習データ\n",
    "y_true = train['target']\n",
    "X = train['data']\n",
    "y_pred = clf.predict(X)\n",
    "confusion_matrix(y_true, y_pred)"
   ]
  },
  {
   "cell_type": "code",
   "execution_count": 18,
   "metadata": {},
   "outputs": [
    {
     "data": {
      "text/plain": [
       "array([[530,  16,   1,  17],\n",
       "       [  4, 512,   0,   1],\n",
       "       [ 22,  26,  48,   0],\n",
       "       [ 38,  22,   1,  96]], dtype=int64)"
      ]
     },
     "execution_count": 18,
     "metadata": {},
     "output_type": "execute_result"
    }
   ],
   "source": [
    "# 評価データ\n",
    "y_true = test['target']\n",
    "X = test['data']\n",
    "y_pred = clf.predict(X)\n",
    "confusion_matrix(y_true, y_pred)"
   ]
  },
  {
   "cell_type": "markdown",
   "metadata": {},
   "source": [
    "## 56. 適合率，再現率，F1スコアの計測\n",
    "52で学習したロジスティック回帰モデルの適合率，再現率，F1スコアを，評価データ上で計測せよ．カテゴリごとに適合率，再現率，F1スコアを求め，カテゴリごとの性能をマイクロ平均（micro-average）とマクロ平均（macro-average）で統合せよ．"
   ]
  },
  {
   "cell_type": "code",
   "execution_count": 19,
   "metadata": {},
   "outputs": [],
   "source": [
    "from sklearn.metrics import precision_score, recall_score, f1_score, precision_recall_fscore_support, classification_report"
   ]
  },
  {
   "cell_type": "code",
   "execution_count": 20,
   "metadata": {},
   "outputs": [],
   "source": [
    "# 評価データ\n",
    "y_true = test['target']\n",
    "X = test['data']\n",
    "y_pred = clf.predict(X)"
   ]
  },
  {
   "cell_type": "code",
   "execution_count": 21,
   "metadata": {},
   "outputs": [
    {
     "data": {
      "text/plain": [
       "array([0.89225589, 0.88888889, 0.96      , 0.84210526])"
      ]
     },
     "execution_count": 21,
     "metadata": {},
     "output_type": "execute_result"
    }
   ],
   "source": [
    "# カテゴリごとの適合率\n",
    "precision_score(y_true, y_pred, average=None)"
   ]
  },
  {
   "cell_type": "code",
   "execution_count": 22,
   "metadata": {},
   "outputs": [
    {
     "data": {
      "text/plain": [
       "array([0.93971631, 0.99032882, 0.5       , 0.61146497])"
      ]
     },
     "execution_count": 22,
     "metadata": {},
     "output_type": "execute_result"
    }
   ],
   "source": [
    "# カテゴリごとの再現率\n",
    "recall_score(y_true, y_pred, average=None)"
   ]
  },
  {
   "cell_type": "code",
   "execution_count": 23,
   "metadata": {},
   "outputs": [
    {
     "data": {
      "text/plain": [
       "array([0.91537133, 0.936871  , 0.65753425, 0.70848708])"
      ]
     },
     "execution_count": 23,
     "metadata": {},
     "output_type": "execute_result"
    }
   ],
   "source": [
    "# カテゴリごとのF1スコア\n",
    "f1_score(y_true, y_pred, average=None)"
   ]
  },
  {
   "cell_type": "code",
   "execution_count": 24,
   "metadata": {},
   "outputs": [
    {
     "data": {
      "text/plain": [
       "(array([0.89225589, 0.88888889, 0.96      , 0.84210526]),\n",
       " array([0.93971631, 0.99032882, 0.5       , 0.61146497]),\n",
       " array([0.91537133, 0.936871  , 0.65753425, 0.70848708]),\n",
       " array([564, 517,  96, 157], dtype=int64))"
      ]
     },
     "execution_count": 24,
     "metadata": {},
     "output_type": "execute_result"
    }
   ],
   "source": [
    "# 適合率、再現率、F1スコア一気に出す\n",
    "precision_recall_fscore_support(y_true, y_pred, average=None)"
   ]
  },
  {
   "cell_type": "code",
   "execution_count": 25,
   "metadata": {},
   "outputs": [
    {
     "data": {
      "text/plain": [
       "(0.889055472263868, 0.889055472263868, 0.8890554722638679, None)"
      ]
     },
     "execution_count": 25,
     "metadata": {},
     "output_type": "execute_result"
    }
   ],
   "source": [
    "# マイクロ平均\n",
    "# 「サンプルに無い分類」とかがなければ、全体の正解率に一致する\n",
    "precision_recall_fscore_support(y_true, y_pred, average='micro')"
   ]
  },
  {
   "cell_type": "code",
   "execution_count": 26,
   "metadata": {},
   "outputs": [
    {
     "data": {
      "text/plain": [
       "(0.895812511075669, 0.7603775250814144, 0.8045659146451385, None)"
      ]
     },
     "execution_count": 26,
     "metadata": {},
     "output_type": "execute_result"
    }
   ],
   "source": [
    "# マクロ平均\n",
    "# カテゴリごとに適合率、再現率、F1スコアを出して、それを平均したもの\n",
    "# 絶対数が少ないクラスの影響を受けやすい。全クラスを平等に扱いたかったらコレ\n",
    "precision_recall_fscore_support(y_true, y_pred, average='macro')"
   ]
  },
  {
   "cell_type": "code",
   "execution_count": 27,
   "metadata": {},
   "outputs": [
    {
     "name": "stdout",
     "output_type": "stream",
     "text": [
      "              precision    recall  f1-score   support\n",
      "\n",
      "           b       0.89      0.94      0.92       564\n",
      "           e       0.89      0.99      0.94       517\n",
      "           m       0.96      0.50      0.66        96\n",
      "           t       0.84      0.61      0.71       157\n",
      "\n",
      "    accuracy                           0.89      1334\n",
      "   macro avg       0.90      0.76      0.80      1334\n",
      "weighted avg       0.89      0.89      0.88      1334\n",
      "\n"
     ]
    }
   ],
   "source": [
    "print(classification_report(y_true, y_pred))"
   ]
  },
  {
   "cell_type": "markdown",
   "metadata": {},
   "source": [
    "## 57. 特徴量の重みの確認\n",
    "52で学習したロジスティック回帰モデルの中で，重みの高い特徴量トップ10と，重みの低い特徴量トップ10を確認せよ．"
   ]
  },
  {
   "cell_type": "code",
   "execution_count": 28,
   "metadata": {},
   "outputs": [
    {
     "data": {
      "text/plain": [
       "array([[ 0.20719803, -0.0041297 ,  0.07722516, ..., -0.07351441,\n",
       "        -0.05707517, -0.01206088],\n",
       "       [-0.14106151,  0.00838221, -0.04981281, ...,  0.12753155,\n",
       "         0.10518314,  0.03171352],\n",
       "       [-0.02750033, -0.00147606, -0.01269625, ..., -0.02023845,\n",
       "        -0.02115569, -0.00813332],\n",
       "       [-0.03863619, -0.00277645, -0.0147161 , ..., -0.03377868,\n",
       "        -0.02695228, -0.01151933]])"
      ]
     },
     "execution_count": 28,
     "metadata": {},
     "output_type": "execute_result"
    }
   ],
   "source": [
    "# 係数\n",
    "clf.coef_"
   ]
  },
  {
   "cell_type": "code",
   "execution_count": 29,
   "metadata": {},
   "outputs": [
    {
     "data": {
      "text/plain": [
       "(4, 12881)"
      ]
     },
     "execution_count": 29,
     "metadata": {},
     "output_type": "execute_result"
    }
   ],
   "source": [
    "# 4分類のそれぞれ、係数設定されている\n",
    "clf.coef_.shape"
   ]
  },
  {
   "cell_type": "code",
   "execution_count": 30,
   "metadata": {},
   "outputs": [
    {
     "data": {
      "text/plain": [
       "12881"
      ]
     },
     "execution_count": 30,
     "metadata": {},
     "output_type": "execute_result"
    }
   ],
   "source": [
    "# 係数の名前\n",
    "len(feature_names)"
   ]
  },
  {
   "cell_type": "code",
   "execution_count": 31,
   "metadata": {},
   "outputs": [
    {
     "data": {
      "text/plain": [
       "['zebras',\n",
       " 'zendaya',\n",
       " 'zeppelin',\n",
       " 'zero',\n",
       " 'zeus',\n",
       " 'zew',\n",
       " 'ziering',\n",
       " 'ziff',\n",
       " 'zillow',\n",
       " 'zions',\n",
       " 'zip',\n",
       " 'zloty',\n",
       " 'zmapp',\n",
       " 'zoe',\n",
       " 'zombie',\n",
       " 'zombies',\n",
       " 'zone',\n",
       " 'zoosk',\n",
       " 'zpfa3mqti7qdrpfhqwjm',\n",
       " 'zuckerberg',\n",
       " 'zynga',\n",
       " 'zâ',\n",
       " 'œf',\n",
       " 'œlousyâ',\n",
       " 'œwaist']"
      ]
     },
     "execution_count": 31,
     "metadata": {},
     "output_type": "execute_result"
    }
   ],
   "source": [
    "# いくつか見てみる\n",
    "feature_names[-25:]"
   ]
  },
  {
   "cell_type": "code",
   "execution_count": 32,
   "metadata": {},
   "outputs": [],
   "source": [
    "# {名前: 係数の重み}の辞書\n",
    "# 全体の重みとしては全カテゴリの係数のL2ノルムを取る\n",
    "feature_dict = [\n",
    "    {\n",
    "        'name': f,\n",
    "        'l2': np.linalg.norm(w, ord=2),\n",
    "        'b': w[0],\n",
    "        'e': w[1],\n",
    "        'm': w[2],\n",
    "        't': w[3],\n",
    "    }\n",
    "    for f, w in zip(feature_names, clf.coef_.T)\n",
    "]"
   ]
  },
  {
   "cell_type": "code",
   "execution_count": 33,
   "metadata": {},
   "outputs": [
    {
     "data": {
      "text/plain": [
       "[{'name': 'google',\n",
       "  'l2': 6.6941316552036065,\n",
       "  'b': -1.8597138967102924,\n",
       "  'e': -2.880657104134208,\n",
       "  'm': -0.9327767212175263,\n",
       "  't': 5.673147722062012},\n",
       " {'name': 'facebook',\n",
       "  'l2': 5.919647492318737,\n",
       "  'b': -1.7954045155417653,\n",
       "  'e': -2.2122345655051787,\n",
       "  'm': -1.0697924864006052,\n",
       "  't': 5.07743156744753},\n",
       " {'name': 'apple',\n",
       "  'l2': 5.460688779492947,\n",
       "  'b': -1.6752679419843468,\n",
       "  'e': -2.03721326923247,\n",
       "  'm': -0.969631206141402,\n",
       "  't': 4.6821124173581765},\n",
       " {'name': 'ebola',\n",
       "  'l2': 5.35177056311247,\n",
       "  'b': -2.0309615074461203,\n",
       "  'e': -1.6596464400937074,\n",
       "  'm': 4.579524493235332,\n",
       "  't': -0.888916545695549},\n",
       " {'name': 'microsoft',\n",
       "  'l2': 4.758723945539696,\n",
       "  'b': -1.6017309768065562,\n",
       "  'e': -1.8074467391802214,\n",
       "  'm': -0.6408110442863435,\n",
       "  't': 4.049988760273124},\n",
       " {'name': 'study',\n",
       "  'l2': 4.624390059490769,\n",
       "  'b': -1.6210823606781717,\n",
       "  'e': -2.1681574890207926,\n",
       "  'm': 3.7489390971799703,\n",
       "  't': 0.04030075251904377},\n",
       " {'name': 'update',\n",
       "  'l2': 4.470272842022317,\n",
       "  'b': 2.686622958200352,\n",
       "  'e': -3.386180301603221,\n",
       "  'm': -0.3763373965937583,\n",
       "  't': 1.0758947399966357},\n",
       " {'name': 'climate',\n",
       "  'l2': 4.414851653311244,\n",
       "  'b': -1.193814414494229,\n",
       "  'e': -1.7571962647663604,\n",
       "  'm': -0.8292453558926476,\n",
       "  't': 3.7802560351532346},\n",
       " {'name': 'fda',\n",
       "  'l2': 4.212363550885448,\n",
       "  'b': -1.5151770774104083,\n",
       "  'e': -1.2769642402345691,\n",
       "  'm': 3.6231293546397243,\n",
       "  't': -0.8309880369947558},\n",
       " {'name': 'cancer',\n",
       "  'l2': 4.113824416131823,\n",
       "  'b': -0.9979974271594815,\n",
       "  'e': -1.545781180042767,\n",
       "  'm': 3.5415487719290386,\n",
       "  't': -0.9977701647267796}]"
      ]
     },
     "execution_count": 33,
     "metadata": {},
     "output_type": "execute_result"
    }
   ],
   "source": [
    "# 重みの大きい特徴量トップ10\n",
    "sorted(feature_dict, key=operator.itemgetter('l2'), reverse=True)[:10]"
   ]
  },
  {
   "cell_type": "code",
   "execution_count": 34,
   "metadata": {},
   "outputs": [
    {
     "data": {
      "text/plain": [
       "[{'name': 'narrowed',\n",
       "  'l2': 0.0027192291364949977,\n",
       "  'b': -0.0009745231174012175,\n",
       "  'e': 0.002345704532723655,\n",
       "  'm': -0.0006530884099673147,\n",
       "  't': -0.0007180930053551612},\n",
       " {'name': 'upstage',\n",
       "  'l2': 0.002829619129680863,\n",
       "  'b': -0.0010457101500956905,\n",
       "  'e': 0.002437620535130988,\n",
       "  'm': -0.0007315471000660146,\n",
       "  't': -0.0006603632849693084},\n",
       " {'name': '1201178058',\n",
       "  'l2': 0.003286391515352574,\n",
       "  'b': -0.0013765676390545716,\n",
       "  'e': 0.0027940702770483782,\n",
       "  'm': -0.0004920197455653824,\n",
       "  't': -0.0009254828924284263},\n",
       " {'name': '1399983366398',\n",
       "  'l2': 0.003286391515352574,\n",
       "  'b': -0.0013765676390545716,\n",
       "  'e': 0.0027940702770483782,\n",
       "  'm': -0.0004920197455653824,\n",
       "  't': -0.0009254828924284263},\n",
       " {'name': '1399983366584',\n",
       "  'l2': 0.003286391515352574,\n",
       "  'b': -0.0013765676390545716,\n",
       "  'e': 0.0027940702770483782,\n",
       "  'm': -0.0004920197455653824,\n",
       "  't': -0.0009254828924284263},\n",
       " {'name': '1399983366926',\n",
       "  'l2': 0.003286391515352574,\n",
       "  'b': -0.0013765676390545716,\n",
       "  'e': 0.0027940702770483782,\n",
       "  'm': -0.0004920197455653824,\n",
       "  't': -0.0009254828924284263},\n",
       " {'name': '1399983367118',\n",
       "  'l2': 0.003286391515352574,\n",
       "  'b': -0.0013765676390545716,\n",
       "  'e': 0.0027940702770483782,\n",
       "  'm': -0.0004920197455653824,\n",
       "  't': -0.0009254828924284263},\n",
       " {'name': '1399983367406',\n",
       "  'l2': 0.003286391515352574,\n",
       "  'b': -0.0013765676390545716,\n",
       "  'e': 0.0027940702770483782,\n",
       "  'm': -0.0004920197455653824,\n",
       "  't': -0.0009254828924284263},\n",
       " {'name': '1399983367691',\n",
       "  'l2': 0.003286391515352574,\n",
       "  'b': -0.0013765676390545716,\n",
       "  'e': 0.0027940702770483782,\n",
       "  'm': -0.0004920197455653824,\n",
       "  't': -0.0009254828924284263},\n",
       " {'name': '1399985294553',\n",
       "  'l2': 0.003286391515352574,\n",
       "  'b': -0.0013765676390545716,\n",
       "  'e': 0.0027940702770483782,\n",
       "  'm': -0.0004920197455653824,\n",
       "  't': -0.0009254828924284263}]"
      ]
     },
     "execution_count": 34,
     "metadata": {},
     "output_type": "execute_result"
    }
   ],
   "source": [
    "# 重みの低い特徴量トップ10\n",
    "sorted(feature_dict, key=operator.itemgetter('l2'))[:10]"
   ]
  },
  {
   "cell_type": "code",
   "execution_count": 35,
   "metadata": {},
   "outputs": [
    {
     "data": {
      "text/plain": [
       "[{'name': 'fed',\n",
       "  'l2': 3.9970509419533373,\n",
       "  'b': 3.4253710680574208,\n",
       "  'e': -1.5333668973932124,\n",
       "  'm': -0.7199541415695101,\n",
       "  't': -1.1720500290946838},\n",
       " {'name': 'bank',\n",
       "  'l2': 4.013477835231574,\n",
       "  'b': 3.410257945929046,\n",
       "  'e': -1.7699231726479996,\n",
       "  'm': -0.8110034674721136,\n",
       "  't': -0.8293313058089478},\n",
       " {'name': 'stocks',\n",
       "  'l2': 3.667410266519026,\n",
       "  'b': 3.101652417143734,\n",
       "  'e': -1.23093026926733,\n",
       "  'm': -0.4040135694181027,\n",
       "  't': -1.4667085784582725},\n",
       " {'name': 'ecb',\n",
       "  'l2': 3.54550233343144,\n",
       "  'b': 3.030270985211868,\n",
       "  'e': -1.4355236531489948,\n",
       "  'm': -0.6304801861710382,\n",
       "  't': -0.9642671458918326},\n",
       " {'name': 'china',\n",
       "  'l2': 3.8600602874024488,\n",
       "  'b': 2.986558808198245,\n",
       "  'e': -2.3528369240929567,\n",
       "  'm': -0.6660661846985496,\n",
       "  't': 0.0323443005932857}]"
      ]
     },
     "execution_count": 35,
     "metadata": {},
     "output_type": "execute_result"
    }
   ],
   "source": [
    "# b = businessに影響が大きい特徴量トップ10\n",
    "sorted(feature_dict, key=operator.itemgetter('b'), reverse=True)[:5]"
   ]
  },
  {
   "cell_type": "code",
   "execution_count": 36,
   "metadata": {},
   "outputs": [
    {
     "data": {
      "text/plain": [
       "[{'name': 'kardashian',\n",
       "  'l2': 3.789134670627228,\n",
       "  'b': -1.599611157515646,\n",
       "  'e': 3.2313141233837817,\n",
       "  'm': -0.7014673745320484,\n",
       "  't': -0.9302355913360786},\n",
       " {'name': 'her',\n",
       "  'l2': 3.465303396265054,\n",
       "  'b': -1.8101941225653557,\n",
       "  'e': 2.757048951691345,\n",
       "  'm': 0.11049848444045533,\n",
       "  't': -1.057353313566463},\n",
       " {'name': 'chris',\n",
       "  'l2': 3.1748666061667548,\n",
       "  'b': -1.3262922198838691,\n",
       "  'e': 2.7112721111260067,\n",
       "  'm': -0.6195317237192292,\n",
       "  't': -0.7654481675228787},\n",
       " {'name': 'kim',\n",
       "  'l2': 3.0365754039095147,\n",
       "  'b': -1.2680913059421846,\n",
       "  'e': 2.5913361534242596,\n",
       "  'm': -0.5562110861523234,\n",
       "  't': -0.767033761329768},\n",
       " {'name': 'she',\n",
       "  'l2': 3.228909118600914,\n",
       "  'b': -1.8668533599246904,\n",
       "  'e': 2.5296251609398634,\n",
       "  'm': 0.06990946686631526,\n",
       "  't': -0.7326812678815137}]"
      ]
     },
     "execution_count": 36,
     "metadata": {},
     "output_type": "execute_result"
    }
   ],
   "source": [
    "# e = entertainmentに影響が大きい特徴量トップ10\n",
    "sorted(feature_dict, key=operator.itemgetter('e'), reverse=True)[:5]"
   ]
  },
  {
   "cell_type": "code",
   "execution_count": 37,
   "metadata": {},
   "outputs": [
    {
     "data": {
      "text/plain": [
       "[{'name': 'ebola',\n",
       "  'l2': 5.35177056311247,\n",
       "  'b': -2.0309615074461203,\n",
       "  'e': -1.6596464400937074,\n",
       "  'm': 4.579524493235332,\n",
       "  't': -0.888916545695549},\n",
       " {'name': 'study',\n",
       "  'l2': 4.624390059490769,\n",
       "  'b': -1.6210823606781717,\n",
       "  'e': -2.1681574890207926,\n",
       "  'm': 3.7489390971799703,\n",
       "  't': 0.04030075251904377},\n",
       " {'name': 'fda',\n",
       "  'l2': 4.212363550885448,\n",
       "  'b': -1.5151770774104083,\n",
       "  'e': -1.2769642402345691,\n",
       "  'm': 3.6231293546397243,\n",
       "  't': -0.8309880369947558},\n",
       " {'name': 'cancer',\n",
       "  'l2': 4.113824416131823,\n",
       "  'b': -0.9979974271594815,\n",
       "  'e': -1.545781180042767,\n",
       "  'm': 3.5415487719290386,\n",
       "  't': -0.9977701647267796},\n",
       " {'name': 'mers',\n",
       "  'l2': 3.957172059859735,\n",
       "  'b': -1.4574811155155878,\n",
       "  'e': -1.2317049382355767,\n",
       "  'm': 3.394227340421683,\n",
       "  't': -0.7050412866705165}]"
      ]
     },
     "execution_count": 37,
     "metadata": {},
     "output_type": "execute_result"
    }
   ],
   "source": [
    "# m = healthに影響が大きい特徴量トップ10\n",
    "sorted(feature_dict, key=operator.itemgetter('m'), reverse=True)[:5]"
   ]
  },
  {
   "cell_type": "code",
   "execution_count": 38,
   "metadata": {},
   "outputs": [
    {
     "data": {
      "text/plain": [
       "[{'name': 'google',\n",
       "  'l2': 6.6941316552036065,\n",
       "  'b': -1.8597138967102924,\n",
       "  'e': -2.880657104134208,\n",
       "  'm': -0.9327767212175263,\n",
       "  't': 5.673147722062012},\n",
       " {'name': 'facebook',\n",
       "  'l2': 5.919647492318737,\n",
       "  'b': -1.7954045155417653,\n",
       "  'e': -2.2122345655051787,\n",
       "  'm': -1.0697924864006052,\n",
       "  't': 5.07743156744753},\n",
       " {'name': 'apple',\n",
       "  'l2': 5.460688779492947,\n",
       "  'b': -1.6752679419843468,\n",
       "  'e': -2.03721326923247,\n",
       "  'm': -0.969631206141402,\n",
       "  't': 4.6821124173581765},\n",
       " {'name': 'microsoft',\n",
       "  'l2': 4.758723945539696,\n",
       "  'b': -1.6017309768065562,\n",
       "  'e': -1.8074467391802214,\n",
       "  'm': -0.6408110442863435,\n",
       "  't': 4.049988760273124},\n",
       " {'name': 'climate',\n",
       "  'l2': 4.414851653311244,\n",
       "  'b': -1.193814414494229,\n",
       "  'e': -1.7571962647663604,\n",
       "  'm': -0.8292453558926476,\n",
       "  't': 3.7802560351532346}]"
      ]
     },
     "execution_count": 38,
     "metadata": {},
     "output_type": "execute_result"
    }
   ],
   "source": [
    "# t = science and technologyに影響が大きい特徴量トップ10\n",
    "sorted(feature_dict, key=operator.itemgetter('t'), reverse=True)[:5]"
   ]
  },
  {
   "cell_type": "markdown",
   "metadata": {},
   "source": [
    "## 58. 正則化パラメータの変更\n",
    "ロジスティック回帰モデルを学習するとき，正則化パラメータを調整することで，学習時の過学習（overfitting）の度合いを制御できる．異なる正則化パラメータでロジスティック回帰モデルを学習し，学習データ，検証データ，および評価データ上の正解率を求めよ．実験の結果は，正則化パラメータを横軸，正解率を縦軸としたグラフにまとめよ．"
   ]
  },
  {
   "cell_type": "code",
   "execution_count": 43,
   "metadata": {},
   "outputs": [],
   "source": [
    "import matplotlib.pyplot as plt"
   ]
  },
  {
   "cell_type": "code",
   "execution_count": 44,
   "metadata": {},
   "outputs": [],
   "source": [
    "params = [0.1, 0.5, 1.0, 2.5, 5.0, 7.5, 10.0]"
   ]
  },
  {
   "cell_type": "code",
   "execution_count": 45,
   "metadata": {},
   "outputs": [
    {
     "name": "stdout",
     "output_type": "stream",
     "text": [
      "0.1\n",
      "0.5\n",
      "1.0\n"
     ]
    },
    {
     "name": "stderr",
     "output_type": "stream",
     "text": [
      "C:\\Users\\kazuy\\Anaconda3\\lib\\site-packages\\sklearn\\linear_model\\_logistic.py:940: ConvergenceWarning: lbfgs failed to converge (status=1):\n",
      "STOP: TOTAL NO. of ITERATIONS REACHED LIMIT.\n",
      "\n",
      "Increase the number of iterations (max_iter) or scale the data as shown in:\n",
      "    https://scikit-learn.org/stable/modules/preprocessing.html\n",
      "Please also refer to the documentation for alternative solver options:\n",
      "    https://scikit-learn.org/stable/modules/linear_model.html#logistic-regression\n",
      "  extra_warning_msg=_LOGISTIC_SOLVER_CONVERGENCE_MSG)\n"
     ]
    },
    {
     "name": "stdout",
     "output_type": "stream",
     "text": [
      "2.5\n"
     ]
    },
    {
     "name": "stderr",
     "output_type": "stream",
     "text": [
      "C:\\Users\\kazuy\\Anaconda3\\lib\\site-packages\\sklearn\\linear_model\\_logistic.py:940: ConvergenceWarning: lbfgs failed to converge (status=1):\n",
      "STOP: TOTAL NO. of ITERATIONS REACHED LIMIT.\n",
      "\n",
      "Increase the number of iterations (max_iter) or scale the data as shown in:\n",
      "    https://scikit-learn.org/stable/modules/preprocessing.html\n",
      "Please also refer to the documentation for alternative solver options:\n",
      "    https://scikit-learn.org/stable/modules/linear_model.html#logistic-regression\n",
      "  extra_warning_msg=_LOGISTIC_SOLVER_CONVERGENCE_MSG)\n"
     ]
    },
    {
     "name": "stdout",
     "output_type": "stream",
     "text": [
      "5.0\n"
     ]
    },
    {
     "name": "stderr",
     "output_type": "stream",
     "text": [
      "C:\\Users\\kazuy\\Anaconda3\\lib\\site-packages\\sklearn\\linear_model\\_logistic.py:940: ConvergenceWarning: lbfgs failed to converge (status=1):\n",
      "STOP: TOTAL NO. of ITERATIONS REACHED LIMIT.\n",
      "\n",
      "Increase the number of iterations (max_iter) or scale the data as shown in:\n",
      "    https://scikit-learn.org/stable/modules/preprocessing.html\n",
      "Please also refer to the documentation for alternative solver options:\n",
      "    https://scikit-learn.org/stable/modules/linear_model.html#logistic-regression\n",
      "  extra_warning_msg=_LOGISTIC_SOLVER_CONVERGENCE_MSG)\n"
     ]
    },
    {
     "name": "stdout",
     "output_type": "stream",
     "text": [
      "7.5\n"
     ]
    },
    {
     "name": "stderr",
     "output_type": "stream",
     "text": [
      "C:\\Users\\kazuy\\Anaconda3\\lib\\site-packages\\sklearn\\linear_model\\_logistic.py:940: ConvergenceWarning: lbfgs failed to converge (status=1):\n",
      "STOP: TOTAL NO. of ITERATIONS REACHED LIMIT.\n",
      "\n",
      "Increase the number of iterations (max_iter) or scale the data as shown in:\n",
      "    https://scikit-learn.org/stable/modules/preprocessing.html\n",
      "Please also refer to the documentation for alternative solver options:\n",
      "    https://scikit-learn.org/stable/modules/linear_model.html#logistic-regression\n",
      "  extra_warning_msg=_LOGISTIC_SOLVER_CONVERGENCE_MSG)\n"
     ]
    },
    {
     "name": "stdout",
     "output_type": "stream",
     "text": [
      "10.0\n"
     ]
    },
    {
     "name": "stderr",
     "output_type": "stream",
     "text": [
      "C:\\Users\\kazuy\\Anaconda3\\lib\\site-packages\\sklearn\\linear_model\\_logistic.py:940: ConvergenceWarning: lbfgs failed to converge (status=1):\n",
      "STOP: TOTAL NO. of ITERATIONS REACHED LIMIT.\n",
      "\n",
      "Increase the number of iterations (max_iter) or scale the data as shown in:\n",
      "    https://scikit-learn.org/stable/modules/preprocessing.html\n",
      "Please also refer to the documentation for alternative solver options:\n",
      "    https://scikit-learn.org/stable/modules/linear_model.html#logistic-regression\n",
      "  extra_warning_msg=_LOGISTIC_SOLVER_CONVERGENCE_MSG)\n"
     ]
    }
   ],
   "source": [
    "x = []\n",
    "y_train = []\n",
    "y_test = []\n",
    "y_valid = []\n",
    "for p in params:\n",
    "    print(p)\n",
    "    # 横軸 = 正則化パラメータ\n",
    "    x.append(p)\n",
    "    # パラメータ設定して学習\n",
    "    clf = LogisticRegression(C=p, random_state=0).fit(train['data'], train['target'])\n",
    "    # 縦軸 = 正解率\n",
    "    y_train.append(clf.score(train['data'], train['target']))\n",
    "    y_test.append(clf.score(test['data'], test['target']))\n",
    "    y_valid.append(clf.score(valid['data'], valid['target'])) "
   ]
  },
  {
   "cell_type": "code",
   "execution_count": 46,
   "metadata": {},
   "outputs": [],
   "source": [
    "tes = {\n",
    "    'train': {'x': x, 'y': y_train},\n",
    "    'test': {'x': x, 'y': y_test},\n",
    "    'valid': {'x': x, 'y': y_valid},\n",
    "}"
   ]
  },
  {
   "cell_type": "code",
   "execution_count": 47,
   "metadata": {},
   "outputs": [
    {
     "data": {
      "text/plain": [
       "<matplotlib.legend.Legend at 0x1549aa62a90>"
      ]
     },
     "execution_count": 47,
     "metadata": {},
     "output_type": "execute_result"
    },
    {
     "data": {
      "image/png": "[encoded data removed]",
      "text/plain": [
       "<Figure size 432x288 with 1 Axes>"
      ]
     },
     "metadata": {
      "needs_background": "light"
     },
     "output_type": "display_data"
    }
   ],
   "source": [
    "fig, ax = plt.subplots()\n",
    "\n",
    "for k in ['train', 'test', 'valid']:\n",
    "    ax.plot(tes[k]['x'], tes[k]['y'], label=k)\n",
    "ax.legend()"
   ]
  },
  {
   "cell_type": "markdown",
   "metadata": {},
   "source": [
    "## 59. ハイパーパラメータの探索\n",
    "学習アルゴリズムや学習パラメータを変えながら，カテゴリ分類モデルを学習せよ．検証データ上の正解率が最も高くなる学習アルゴリズム・パラメータを求めよ．また，その学習アルゴリズム・パラメータを用いたときの評価データ上の正解率を求めよ．"
   ]
  },
  {
   "cell_type": "code",
   "execution_count": 48,
   "metadata": {},
   "outputs": [],
   "source": [
    "# パラメータ\n",
    "solver_list = ['lbfgs', 'newton-cg', 'sag', 'saga']\n",
    "C_list = [1.0, 2.0, 3.0, 4.0, 5.0, 6.0, 7.0, 8.0, 9.0, 10.0]"
   ]
  },
  {
   "cell_type": "code",
   "execution_count": 49,
   "metadata": {},
   "outputs": [
    {
     "name": "stdout",
     "output_type": "stream",
     "text": [
      "lbfgs 1.0\n",
      "lbfgs 2.0\n",
      "lbfgs 3.0\n",
      "lbfgs 4.0\n",
      "lbfgs 5.0\n",
      "lbfgs 6.0\n",
      "lbfgs 7.0\n",
      "lbfgs 8.0\n",
      "lbfgs 9.0\n",
      "lbfgs 10.0\n",
      "newton-cg 1.0\n",
      "newton-cg 2.0\n",
      "newton-cg 3.0\n",
      "newton-cg 4.0\n",
      "newton-cg 5.0\n",
      "newton-cg 6.0\n",
      "newton-cg 7.0\n",
      "newton-cg 8.0\n",
      "newton-cg 9.0\n",
      "newton-cg 10.0\n",
      "sag 1.0\n",
      "sag 2.0\n",
      "sag 3.0\n",
      "sag 4.0\n",
      "sag 5.0\n",
      "sag 6.0\n",
      "sag 7.0\n",
      "sag 8.0\n",
      "sag 9.0\n",
      "sag 10.0\n",
      "saga 1.0\n",
      "saga 2.0\n",
      "saga 3.0\n",
      "saga 4.0\n",
      "saga 5.0\n",
      "saga 6.0\n",
      "saga 7.0\n",
      "saga 8.0\n",
      "saga 9.0\n",
      "saga 10.0\n"
     ]
    }
   ],
   "source": [
    "results = []\n",
    "for solver, C in itertools.product(solver_list, C_list):\n",
    "    print(solver, C)\n",
    "    # モデル\n",
    "    model = LogisticRegression(\n",
    "        solver=solver,\n",
    "        C=C,\n",
    "        multi_class='multinomial',\n",
    "        warm_start=True,\n",
    "        max_iter=1000,\n",
    "        random_state=0\n",
    "    )\n",
    "    # 学習\n",
    "    model.fit(train['data'], train['target'])\n",
    "    # 検証データ上の正解率\n",
    "    score = model.score(valid['data'], valid['target'])\n",
    "    # 結果保存\n",
    "    results.append({\n",
    "        'solver': solver,\n",
    "        'C': C,\n",
    "        'valid_score': score,\n",
    "        'model': model,\n",
    "    })"
   ]
  },
  {
   "cell_type": "code",
   "execution_count": 50,
   "metadata": {},
   "outputs": [],
   "source": [
    "# 保存\n",
    "results_path = os.path.join(os.getcwd(), '../model/59_results.pickle')\n",
    "with open(results_path, mode=\"wb\") as f:\n",
    "    pickle.dump(results, f)"
   ]
  },
  {
   "cell_type": "code",
   "execution_count": 51,
   "metadata": {},
   "outputs": [],
   "source": [
    "# 保存ファイル読み込み\n",
    "with open(results_path, mode=\"rb\") as f:\n",
    "    results = pickle.load(f)"
   ]
  },
  {
   "cell_type": "code",
   "execution_count": 52,
   "metadata": {
    "collapsed": true,
    "jupyter": {
     "outputs_hidden": true
    }
   },
   "outputs": [
    {
     "data": {
      "text/plain": [
       "[{'solver': 'lbfgs',\n",
       "  'C': 1.0,\n",
       "  'valid_score': 0.896551724137931,\n",
       "  'model': LogisticRegression(C=1.0, class_weight=None, dual=False, fit_intercept=True,\n",
       "                     intercept_scaling=1, l1_ratio=None, max_iter=1000,\n",
       "                     multi_class='multinomial', n_jobs=None, penalty='l2',\n",
       "                     random_state=0, solver='lbfgs', tol=0.0001, verbose=0,\n",
       "                     warm_start=True)},\n",
       " {'solver': 'lbfgs',\n",
       "  'C': 2.0,\n",
       "  'valid_score': 0.9115442278860569,\n",
       "  'model': LogisticRegression(C=2.0, class_weight=None, dual=False, fit_intercept=True,\n",
       "                     intercept_scaling=1, l1_ratio=None, max_iter=1000,\n",
       "                     multi_class='multinomial', n_jobs=None, penalty='l2',\n",
       "                     random_state=0, solver='lbfgs', tol=0.0001, verbose=0,\n",
       "                     warm_start=True)},\n",
       " {'solver': 'lbfgs',\n",
       "  'C': 3.0,\n",
       "  'valid_score': 0.9182908545727136,\n",
       "  'model': LogisticRegression(C=3.0, class_weight=None, dual=False, fit_intercept=True,\n",
       "                     intercept_scaling=1, l1_ratio=None, max_iter=1000,\n",
       "                     multi_class='multinomial', n_jobs=None, penalty='l2',\n",
       "                     random_state=0, solver='lbfgs', tol=0.0001, verbose=0,\n",
       "                     warm_start=True)},\n",
       " {'solver': 'lbfgs',\n",
       "  'C': 4.0,\n",
       "  'valid_score': 0.9212893553223388,\n",
       "  'model': LogisticRegression(C=4.0, class_weight=None, dual=False, fit_intercept=True,\n",
       "                     intercept_scaling=1, l1_ratio=None, max_iter=1000,\n",
       "                     multi_class='multinomial', n_jobs=None, penalty='l2',\n",
       "                     random_state=0, solver='lbfgs', tol=0.0001, verbose=0,\n",
       "                     warm_start=True)},\n",
       " {'solver': 'lbfgs',\n",
       "  'C': 5.0,\n",
       "  'valid_score': 0.9227886056971514,\n",
       "  'model': LogisticRegression(C=5.0, class_weight=None, dual=False, fit_intercept=True,\n",
       "                     intercept_scaling=1, l1_ratio=None, max_iter=1000,\n",
       "                     multi_class='multinomial', n_jobs=None, penalty='l2',\n",
       "                     random_state=0, solver='lbfgs', tol=0.0001, verbose=0,\n",
       "                     warm_start=True)},\n",
       " {'solver': 'lbfgs',\n",
       "  'C': 6.0,\n",
       "  'valid_score': 0.9220389805097451,\n",
       "  'model': LogisticRegression(C=6.0, class_weight=None, dual=False, fit_intercept=True,\n",
       "                     intercept_scaling=1, l1_ratio=None, max_iter=1000,\n",
       "                     multi_class='multinomial', n_jobs=None, penalty='l2',\n",
       "                     random_state=0, solver='lbfgs', tol=0.0001, verbose=0,\n",
       "                     warm_start=True)},\n",
       " {'solver': 'lbfgs',\n",
       "  'C': 7.0,\n",
       "  'valid_score': 0.9235382308845578,\n",
       "  'model': LogisticRegression(C=7.0, class_weight=None, dual=False, fit_intercept=True,\n",
       "                     intercept_scaling=1, l1_ratio=None, max_iter=1000,\n",
       "                     multi_class='multinomial', n_jobs=None, penalty='l2',\n",
       "                     random_state=0, solver='lbfgs', tol=0.0001, verbose=0,\n",
       "                     warm_start=True)},\n",
       " {'solver': 'lbfgs',\n",
       "  'C': 8.0,\n",
       "  'valid_score': 0.9242878560719641,\n",
       "  'model': LogisticRegression(C=8.0, class_weight=None, dual=False, fit_intercept=True,\n",
       "                     intercept_scaling=1, l1_ratio=None, max_iter=1000,\n",
       "                     multi_class='multinomial', n_jobs=None, penalty='l2',\n",
       "                     random_state=0, solver='lbfgs', tol=0.0001, verbose=0,\n",
       "                     warm_start=True)},\n",
       " {'solver': 'lbfgs',\n",
       "  'C': 9.0,\n",
       "  'valid_score': 0.9250374812593704,\n",
       "  'model': LogisticRegression(C=9.0, class_weight=None, dual=False, fit_intercept=True,\n",
       "                     intercept_scaling=1, l1_ratio=None, max_iter=1000,\n",
       "                     multi_class='multinomial', n_jobs=None, penalty='l2',\n",
       "                     random_state=0, solver='lbfgs', tol=0.0001, verbose=0,\n",
       "                     warm_start=True)},\n",
       " {'solver': 'lbfgs',\n",
       "  'C': 10.0,\n",
       "  'valid_score': 0.9265367316341829,\n",
       "  'model': LogisticRegression(C=10.0, class_weight=None, dual=False, fit_intercept=True,\n",
       "                     intercept_scaling=1, l1_ratio=None, max_iter=1000,\n",
       "                     multi_class='multinomial', n_jobs=None, penalty='l2',\n",
       "                     random_state=0, solver='lbfgs', tol=0.0001, verbose=0,\n",
       "                     warm_start=True)},\n",
       " {'solver': 'newton-cg',\n",
       "  'C': 1.0,\n",
       "  'valid_score': 0.896551724137931,\n",
       "  'model': LogisticRegression(C=1.0, class_weight=None, dual=False, fit_intercept=True,\n",
       "                     intercept_scaling=1, l1_ratio=None, max_iter=1000,\n",
       "                     multi_class='multinomial', n_jobs=None, penalty='l2',\n",
       "                     random_state=0, solver='newton-cg', tol=0.0001, verbose=0,\n",
       "                     warm_start=True)},\n",
       " {'solver': 'newton-cg',\n",
       "  'C': 2.0,\n",
       "  'valid_score': 0.9115442278860569,\n",
       "  'model': LogisticRegression(C=2.0, class_weight=None, dual=False, fit_intercept=True,\n",
       "                     intercept_scaling=1, l1_ratio=None, max_iter=1000,\n",
       "                     multi_class='multinomial', n_jobs=None, penalty='l2',\n",
       "                     random_state=0, solver='newton-cg', tol=0.0001, verbose=0,\n",
       "                     warm_start=True)},\n",
       " {'solver': 'newton-cg',\n",
       "  'C': 3.0,\n",
       "  'valid_score': 0.9182908545727136,\n",
       "  'model': LogisticRegression(C=3.0, class_weight=None, dual=False, fit_intercept=True,\n",
       "                     intercept_scaling=1, l1_ratio=None, max_iter=1000,\n",
       "                     multi_class='multinomial', n_jobs=None, penalty='l2',\n",
       "                     random_state=0, solver='newton-cg', tol=0.0001, verbose=0,\n",
       "                     warm_start=True)},\n",
       " {'solver': 'newton-cg',\n",
       "  'C': 4.0,\n",
       "  'valid_score': 0.9212893553223388,\n",
       "  'model': LogisticRegression(C=4.0, class_weight=None, dual=False, fit_intercept=True,\n",
       "                     intercept_scaling=1, l1_ratio=None, max_iter=1000,\n",
       "                     multi_class='multinomial', n_jobs=None, penalty='l2',\n",
       "                     random_state=0, solver='newton-cg', tol=0.0001, verbose=0,\n",
       "                     warm_start=True)},\n",
       " {'solver': 'newton-cg',\n",
       "  'C': 5.0,\n",
       "  'valid_score': 0.9227886056971514,\n",
       "  'model': LogisticRegression(C=5.0, class_weight=None, dual=False, fit_intercept=True,\n",
       "                     intercept_scaling=1, l1_ratio=None, max_iter=1000,\n",
       "                     multi_class='multinomial', n_jobs=None, penalty='l2',\n",
       "                     random_state=0, solver='newton-cg', tol=0.0001, verbose=0,\n",
       "                     warm_start=True)},\n",
       " {'solver': 'newton-cg',\n",
       "  'C': 6.0,\n",
       "  'valid_score': 0.9220389805097451,\n",
       "  'model': LogisticRegression(C=6.0, class_weight=None, dual=False, fit_intercept=True,\n",
       "                     intercept_scaling=1, l1_ratio=None, max_iter=1000,\n",
       "                     multi_class='multinomial', n_jobs=None, penalty='l2',\n",
       "                     random_state=0, solver='newton-cg', tol=0.0001, verbose=0,\n",
       "                     warm_start=True)},\n",
       " {'solver': 'newton-cg',\n",
       "  'C': 7.0,\n",
       "  'valid_score': 0.9235382308845578,\n",
       "  'model': LogisticRegression(C=7.0, class_weight=None, dual=False, fit_intercept=True,\n",
       "                     intercept_scaling=1, l1_ratio=None, max_iter=1000,\n",
       "                     multi_class='multinomial', n_jobs=None, penalty='l2',\n",
       "                     random_state=0, solver='newton-cg', tol=0.0001, verbose=0,\n",
       "                     warm_start=True)},\n",
       " {'solver': 'newton-cg',\n",
       "  'C': 8.0,\n",
       "  'valid_score': 0.9242878560719641,\n",
       "  'model': LogisticRegression(C=8.0, class_weight=None, dual=False, fit_intercept=True,\n",
       "                     intercept_scaling=1, l1_ratio=None, max_iter=1000,\n",
       "                     multi_class='multinomial', n_jobs=None, penalty='l2',\n",
       "                     random_state=0, solver='newton-cg', tol=0.0001, verbose=0,\n",
       "                     warm_start=True)},\n",
       " {'solver': 'newton-cg',\n",
       "  'C': 9.0,\n",
       "  'valid_score': 0.9250374812593704,\n",
       "  'model': LogisticRegression(C=9.0, class_weight=None, dual=False, fit_intercept=True,\n",
       "                     intercept_scaling=1, l1_ratio=None, max_iter=1000,\n",
       "                     multi_class='multinomial', n_jobs=None, penalty='l2',\n",
       "                     random_state=0, solver='newton-cg', tol=0.0001, verbose=0,\n",
       "                     warm_start=True)},\n",
       " {'solver': 'newton-cg',\n",
       "  'C': 10.0,\n",
       "  'valid_score': 0.9265367316341829,\n",
       "  'model': LogisticRegression(C=10.0, class_weight=None, dual=False, fit_intercept=True,\n",
       "                     intercept_scaling=1, l1_ratio=None, max_iter=1000,\n",
       "                     multi_class='multinomial', n_jobs=None, penalty='l2',\n",
       "                     random_state=0, solver='newton-cg', tol=0.0001, verbose=0,\n",
       "                     warm_start=True)},\n",
       " {'solver': 'sag',\n",
       "  'C': 1.0,\n",
       "  'valid_score': 0.896551724137931,\n",
       "  'model': LogisticRegression(C=1.0, class_weight=None, dual=False, fit_intercept=True,\n",
       "                     intercept_scaling=1, l1_ratio=None, max_iter=1000,\n",
       "                     multi_class='multinomial', n_jobs=None, penalty='l2',\n",
       "                     random_state=0, solver='sag', tol=0.0001, verbose=0,\n",
       "                     warm_start=True)},\n",
       " {'solver': 'sag',\n",
       "  'C': 2.0,\n",
       "  'valid_score': 0.9115442278860569,\n",
       "  'model': LogisticRegression(C=2.0, class_weight=None, dual=False, fit_intercept=True,\n",
       "                     intercept_scaling=1, l1_ratio=None, max_iter=1000,\n",
       "                     multi_class='multinomial', n_jobs=None, penalty='l2',\n",
       "                     random_state=0, solver='sag', tol=0.0001, verbose=0,\n",
       "                     warm_start=True)},\n",
       " {'solver': 'sag',\n",
       "  'C': 3.0,\n",
       "  'valid_score': 0.9182908545727136,\n",
       "  'model': LogisticRegression(C=3.0, class_weight=None, dual=False, fit_intercept=True,\n",
       "                     intercept_scaling=1, l1_ratio=None, max_iter=1000,\n",
       "                     multi_class='multinomial', n_jobs=None, penalty='l2',\n",
       "                     random_state=0, solver='sag', tol=0.0001, verbose=0,\n",
       "                     warm_start=True)},\n",
       " {'solver': 'sag',\n",
       "  'C': 4.0,\n",
       "  'valid_score': 0.9212893553223388,\n",
       "  'model': LogisticRegression(C=4.0, class_weight=None, dual=False, fit_intercept=True,\n",
       "                     intercept_scaling=1, l1_ratio=None, max_iter=1000,\n",
       "                     multi_class='multinomial', n_jobs=None, penalty='l2',\n",
       "                     random_state=0, solver='sag', tol=0.0001, verbose=0,\n",
       "                     warm_start=True)},\n",
       " {'solver': 'sag',\n",
       "  'C': 5.0,\n",
       "  'valid_score': 0.9227886056971514,\n",
       "  'model': LogisticRegression(C=5.0, class_weight=None, dual=False, fit_intercept=True,\n",
       "                     intercept_scaling=1, l1_ratio=None, max_iter=1000,\n",
       "                     multi_class='multinomial', n_jobs=None, penalty='l2',\n",
       "                     random_state=0, solver='sag', tol=0.0001, verbose=0,\n",
       "                     warm_start=True)},\n",
       " {'solver': 'sag',\n",
       "  'C': 6.0,\n",
       "  'valid_score': 0.9220389805097451,\n",
       "  'model': LogisticRegression(C=6.0, class_weight=None, dual=False, fit_intercept=True,\n",
       "                     intercept_scaling=1, l1_ratio=None, max_iter=1000,\n",
       "                     multi_class='multinomial', n_jobs=None, penalty='l2',\n",
       "                     random_state=0, solver='sag', tol=0.0001, verbose=0,\n",
       "                     warm_start=True)},\n",
       " {'solver': 'sag',\n",
       "  'C': 7.0,\n",
       "  'valid_score': 0.9235382308845578,\n",
       "  'model': LogisticRegression(C=7.0, class_weight=None, dual=False, fit_intercept=True,\n",
       "                     intercept_scaling=1, l1_ratio=None, max_iter=1000,\n",
       "                     multi_class='multinomial', n_jobs=None, penalty='l2',\n",
       "                     random_state=0, solver='sag', tol=0.0001, verbose=0,\n",
       "                     warm_start=True)},\n",
       " {'solver': 'sag',\n",
       "  'C': 8.0,\n",
       "  'valid_score': 0.9242878560719641,\n",
       "  'model': LogisticRegression(C=8.0, class_weight=None, dual=False, fit_intercept=True,\n",
       "                     intercept_scaling=1, l1_ratio=None, max_iter=1000,\n",
       "                     multi_class='multinomial', n_jobs=None, penalty='l2',\n",
       "                     random_state=0, solver='sag', tol=0.0001, verbose=0,\n",
       "                     warm_start=True)},\n",
       " {'solver': 'sag',\n",
       "  'C': 9.0,\n",
       "  'valid_score': 0.9250374812593704,\n",
       "  'model': LogisticRegression(C=9.0, class_weight=None, dual=False, fit_intercept=True,\n",
       "                     intercept_scaling=1, l1_ratio=None, max_iter=1000,\n",
       "                     multi_class='multinomial', n_jobs=None, penalty='l2',\n",
       "                     random_state=0, solver='sag', tol=0.0001, verbose=0,\n",
       "                     warm_start=True)},\n",
       " {'solver': 'sag',\n",
       "  'C': 10.0,\n",
       "  'valid_score': 0.9265367316341829,\n",
       "  'model': LogisticRegression(C=10.0, class_weight=None, dual=False, fit_intercept=True,\n",
       "                     intercept_scaling=1, l1_ratio=None, max_iter=1000,\n",
       "                     multi_class='multinomial', n_jobs=None, penalty='l2',\n",
       "                     random_state=0, solver='sag', tol=0.0001, verbose=0,\n",
       "                     warm_start=True)},\n",
       " {'solver': 'saga',\n",
       "  'C': 1.0,\n",
       "  'valid_score': 0.896551724137931,\n",
       "  'model': LogisticRegression(C=1.0, class_weight=None, dual=False, fit_intercept=True,\n",
       "                     intercept_scaling=1, l1_ratio=None, max_iter=1000,\n",
       "                     multi_class='multinomial', n_jobs=None, penalty='l2',\n",
       "                     random_state=0, solver='saga', tol=0.0001, verbose=0,\n",
       "                     warm_start=True)},\n",
       " {'solver': 'saga',\n",
       "  'C': 2.0,\n",
       "  'valid_score': 0.9115442278860569,\n",
       "  'model': LogisticRegression(C=2.0, class_weight=None, dual=False, fit_intercept=True,\n",
       "                     intercept_scaling=1, l1_ratio=None, max_iter=1000,\n",
       "                     multi_class='multinomial', n_jobs=None, penalty='l2',\n",
       "                     random_state=0, solver='saga', tol=0.0001, verbose=0,\n",
       "                     warm_start=True)},\n",
       " {'solver': 'saga',\n",
       "  'C': 3.0,\n",
       "  'valid_score': 0.9182908545727136,\n",
       "  'model': LogisticRegression(C=3.0, class_weight=None, dual=False, fit_intercept=True,\n",
       "                     intercept_scaling=1, l1_ratio=None, max_iter=1000,\n",
       "                     multi_class='multinomial', n_jobs=None, penalty='l2',\n",
       "                     random_state=0, solver='saga', tol=0.0001, verbose=0,\n",
       "                     warm_start=True)},\n",
       " {'solver': 'saga',\n",
       "  'C': 4.0,\n",
       "  'valid_score': 0.9212893553223388,\n",
       "  'model': LogisticRegression(C=4.0, class_weight=None, dual=False, fit_intercept=True,\n",
       "                     intercept_scaling=1, l1_ratio=None, max_iter=1000,\n",
       "                     multi_class='multinomial', n_jobs=None, penalty='l2',\n",
       "                     random_state=0, solver='saga', tol=0.0001, verbose=0,\n",
       "                     warm_start=True)},\n",
       " {'solver': 'saga',\n",
       "  'C': 5.0,\n",
       "  'valid_score': 0.9227886056971514,\n",
       "  'model': LogisticRegression(C=5.0, class_weight=None, dual=False, fit_intercept=True,\n",
       "                     intercept_scaling=1, l1_ratio=None, max_iter=1000,\n",
       "                     multi_class='multinomial', n_jobs=None, penalty='l2',\n",
       "                     random_state=0, solver='saga', tol=0.0001, verbose=0,\n",
       "                     warm_start=True)},\n",
       " {'solver': 'saga',\n",
       "  'C': 6.0,\n",
       "  'valid_score': 0.9220389805097451,\n",
       "  'model': LogisticRegression(C=6.0, class_weight=None, dual=False, fit_intercept=True,\n",
       "                     intercept_scaling=1, l1_ratio=None, max_iter=1000,\n",
       "                     multi_class='multinomial', n_jobs=None, penalty='l2',\n",
       "                     random_state=0, solver='saga', tol=0.0001, verbose=0,\n",
       "                     warm_start=True)},\n",
       " {'solver': 'saga',\n",
       "  'C': 7.0,\n",
       "  'valid_score': 0.9235382308845578,\n",
       "  'model': LogisticRegression(C=7.0, class_weight=None, dual=False, fit_intercept=True,\n",
       "                     intercept_scaling=1, l1_ratio=None, max_iter=1000,\n",
       "                     multi_class='multinomial', n_jobs=None, penalty='l2',\n",
       "                     random_state=0, solver='saga', tol=0.0001, verbose=0,\n",
       "                     warm_start=True)},\n",
       " {'solver': 'saga',\n",
       "  'C': 8.0,\n",
       "  'valid_score': 0.9242878560719641,\n",
       "  'model': LogisticRegression(C=8.0, class_weight=None, dual=False, fit_intercept=True,\n",
       "                     intercept_scaling=1, l1_ratio=None, max_iter=1000,\n",
       "                     multi_class='multinomial', n_jobs=None, penalty='l2',\n",
       "                     random_state=0, solver='saga', tol=0.0001, verbose=0,\n",
       "                     warm_start=True)},\n",
       " {'solver': 'saga',\n",
       "  'C': 9.0,\n",
       "  'valid_score': 0.9250374812593704,\n",
       "  'model': LogisticRegression(C=9.0, class_weight=None, dual=False, fit_intercept=True,\n",
       "                     intercept_scaling=1, l1_ratio=None, max_iter=1000,\n",
       "                     multi_class='multinomial', n_jobs=None, penalty='l2',\n",
       "                     random_state=0, solver='saga', tol=0.0001, verbose=0,\n",
       "                     warm_start=True)},\n",
       " {'solver': 'saga',\n",
       "  'C': 10.0,\n",
       "  'valid_score': 0.9265367316341829,\n",
       "  'model': LogisticRegression(C=10.0, class_weight=None, dual=False, fit_intercept=True,\n",
       "                     intercept_scaling=1, l1_ratio=None, max_iter=1000,\n",
       "                     multi_class='multinomial', n_jobs=None, penalty='l2',\n",
       "                     random_state=0, solver='saga', tol=0.0001, verbose=0,\n",
       "                     warm_start=True)}]"
      ]
     },
     "execution_count": 52,
     "metadata": {},
     "output_type": "execute_result"
    }
   ],
   "source": [
    "results"
   ]
  },
  {
   "cell_type": "code",
   "execution_count": 53,
   "metadata": {},
   "outputs": [
    {
     "data": {
      "text/plain": [
       "[{'solver': 'lbfgs',\n",
       "  'C': 10.0,\n",
       "  'valid_score': 0.9265367316341829,\n",
       "  'model': LogisticRegression(C=10.0, class_weight=None, dual=False, fit_intercept=True,\n",
       "                     intercept_scaling=1, l1_ratio=None, max_iter=1000,\n",
       "                     multi_class='multinomial', n_jobs=None, penalty='l2',\n",
       "                     random_state=0, solver='lbfgs', tol=0.0001, verbose=0,\n",
       "                     warm_start=True)},\n",
       " {'solver': 'newton-cg',\n",
       "  'C': 10.0,\n",
       "  'valid_score': 0.9265367316341829,\n",
       "  'model': LogisticRegression(C=10.0, class_weight=None, dual=False, fit_intercept=True,\n",
       "                     intercept_scaling=1, l1_ratio=None, max_iter=1000,\n",
       "                     multi_class='multinomial', n_jobs=None, penalty='l2',\n",
       "                     random_state=0, solver='newton-cg', tol=0.0001, verbose=0,\n",
       "                     warm_start=True)},\n",
       " {'solver': 'sag',\n",
       "  'C': 10.0,\n",
       "  'valid_score': 0.9265367316341829,\n",
       "  'model': LogisticRegression(C=10.0, class_weight=None, dual=False, fit_intercept=True,\n",
       "                     intercept_scaling=1, l1_ratio=None, max_iter=1000,\n",
       "                     multi_class='multinomial', n_jobs=None, penalty='l2',\n",
       "                     random_state=0, solver='sag', tol=0.0001, verbose=0,\n",
       "                     warm_start=True)},\n",
       " {'solver': 'saga',\n",
       "  'C': 10.0,\n",
       "  'valid_score': 0.9265367316341829,\n",
       "  'model': LogisticRegression(C=10.0, class_weight=None, dual=False, fit_intercept=True,\n",
       "                     intercept_scaling=1, l1_ratio=None, max_iter=1000,\n",
       "                     multi_class='multinomial', n_jobs=None, penalty='l2',\n",
       "                     random_state=0, solver='saga', tol=0.0001, verbose=0,\n",
       "                     warm_start=True)},\n",
       " {'solver': 'lbfgs',\n",
       "  'C': 9.0,\n",
       "  'valid_score': 0.9250374812593704,\n",
       "  'model': LogisticRegression(C=9.0, class_weight=None, dual=False, fit_intercept=True,\n",
       "                     intercept_scaling=1, l1_ratio=None, max_iter=1000,\n",
       "                     multi_class='multinomial', n_jobs=None, penalty='l2',\n",
       "                     random_state=0, solver='lbfgs', tol=0.0001, verbose=0,\n",
       "                     warm_start=True)}]"
      ]
     },
     "execution_count": 53,
     "metadata": {},
     "output_type": "execute_result"
    }
   ],
   "source": [
    "# test_scoreが大きい順TOP5\n",
    "sorted(results, key=operator.itemgetter('valid_score'), reverse=True)[:5]"
   ]
  },
  {
   "cell_type": "code",
   "execution_count": 54,
   "metadata": {},
   "outputs": [
    {
     "data": {
      "text/plain": [
       "LogisticRegression(C=10.0, class_weight=None, dual=False, fit_intercept=True,\n",
       "                   intercept_scaling=1, l1_ratio=None, max_iter=1000,\n",
       "                   multi_class='multinomial', n_jobs=None, penalty='l2',\n",
       "                   random_state=0, solver='lbfgs', tol=0.0001, verbose=0,\n",
       "                   warm_start=True)"
      ]
     },
     "execution_count": 54,
     "metadata": {},
     "output_type": "execute_result"
    }
   ],
   "source": [
    "# 正解率が最も高くなる学習アルゴリズム・パラメータ\n",
    "best_model = sorted(results, key=operator.itemgetter('valid_score'), reverse=True)[0]['model']\n",
    "best_model"
   ]
  },
  {
   "cell_type": "code",
   "execution_count": 55,
   "metadata": {},
   "outputs": [
    {
     "data": {
      "text/plain": [
       "0.9190404797601199"
      ]
     },
     "execution_count": 55,
     "metadata": {},
     "output_type": "execute_result"
    }
   ],
   "source": [
    "# 評価データ上の正解率\n",
    "best_model.score(test['data'], test['target'])"
   ]
  },
  {
   "cell_type": "code",
   "execution_count": null,
   "metadata": {},
   "outputs": [],
   "source": []
  }
 ],
 "metadata": {
  "kernelspec": {
   "display_name": "Python 3",
   "language": "python",
   "name": "python3"
  },
  "language_info": {
   "codemirror_mode": {
    "name": "ipython",
    "version": 3
   },
   "file_extension": ".py",
   "mimetype": "text/x-python",
   "name": "python",
   "nbconvert_exporter": "python",
   "pygments_lexer": "ipython3",
   "version": "3.7.1"
  }
 },
 "nbformat": 4,
 "nbformat_minor": 4
}
