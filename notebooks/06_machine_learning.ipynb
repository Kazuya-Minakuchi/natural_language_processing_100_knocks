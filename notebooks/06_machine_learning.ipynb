{
 "cells": [
  {
   "cell_type": "markdown",
   "metadata": {},
   "source": [
    "# 第6章: 機械学習"
   ]
  },
  {
   "cell_type": "markdown",
   "metadata": {},
   "source": [
    "本章では，Fabio Gasparetti氏が公開している[News Aggregator Data Set](https://archive.ics.uci.edu/ml/datasets/News+Aggregator)を用い，ニュース記事の見出しを「ビジネス」「科学技術」「エンターテイメント」「健康」のカテゴリに分類するタスク（カテゴリ分類）に取り組む．"
   ]
  },
  {
   "cell_type": "markdown",
   "metadata": {},
   "source": [
    "## 50. データの入手・整形\n",
    "News Aggregator Data Setをダウンロードし、以下の要領で学習データ（train.txt），検証データ（valid.txt），評価データ（test.txt）を作成せよ．\n",
    "\n",
    "1. ダウンロードしたzipファイルを解凍し，readme.txtの説明を読む．\n",
    "2. 情報源（publisher）が”Reuters”, “Huffington Post”, “Businessweek”, “Contactmusic.com”, “Daily Mail”の事例（記事）のみを抽出する．\n",
    "3. 抽出された事例をランダムに並び替える．\n",
    "4. 抽出された事例の80%を学習データ，残りの10%ずつを検証データと評価データに分割し，それぞれtrain.txt，valid.txt，test.txtというファイル名で保存する．ファイルには，１行に１事例を書き出すこととし，カテゴリ名と記事見出しのタブ区切り形式とせよ（このファイルは後に問題70で再利用する）．\n",
    "\n",
    "学習データと評価データを作成したら，各カテゴリの事例数を確認せよ．"
   ]
  },
  {
   "cell_type": "code",
   "execution_count": 1,
   "metadata": {},
   "outputs": [],
   "source": [
    "import numpy as np\n",
    "import operator\n",
    "import os\n",
    "import pandas as pd"
   ]
  },
  {
   "cell_type": "code",
   "execution_count": 2,
   "metadata": {},
   "outputs": [],
   "source": [
    "input_path = os.path.join(os.getcwd(), '../data/newsCorpora.csv')"
   ]
  },
  {
   "cell_type": "code",
   "execution_count": 3,
   "metadata": {},
   "outputs": [
    {
     "data": {
      "text/html": [
       "<div>\n",
       "<style scoped>\n",
       "    .dataframe tbody tr th:only-of-type {\n",
       "        vertical-align: middle;\n",
       "    }\n",
       "\n",
       "    .dataframe tbody tr th {\n",
       "        vertical-align: top;\n",
       "    }\n",
       "\n",
       "    .dataframe thead th {\n",
       "        text-align: right;\n",
       "    }\n",
       "</style>\n",
       "<table border=\"1\" class=\"dataframe\">\n",
       "  <thead>\n",
       "    <tr style=\"text-align: right;\">\n",
       "      <th></th>\n",
       "      <th>ID</th>\n",
       "      <th>TITLE</th>\n",
       "      <th>URL</th>\n",
       "      <th>PUBLISHER</th>\n",
       "      <th>CATEGORY</th>\n",
       "      <th>STORY</th>\n",
       "      <th>HOSTNAME</th>\n",
       "      <th>TIMESTAMP</th>\n",
       "    </tr>\n",
       "  </thead>\n",
       "  <tbody>\n",
       "    <tr>\n",
       "      <th>0</th>\n",
       "      <td>1</td>\n",
       "      <td>Fed official says weak data caused by weather,...</td>\n",
       "      <td>http://www.latimes.com/business/money/la-fi-mo...</td>\n",
       "      <td>Los Angeles Times</td>\n",
       "      <td>b</td>\n",
       "      <td>ddUyU0VZz0BRneMioxUPQVP6sIxvM</td>\n",
       "      <td>www.latimes.com</td>\n",
       "      <td>1394470370698</td>\n",
       "    </tr>\n",
       "    <tr>\n",
       "      <th>1</th>\n",
       "      <td>2</td>\n",
       "      <td>Fed's Charles Plosser sees high bar for change...</td>\n",
       "      <td>http://www.livemint.com/Politics/H2EvwJSK2VE6O...</td>\n",
       "      <td>Livemint</td>\n",
       "      <td>b</td>\n",
       "      <td>ddUyU0VZz0BRneMioxUPQVP6sIxvM</td>\n",
       "      <td>www.livemint.com</td>\n",
       "      <td>1394470371207</td>\n",
       "    </tr>\n",
       "    <tr>\n",
       "      <th>2</th>\n",
       "      <td>3</td>\n",
       "      <td>US open: Stocks fall after Fed official hints ...</td>\n",
       "      <td>http://www.ifamagazine.com/news/us-open-stocks...</td>\n",
       "      <td>IFA Magazine</td>\n",
       "      <td>b</td>\n",
       "      <td>ddUyU0VZz0BRneMioxUPQVP6sIxvM</td>\n",
       "      <td>www.ifamagazine.com</td>\n",
       "      <td>1394470371550</td>\n",
       "    </tr>\n",
       "    <tr>\n",
       "      <th>3</th>\n",
       "      <td>4</td>\n",
       "      <td>Fed risks falling 'behind the curve', Charles ...</td>\n",
       "      <td>http://www.ifamagazine.com/news/fed-risks-fall...</td>\n",
       "      <td>IFA Magazine</td>\n",
       "      <td>b</td>\n",
       "      <td>ddUyU0VZz0BRneMioxUPQVP6sIxvM</td>\n",
       "      <td>www.ifamagazine.com</td>\n",
       "      <td>1394470371793</td>\n",
       "    </tr>\n",
       "    <tr>\n",
       "      <th>4</th>\n",
       "      <td>5</td>\n",
       "      <td>Fed's Plosser: Nasty Weather Has Curbed Job Gr...</td>\n",
       "      <td>http://www.moneynews.com/Economy/federal-reser...</td>\n",
       "      <td>Moneynews</td>\n",
       "      <td>b</td>\n",
       "      <td>ddUyU0VZz0BRneMioxUPQVP6sIxvM</td>\n",
       "      <td>www.moneynews.com</td>\n",
       "      <td>1394470372027</td>\n",
       "    </tr>\n",
       "  </tbody>\n",
       "</table>\n",
       "</div>"
      ],
      "text/plain": [
       "   ID                                              TITLE  \\\n",
       "0   1  Fed official says weak data caused by weather,...   \n",
       "1   2  Fed's Charles Plosser sees high bar for change...   \n",
       "2   3  US open: Stocks fall after Fed official hints ...   \n",
       "3   4  Fed risks falling 'behind the curve', Charles ...   \n",
       "4   5  Fed's Plosser: Nasty Weather Has Curbed Job Gr...   \n",
       "\n",
       "                                                 URL          PUBLISHER  \\\n",
       "0  http://www.latimes.com/business/money/la-fi-mo...  Los Angeles Times   \n",
       "1  http://www.livemint.com/Politics/H2EvwJSK2VE6O...           Livemint   \n",
       "2  http://www.ifamagazine.com/news/us-open-stocks...       IFA Magazine   \n",
       "3  http://www.ifamagazine.com/news/fed-risks-fall...       IFA Magazine   \n",
       "4  http://www.moneynews.com/Economy/federal-reser...          Moneynews   \n",
       "\n",
       "  CATEGORY                          STORY             HOSTNAME      TIMESTAMP  \n",
       "0        b  ddUyU0VZz0BRneMioxUPQVP6sIxvM      www.latimes.com  1394470370698  \n",
       "1        b  ddUyU0VZz0BRneMioxUPQVP6sIxvM     www.livemint.com  1394470371207  \n",
       "2        b  ddUyU0VZz0BRneMioxUPQVP6sIxvM  www.ifamagazine.com  1394470371550  \n",
       "3        b  ddUyU0VZz0BRneMioxUPQVP6sIxvM  www.ifamagazine.com  1394470371793  \n",
       "4        b  ddUyU0VZz0BRneMioxUPQVP6sIxvM    www.moneynews.com  1394470372027  "
      ]
     },
     "execution_count": 3,
     "metadata": {},
     "output_type": "execute_result"
    }
   ],
   "source": [
    "# 読み込み\n",
    "df = pd.read_csv(input_path, sep='\\t', names=('ID', 'TITLE', 'URL', 'PUBLISHER', 'CATEGORY', 'STORY', 'HOSTNAME', 'TIMESTAMP'))\n",
    "df.head()"
   ]
  },
  {
   "cell_type": "code",
   "execution_count": 4,
   "metadata": {},
   "outputs": [
    {
     "name": "stdout",
     "output_type": "stream",
     "text": [
      "<class 'pandas.core.frame.DataFrame'>\n",
      "RangeIndex: 422419 entries, 0 to 422418\n",
      "Data columns (total 8 columns):\n",
      " #   Column     Non-Null Count   Dtype \n",
      "---  ------     --------------   ----- \n",
      " 0   ID         422419 non-null  int64 \n",
      " 1   TITLE      422419 non-null  object\n",
      " 2   URL        422419 non-null  object\n",
      " 3   PUBLISHER  422417 non-null  object\n",
      " 4   CATEGORY   422419 non-null  object\n",
      " 5   STORY      422419 non-null  object\n",
      " 6   HOSTNAME   422419 non-null  object\n",
      " 7   TIMESTAMP  422419 non-null  int64 \n",
      "dtypes: int64(2), object(6)\n",
      "memory usage: 25.8+ MB\n"
     ]
    }
   ],
   "source": [
    "# データ数、データ型\n",
    "df.info()"
   ]
  },
  {
   "cell_type": "code",
   "execution_count": 5,
   "metadata": {},
   "outputs": [
    {
     "data": {
      "text/plain": [
       "ID           0\n",
       "TITLE        0\n",
       "URL          0\n",
       "PUBLISHER    2\n",
       "CATEGORY     0\n",
       "STORY        0\n",
       "HOSTNAME     0\n",
       "TIMESTAMP    0\n",
       "dtype: int64"
      ]
     },
     "execution_count": 5,
     "metadata": {},
     "output_type": "execute_result"
    }
   ],
   "source": [
    "# 欠損\n",
    "df.isnull().sum()"
   ]
  },
  {
   "cell_type": "code",
   "execution_count": 6,
   "metadata": {},
   "outputs": [
    {
     "data": {
      "text/html": [
       "<div>\n",
       "<style scoped>\n",
       "    .dataframe tbody tr th:only-of-type {\n",
       "        vertical-align: middle;\n",
       "    }\n",
       "\n",
       "    .dataframe tbody tr th {\n",
       "        vertical-align: top;\n",
       "    }\n",
       "\n",
       "    .dataframe thead th {\n",
       "        text-align: right;\n",
       "    }\n",
       "</style>\n",
       "<table border=\"1\" class=\"dataframe\">\n",
       "  <thead>\n",
       "    <tr style=\"text-align: right;\">\n",
       "      <th></th>\n",
       "      <th>ID</th>\n",
       "      <th>TITLE</th>\n",
       "      <th>URL</th>\n",
       "      <th>PUBLISHER</th>\n",
       "      <th>CATEGORY</th>\n",
       "      <th>STORY</th>\n",
       "      <th>HOSTNAME</th>\n",
       "      <th>TIMESTAMP</th>\n",
       "    </tr>\n",
       "  </thead>\n",
       "  <tbody>\n",
       "    <tr>\n",
       "      <th>12</th>\n",
       "      <td>13</td>\n",
       "      <td>Europe reaches crunch point on banking union</td>\n",
       "      <td>http://in.reuters.com/article/2014/03/10/eu-ba...</td>\n",
       "      <td>Reuters</td>\n",
       "      <td>b</td>\n",
       "      <td>dPhGU51DcrolUIMxbRm0InaHGA2XM</td>\n",
       "      <td>in.reuters.com</td>\n",
       "      <td>1394470501755</td>\n",
       "    </tr>\n",
       "    <tr>\n",
       "      <th>13</th>\n",
       "      <td>14</td>\n",
       "      <td>ECB FOCUS-Stronger euro drowns out ECB's messa...</td>\n",
       "      <td>http://in.reuters.com/article/2014/03/10/ecb-p...</td>\n",
       "      <td>Reuters</td>\n",
       "      <td>b</td>\n",
       "      <td>dPhGU51DcrolUIMxbRm0InaHGA2XM</td>\n",
       "      <td>in.reuters.com</td>\n",
       "      <td>1394470501948</td>\n",
       "    </tr>\n",
       "    <tr>\n",
       "      <th>19</th>\n",
       "      <td>20</td>\n",
       "      <td>Euro Anxieties Wane as Bunds Top Treasuries, S...</td>\n",
       "      <td>http://www.businessweek.com/news/2014-03-10/ge...</td>\n",
       "      <td>Businessweek</td>\n",
       "      <td>b</td>\n",
       "      <td>dPhGU51DcrolUIMxbRm0InaHGA2XM</td>\n",
       "      <td>www.businessweek.com</td>\n",
       "      <td>1394470503148</td>\n",
       "    </tr>\n",
       "    <tr>\n",
       "      <th>20</th>\n",
       "      <td>21</td>\n",
       "      <td>Noyer Says Strong Euro Creates Unwarranted Eco...</td>\n",
       "      <td>http://www.businessweek.com/news/2014-03-10/no...</td>\n",
       "      <td>Businessweek</td>\n",
       "      <td>b</td>\n",
       "      <td>dPhGU51DcrolUIMxbRm0InaHGA2XM</td>\n",
       "      <td>www.businessweek.com</td>\n",
       "      <td>1394470503366</td>\n",
       "    </tr>\n",
       "    <tr>\n",
       "      <th>29</th>\n",
       "      <td>30</td>\n",
       "      <td>REFILE-Bad loan triggers key feature in ECB ba...</td>\n",
       "      <td>http://in.reuters.com/article/2014/03/10/euroz...</td>\n",
       "      <td>Reuters</td>\n",
       "      <td>b</td>\n",
       "      <td>dPhGU51DcrolUIMxbRm0InaHGA2XM</td>\n",
       "      <td>in.reuters.com</td>\n",
       "      <td>1394470505070</td>\n",
       "    </tr>\n",
       "  </tbody>\n",
       "</table>\n",
       "</div>"
      ],
      "text/plain": [
       "    ID                                              TITLE  \\\n",
       "12  13       Europe reaches crunch point on banking union   \n",
       "13  14  ECB FOCUS-Stronger euro drowns out ECB's messa...   \n",
       "19  20  Euro Anxieties Wane as Bunds Top Treasuries, S...   \n",
       "20  21  Noyer Says Strong Euro Creates Unwarranted Eco...   \n",
       "29  30  REFILE-Bad loan triggers key feature in ECB ba...   \n",
       "\n",
       "                                                  URL     PUBLISHER CATEGORY  \\\n",
       "12  http://in.reuters.com/article/2014/03/10/eu-ba...       Reuters        b   \n",
       "13  http://in.reuters.com/article/2014/03/10/ecb-p...       Reuters        b   \n",
       "19  http://www.businessweek.com/news/2014-03-10/ge...  Businessweek        b   \n",
       "20  http://www.businessweek.com/news/2014-03-10/no...  Businessweek        b   \n",
       "29  http://in.reuters.com/article/2014/03/10/euroz...       Reuters        b   \n",
       "\n",
       "                            STORY              HOSTNAME      TIMESTAMP  \n",
       "12  dPhGU51DcrolUIMxbRm0InaHGA2XM        in.reuters.com  1394470501755  \n",
       "13  dPhGU51DcrolUIMxbRm0InaHGA2XM        in.reuters.com  1394470501948  \n",
       "19  dPhGU51DcrolUIMxbRm0InaHGA2XM  www.businessweek.com  1394470503148  \n",
       "20  dPhGU51DcrolUIMxbRm0InaHGA2XM  www.businessweek.com  1394470503366  \n",
       "29  dPhGU51DcrolUIMxbRm0InaHGA2XM        in.reuters.com  1394470505070  "
      ]
     },
     "execution_count": 6,
     "metadata": {},
     "output_type": "execute_result"
    }
   ],
   "source": [
    "# 情報源（publisher）が”Reuters”, “Huffington Post”, “Businessweek”, “Contactmusic.com”, “Daily Mail”の事例（記事）のみを抽出する．\n",
    "df = df[df['PUBLISHER'].apply(lambda x: x in ['Reuters', 'Huffington Post', 'Businessweek', 'Contactmusic.com', 'Daily Mail'])]\n",
    "df.head()"
   ]
  },
  {
   "cell_type": "code",
   "execution_count": 7,
   "metadata": {},
   "outputs": [
    {
     "name": "stdout",
     "output_type": "stream",
     "text": [
      "<class 'pandas.core.frame.DataFrame'>\n",
      "Int64Index: 13340 entries, 12 to 422319\n",
      "Data columns (total 8 columns):\n",
      " #   Column     Non-Null Count  Dtype \n",
      "---  ------     --------------  ----- \n",
      " 0   ID         13340 non-null  int64 \n",
      " 1   TITLE      13340 non-null  object\n",
      " 2   URL        13340 non-null  object\n",
      " 3   PUBLISHER  13340 non-null  object\n",
      " 4   CATEGORY   13340 non-null  object\n",
      " 5   STORY      13340 non-null  object\n",
      " 6   HOSTNAME   13340 non-null  object\n",
      " 7   TIMESTAMP  13340 non-null  int64 \n",
      "dtypes: int64(2), object(6)\n",
      "memory usage: 938.0+ KB\n"
     ]
    }
   ],
   "source": [
    "# データ数、データ型\n",
    "df.info()"
   ]
  },
  {
   "cell_type": "code",
   "execution_count": 8,
   "metadata": {},
   "outputs": [
    {
     "data": {
      "text/html": [
       "<div>\n",
       "<style scoped>\n",
       "    .dataframe tbody tr th:only-of-type {\n",
       "        vertical-align: middle;\n",
       "    }\n",
       "\n",
       "    .dataframe tbody tr th {\n",
       "        vertical-align: top;\n",
       "    }\n",
       "\n",
       "    .dataframe thead th {\n",
       "        text-align: right;\n",
       "    }\n",
       "</style>\n",
       "<table border=\"1\" class=\"dataframe\">\n",
       "  <thead>\n",
       "    <tr style=\"text-align: right;\">\n",
       "      <th></th>\n",
       "      <th>ID</th>\n",
       "      <th>TITLE</th>\n",
       "      <th>URL</th>\n",
       "      <th>PUBLISHER</th>\n",
       "      <th>STORY</th>\n",
       "      <th>HOSTNAME</th>\n",
       "      <th>TIMESTAMP</th>\n",
       "    </tr>\n",
       "    <tr>\n",
       "      <th>CATEGORY</th>\n",
       "      <th></th>\n",
       "      <th></th>\n",
       "      <th></th>\n",
       "      <th></th>\n",
       "      <th></th>\n",
       "      <th></th>\n",
       "      <th></th>\n",
       "    </tr>\n",
       "  </thead>\n",
       "  <tbody>\n",
       "    <tr>\n",
       "      <th>b</th>\n",
       "      <td>5627</td>\n",
       "      <td>5627</td>\n",
       "      <td>5627</td>\n",
       "      <td>5627</td>\n",
       "      <td>5627</td>\n",
       "      <td>5627</td>\n",
       "      <td>5627</td>\n",
       "    </tr>\n",
       "    <tr>\n",
       "      <th>e</th>\n",
       "      <td>5279</td>\n",
       "      <td>5279</td>\n",
       "      <td>5279</td>\n",
       "      <td>5279</td>\n",
       "      <td>5279</td>\n",
       "      <td>5279</td>\n",
       "      <td>5279</td>\n",
       "    </tr>\n",
       "    <tr>\n",
       "      <th>m</th>\n",
       "      <td>910</td>\n",
       "      <td>910</td>\n",
       "      <td>910</td>\n",
       "      <td>910</td>\n",
       "      <td>910</td>\n",
       "      <td>910</td>\n",
       "      <td>910</td>\n",
       "    </tr>\n",
       "    <tr>\n",
       "      <th>t</th>\n",
       "      <td>1524</td>\n",
       "      <td>1524</td>\n",
       "      <td>1524</td>\n",
       "      <td>1524</td>\n",
       "      <td>1524</td>\n",
       "      <td>1524</td>\n",
       "      <td>1524</td>\n",
       "    </tr>\n",
       "  </tbody>\n",
       "</table>\n",
       "</div>"
      ],
      "text/plain": [
       "            ID  TITLE   URL  PUBLISHER  STORY  HOSTNAME  TIMESTAMP\n",
       "CATEGORY                                                          \n",
       "b         5627   5627  5627       5627   5627      5627       5627\n",
       "e         5279   5279  5279       5279   5279      5279       5279\n",
       "m          910    910   910        910    910       910        910\n",
       "t         1524   1524  1524       1524   1524      1524       1524"
      ]
     },
     "execution_count": 8,
     "metadata": {},
     "output_type": "execute_result"
    }
   ],
   "source": [
    "# CATEGORYごとの数\n",
    "df.groupby('CATEGORY').count()"
   ]
  },
  {
   "cell_type": "code",
   "execution_count": 9,
   "metadata": {},
   "outputs": [
    {
     "data": {
      "text/html": [
       "<div>\n",
       "<style scoped>\n",
       "    .dataframe tbody tr th:only-of-type {\n",
       "        vertical-align: middle;\n",
       "    }\n",
       "\n",
       "    .dataframe tbody tr th {\n",
       "        vertical-align: top;\n",
       "    }\n",
       "\n",
       "    .dataframe thead th {\n",
       "        text-align: right;\n",
       "    }\n",
       "</style>\n",
       "<table border=\"1\" class=\"dataframe\">\n",
       "  <thead>\n",
       "    <tr style=\"text-align: right;\">\n",
       "      <th></th>\n",
       "      <th>ID</th>\n",
       "      <th>TITLE</th>\n",
       "      <th>URL</th>\n",
       "      <th>CATEGORY</th>\n",
       "      <th>STORY</th>\n",
       "      <th>HOSTNAME</th>\n",
       "      <th>TIMESTAMP</th>\n",
       "    </tr>\n",
       "    <tr>\n",
       "      <th>PUBLISHER</th>\n",
       "      <th></th>\n",
       "      <th></th>\n",
       "      <th></th>\n",
       "      <th></th>\n",
       "      <th></th>\n",
       "      <th></th>\n",
       "      <th></th>\n",
       "    </tr>\n",
       "  </thead>\n",
       "  <tbody>\n",
       "    <tr>\n",
       "      <th>Businessweek</th>\n",
       "      <td>2395</td>\n",
       "      <td>2395</td>\n",
       "      <td>2395</td>\n",
       "      <td>2395</td>\n",
       "      <td>2395</td>\n",
       "      <td>2395</td>\n",
       "      <td>2395</td>\n",
       "    </tr>\n",
       "    <tr>\n",
       "      <th>Contactmusic.com</th>\n",
       "      <td>2334</td>\n",
       "      <td>2334</td>\n",
       "      <td>2334</td>\n",
       "      <td>2334</td>\n",
       "      <td>2334</td>\n",
       "      <td>2334</td>\n",
       "      <td>2334</td>\n",
       "    </tr>\n",
       "    <tr>\n",
       "      <th>Daily Mail</th>\n",
       "      <td>2254</td>\n",
       "      <td>2254</td>\n",
       "      <td>2254</td>\n",
       "      <td>2254</td>\n",
       "      <td>2254</td>\n",
       "      <td>2254</td>\n",
       "      <td>2254</td>\n",
       "    </tr>\n",
       "    <tr>\n",
       "      <th>Huffington Post</th>\n",
       "      <td>2455</td>\n",
       "      <td>2455</td>\n",
       "      <td>2455</td>\n",
       "      <td>2455</td>\n",
       "      <td>2455</td>\n",
       "      <td>2455</td>\n",
       "      <td>2455</td>\n",
       "    </tr>\n",
       "    <tr>\n",
       "      <th>Reuters</th>\n",
       "      <td>3902</td>\n",
       "      <td>3902</td>\n",
       "      <td>3902</td>\n",
       "      <td>3902</td>\n",
       "      <td>3902</td>\n",
       "      <td>3902</td>\n",
       "      <td>3902</td>\n",
       "    </tr>\n",
       "  </tbody>\n",
       "</table>\n",
       "</div>"
      ],
      "text/plain": [
       "                    ID  TITLE   URL  CATEGORY  STORY  HOSTNAME  TIMESTAMP\n",
       "PUBLISHER                                                                \n",
       "Businessweek      2395   2395  2395      2395   2395      2395       2395\n",
       "Contactmusic.com  2334   2334  2334      2334   2334      2334       2334\n",
       "Daily Mail        2254   2254  2254      2254   2254      2254       2254\n",
       "Huffington Post   2455   2455  2455      2455   2455      2455       2455\n",
       "Reuters           3902   3902  3902      3902   3902      3902       3902"
      ]
     },
     "execution_count": 9,
     "metadata": {},
     "output_type": "execute_result"
    }
   ],
   "source": [
    "# PUBLISHERごとの数\n",
    "df.groupby('PUBLISHER').count()"
   ]
  },
  {
   "cell_type": "code",
   "execution_count": 11,
   "metadata": {},
   "outputs": [
    {
     "data": {
      "text/html": [
       "<div>\n",
       "<style scoped>\n",
       "    .dataframe tbody tr th:only-of-type {\n",
       "        vertical-align: middle;\n",
       "    }\n",
       "\n",
       "    .dataframe tbody tr th {\n",
       "        vertical-align: top;\n",
       "    }\n",
       "\n",
       "    .dataframe thead th {\n",
       "        text-align: right;\n",
       "    }\n",
       "</style>\n",
       "<table border=\"1\" class=\"dataframe\">\n",
       "  <thead>\n",
       "    <tr style=\"text-align: right;\">\n",
       "      <th></th>\n",
       "      <th>ID</th>\n",
       "      <th>TITLE</th>\n",
       "      <th>URL</th>\n",
       "      <th>PUBLISHER</th>\n",
       "      <th>CATEGORY</th>\n",
       "      <th>STORY</th>\n",
       "      <th>HOSTNAME</th>\n",
       "      <th>TIMESTAMP</th>\n",
       "    </tr>\n",
       "  </thead>\n",
       "  <tbody>\n",
       "    <tr>\n",
       "      <th>0</th>\n",
       "      <td>389178</td>\n",
       "      <td>'I'm so f***ing hammered!': Charlie Sheen has ...</td>\n",
       "      <td>http://www.dailymail.co.uk/tvshowbiz/article-2...</td>\n",
       "      <td>Daily Mail</td>\n",
       "      <td>e</td>\n",
       "      <td>dafAzhctSWlLL9MxlA9MoqeG9ZqqM</td>\n",
       "      <td>www.dailymail.co.uk</td>\n",
       "      <td>1405644459677</td>\n",
       "    </tr>\n",
       "    <tr>\n",
       "      <th>1</th>\n",
       "      <td>266974</td>\n",
       "      <td>Chrysler Pushes US Sales Streak to 50th Month ...</td>\n",
       "      <td>http://www.businessweek.com/news/2014-06-03/ch...</td>\n",
       "      <td>Businessweek</td>\n",
       "      <td>b</td>\n",
       "      <td>dspSgLOwgd5CJiMEiUwy64nHMiQgM</td>\n",
       "      <td>www.businessweek.com</td>\n",
       "      <td>1401799226005</td>\n",
       "    </tr>\n",
       "    <tr>\n",
       "      <th>2</th>\n",
       "      <td>166700</td>\n",
       "      <td>Siemens to Meet Hollande Before Deciding on Po...</td>\n",
       "      <td>http://www.businessweek.com/news/2014-04-28/si...</td>\n",
       "      <td>Businessweek</td>\n",
       "      <td>b</td>\n",
       "      <td>ddieo1I2wvePuIM-llBRDdtri4i3M</td>\n",
       "      <td>www.businessweek.com</td>\n",
       "      <td>1398776169961</td>\n",
       "    </tr>\n",
       "    <tr>\n",
       "      <th>3</th>\n",
       "      <td>219997</td>\n",
       "      <td>Shanghai shares end at 3-week low on new bank ...</td>\n",
       "      <td>http://in.reuters.com/article/2014/05/19/marke...</td>\n",
       "      <td>Reuters</td>\n",
       "      <td>b</td>\n",
       "      <td>d77FOoidVTM_KCMtUPW86iPeYKyPM</td>\n",
       "      <td>in.reuters.com</td>\n",
       "      <td>1400512947803</td>\n",
       "    </tr>\n",
       "    <tr>\n",
       "      <th>4</th>\n",
       "      <td>276626</td>\n",
       "      <td>Fitch Affirms Caffil's OF at 'AA+' on Revised ...</td>\n",
       "      <td>http://in.reuters.com/article/2014/06/12/fitch...</td>\n",
       "      <td>Reuters</td>\n",
       "      <td>b</td>\n",
       "      <td>dAZC0aRMk1ONyvMUjTyEB_iZmrZLM</td>\n",
       "      <td>in.reuters.com</td>\n",
       "      <td>1402653994943</td>\n",
       "    </tr>\n",
       "  </tbody>\n",
       "</table>\n",
       "</div>"
      ],
      "text/plain": [
       "       ID                                              TITLE  \\\n",
       "0  389178  'I'm so f***ing hammered!': Charlie Sheen has ...   \n",
       "1  266974  Chrysler Pushes US Sales Streak to 50th Month ...   \n",
       "2  166700  Siemens to Meet Hollande Before Deciding on Po...   \n",
       "3  219997  Shanghai shares end at 3-week low on new bank ...   \n",
       "4  276626  Fitch Affirms Caffil's OF at 'AA+' on Revised ...   \n",
       "\n",
       "                                                 URL     PUBLISHER CATEGORY  \\\n",
       "0  http://www.dailymail.co.uk/tvshowbiz/article-2...    Daily Mail        e   \n",
       "1  http://www.businessweek.com/news/2014-06-03/ch...  Businessweek        b   \n",
       "2  http://www.businessweek.com/news/2014-04-28/si...  Businessweek        b   \n",
       "3  http://in.reuters.com/article/2014/05/19/marke...       Reuters        b   \n",
       "4  http://in.reuters.com/article/2014/06/12/fitch...       Reuters        b   \n",
       "\n",
       "                           STORY              HOSTNAME      TIMESTAMP  \n",
       "0  dafAzhctSWlLL9MxlA9MoqeG9ZqqM   www.dailymail.co.uk  1405644459677  \n",
       "1  dspSgLOwgd5CJiMEiUwy64nHMiQgM  www.businessweek.com  1401799226005  \n",
       "2  ddieo1I2wvePuIM-llBRDdtri4i3M  www.businessweek.com  1398776169961  \n",
       "3  d77FOoidVTM_KCMtUPW86iPeYKyPM        in.reuters.com  1400512947803  \n",
       "4  dAZC0aRMk1ONyvMUjTyEB_iZmrZLM        in.reuters.com  1402653994943  "
      ]
     },
     "execution_count": 11,
     "metadata": {},
     "output_type": "execute_result"
    }
   ],
   "source": [
    "# 抽出された事例をランダムに並び替える\n",
    "df = df.sample(frac=1.0, random_state=0).reset_index(drop=True)\n",
    "df.head()"
   ]
  },
  {
   "cell_type": "code",
   "execution_count": 12,
   "metadata": {},
   "outputs": [
    {
     "data": {
      "text/plain": [
       "13340"
      ]
     },
     "execution_count": 12,
     "metadata": {},
     "output_type": "execute_result"
    }
   ],
   "source": [
    "len(df)"
   ]
  },
  {
   "cell_type": "code",
   "execution_count": 13,
   "metadata": {},
   "outputs": [],
   "source": [
    "# 抽出された事例の80%を学習データ，残りの10%ずつを検証データと評価データに分割\n",
    "train_num = int(len(df) * 0.8)\n",
    "valid_num = int(len(df) * 0.1)\n",
    "df_train = df[0:train_num]\n",
    "df_valid = df[train_num:train_num + valid_num]\n",
    "df_test = df[train_num + valid_num:]"
   ]
  },
  {
   "cell_type": "code",
   "execution_count": 14,
   "metadata": {},
   "outputs": [
    {
     "data": {
      "text/plain": [
       "13340"
      ]
     },
     "execution_count": 14,
     "metadata": {},
     "output_type": "execute_result"
    }
   ],
   "source": [
    "# 数確認\n",
    "len(df_train) + len(df_valid) + len(df_test)"
   ]
  },
  {
   "cell_type": "code",
   "execution_count": 15,
   "metadata": {},
   "outputs": [],
   "source": [
    "# それぞれtrain.txt，valid.txt，test.txtというファイル名で保存する\n",
    "# １行に１事例を書き出す\n",
    "# カテゴリ名と記事見出しのタブ区切り形式\n",
    "df_train[['CATEGORY', 'TITLE']].to_csv('train.txt', sep='\\t', index=False)\n",
    "df_valid[['CATEGORY', 'TITLE']].to_csv('valid.txt', sep='\\t', index=False)\n",
    "df_test[['CATEGORY', 'TITLE']].to_csv('test.txt', sep='\\t', index=False)"
   ]
  },
  {
   "cell_type": "code",
   "execution_count": 16,
   "metadata": {},
   "outputs": [
    {
     "data": {
      "text/html": [
       "<div>\n",
       "<style scoped>\n",
       "    .dataframe tbody tr th:only-of-type {\n",
       "        vertical-align: middle;\n",
       "    }\n",
       "\n",
       "    .dataframe tbody tr th {\n",
       "        vertical-align: top;\n",
       "    }\n",
       "\n",
       "    .dataframe thead th {\n",
       "        text-align: right;\n",
       "    }\n",
       "</style>\n",
       "<table border=\"1\" class=\"dataframe\">\n",
       "  <thead>\n",
       "    <tr style=\"text-align: right;\">\n",
       "      <th></th>\n",
       "      <th>ID</th>\n",
       "      <th>TITLE</th>\n",
       "      <th>URL</th>\n",
       "      <th>PUBLISHER</th>\n",
       "      <th>STORY</th>\n",
       "      <th>HOSTNAME</th>\n",
       "      <th>TIMESTAMP</th>\n",
       "    </tr>\n",
       "    <tr>\n",
       "      <th>CATEGORY</th>\n",
       "      <th></th>\n",
       "      <th></th>\n",
       "      <th></th>\n",
       "      <th></th>\n",
       "      <th></th>\n",
       "      <th></th>\n",
       "      <th></th>\n",
       "    </tr>\n",
       "  </thead>\n",
       "  <tbody>\n",
       "    <tr>\n",
       "      <th>b</th>\n",
       "      <td>4465</td>\n",
       "      <td>4465</td>\n",
       "      <td>4465</td>\n",
       "      <td>4465</td>\n",
       "      <td>4465</td>\n",
       "      <td>4465</td>\n",
       "      <td>4465</td>\n",
       "    </tr>\n",
       "    <tr>\n",
       "      <th>e</th>\n",
       "      <td>4268</td>\n",
       "      <td>4268</td>\n",
       "      <td>4268</td>\n",
       "      <td>4268</td>\n",
       "      <td>4268</td>\n",
       "      <td>4268</td>\n",
       "      <td>4268</td>\n",
       "    </tr>\n",
       "    <tr>\n",
       "      <th>m</th>\n",
       "      <td>729</td>\n",
       "      <td>729</td>\n",
       "      <td>729</td>\n",
       "      <td>729</td>\n",
       "      <td>729</td>\n",
       "      <td>729</td>\n",
       "      <td>729</td>\n",
       "    </tr>\n",
       "    <tr>\n",
       "      <th>t</th>\n",
       "      <td>1210</td>\n",
       "      <td>1210</td>\n",
       "      <td>1210</td>\n",
       "      <td>1210</td>\n",
       "      <td>1210</td>\n",
       "      <td>1210</td>\n",
       "      <td>1210</td>\n",
       "    </tr>\n",
       "  </tbody>\n",
       "</table>\n",
       "</div>"
      ],
      "text/plain": [
       "            ID  TITLE   URL  PUBLISHER  STORY  HOSTNAME  TIMESTAMP\n",
       "CATEGORY                                                          \n",
       "b         4465   4465  4465       4465   4465      4465       4465\n",
       "e         4268   4268  4268       4268   4268      4268       4268\n",
       "m          729    729   729        729    729       729        729\n",
       "t         1210   1210  1210       1210   1210      1210       1210"
      ]
     },
     "execution_count": 16,
     "metadata": {},
     "output_type": "execute_result"
    }
   ],
   "source": [
    "# カテゴリごとのデータ数\n",
    "# 訓練データ\n",
    "df_train.groupby('CATEGORY').count()"
   ]
  },
  {
   "cell_type": "code",
   "execution_count": 17,
   "metadata": {},
   "outputs": [
    {
     "data": {
      "text/html": [
       "<div>\n",
       "<style scoped>\n",
       "    .dataframe tbody tr th:only-of-type {\n",
       "        vertical-align: middle;\n",
       "    }\n",
       "\n",
       "    .dataframe tbody tr th {\n",
       "        vertical-align: top;\n",
       "    }\n",
       "\n",
       "    .dataframe thead th {\n",
       "        text-align: right;\n",
       "    }\n",
       "</style>\n",
       "<table border=\"1\" class=\"dataframe\">\n",
       "  <thead>\n",
       "    <tr style=\"text-align: right;\">\n",
       "      <th></th>\n",
       "      <th>ID</th>\n",
       "      <th>TITLE</th>\n",
       "      <th>URL</th>\n",
       "      <th>PUBLISHER</th>\n",
       "      <th>STORY</th>\n",
       "      <th>HOSTNAME</th>\n",
       "      <th>TIMESTAMP</th>\n",
       "    </tr>\n",
       "    <tr>\n",
       "      <th>CATEGORY</th>\n",
       "      <th></th>\n",
       "      <th></th>\n",
       "      <th></th>\n",
       "      <th></th>\n",
       "      <th></th>\n",
       "      <th></th>\n",
       "      <th></th>\n",
       "    </tr>\n",
       "  </thead>\n",
       "  <tbody>\n",
       "    <tr>\n",
       "      <th>b</th>\n",
       "      <td>583</td>\n",
       "      <td>583</td>\n",
       "      <td>583</td>\n",
       "      <td>583</td>\n",
       "      <td>583</td>\n",
       "      <td>583</td>\n",
       "      <td>583</td>\n",
       "    </tr>\n",
       "    <tr>\n",
       "      <th>e</th>\n",
       "      <td>495</td>\n",
       "      <td>495</td>\n",
       "      <td>495</td>\n",
       "      <td>495</td>\n",
       "      <td>495</td>\n",
       "      <td>495</td>\n",
       "      <td>495</td>\n",
       "    </tr>\n",
       "    <tr>\n",
       "      <th>m</th>\n",
       "      <td>97</td>\n",
       "      <td>97</td>\n",
       "      <td>97</td>\n",
       "      <td>97</td>\n",
       "      <td>97</td>\n",
       "      <td>97</td>\n",
       "      <td>97</td>\n",
       "    </tr>\n",
       "    <tr>\n",
       "      <th>t</th>\n",
       "      <td>159</td>\n",
       "      <td>159</td>\n",
       "      <td>159</td>\n",
       "      <td>159</td>\n",
       "      <td>159</td>\n",
       "      <td>159</td>\n",
       "      <td>159</td>\n",
       "    </tr>\n",
       "  </tbody>\n",
       "</table>\n",
       "</div>"
      ],
      "text/plain": [
       "           ID  TITLE  URL  PUBLISHER  STORY  HOSTNAME  TIMESTAMP\n",
       "CATEGORY                                                        \n",
       "b         583    583  583        583    583       583        583\n",
       "e         495    495  495        495    495       495        495\n",
       "m          97     97   97         97     97        97         97\n",
       "t         159    159  159        159    159       159        159"
      ]
     },
     "execution_count": 17,
     "metadata": {},
     "output_type": "execute_result"
    }
   ],
   "source": [
    "# カテゴリごとのデータ数\n",
    "# 評価データ\n",
    "df_test.groupby('CATEGORY').count()"
   ]
  },
  {
   "cell_type": "markdown",
   "metadata": {},
   "source": [
    "## 51. 特徴量抽出\n",
    "\n",
    "学習データ，検証データ，評価データから特徴量を抽出し，それぞれtrain.feature.txt，valid.feature.txt，test.feature.txtというファイル名で保存せよ．\n",
    "なお，カテゴリ分類に有用そうな特徴量は各自で自由に設計せよ．記事の見出しを単語列に変換したものが最低限のベースラインとなるであろう．"
   ]
  },
  {
   "cell_type": "code",
   "execution_count": 18,
   "metadata": {},
   "outputs": [],
   "source": [
    "# tf-idf変換準備\n",
    "from sklearn.feature_extraction.text import TfidfVectorizer"
   ]
  },
  {
   "cell_type": "code",
   "execution_count": 19,
   "metadata": {},
   "outputs": [
    {
     "name": "stdout",
     "output_type": "stream",
     "text": [
      "['book', 'car', 'english', 'friend', 'is', 'my', 'this']\n",
      "[[0.         0.69903033 0.         0.         0.41285857 0.41285857\n",
      "  0.41285857]\n",
      " [0.         0.         0.         0.69903033 0.41285857 0.41285857\n",
      "  0.41285857]\n",
      " [0.57292883 0.         0.57292883 0.         0.338381   0.338381\n",
      "  0.338381  ]]\n"
     ]
    }
   ],
   "source": [
    "# 試しに動かす\n",
    "tf_vec = TfidfVectorizer()\n",
    "\n",
    "tes = pd.DataFrame([\n",
    "    'This is my car',\n",
    "    'This is my friend',\n",
    "    'This is my English book',\n",
    "], columns=['TITLE'])\n",
    "\n",
    "tes_vector = tf_vec.fit_transform(tes['TITLE'].tolist())\n",
    "\n",
    "print(tf_vec.get_feature_names())\n",
    "print(tes_vector.toarray())"
   ]
  },
  {
   "cell_type": "code",
   "execution_count": 20,
   "metadata": {},
   "outputs": [
    {
     "data": {
      "text/html": [
       "<div>\n",
       "<style scoped>\n",
       "    .dataframe tbody tr th:only-of-type {\n",
       "        vertical-align: middle;\n",
       "    }\n",
       "\n",
       "    .dataframe tbody tr th {\n",
       "        vertical-align: top;\n",
       "    }\n",
       "\n",
       "    .dataframe thead th {\n",
       "        text-align: right;\n",
       "    }\n",
       "</style>\n",
       "<table border=\"1\" class=\"dataframe\">\n",
       "  <thead>\n",
       "    <tr style=\"text-align: right;\">\n",
       "      <th></th>\n",
       "      <th>CATEGORY</th>\n",
       "      <th>TITLE</th>\n",
       "    </tr>\n",
       "  </thead>\n",
       "  <tbody>\n",
       "    <tr>\n",
       "      <th>0</th>\n",
       "      <td>e</td>\n",
       "      <td>BLOGS OF THE DAY: Robin Williams to return as ...</td>\n",
       "    </tr>\n",
       "    <tr>\n",
       "      <th>1</th>\n",
       "      <td>b</td>\n",
       "      <td>President Obama Takes Executive Action for Equ...</td>\n",
       "    </tr>\n",
       "    <tr>\n",
       "      <th>2</th>\n",
       "      <td>e</td>\n",
       "      <td>Zac Efron Admits Opening Up About Drug Abuse W...</td>\n",
       "    </tr>\n",
       "    <tr>\n",
       "      <th>3</th>\n",
       "      <td>e</td>\n",
       "      <td>Anita Baker learns on TV of warrant issued for...</td>\n",
       "    </tr>\n",
       "    <tr>\n",
       "      <th>4</th>\n",
       "      <td>e</td>\n",
       "      <td>Miley Cyrus - Miley Cyrus Scraps Remainder Of ...</td>\n",
       "    </tr>\n",
       "  </tbody>\n",
       "</table>\n",
       "</div>"
      ],
      "text/plain": [
       "  CATEGORY                                              TITLE\n",
       "0        e  BLOGS OF THE DAY: Robin Williams to return as ...\n",
       "1        b  President Obama Takes Executive Action for Equ...\n",
       "2        e  Zac Efron Admits Opening Up About Drug Abuse W...\n",
       "3        e  Anita Baker learns on TV of warrant issued for...\n",
       "4        e  Miley Cyrus - Miley Cyrus Scraps Remainder Of ..."
      ]
     },
     "execution_count": 20,
     "metadata": {},
     "output_type": "execute_result"
    }
   ],
   "source": [
    "# 学習データ，検証データ，評価データ読み込み\n",
    "df_train = pd.read_csv('train.txt', sep='\\t')\n",
    "df_valid = pd.read_csv('valid.txt', sep='\\t')\n",
    "df_test = pd.read_csv('test.txt', sep='\\t')\n",
    "df_test.head()"
   ]
  },
  {
   "cell_type": "code",
   "execution_count": 21,
   "metadata": {},
   "outputs": [],
   "source": [
    "# tf-idf変換\n",
    "tf_vec = TfidfVectorizer()\n",
    "# 計算 & 変換\n",
    "train_data = tf_vec.fit_transform(df_train['TITLE'].tolist()).toarray()\n",
    "feature_names = tf_vec.get_feature_names()\n",
    "# 変換\n",
    "valid_data = tf_vec.transform(df_valid['TITLE'].tolist()).toarray()\n",
    "test_data = tf_vec.transform(df_test['TITLE'].tolist()).toarray()"
   ]
  },
  {
   "cell_type": "code",
   "execution_count": 22,
   "metadata": {},
   "outputs": [],
   "source": [
    "train = {\n",
    "    'data': train_data.tolist(),\n",
    "    'target': df_train['CATEGORY'].tolist()\n",
    "}\n",
    "valid = {\n",
    "    'data': valid_data.tolist(),\n",
    "    'target': df_valid['CATEGORY'].tolist()\n",
    "}\n",
    "test = {\n",
    "    'data': test_data.tolist(),\n",
    "    'target': df_test['CATEGORY'].tolist()\n",
    "}"
   ]
  },
  {
   "cell_type": "code",
   "execution_count": 23,
   "metadata": {},
   "outputs": [],
   "source": [
    "import json"
   ]
  },
  {
   "cell_type": "code",
   "execution_count": 24,
   "metadata": {},
   "outputs": [],
   "source": [
    "# 辞書をJSONに変換して保存\n",
    "def save_dict_json(save_dict: dict, file_name: str):\n",
    "    text = json.dumps(save_dict)\n",
    "    with open(file_name, mode='w') as f:\n",
    "        f.write(text)\n",
    "\n",
    "save_dict_json(save_dict={'a': ['b', 'c']}, file_name='tes.txt')"
   ]
  },
  {
   "cell_type": "code",
   "execution_count": 25,
   "metadata": {},
   "outputs": [],
   "source": [
    "# 保存\n",
    "save_dict_json(save_dict=train, file_name='train.feature.txt')\n",
    "save_dict_json(save_dict=valid, file_name='valid.feature.txt')\n",
    "save_dict_json(save_dict=test, file_name='test.feature.txt')"
   ]
  },
  {
   "cell_type": "markdown",
   "metadata": {},
   "source": [
    "## 52. 学習\n",
    "51で構築した学習データを用いて，ロジスティック回帰モデルを学習せよ．"
   ]
  },
  {
   "cell_type": "code",
   "execution_count": 26,
   "metadata": {},
   "outputs": [
    {
     "data": {
      "text/plain": [
       "{'a': ['b', 'c']}"
      ]
     },
     "execution_count": 26,
     "metadata": {},
     "output_type": "execute_result"
    }
   ],
   "source": [
    "# JSONを読み込んで辞書に変換\n",
    "def load_json_dict(file_name: str):\n",
    "    with open(file_name, mode='r') as f:\n",
    "        text = f.read()    \n",
    "    return json.loads(text)\n",
    "\n",
    "load_json_dict(file_name='tes.txt')"
   ]
  },
  {
   "cell_type": "code",
   "execution_count": 27,
   "metadata": {},
   "outputs": [],
   "source": [
    "train = load_json_dict(file_name='train.feature.txt')\n",
    "# valid = load_json_dict(file_name='valid.feature.txt')\n",
    "# test = load_json_dict(file_name='test.feature.txt')"
   ]
  },
  {
   "cell_type": "code",
   "execution_count": 28,
   "metadata": {},
   "outputs": [],
   "source": [
    "from sklearn.linear_model import LogisticRegression"
   ]
  },
  {
   "cell_type": "code",
   "execution_count": 29,
   "metadata": {},
   "outputs": [
    {
     "name": "stderr",
     "output_type": "stream",
     "text": [
      "C:\\Users\\kazuy\\Anaconda3\\lib\\site-packages\\sklearn\\linear_model\\_logistic.py:940: ConvergenceWarning: lbfgs failed to converge (status=1):\n",
      "STOP: TOTAL NO. of ITERATIONS REACHED LIMIT.\n",
      "\n",
      "Increase the number of iterations (max_iter) or scale the data as shown in:\n",
      "    https://scikit-learn.org/stable/modules/preprocessing.html\n",
      "Please also refer to the documentation for alternative solver options:\n",
      "    https://scikit-learn.org/stable/modules/linear_model.html#logistic-regression\n",
      "  extra_warning_msg=_LOGISTIC_SOLVER_CONVERGENCE_MSG)\n"
     ]
    }
   ],
   "source": [
    "X = train['data']\n",
    "y = train['target']\n",
    "clf = LogisticRegression(random_state=0).fit(X, y)"
   ]
  },
  {
   "cell_type": "markdown",
   "metadata": {},
   "source": [
    "## 53. 予測\n",
    "52で学習したロジスティック回帰モデルを用い，与えられた記事見出しからカテゴリとその予測確率を計算するプログラムを実装せよ．"
   ]
  },
  {
   "cell_type": "code",
   "execution_count": 30,
   "metadata": {},
   "outputs": [
    {
     "data": {
      "text/plain": [
       "(array(['e'], dtype='<U1'),\n",
       " array([[0.15872107, 0.5656994 , 0.10280668, 0.17277285]]))"
      ]
     },
     "execution_count": 30,
     "metadata": {},
     "output_type": "execute_result"
    }
   ],
   "source": [
    "# 文字列入れると、予測カテゴリと予測確率を返す\n",
    "def get_score(text):\n",
    "    X = tf_vec.transform([text])\n",
    "    return (clf.predict(X), clf.predict_proba(X))\n",
    "\n",
    "get_score('This is a pen')"
   ]
  },
  {
   "cell_type": "markdown",
   "metadata": {},
   "source": [
    "## 54. 正解率の計測\n",
    "52で学習したロジスティック回帰モデルの正解率を，学習データおよび評価データ上で計測せよ．"
   ]
  },
  {
   "cell_type": "code",
   "execution_count": 31,
   "metadata": {},
   "outputs": [
    {
     "data": {
      "text/plain": [
       "0.9464017991004497"
      ]
     },
     "execution_count": 31,
     "metadata": {},
     "output_type": "execute_result"
    }
   ],
   "source": [
    "# 学習データ\n",
    "X = train['data']\n",
    "y = train['target']\n",
    "clf.score(X, y)"
   ]
  },
  {
   "cell_type": "code",
   "execution_count": 32,
   "metadata": {},
   "outputs": [
    {
     "data": {
      "text/plain": [
       "0.8718140929535232"
      ]
     },
     "execution_count": 32,
     "metadata": {},
     "output_type": "execute_result"
    }
   ],
   "source": [
    "# 評価データ\n",
    "X = test['data']\n",
    "y = test['target']\n",
    "clf.score(X, y)"
   ]
  },
  {
   "cell_type": "markdown",
   "metadata": {},
   "source": [
    "# 55. 混同行列の作成\n",
    "52で学習したロジスティック回帰モデルの混同行列（confusion matrix）を，学習データおよび評価データ上で作成せよ．"
   ]
  },
  {
   "cell_type": "code",
   "execution_count": 33,
   "metadata": {},
   "outputs": [],
   "source": [
    "from sklearn.metrics import confusion_matrix"
   ]
  },
  {
   "cell_type": "code",
   "execution_count": 34,
   "metadata": {},
   "outputs": [
    {
     "data": {
      "text/plain": [
       "array([[4379,   52,    3,   31],\n",
       "       [  17, 4247,    0,    4],\n",
       "       [  79,  127,  521,    2],\n",
       "       [ 152,  104,    1,  953]], dtype=int64)"
      ]
     },
     "execution_count": 34,
     "metadata": {},
     "output_type": "execute_result"
    }
   ],
   "source": [
    "# 学習データ\n",
    "y_true = train['target']\n",
    "X = train['data']\n",
    "y_pred = clf.predict(X)\n",
    "confusion_matrix(y_true, y_pred)"
   ]
  },
  {
   "cell_type": "code",
   "execution_count": 35,
   "metadata": {},
   "outputs": [
    {
     "data": {
      "text/plain": [
       "array([[549,  26,   0,   8],\n",
       "       [ 10, 483,   1,   1],\n",
       "       [ 18,  32,  44,   3],\n",
       "       [ 51,  21,   0,  87]], dtype=int64)"
      ]
     },
     "execution_count": 35,
     "metadata": {},
     "output_type": "execute_result"
    }
   ],
   "source": [
    "# 評価データ\n",
    "y_true = test['target']\n",
    "X = test['data']\n",
    "y_pred = clf.predict(X)\n",
    "confusion_matrix(y_true, y_pred)"
   ]
  },
  {
   "cell_type": "markdown",
   "metadata": {},
   "source": [
    "## 56. 適合率，再現率，F1スコアの計測\n",
    "52で学習したロジスティック回帰モデルの適合率，再現率，F1スコアを，評価データ上で計測せよ．カテゴリごとに適合率，再現率，F1スコアを求め，カテゴリごとの性能をマイクロ平均（micro-average）とマクロ平均（macro-average）で統合せよ．"
   ]
  },
  {
   "cell_type": "code",
   "execution_count": 36,
   "metadata": {},
   "outputs": [],
   "source": [
    "from sklearn.metrics import precision_score, recall_score, f1_score, precision_recall_fscore_support, classification_report"
   ]
  },
  {
   "cell_type": "code",
   "execution_count": 37,
   "metadata": {},
   "outputs": [],
   "source": [
    "# 評価データ\n",
    "y_true = test['target']\n",
    "X = test['data']\n",
    "y_pred = clf.predict(X)"
   ]
  },
  {
   "cell_type": "code",
   "execution_count": 38,
   "metadata": {},
   "outputs": [
    {
     "data": {
      "text/plain": [
       "array([0.87420382, 0.8594306 , 0.97777778, 0.87878788])"
      ]
     },
     "execution_count": 38,
     "metadata": {},
     "output_type": "execute_result"
    }
   ],
   "source": [
    "# カテゴリごとの適合率\n",
    "precision_score(y_true, y_pred, average=None)"
   ]
  },
  {
   "cell_type": "code",
   "execution_count": 39,
   "metadata": {},
   "outputs": [
    {
     "data": {
      "text/plain": [
       "array([0.94168096, 0.97575758, 0.45360825, 0.54716981])"
      ]
     },
     "execution_count": 39,
     "metadata": {},
     "output_type": "execute_result"
    }
   ],
   "source": [
    "# カテゴリごとの再現率\n",
    "recall_score(y_true, y_pred, average=None)"
   ]
  },
  {
   "cell_type": "code",
   "execution_count": 40,
   "metadata": {},
   "outputs": [
    {
     "data": {
      "text/plain": [
       "array([0.90668869, 0.91390728, 0.61971831, 0.6744186 ])"
      ]
     },
     "execution_count": 40,
     "metadata": {},
     "output_type": "execute_result"
    }
   ],
   "source": [
    "# カテゴリごとのF1スコア\n",
    "f1_score(y_true, y_pred, average=None)"
   ]
  },
  {
   "cell_type": "code",
   "execution_count": 41,
   "metadata": {},
   "outputs": [
    {
     "data": {
      "text/plain": [
       "(array([0.87420382, 0.8594306 , 0.97777778, 0.87878788]),\n",
       " array([0.94168096, 0.97575758, 0.45360825, 0.54716981]),\n",
       " array([0.90668869, 0.91390728, 0.61971831, 0.6744186 ]),\n",
       " array([583, 495,  97, 159], dtype=int64))"
      ]
     },
     "execution_count": 41,
     "metadata": {},
     "output_type": "execute_result"
    }
   ],
   "source": [
    "# 適合率、再現率、F1スコア一気に出す\n",
    "precision_recall_fscore_support(y_true, y_pred, average=None)"
   ]
  },
  {
   "cell_type": "code",
   "execution_count": 42,
   "metadata": {},
   "outputs": [
    {
     "data": {
      "text/plain": [
       "(0.8718140929535232, 0.8718140929535232, 0.8718140929535231, None)"
      ]
     },
     "execution_count": 42,
     "metadata": {},
     "output_type": "execute_result"
    }
   ],
   "source": [
    "# マイクロ平均\n",
    "# 「サンプルに無い分類」とかがなければ、全体の正解率に一致する\n",
    "precision_recall_fscore_support(y_true, y_pred, average='micro')"
   ]
  },
  {
   "cell_type": "code",
   "execution_count": 43,
   "metadata": {},
   "outputs": [
    {
     "data": {
      "text/plain": [
       "(0.8975500208009785, 0.729554148762474, 0.7786832215785093, None)"
      ]
     },
     "execution_count": 43,
     "metadata": {},
     "output_type": "execute_result"
    }
   ],
   "source": [
    "# マクロ平均\n",
    "# カテゴリごとに適合率、再現率、F1スコアを出して、それを平均したもの\n",
    "# 絶対数が少ないクラスの影響を受けやすい。全クラスを平等に扱いたかったらコレ\n",
    "precision_recall_fscore_support(y_true, y_pred, average='macro')"
   ]
  },
  {
   "cell_type": "code",
   "execution_count": 44,
   "metadata": {},
   "outputs": [
    {
     "name": "stdout",
     "output_type": "stream",
     "text": [
      "              precision    recall  f1-score   support\n",
      "\n",
      "           b       0.87      0.94      0.91       583\n",
      "           e       0.86      0.98      0.91       495\n",
      "           m       0.98      0.45      0.62        97\n",
      "           t       0.88      0.55      0.67       159\n",
      "\n",
      "    accuracy                           0.87      1334\n",
      "   macro avg       0.90      0.73      0.78      1334\n",
      "weighted avg       0.88      0.87      0.86      1334\n",
      "\n"
     ]
    }
   ],
   "source": [
    "print(classification_report(y_true, y_pred))"
   ]
  },
  {
   "cell_type": "markdown",
   "metadata": {},
   "source": [
    "## 57. 特徴量の重みの確認\n",
    "52で学習したロジスティック回帰モデルの中で，重みの高い特徴量トップ10と，重みの低い特徴量トップ10を確認せよ．"
   ]
  },
  {
   "cell_type": "code",
   "execution_count": 45,
   "metadata": {},
   "outputs": [
    {
     "data": {
      "text/plain": [
       "array([[ 0.08725963, -0.00409186,  0.02210262, ..., -0.0093863 ,\n",
       "        -0.06761545, -0.08006924],\n",
       "       [-0.05911759,  0.00799682, -0.01126453, ...,  0.04039737,\n",
       "         0.11985972,  0.11163752],\n",
       "       [-0.01289241, -0.00130103, -0.00436471, ..., -0.01100015,\n",
       "        -0.0192647 , -0.01278844],\n",
       "       [-0.01524963, -0.00260393, -0.00647337, ..., -0.02001092,\n",
       "        -0.03297958, -0.01877985]])"
      ]
     },
     "execution_count": 45,
     "metadata": {},
     "output_type": "execute_result"
    }
   ],
   "source": [
    "# 係数\n",
    "clf.coef_"
   ]
  },
  {
   "cell_type": "code",
   "execution_count": 46,
   "metadata": {},
   "outputs": [
    {
     "data": {
      "text/plain": [
       "(4, 12790)"
      ]
     },
     "execution_count": 46,
     "metadata": {},
     "output_type": "execute_result"
    }
   ],
   "source": [
    "# 4分類のそれぞれ、係数設定されている\n",
    "clf.coef_.shape"
   ]
  },
  {
   "cell_type": "code",
   "execution_count": 47,
   "metadata": {},
   "outputs": [
    {
     "data": {
      "text/plain": [
       "12790"
      ]
     },
     "execution_count": 47,
     "metadata": {},
     "output_type": "execute_result"
    }
   ],
   "source": [
    "# 係数の名前\n",
    "len(feature_names)"
   ]
  },
  {
   "cell_type": "code",
   "execution_count": 48,
   "metadata": {},
   "outputs": [
    {
     "data": {
      "text/plain": [
       "['zealand',\n",
       " 'zebra',\n",
       " 'zebras',\n",
       " 'zendaya',\n",
       " 'zeppelin',\n",
       " 'zero',\n",
       " 'zeus',\n",
       " 'zew',\n",
       " 'zhang',\n",
       " 'ziering',\n",
       " 'zillow',\n",
       " 'zions',\n",
       " 'zip',\n",
       " 'zloty',\n",
       " 'zoe',\n",
       " 'zombie',\n",
       " 'zombies',\n",
       " 'zone',\n",
       " 'zoosk',\n",
       " 'zpfa3mqti7qdrpfhqwjm',\n",
       " 'zuckerberg',\n",
       " 'zynga',\n",
       " 'zâ',\n",
       " 'œf',\n",
       " 'œpiece']"
      ]
     },
     "execution_count": 48,
     "metadata": {},
     "output_type": "execute_result"
    }
   ],
   "source": [
    "# いくつか見てみる\n",
    "feature_names[-25:]"
   ]
  },
  {
   "cell_type": "code",
   "execution_count": 49,
   "metadata": {},
   "outputs": [],
   "source": [
    "# {名前: 係数の重み}の辞書\n",
    "# 全体の重みとしては全カテゴリの係数のL2ノルムを取る\n",
    "feature_dict = [\n",
    "    {\n",
    "        'name': f,\n",
    "        'l2': np.linalg.norm(w, ord=2),\n",
    "        'b': w[0],\n",
    "        'e': w[1],\n",
    "        'm': w[2],\n",
    "        't': w[3],\n",
    "    }\n",
    "    for f, w in zip(feature_names, clf.coef_.T)\n",
    "]"
   ]
  },
  {
   "cell_type": "code",
   "execution_count": 50,
   "metadata": {},
   "outputs": [
    {
     "data": {
      "text/plain": [
       "[{'name': 'google',\n",
       "  'l2': 6.6984473753997715,\n",
       "  'b': -1.6805825223947728,\n",
       "  'e': -2.805505420034708,\n",
       "  'm': -1.2290941633481223,\n",
       "  't': 5.715182105777625},\n",
       " {'name': 'facebook',\n",
       "  'l2': 5.440060449520018,\n",
       "  'b': -1.4994898394912395,\n",
       "  'e': -2.0986596767874075,\n",
       "  'm': -1.070426549228658,\n",
       "  't': 4.668576065507286},\n",
       " {'name': 'ebola',\n",
       "  'l2': 5.310217325526765,\n",
       "  'b': -1.9419886898478504,\n",
       "  'e': -1.7088394347026414,\n",
       "  'm': 4.549627963727221,\n",
       "  't': -0.8987998391767323},\n",
       " {'name': 'apple',\n",
       "  'l2': 5.3089145358800085,\n",
       "  'b': -1.5107508085621055,\n",
       "  'e': -2.053142304871466,\n",
       "  'm': -0.9871819305210705,\n",
       "  't': 4.551075043954644},\n",
       " {'name': 'update',\n",
       "  'l2': 4.659737927930257,\n",
       "  'b': 2.6668861085194617,\n",
       "  'e': -3.685596844111348,\n",
       "  'm': 0.010172955020267667,\n",
       "  't': 1.0085377805716123},\n",
       " {'name': 'study',\n",
       "  'l2': 4.5350542496967785,\n",
       "  'b': -1.6546008368812792,\n",
       "  'e': -1.9882659093444408,\n",
       "  'm': 3.7241383852790553,\n",
       "  't': -0.08127163905333724},\n",
       " {'name': 'climate',\n",
       "  'l2': 4.4551305337131755,\n",
       "  'b': -1.0147382664729216,\n",
       "  'e': -1.8700208123464037,\n",
       "  'm': -0.919886217544353,\n",
       "  't': 3.8046452963636725},\n",
       " {'name': 'fda',\n",
       "  'l2': 4.390155078065224,\n",
       "  'b': -1.5778159715291122,\n",
       "  'e': -1.3286411717642042,\n",
       "  'm': 3.776472472235036,\n",
       "  't': -0.8700153289417101},\n",
       " {'name': 'microsoft',\n",
       "  'l2': 4.334590191373008,\n",
       "  'b': -1.4396558746810615,\n",
       "  'e': -1.629089888179191,\n",
       "  'm': -0.6282099432657561,\n",
       "  't': 3.6969557061260203},\n",
       " {'name': 'china',\n",
       "  'l2': 4.289152256218354,\n",
       "  'b': 3.5397760159664817,\n",
       "  'e': -2.2360549873705966,\n",
       "  'm': -0.7441282417680237,\n",
       "  't': -0.5595927868278553}]"
      ]
     },
     "execution_count": 50,
     "metadata": {},
     "output_type": "execute_result"
    }
   ],
   "source": [
    "# 重みの大きい特徴量トップ10\n",
    "sorted(feature_dict, key=operator.itemgetter('l2'), reverse=True)[:10]"
   ]
  },
  {
   "cell_type": "code",
   "execution_count": 51,
   "metadata": {},
   "outputs": [
    {
     "data": {
      "text/plain": [
       "[{'name': 'narrowed',\n",
       "  'l2': 0.0023647180059185305,\n",
       "  'b': -0.0008201400704592001,\n",
       "  'e': 0.002042481746057197,\n",
       "  'm': -0.0006265045166418564,\n",
       "  't': -0.0005958371589561929},\n",
       " {'name': 'upstage',\n",
       "  'l2': 0.002687605578509459,\n",
       "  'b': -0.0009509420980941893,\n",
       "  'e': 0.0023193496821575735,\n",
       "  'm': -0.0007247023446103278,\n",
       "  't': -0.0006437052394529975},\n",
       " {'name': '1201178058',\n",
       "  'l2': 0.0031475839797931765,\n",
       "  'b': -0.0013639533039531038,\n",
       "  'e': 0.0026656065883600075,\n",
       "  'm': -0.00043367787502511485,\n",
       "  't': -0.0008679754093817908},\n",
       " {'name': '1399983366398',\n",
       "  'l2': 0.0031475839797931765,\n",
       "  'b': -0.0013639533039531038,\n",
       "  'e': 0.0026656065883600075,\n",
       "  'm': -0.00043367787502511485,\n",
       "  't': -0.0008679754093817908},\n",
       " {'name': '1399983366584',\n",
       "  'l2': 0.0031475839797931765,\n",
       "  'b': -0.0013639533039531038,\n",
       "  'e': 0.0026656065883600075,\n",
       "  'm': -0.00043367787502511485,\n",
       "  't': -0.0008679754093817908},\n",
       " {'name': '1399983366926',\n",
       "  'l2': 0.0031475839797931765,\n",
       "  'b': -0.0013639533039531038,\n",
       "  'e': 0.0026656065883600075,\n",
       "  'm': -0.00043367787502511485,\n",
       "  't': -0.0008679754093817908},\n",
       " {'name': '1399983367118',\n",
       "  'l2': 0.0031475839797931765,\n",
       "  'b': -0.0013639533039531038,\n",
       "  'e': 0.0026656065883600075,\n",
       "  'm': -0.00043367787502511485,\n",
       "  't': -0.0008679754093817908},\n",
       " {'name': '1399983367406',\n",
       "  'l2': 0.0031475839797931765,\n",
       "  'b': -0.0013639533039531038,\n",
       "  'e': 0.0026656065883600075,\n",
       "  'm': -0.00043367787502511485,\n",
       "  't': -0.0008679754093817908},\n",
       " {'name': '1399983367691',\n",
       "  'l2': 0.0031475839797931765,\n",
       "  'b': -0.0013639533039531038,\n",
       "  'e': 0.0026656065883600075,\n",
       "  'm': -0.00043367787502511485,\n",
       "  't': -0.0008679754093817908},\n",
       " {'name': '1399985294553',\n",
       "  'l2': 0.0031475839797931765,\n",
       "  'b': -0.0013639533039531038,\n",
       "  'e': 0.0026656065883600075,\n",
       "  'm': -0.00043367787502511485,\n",
       "  't': -0.0008679754093817908}]"
      ]
     },
     "execution_count": 51,
     "metadata": {},
     "output_type": "execute_result"
    }
   ],
   "source": [
    "# 重みの低い特徴量トップ10\n",
    "sorted(feature_dict, key=operator.itemgetter('l2'))[:10]"
   ]
  },
  {
   "cell_type": "code",
   "execution_count": 52,
   "metadata": {},
   "outputs": [
    {
     "data": {
      "text/plain": [
       "[{'name': 'china',\n",
       "  'l2': 4.289152256218354,\n",
       "  'b': 3.5397760159664817,\n",
       "  'e': -2.2360549873705966,\n",
       "  'm': -0.7441282417680237,\n",
       "  't': -0.5595927868278553},\n",
       " {'name': 'fed',\n",
       "  'l2': 3.95009858115184,\n",
       "  'b': 3.4007133914887953,\n",
       "  'e': -1.4672606744718404,\n",
       "  'm': -0.8760245436289453,\n",
       "  't': -1.0574281733880067},\n",
       " {'name': 'bank',\n",
       "  'l2': 3.9354805699773556,\n",
       "  'b': 3.3385081691829703,\n",
       "  'e': -1.7593415725113657,\n",
       "  'm': -0.799687311880673,\n",
       "  't': -0.77947928479092},\n",
       " {'name': 'ecb',\n",
       "  'l2': 3.6802283369904036,\n",
       "  'b': 3.147549306619995,\n",
       "  'e': -1.4906138330759366,\n",
       "  'm': -0.6829225656369744,\n",
       "  't': -0.9740129079070865},\n",
       " {'name': 'stocks',\n",
       "  'l2': 3.471670033684098,\n",
       "  'b': 2.9445312758204825,\n",
       "  'e': -1.0421575299842463,\n",
       "  'm': -0.45792064826413453,\n",
       "  't': -1.4444530975721015}]"
      ]
     },
     "execution_count": 52,
     "metadata": {},
     "output_type": "execute_result"
    }
   ],
   "source": [
    "# b = businessに影響が大きい特徴量トップ10\n",
    "sorted(feature_dict, key=operator.itemgetter('b'), reverse=True)[:5]"
   ]
  },
  {
   "cell_type": "code",
   "execution_count": 53,
   "metadata": {},
   "outputs": [
    {
     "data": {
      "text/plain": [
       "[{'name': 'kardashian',\n",
       "  'l2': 3.8838634207906035,\n",
       "  'b': -1.640481933951172,\n",
       "  'e': 3.313081162970421,\n",
       "  'm': -0.7416602652732485,\n",
       "  't': -0.930938963746007},\n",
       " {'name': 'chris',\n",
       "  'l2': 3.373782933288606,\n",
       "  'b': -1.4119160241476594,\n",
       "  'e': 2.881077088429956,\n",
       "  'm': -0.6671931600787585,\n",
       "  't': -0.8019679042035409},\n",
       " {'name': 'she',\n",
       "  'l2': 3.366594556457577,\n",
       "  'b': -1.7785259371912612,\n",
       "  'e': 2.7195273459245435,\n",
       "  'm': -0.06292642435295341,\n",
       "  't': -0.8780749843803197},\n",
       " {'name': 'star',\n",
       "  'l2': 3.1378498555027723,\n",
       "  'b': -1.552524075272758,\n",
       "  'e': 2.619583618886217,\n",
       "  'm': -0.4874627541479364,\n",
       "  't': -0.5795967894655177},\n",
       " {'name': 'kim',\n",
       "  'l2': 3.029003565293738,\n",
       "  'b': -1.2457234211376111,\n",
       "  'e': 2.5890840342090202,\n",
       "  'm': -0.5784849417917223,\n",
       "  't': -0.76487567127969}]"
      ]
     },
     "execution_count": 53,
     "metadata": {},
     "output_type": "execute_result"
    }
   ],
   "source": [
    "# e = entertainmentに影響が大きい特徴量トップ10\n",
    "sorted(feature_dict, key=operator.itemgetter('e'), reverse=True)[:5]"
   ]
  },
  {
   "cell_type": "code",
   "execution_count": 54,
   "metadata": {},
   "outputs": [
    {
     "data": {
      "text/plain": [
       "[{'name': 'ebola',\n",
       "  'l2': 5.310217325526765,\n",
       "  'b': -1.9419886898478504,\n",
       "  'e': -1.7088394347026414,\n",
       "  'm': 4.549627963727221,\n",
       "  't': -0.8987998391767323},\n",
       " {'name': 'fda',\n",
       "  'l2': 4.390155078065224,\n",
       "  'b': -1.5778159715291122,\n",
       "  'e': -1.3286411717642042,\n",
       "  'm': 3.776472472235036,\n",
       "  't': -0.8700153289417101},\n",
       " {'name': 'study',\n",
       "  'l2': 4.5350542496967785,\n",
       "  'b': -1.6546008368812792,\n",
       "  'e': -1.9882659093444408,\n",
       "  'm': 3.7241383852790553,\n",
       "  't': -0.08127163905333724},\n",
       " {'name': 'cancer',\n",
       "  'l2': 4.195854456923377,\n",
       "  'b': -0.933036181437533,\n",
       "  'e': -1.6380297421723982,\n",
       "  'm': 3.6035392905060744,\n",
       "  't': -1.032473366896135},\n",
       " {'name': 'drug',\n",
       "  'l2': 3.787563100961557,\n",
       "  'b': -1.2855800414905025,\n",
       "  'e': -0.9904927061639774,\n",
       "  'm': 3.2736380248163774,\n",
       "  't': -0.9975652771618957}]"
      ]
     },
     "execution_count": 54,
     "metadata": {},
     "output_type": "execute_result"
    }
   ],
   "source": [
    "# m = healthに影響が大きい特徴量トップ10\n",
    "sorted(feature_dict, key=operator.itemgetter('m'), reverse=True)[:5]"
   ]
  },
  {
   "cell_type": "code",
   "execution_count": 55,
   "metadata": {},
   "outputs": [
    {
     "data": {
      "text/plain": [
       "[{'name': 'google',\n",
       "  'l2': 6.6984473753997715,\n",
       "  'b': -1.6805825223947728,\n",
       "  'e': -2.805505420034708,\n",
       "  'm': -1.2290941633481223,\n",
       "  't': 5.715182105777625},\n",
       " {'name': 'facebook',\n",
       "  'l2': 5.440060449520018,\n",
       "  'b': -1.4994898394912395,\n",
       "  'e': -2.0986596767874075,\n",
       "  'm': -1.070426549228658,\n",
       "  't': 4.668576065507286},\n",
       " {'name': 'apple',\n",
       "  'l2': 5.3089145358800085,\n",
       "  'b': -1.5107508085621055,\n",
       "  'e': -2.053142304871466,\n",
       "  'm': -0.9871819305210705,\n",
       "  't': 4.551075043954644},\n",
       " {'name': 'climate',\n",
       "  'l2': 4.4551305337131755,\n",
       "  'b': -1.0147382664729216,\n",
       "  'e': -1.8700208123464037,\n",
       "  'm': -0.919886217544353,\n",
       "  't': 3.8046452963636725},\n",
       " {'name': 'microsoft',\n",
       "  'l2': 4.334590191373008,\n",
       "  'b': -1.4396558746810615,\n",
       "  'e': -1.629089888179191,\n",
       "  'm': -0.6282099432657561,\n",
       "  't': 3.6969557061260203}]"
      ]
     },
     "execution_count": 55,
     "metadata": {},
     "output_type": "execute_result"
    }
   ],
   "source": [
    "# t = science and technologyに影響が大きい特徴量トップ10\n",
    "sorted(feature_dict, key=operator.itemgetter('t'), reverse=True)[:5]"
   ]
  },
  {
   "cell_type": "markdown",
   "metadata": {},
   "source": [
    "## 58. 正則化パラメータの変更\n",
    "ロジスティック回帰モデルを学習するとき，正則化パラメータを調整することで，学習時の過学習（overfitting）の度合いを制御できる．異なる正則化パラメータでロジスティック回帰モデルを学習し，学習データ，検証データ，および評価データ上の正解率を求めよ．実験の結果は，正則化パラメータを横軸，正解率を縦軸としたグラフにまとめよ．"
   ]
  },
  {
   "cell_type": "code",
   "execution_count": 58,
   "metadata": {},
   "outputs": [],
   "source": [
    "import matplotlib.pyplot as plt"
   ]
  },
  {
   "cell_type": "code",
   "execution_count": 76,
   "metadata": {},
   "outputs": [],
   "source": [
    "params = [0.1, 0.5, 1.0, 2.5, 5.0, 7.5, 10.0]"
   ]
  },
  {
   "cell_type": "code",
   "execution_count": 77,
   "metadata": {},
   "outputs": [
    {
     "name": "stdout",
     "output_type": "stream",
     "text": [
      "0.1\n",
      "0.5\n",
      "1.0\n"
     ]
    },
    {
     "name": "stderr",
     "output_type": "stream",
     "text": [
      "C:\\Users\\kazuy\\Anaconda3\\lib\\site-packages\\sklearn\\linear_model\\_logistic.py:940: ConvergenceWarning: lbfgs failed to converge (status=1):\n",
      "STOP: TOTAL NO. of ITERATIONS REACHED LIMIT.\n",
      "\n",
      "Increase the number of iterations (max_iter) or scale the data as shown in:\n",
      "    https://scikit-learn.org/stable/modules/preprocessing.html\n",
      "Please also refer to the documentation for alternative solver options:\n",
      "    https://scikit-learn.org/stable/modules/linear_model.html#logistic-regression\n",
      "  extra_warning_msg=_LOGISTIC_SOLVER_CONVERGENCE_MSG)\n"
     ]
    },
    {
     "name": "stdout",
     "output_type": "stream",
     "text": [
      "2.5\n"
     ]
    },
    {
     "name": "stderr",
     "output_type": "stream",
     "text": [
      "C:\\Users\\kazuy\\Anaconda3\\lib\\site-packages\\sklearn\\linear_model\\_logistic.py:940: ConvergenceWarning: lbfgs failed to converge (status=1):\n",
      "STOP: TOTAL NO. of ITERATIONS REACHED LIMIT.\n",
      "\n",
      "Increase the number of iterations (max_iter) or scale the data as shown in:\n",
      "    https://scikit-learn.org/stable/modules/preprocessing.html\n",
      "Please also refer to the documentation for alternative solver options:\n",
      "    https://scikit-learn.org/stable/modules/linear_model.html#logistic-regression\n",
      "  extra_warning_msg=_LOGISTIC_SOLVER_CONVERGENCE_MSG)\n"
     ]
    },
    {
     "name": "stdout",
     "output_type": "stream",
     "text": [
      "5.0\n"
     ]
    },
    {
     "name": "stderr",
     "output_type": "stream",
     "text": [
      "C:\\Users\\kazuy\\Anaconda3\\lib\\site-packages\\sklearn\\linear_model\\_logistic.py:940: ConvergenceWarning: lbfgs failed to converge (status=1):\n",
      "STOP: TOTAL NO. of ITERATIONS REACHED LIMIT.\n",
      "\n",
      "Increase the number of iterations (max_iter) or scale the data as shown in:\n",
      "    https://scikit-learn.org/stable/modules/preprocessing.html\n",
      "Please also refer to the documentation for alternative solver options:\n",
      "    https://scikit-learn.org/stable/modules/linear_model.html#logistic-regression\n",
      "  extra_warning_msg=_LOGISTIC_SOLVER_CONVERGENCE_MSG)\n"
     ]
    },
    {
     "name": "stdout",
     "output_type": "stream",
     "text": [
      "7.5\n"
     ]
    },
    {
     "name": "stderr",
     "output_type": "stream",
     "text": [
      "C:\\Users\\kazuy\\Anaconda3\\lib\\site-packages\\sklearn\\linear_model\\_logistic.py:940: ConvergenceWarning: lbfgs failed to converge (status=1):\n",
      "STOP: TOTAL NO. of ITERATIONS REACHED LIMIT.\n",
      "\n",
      "Increase the number of iterations (max_iter) or scale the data as shown in:\n",
      "    https://scikit-learn.org/stable/modules/preprocessing.html\n",
      "Please also refer to the documentation for alternative solver options:\n",
      "    https://scikit-learn.org/stable/modules/linear_model.html#logistic-regression\n",
      "  extra_warning_msg=_LOGISTIC_SOLVER_CONVERGENCE_MSG)\n"
     ]
    },
    {
     "name": "stdout",
     "output_type": "stream",
     "text": [
      "10.0\n"
     ]
    },
    {
     "name": "stderr",
     "output_type": "stream",
     "text": [
      "C:\\Users\\kazuy\\Anaconda3\\lib\\site-packages\\sklearn\\linear_model\\_logistic.py:940: ConvergenceWarning: lbfgs failed to converge (status=1):\n",
      "STOP: TOTAL NO. of ITERATIONS REACHED LIMIT.\n",
      "\n",
      "Increase the number of iterations (max_iter) or scale the data as shown in:\n",
      "    https://scikit-learn.org/stable/modules/preprocessing.html\n",
      "Please also refer to the documentation for alternative solver options:\n",
      "    https://scikit-learn.org/stable/modules/linear_model.html#logistic-regression\n",
      "  extra_warning_msg=_LOGISTIC_SOLVER_CONVERGENCE_MSG)\n"
     ]
    }
   ],
   "source": [
    "x = []\n",
    "y_train = []\n",
    "y_test = []\n",
    "y_valid = []\n",
    "for p in params:\n",
    "    print(p)\n",
    "    # 横軸 = 正則化パラメータ\n",
    "    x.append(p)\n",
    "    # パラメータ設定して学習\n",
    "    clf = LogisticRegression(C=p, random_state=0).fit(train['data'], train['target'])\n",
    "    # 縦軸 = 正解率\n",
    "    y_train.append(clf.score(train['data'], train['target']))\n",
    "    y_test.append(clf.score(test['data'], test['target']))\n",
    "    y_valid.append(clf.score(valid['data'], valid['target'])) "
   ]
  },
  {
   "cell_type": "code",
   "execution_count": 78,
   "metadata": {},
   "outputs": [],
   "source": [
    "tes = {\n",
    "    'train': {'x': x, 'y': y_train},\n",
    "    'test': {'x': x, 'y': y_test},\n",
    "    'valid': {'x': x, 'y': y_valid},\n",
    "}"
   ]
  },
  {
   "cell_type": "code",
   "execution_count": 79,
   "metadata": {},
   "outputs": [
    {
     "data": {
      "text/plain": [
       "<matplotlib.legend.Legend at 0x238a2a46c88>"
      ]
     },
     "execution_count": 79,
     "metadata": {},
     "output_type": "execute_result"
    },
    {
     "data": {
      "image/png": "[encoded data removed]",
      "text/plain": [
       "<Figure size 432x288 with 1 Axes>"
      ]
     },
     "metadata": {
      "needs_background": "light"
     },
     "output_type": "display_data"
    }
   ],
   "source": [
    "fig, ax = plt.subplots()\n",
    "\n",
    "for k in ['train', 'test', 'valid']:\n",
    "    ax.plot(tes[k]['x'], tes[k]['y'], label=k)\n",
    "ax.legend()"
   ]
  },
  {
   "cell_type": "markdown",
   "metadata": {},
   "source": [
    "## 59. ハイパーパラメータの探索\n",
    "学習アルゴリズムや学習パラメータを変えながら，カテゴリ分類モデルを学習せよ．検証データ上の正解率が最も高くなる学習アルゴリズム・パラメータを求めよ．また，その学習アルゴリズム・パラメータを用いたときの評価データ上の正解率を求めよ．"
   ]
  },
  {
   "cell_type": "code",
   "execution_count": null,
   "metadata": {},
   "outputs": [],
   "source": []
  }
 ],
 "metadata": {
  "kernelspec": {
   "display_name": "Python 3",
   "language": "python",
   "name": "python3"
  },
  "language_info": {
   "codemirror_mode": {
    "name": "ipython",
    "version": 3
   },
   "file_extension": ".py",
   "mimetype": "text/x-python",
   "name": "python",
   "nbconvert_exporter": "python",
   "pygments_lexer": "ipython3",
   "version": "3.7.1"
  }
 },
 "nbformat": 4,
 "nbformat_minor": 4
}
